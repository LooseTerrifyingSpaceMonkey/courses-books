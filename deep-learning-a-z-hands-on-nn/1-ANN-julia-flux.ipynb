{
 "cells": [
  {
   "cell_type": "markdown",
   "id": "a9109d00-c481-4d28-93ed-0a19a7bdcee1",
   "metadata": {},
   "source": [
    "# Artificial Neural Network"
   ]
  },
  {
   "cell_type": "markdown",
   "id": "0aacf389",
   "metadata": {},
   "source": []
  },
  {
   "cell_type": "markdown",
   "id": "79aefa36-ca42-446a-8e77-3db8a96b6bcd",
   "metadata": {},
   "source": [
    "#### Importing the Libraries"
   ]
  },
  {
   "cell_type": "code",
   "execution_count": 1,
   "id": "62678699-468e-4e9e-bae2-b4586f45c04f",
   "metadata": {
    "pycharm": {
     "is_executing": true
    }
   },
   "outputs": [
    {
     "name": "stderr",
     "output_type": "stream",
     "text": [
      "\u001B[32m\u001B[1m    Updating\u001B[22m\u001B[39m registry at `C:\\Users\\steve\\.julia\\registries\\General.toml`\n",
      "\u001B[32m\u001B[1m   Resolving\u001B[22m\u001B[39m package versions...\n",
      "\u001B[32m\u001B[1m  No Changes\u001B[22m\u001B[39m to `C:\\Users\\steve\\.julia\\environments\\v1.8\\Project.toml`\n",
      "\u001B[32m\u001B[1m  No Changes\u001B[22m\u001B[39m to `C:\\Users\\steve\\.julia\\environments\\v1.8\\Manifest.toml`\n",
      "\u001B[32m\u001B[1m   Resolving\u001B[22m\u001B[39m package versions...\n",
      "\u001B[32m\u001B[1m  No Changes\u001B[22m\u001B[39m to `C:\\Users\\steve\\.julia\\environments\\v1.8\\Project.toml`\n",
      "\u001B[32m\u001B[1m  No Changes\u001B[22m\u001B[39m to `C:\\Users\\steve\\.julia\\environments\\v1.8\\Manifest.toml`\n",
      "\u001B[32m\u001B[1m   Resolving\u001B[22m\u001B[39m package versions...\n",
      "\u001B[32m\u001B[1m  No Changes\u001B[22m\u001B[39m to `C:\\Users\\steve\\.julia\\environments\\v1.8\\Project.toml`\n",
      "\u001B[32m\u001B[1m  No Changes\u001B[22m\u001B[39m to `C:\\Users\\steve\\.julia\\environments\\v1.8\\Manifest.toml`\n",
      "\u001B[32m\u001B[1m   Resolving\u001B[22m\u001B[39m package versions...\n",
      "\u001B[32m\u001B[1m  No Changes\u001B[22m\u001B[39m to `C:\\Users\\steve\\.julia\\environments\\v1.8\\Project.toml`\n",
      "\u001B[32m\u001B[1m  No Changes\u001B[22m\u001B[39m to `C:\\Users\\steve\\.julia\\environments\\v1.8\\Manifest.toml`\n",
      "\u001B[32m\u001B[1m   Resolving\u001B[22m\u001B[39m package versions...\n",
      "\u001B[32m\u001B[1m  No Changes\u001B[22m\u001B[39m to `C:\\Users\\steve\\.julia\\environments\\v1.8\\Project.toml`\n",
      "\u001B[32m\u001B[1m  No Changes\u001B[22m\u001B[39m to `C:\\Users\\steve\\.julia\\environments\\v1.8\\Manifest.toml`\n",
      "\u001B[32m\u001B[1m   Resolving\u001B[22m\u001B[39m package versions...\n",
      "\u001B[32m\u001B[1m  No Changes\u001B[22m\u001B[39m to `C:\\Users\\steve\\.julia\\environments\\v1.8\\Project.toml`\n",
      "\u001B[32m\u001B[1m  No Changes\u001B[22m\u001B[39m to `C:\\Users\\steve\\.julia\\environments\\v1.8\\Manifest.toml`\n",
      "\u001B[32m\u001B[1m   Resolving\u001B[22m\u001B[39m package versions...\n",
      "\u001B[32m\u001B[1m  No Changes\u001B[22m\u001B[39m to `C:\\Users\\steve\\.julia\\environments\\v1.8\\Project.toml`\n",
      "\u001B[32m\u001B[1m  No Changes\u001B[22m\u001B[39m to `C:\\Users\\steve\\.julia\\environments\\v1.8\\Manifest.toml`\n"
     ]
    }
   ],
   "source": [
    "import Pkg\n",
    "Pkg.add(\"DataFrames\")\n",
    "Pkg.add(\"Flux\")\n",
    "Pkg.add(\"CSV\")\n",
    "Pkg.add(\"MLJ\")\n",
    "Pkg.add(\"CUDA\")\n",
    "Pkg.add(\"IterTools\")\n",
    "Pkg.add(\"ProgressMeter\")"
   ]
  },
  {
   "cell_type": "code",
   "execution_count": 2,
   "id": "c7e0e072-421f-4038-b8ce-f2b6da30cad5",
   "metadata": {
    "pycharm": {
     "is_executing": true
    }
   },
   "outputs": [],
   "source": [
    "using DataFrames\n",
    "using CSV\n",
    "using Flux\n",
    "using MLJ\n",
    "using CUDA\n",
    "using IterTools: ncycle"
   ]
  },
  {
   "cell_type": "markdown",
   "id": "774e2c50-4075-4a85-9c68-158cfd0b31a9",
   "metadata": {},
   "source": [
    "## Part 1 - Data Preprocessing"
   ]
  },
  {
   "cell_type": "markdown",
   "id": "11c91f5f-e1f5-49cf-86f6-496f670519fb",
   "metadata": {},
   "source": [
    "#### Importing the dataset"
   ]
  },
  {
   "cell_type": "code",
   "execution_count": 3,
   "id": "babd04b9-82a7-4f55-ac3f-587f6b157c35",
   "metadata": {
    "pycharm": {
     "is_executing": true
    }
   },
   "outputs": [
    {
     "data": {
      "text/html": [
       "<div><div style = \"float: left;\"><span>10×14 DataFrame</span></div><div style = \"clear: both;\"></div></div><div class = \"data-frame\" style = \"overflow-x: scroll;\"><table class = \"data-frame\" style = \"margin-bottom: 6px;\"><thead><tr class = \"header\"><th class = \"rowNumber\" style = \"font-weight: bold; text-align: right;\">Row</th><th style = \"text-align: left;\">RowNumber</th><th style = \"text-align: left;\">CustomerId</th><th style = \"text-align: left;\">Surname</th><th style = \"text-align: left;\">CreditScore</th><th style = \"text-align: left;\">Geography</th><th style = \"text-align: left;\">Gender</th><th style = \"text-align: left;\">Age</th><th style = \"text-align: left;\">Tenure</th><th style = \"text-align: left;\">Balance</th><th style = \"text-align: left;\">NumOfProducts</th><th style = \"text-align: left;\">HasCrCard</th><th style = \"text-align: left;\">IsActiveMember</th><th style = \"text-align: left;\">EstimatedSalary</th><th style = \"text-align: left;\">Exited</th></tr><tr class = \"subheader headerLastRow\"><th class = \"rowNumber\" style = \"font-weight: bold; text-align: right;\"></th><th title = \"Int64\" style = \"text-align: left;\">Int64</th><th title = \"Int64\" style = \"text-align: left;\">Int64</th><th title = \"String31\" style = \"text-align: left;\">String31</th><th title = \"Int64\" style = \"text-align: left;\">Int64</th><th title = \"String7\" style = \"text-align: left;\">String7</th><th title = \"String7\" style = \"text-align: left;\">String7</th><th title = \"Int64\" style = \"text-align: left;\">Int64</th><th title = \"Int64\" style = \"text-align: left;\">Int64</th><th title = \"Float64\" style = \"text-align: left;\">Float64</th><th title = \"Int64\" style = \"text-align: left;\">Int64</th><th title = \"Int64\" style = \"text-align: left;\">Int64</th><th title = \"Int64\" style = \"text-align: left;\">Int64</th><th title = \"Float64\" style = \"text-align: left;\">Float64</th><th title = \"Int64\" style = \"text-align: left;\">Int64</th></tr></thead><tbody><tr><td class = \"rowNumber\" style = \"font-weight: bold; text-align: right;\">1</td><td style = \"text-align: right;\">1</td><td style = \"text-align: right;\">15634602</td><td style = \"text-align: left;\">Hargrave</td><td style = \"text-align: right;\">619</td><td style = \"text-align: left;\">France</td><td style = \"text-align: left;\">Female</td><td style = \"text-align: right;\">42</td><td style = \"text-align: right;\">2</td><td style = \"text-align: right;\">0.0</td><td style = \"text-align: right;\">1</td><td style = \"text-align: right;\">1</td><td style = \"text-align: right;\">1</td><td style = \"text-align: right;\">1.01349e5</td><td style = \"text-align: right;\">1</td></tr><tr><td class = \"rowNumber\" style = \"font-weight: bold; text-align: right;\">2</td><td style = \"text-align: right;\">2</td><td style = \"text-align: right;\">15647311</td><td style = \"text-align: left;\">Hill</td><td style = \"text-align: right;\">608</td><td style = \"text-align: left;\">Spain</td><td style = \"text-align: left;\">Female</td><td style = \"text-align: right;\">41</td><td style = \"text-align: right;\">1</td><td style = \"text-align: right;\">83807.9</td><td style = \"text-align: right;\">1</td><td style = \"text-align: right;\">0</td><td style = \"text-align: right;\">1</td><td style = \"text-align: right;\">1.12543e5</td><td style = \"text-align: right;\">0</td></tr><tr><td class = \"rowNumber\" style = \"font-weight: bold; text-align: right;\">3</td><td style = \"text-align: right;\">3</td><td style = \"text-align: right;\">15619304</td><td style = \"text-align: left;\">Onio</td><td style = \"text-align: right;\">502</td><td style = \"text-align: left;\">France</td><td style = \"text-align: left;\">Female</td><td style = \"text-align: right;\">42</td><td style = \"text-align: right;\">8</td><td style = \"text-align: right;\">1.59661e5</td><td style = \"text-align: right;\">3</td><td style = \"text-align: right;\">1</td><td style = \"text-align: right;\">0</td><td style = \"text-align: right;\">1.13932e5</td><td style = \"text-align: right;\">1</td></tr><tr><td class = \"rowNumber\" style = \"font-weight: bold; text-align: right;\">4</td><td style = \"text-align: right;\">4</td><td style = \"text-align: right;\">15701354</td><td style = \"text-align: left;\">Boni</td><td style = \"text-align: right;\">699</td><td style = \"text-align: left;\">France</td><td style = \"text-align: left;\">Female</td><td style = \"text-align: right;\">39</td><td style = \"text-align: right;\">1</td><td style = \"text-align: right;\">0.0</td><td style = \"text-align: right;\">2</td><td style = \"text-align: right;\">0</td><td style = \"text-align: right;\">0</td><td style = \"text-align: right;\">93826.6</td><td style = \"text-align: right;\">0</td></tr><tr><td class = \"rowNumber\" style = \"font-weight: bold; text-align: right;\">5</td><td style = \"text-align: right;\">5</td><td style = \"text-align: right;\">15737888</td><td style = \"text-align: left;\">Mitchell</td><td style = \"text-align: right;\">850</td><td style = \"text-align: left;\">Spain</td><td style = \"text-align: left;\">Female</td><td style = \"text-align: right;\">43</td><td style = \"text-align: right;\">2</td><td style = \"text-align: right;\">1.25511e5</td><td style = \"text-align: right;\">1</td><td style = \"text-align: right;\">1</td><td style = \"text-align: right;\">1</td><td style = \"text-align: right;\">79084.1</td><td style = \"text-align: right;\">0</td></tr><tr><td class = \"rowNumber\" style = \"font-weight: bold; text-align: right;\">6</td><td style = \"text-align: right;\">6</td><td style = \"text-align: right;\">15574012</td><td style = \"text-align: left;\">Chu</td><td style = \"text-align: right;\">645</td><td style = \"text-align: left;\">Spain</td><td style = \"text-align: left;\">Male</td><td style = \"text-align: right;\">44</td><td style = \"text-align: right;\">8</td><td style = \"text-align: right;\">1.13756e5</td><td style = \"text-align: right;\">2</td><td style = \"text-align: right;\">1</td><td style = \"text-align: right;\">0</td><td style = \"text-align: right;\">1.49757e5</td><td style = \"text-align: right;\">1</td></tr><tr><td class = \"rowNumber\" style = \"font-weight: bold; text-align: right;\">7</td><td style = \"text-align: right;\">7</td><td style = \"text-align: right;\">15592531</td><td style = \"text-align: left;\">Bartlett</td><td style = \"text-align: right;\">822</td><td style = \"text-align: left;\">France</td><td style = \"text-align: left;\">Male</td><td style = \"text-align: right;\">50</td><td style = \"text-align: right;\">7</td><td style = \"text-align: right;\">0.0</td><td style = \"text-align: right;\">2</td><td style = \"text-align: right;\">1</td><td style = \"text-align: right;\">1</td><td style = \"text-align: right;\">10062.8</td><td style = \"text-align: right;\">0</td></tr><tr><td class = \"rowNumber\" style = \"font-weight: bold; text-align: right;\">8</td><td style = \"text-align: right;\">8</td><td style = \"text-align: right;\">15656148</td><td style = \"text-align: left;\">Obinna</td><td style = \"text-align: right;\">376</td><td style = \"text-align: left;\">Germany</td><td style = \"text-align: left;\">Female</td><td style = \"text-align: right;\">29</td><td style = \"text-align: right;\">4</td><td style = \"text-align: right;\">1.15047e5</td><td style = \"text-align: right;\">4</td><td style = \"text-align: right;\">1</td><td style = \"text-align: right;\">0</td><td style = \"text-align: right;\">1.19347e5</td><td style = \"text-align: right;\">1</td></tr><tr><td class = \"rowNumber\" style = \"font-weight: bold; text-align: right;\">9</td><td style = \"text-align: right;\">9</td><td style = \"text-align: right;\">15792365</td><td style = \"text-align: left;\">He</td><td style = \"text-align: right;\">501</td><td style = \"text-align: left;\">France</td><td style = \"text-align: left;\">Male</td><td style = \"text-align: right;\">44</td><td style = \"text-align: right;\">4</td><td style = \"text-align: right;\">1.42051e5</td><td style = \"text-align: right;\">2</td><td style = \"text-align: right;\">0</td><td style = \"text-align: right;\">1</td><td style = \"text-align: right;\">74940.5</td><td style = \"text-align: right;\">0</td></tr><tr><td class = \"rowNumber\" style = \"font-weight: bold; text-align: right;\">10</td><td style = \"text-align: right;\">10</td><td style = \"text-align: right;\">15592389</td><td style = \"text-align: left;\">H?</td><td style = \"text-align: right;\">684</td><td style = \"text-align: left;\">France</td><td style = \"text-align: left;\">Male</td><td style = \"text-align: right;\">27</td><td style = \"text-align: right;\">2</td><td style = \"text-align: right;\">1.34604e5</td><td style = \"text-align: right;\">1</td><td style = \"text-align: right;\">1</td><td style = \"text-align: right;\">1</td><td style = \"text-align: right;\">71725.7</td><td style = \"text-align: right;\">0</td></tr></tbody></table></div>"
      ],
      "text/latex": [
       "\\begin{tabular}{r|ccccccccc}\n",
       "\t& RowNumber & CustomerId & Surname & CreditScore & Geography & Gender & Age & Tenure & \\\\\n",
       "\t\\hline\n",
       "\t& Int64 & Int64 & String31 & Int64 & String7 & String7 & Int64 & Int64 & \\\\\n",
       "\t\\hline\n",
       "\t1 & 1 & 15634602 & Hargrave & 619 & France & Female & 42 & 2 & $\\dots$ \\\\\n",
       "\t2 & 2 & 15647311 & Hill & 608 & Spain & Female & 41 & 1 & $\\dots$ \\\\\n",
       "\t3 & 3 & 15619304 & Onio & 502 & France & Female & 42 & 8 & $\\dots$ \\\\\n",
       "\t4 & 4 & 15701354 & Boni & 699 & France & Female & 39 & 1 & $\\dots$ \\\\\n",
       "\t5 & 5 & 15737888 & Mitchell & 850 & Spain & Female & 43 & 2 & $\\dots$ \\\\\n",
       "\t6 & 6 & 15574012 & Chu & 645 & Spain & Male & 44 & 8 & $\\dots$ \\\\\n",
       "\t7 & 7 & 15592531 & Bartlett & 822 & France & Male & 50 & 7 & $\\dots$ \\\\\n",
       "\t8 & 8 & 15656148 & Obinna & 376 & Germany & Female & 29 & 4 & $\\dots$ \\\\\n",
       "\t9 & 9 & 15792365 & He & 501 & France & Male & 44 & 4 & $\\dots$ \\\\\n",
       "\t10 & 10 & 15592389 & H? & 684 & France & Male & 27 & 2 & $\\dots$ \\\\\n",
       "\\end{tabular}\n"
      ],
      "text/plain": [
       "\u001B[1m10×14 DataFrame\u001B[0m\n",
       "\u001B[1m Row \u001B[0m│\u001B[1m RowNumber \u001B[0m\u001B[1m CustomerId \u001B[0m\u001B[1m Surname  \u001B[0m\u001B[1m CreditScore \u001B[0m\u001B[1m Geography \u001B[0m\u001B[1m Gender  \u001B[0m\u001B[1m Age  \u001B[0m ⋯\n",
       "     │\u001B[90m Int64     \u001B[0m\u001B[90m Int64      \u001B[0m\u001B[90m String31 \u001B[0m\u001B[90m Int64       \u001B[0m\u001B[90m String7   \u001B[0m\u001B[90m String7 \u001B[0m\u001B[90m Int64\u001B[0m ⋯\n",
       "─────┼──────────────────────────────────────────────────────────────────────────\n",
       "   1 │         1    15634602  Hargrave          619  France     Female      42 ⋯\n",
       "   2 │         2    15647311  Hill              608  Spain      Female      41\n",
       "   3 │         3    15619304  Onio              502  France     Female      42\n",
       "   4 │         4    15701354  Boni              699  France     Female      39\n",
       "   5 │         5    15737888  Mitchell          850  Spain      Female      43 ⋯\n",
       "   6 │         6    15574012  Chu               645  Spain      Male        44\n",
       "   7 │         7    15592531  Bartlett          822  France     Male        50\n",
       "   8 │         8    15656148  Obinna            376  Germany    Female      29\n",
       "   9 │         9    15792365  He                501  France     Male        44 ⋯\n",
       "  10 │        10    15592389  H?                684  France     Male        27\n",
       "\u001B[36m                                                               7 columns omitted\u001B[0m"
      ]
     },
     "execution_count": 3,
     "metadata": {},
     "output_type": "execute_result"
    }
   ],
   "source": [
    "dataset = DataFrame(CSV.File(\"../data/Churn_Modelling.csv\"))\n",
    "first(dataset, 10)"
   ]
  },
  {
   "cell_type": "code",
   "execution_count": 4,
   "id": "812bd2b7-c555-4d2f-ba50-f580331b13db",
   "metadata": {
    "pycharm": {
     "is_executing": true
    }
   },
   "outputs": [
    {
     "data": {
      "text/plain": [
       "([0, 0, 0, 0, 0, 1, 0, 0, 0, 0  …  0, 0, 1, 0, 0, 0, 0, 0, 1, 0], \u001B[1m10000×10 DataFrame\u001B[0m\n",
       "\u001B[1m   Row \u001B[0m│\u001B[1m CreditScore \u001B[0m\u001B[1m Geography \u001B[0m\u001B[1m Gender  \u001B[0m\u001B[1m Age   \u001B[0m\u001B[1m Tenure \u001B[0m\u001B[1m Balance        \u001B[0m\u001B[1m NumOf\u001B[0m ⋯\n",
       "       │\u001B[90m Int64       \u001B[0m\u001B[90m String7   \u001B[0m\u001B[90m String7 \u001B[0m\u001B[90m Int64 \u001B[0m\u001B[90m Int64  \u001B[0m\u001B[90m Float64        \u001B[0m\u001B[90m Int64\u001B[0m ⋯\n",
       "───────┼────────────────────────────────────────────────────────────────────────\n",
       "     1 │         602  Germany    Female      42       6       1.58415e5        ⋯\n",
       "     2 │         792  France     Female      42       2       0.0\n",
       "     3 │         633  Spain      Male        58       6   98308.5\n",
       "     4 │         778  France     Male        44       8       1.23864e5\n",
       "     5 │         619  France     Female      49       9  145360.0              ⋯\n",
       "     6 │         840  Germany    Female      51       1   87779.8\n",
       "     7 │         495  France     Male        47      10       1.37683e5\n",
       "     8 │         747  France     Male        41       5       0.0\n",
       "     9 │         633  Spain      Male        27       3       0.0              ⋯\n",
       "    10 │         614  Spain      Female      25      10   75212.3\n",
       "    11 │         547  Spain      Female      44       5       0.0\n",
       "   ⋮   │      ⋮           ⋮         ⋮       ⋮      ⋮           ⋮               ⋱\n",
       "  9991 │         639  Spain      Male        38       9       1.30233e5\n",
       "  9992 │         528  Germany    Male        22       5   93547.2              ⋯\n",
       "  9993 │         518  Germany    Male        46       4       1.13626e5\n",
       "  9994 │         594  France     Male        23       5       1.56268e5\n",
       "  9995 │         624  Germany    Female      40       3  149962.0\n",
       "  9996 │         653  France     Female      46       5       0.0              ⋯\n",
       "  9997 │         564  Germany    Female      30       0       1.00955e5\n",
       "  9998 │         583  Germany    Male        35       8       1.49996e5\n",
       "  9999 │         640  France     Male        63       2   68432.4\n",
       " 10000 │         632  Germany    Female      41       3   81877.4              ⋯\n",
       "\u001B[36m                                                 4 columns and 9979 rows omitted\u001B[0m, \u001B[1m10000×3 DataFrame\u001B[0m\n",
       "\u001B[1m   Row \u001B[0m│\u001B[1m RowNumber \u001B[0m\u001B[1m CustomerId \u001B[0m\u001B[1m Surname    \u001B[0m\n",
       "       │\u001B[90m Int64     \u001B[0m\u001B[90m Int64      \u001B[0m\u001B[90m String31   \u001B[0m\n",
       "───────┼───────────────────────────────────\n",
       "     1 │      1546    15673908  Chinweike\n",
       "     2 │      3419    15632272  Lung\n",
       "     3 │      2228    15744368  Sun\n",
       "     4 │      2590    15701096  De Garis\n",
       "     5 │      5776    15717527  Ifeanacho\n",
       "     6 │      6557    15612207  Hill\n",
       "     7 │      8579    15707011  Morrison\n",
       "     8 │      2055    15730868  Marshall\n",
       "     9 │      8726    15703394  Hawes\n",
       "    10 │      3487    15630661  Vasilyev\n",
       "    11 │      5265    15691817  Iloerika\n",
       "   ⋮   │     ⋮          ⋮           ⋮\n",
       "  9991 │      9516    15792922  Tu\n",
       "  9992 │      3776    15709004  Mai\n",
       "  9993 │      2347    15706163  Enyinnaya\n",
       "  9994 │      1572    15615012  Fan\n",
       "  9995 │      8278    15765283  Wenz\n",
       "  9996 │      3888    15769110  Stehle\n",
       "  9997 │      7965    15695097  Chiedozie\n",
       "  9998 │      9449    15628274  Ferri\n",
       "  9999 │      2079    15815626  Oluchi\n",
       " 10000 │       661    15592937  Napolitani\n",
       "\u001B[36m                          9979 rows omitted\u001B[0m)"
      ]
     },
     "execution_count": 4,
     "metadata": {},
     "output_type": "execute_result"
    }
   ],
   "source": [
    "cols(name) = name != (:CustomerId) && name != (:RowNumber) && name != (:Surname)\n",
    "\n",
    "y, X = unpack(dataset, ==(:Exited), cols; rng=43)"
   ]
  },
  {
   "cell_type": "code",
   "execution_count": 5,
   "id": "bfae5795-3feb-453e-9981-89e4e33d2959",
   "metadata": {
    "pycharm": {
     "is_executing": true
    }
   },
   "outputs": [
    {
     "name": "stdout",
     "output_type": "stream",
     "text": [
      "┌─────────────┬───────────┬─────────┬───────┬────────┬────────────┬───────────────┬───────────┬────────────────┬─────────────────┐\n",
      "│\u001B[1m CreditScore \u001B[0m│\u001B[1m Geography \u001B[0m│\u001B[1m Gender  \u001B[0m│\u001B[1m Age   \u001B[0m│\u001B[1m Tenure \u001B[0m│\u001B[1m Balance    \u001B[0m│\u001B[1m NumOfProducts \u001B[0m│\u001B[1m HasCrCard \u001B[0m│\u001B[1m IsActiveMember \u001B[0m│\u001B[1m EstimatedSalary \u001B[0m│\n",
      "│\u001B[90m Int64       \u001B[0m│\u001B[90m String7   \u001B[0m│\u001B[90m String7 \u001B[0m│\u001B[90m Int64 \u001B[0m│\u001B[90m Int64  \u001B[0m│\u001B[90m Float64    \u001B[0m│\u001B[90m Int64         \u001B[0m│\u001B[90m Int64     \u001B[0m│\u001B[90m Int64          \u001B[0m│\u001B[90m Float64         \u001B[0m│\n",
      "│\u001B[90m Count       \u001B[0m│\u001B[90m Textual   \u001B[0m│\u001B[90m Textual \u001B[0m│\u001B[90m Count \u001B[0m│\u001B[90m Count  \u001B[0m│\u001B[90m Continuous \u001B[0m│\u001B[90m Count         \u001B[0m│\u001B[90m Count     \u001B[0m│\u001B[90m Count          \u001B[0m│\u001B[90m Continuous      \u001B[0m│\n",
      "├─────────────┼───────────┼─────────┼───────┼────────┼────────────┼───────────────┼───────────┼────────────────┼─────────────────┤\n",
      "│ 602         │ Germany   │ Female  │ 42    │ 6      │ 1.58415e5  │ 1             │ 1         │ 1              │ 1.31886e5       │\n",
      "│ 792         │ France    │ Female  │ 42    │ 2      │ 0.0        │ 2             │ 1         │ 0              │ 92664.1         │\n",
      "│ 633         │ Spain     │ Male    │ 58    │ 6      │ 98308.5    │ 1             │ 1         │ 1              │ 1.32034e5       │\n",
      "│ 778         │ France    │ Male    │ 44    │ 8      │ 1.23864e5  │ 1             │ 1         │ 0              │ 1.44495e5       │\n",
      "│ 619         │ France    │ Female  │ 49    │ 9      │ 145360.0   │ 1             │ 1         │ 0              │ 38186.8         │\n",
      "│ 840         │ Germany   │ Female  │ 51    │ 1      │ 87779.8    │ 1             │ 0         │ 1              │ 36687.1         │\n",
      "│ 495         │ France    │ Male    │ 47    │ 10     │ 1.37683e5  │ 1             │ 1         │ 0              │ 71071.5         │\n",
      "│ 747         │ France    │ Male    │ 41    │ 5      │ 0.0        │ 2             │ 1         │ 1              │ 22750.2         │\n",
      "│ 633         │ Spain     │ Male    │ 27    │ 3      │ 0.0        │ 2             │ 1         │ 0              │ 44008.9         │\n",
      "│ 614         │ Spain     │ Female  │ 25    │ 10     │ 75212.3    │ 1             │ 1         │ 0              │ 58965.0         │\n",
      "└─────────────┴───────────┴─────────┴───────┴────────┴────────────┴───────────────┴───────────┴────────────────┴─────────────────┘\n"
     ]
    }
   ],
   "source": [
    "first(X, 10) |> pretty"
   ]
  },
  {
   "cell_type": "code",
   "execution_count": 6,
   "id": "8779d1b5-2e6a-4da8-b3c5-9bd23c85ede6",
   "metadata": {
    "pycharm": {
     "is_executing": true
    }
   },
   "outputs": [
    {
     "data": {
      "text/plain": [
       "10-element Vector{Int64}:\n",
       " 0\n",
       " 0\n",
       " 0\n",
       " 0\n",
       " 0\n",
       " 1\n",
       " 0\n",
       " 0\n",
       " 0\n",
       " 0"
      ]
     },
     "execution_count": 6,
     "metadata": {},
     "output_type": "execute_result"
    }
   ],
   "source": [
    "first(y, 10)"
   ]
  },
  {
   "cell_type": "markdown",
   "id": "42c47a30-e66c-499f-9476-fe528921aba7",
   "metadata": {},
   "source": [
    "### Encoding categorical data"
   ]
  },
  {
   "cell_type": "code",
   "execution_count": 7,
   "id": "61f81f65-a8ec-4a0a-89a9-81c07f7048d8",
   "metadata": {
    "pycharm": {
     "is_executing": true
    }
   },
   "outputs": [
    {
     "data": {
      "text/plain": [
       "┌─────────────────┬────────────┬─────────┐\n",
       "│\u001B[22m names           \u001B[0m│\u001B[22m scitypes   \u001B[0m│\u001B[22m types   \u001B[0m│\n",
       "├─────────────────┼────────────┼─────────┤\n",
       "│ CreditScore     │ Count      │ Int64   │\n",
       "│ Geography       │ Textual    │ String7 │\n",
       "│ Gender          │ Textual    │ String7 │\n",
       "│ Age             │ Count      │ Int64   │\n",
       "│ Tenure          │ Count      │ Int64   │\n",
       "│ Balance         │ Continuous │ Float64 │\n",
       "│ NumOfProducts   │ Count      │ Int64   │\n",
       "│ HasCrCard       │ Count      │ Int64   │\n",
       "│ IsActiveMember  │ Count      │ Int64   │\n",
       "│ EstimatedSalary │ Continuous │ Float64 │\n",
       "└─────────────────┴────────────┴─────────┘\n"
      ]
     },
     "execution_count": 7,
     "metadata": {},
     "output_type": "execute_result"
    }
   ],
   "source": [
    "schema(X)"
   ]
  },
  {
   "cell_type": "markdown",
   "id": "cb27cb36-a9fd-4f2a-9bfa-44febe36b692",
   "metadata": {},
   "source": [
    "#### Label Encoding the \"Gender\" column"
   ]
  },
  {
   "cell_type": "code",
   "execution_count": 8,
   "id": "8d0e3b49-7404-4719-b8d8-b90526049c6c",
   "metadata": {
    "pycharm": {
     "is_executing": true
    }
   },
   "outputs": [
    {
     "data": {
      "text/plain": [
       "┌─────────────────┬───────────────┬───────────────────────────────────┐\n",
       "│\u001B[22m names           \u001B[0m│\u001B[22m scitypes      \u001B[0m│\u001B[22m types                             \u001B[0m│\n",
       "├─────────────────┼───────────────┼───────────────────────────────────┤\n",
       "│ CreditScore     │ Count         │ Int64                             │\n",
       "│ Geography       │ Textual       │ String7                           │\n",
       "│ Gender          │ Multiclass{2} │ CategoricalValue{String7, UInt32} │\n",
       "│ Age             │ Count         │ Int64                             │\n",
       "│ Tenure          │ Count         │ Int64                             │\n",
       "│ Balance         │ Continuous    │ Float64                           │\n",
       "│ NumOfProducts   │ Count         │ Int64                             │\n",
       "│ HasCrCard       │ Count         │ Int64                             │\n",
       "│ IsActiveMember  │ Count         │ Int64                             │\n",
       "│ EstimatedSalary │ Continuous    │ Float64                           │\n",
       "└─────────────────┴───────────────┴───────────────────────────────────┘\n"
      ]
     },
     "execution_count": 8,
     "metadata": {},
     "output_type": "execute_result"
    }
   ],
   "source": [
    "X.Gender = coerce(X.Gender, Multiclass)\n",
    "schema(X)"
   ]
  },
  {
   "cell_type": "code",
   "execution_count": 9,
   "id": "f0f9d73e-c0f4-4f3f-839d-446faaf32100",
   "metadata": {
    "pycharm": {
     "is_executing": true
    }
   },
   "outputs": [
    {
     "data": {
      "text/plain": [
       "2-element Vector{String7}:\n",
       " \"Female\"\n",
       " \"Male\""
      ]
     },
     "execution_count": 9,
     "metadata": {},
     "output_type": "execute_result"
    }
   ],
   "source": [
    "levels(X.Gender)"
   ]
  },
  {
   "cell_type": "code",
   "execution_count": 10,
   "id": "745084c8-6338-4377-a3e8-685fd8dab938",
   "metadata": {
    "pycharm": {
     "is_executing": true
    }
   },
   "outputs": [
    {
     "data": {
      "text/html": [
       "<div><div style = \"float: left;\"><span>10×10 DataFrame</span></div><div style = \"clear: both;\"></div></div><div class = \"data-frame\" style = \"overflow-x: scroll;\"><table class = \"data-frame\" style = \"margin-bottom: 6px;\"><thead><tr class = \"header\"><th class = \"rowNumber\" style = \"font-weight: bold; text-align: right;\">Row</th><th style = \"text-align: left;\">CreditScore</th><th style = \"text-align: left;\">Geography</th><th style = \"text-align: left;\">Gender</th><th style = \"text-align: left;\">Age</th><th style = \"text-align: left;\">Tenure</th><th style = \"text-align: left;\">Balance</th><th style = \"text-align: left;\">NumOfProducts</th><th style = \"text-align: left;\">HasCrCard</th><th style = \"text-align: left;\">IsActiveMember</th><th style = \"text-align: left;\">EstimatedSalary</th></tr><tr class = \"subheader headerLastRow\"><th class = \"rowNumber\" style = \"font-weight: bold; text-align: right;\"></th><th title = \"Int64\" style = \"text-align: left;\">Int64</th><th title = \"String7\" style = \"text-align: left;\">String7</th><th title = \"CategoricalArrays.CategoricalValue{String7, UInt32}\" style = \"text-align: left;\">Cat…</th><th title = \"Int64\" style = \"text-align: left;\">Int64</th><th title = \"Int64\" style = \"text-align: left;\">Int64</th><th title = \"Float64\" style = \"text-align: left;\">Float64</th><th title = \"Int64\" style = \"text-align: left;\">Int64</th><th title = \"Int64\" style = \"text-align: left;\">Int64</th><th title = \"Int64\" style = \"text-align: left;\">Int64</th><th title = \"Float64\" style = \"text-align: left;\">Float64</th></tr></thead><tbody><tr><td class = \"rowNumber\" style = \"font-weight: bold; text-align: right;\">1</td><td style = \"text-align: right;\">602</td><td style = \"text-align: left;\">Germany</td><td style = \"text-align: left;\">Female</td><td style = \"text-align: right;\">42</td><td style = \"text-align: right;\">6</td><td style = \"text-align: right;\">1.58415e5</td><td style = \"text-align: right;\">1</td><td style = \"text-align: right;\">1</td><td style = \"text-align: right;\">1</td><td style = \"text-align: right;\">1.31886e5</td></tr><tr><td class = \"rowNumber\" style = \"font-weight: bold; text-align: right;\">2</td><td style = \"text-align: right;\">792</td><td style = \"text-align: left;\">France</td><td style = \"text-align: left;\">Female</td><td style = \"text-align: right;\">42</td><td style = \"text-align: right;\">2</td><td style = \"text-align: right;\">0.0</td><td style = \"text-align: right;\">2</td><td style = \"text-align: right;\">1</td><td style = \"text-align: right;\">0</td><td style = \"text-align: right;\">92664.1</td></tr><tr><td class = \"rowNumber\" style = \"font-weight: bold; text-align: right;\">3</td><td style = \"text-align: right;\">633</td><td style = \"text-align: left;\">Spain</td><td style = \"text-align: left;\">Male</td><td style = \"text-align: right;\">58</td><td style = \"text-align: right;\">6</td><td style = \"text-align: right;\">98308.5</td><td style = \"text-align: right;\">1</td><td style = \"text-align: right;\">1</td><td style = \"text-align: right;\">1</td><td style = \"text-align: right;\">1.32034e5</td></tr><tr><td class = \"rowNumber\" style = \"font-weight: bold; text-align: right;\">4</td><td style = \"text-align: right;\">778</td><td style = \"text-align: left;\">France</td><td style = \"text-align: left;\">Male</td><td style = \"text-align: right;\">44</td><td style = \"text-align: right;\">8</td><td style = \"text-align: right;\">1.23864e5</td><td style = \"text-align: right;\">1</td><td style = \"text-align: right;\">1</td><td style = \"text-align: right;\">0</td><td style = \"text-align: right;\">1.44495e5</td></tr><tr><td class = \"rowNumber\" style = \"font-weight: bold; text-align: right;\">5</td><td style = \"text-align: right;\">619</td><td style = \"text-align: left;\">France</td><td style = \"text-align: left;\">Female</td><td style = \"text-align: right;\">49</td><td style = \"text-align: right;\">9</td><td style = \"text-align: right;\">145360.0</td><td style = \"text-align: right;\">1</td><td style = \"text-align: right;\">1</td><td style = \"text-align: right;\">0</td><td style = \"text-align: right;\">38186.8</td></tr><tr><td class = \"rowNumber\" style = \"font-weight: bold; text-align: right;\">6</td><td style = \"text-align: right;\">840</td><td style = \"text-align: left;\">Germany</td><td style = \"text-align: left;\">Female</td><td style = \"text-align: right;\">51</td><td style = \"text-align: right;\">1</td><td style = \"text-align: right;\">87779.8</td><td style = \"text-align: right;\">1</td><td style = \"text-align: right;\">0</td><td style = \"text-align: right;\">1</td><td style = \"text-align: right;\">36687.1</td></tr><tr><td class = \"rowNumber\" style = \"font-weight: bold; text-align: right;\">7</td><td style = \"text-align: right;\">495</td><td style = \"text-align: left;\">France</td><td style = \"text-align: left;\">Male</td><td style = \"text-align: right;\">47</td><td style = \"text-align: right;\">10</td><td style = \"text-align: right;\">1.37683e5</td><td style = \"text-align: right;\">1</td><td style = \"text-align: right;\">1</td><td style = \"text-align: right;\">0</td><td style = \"text-align: right;\">71071.5</td></tr><tr><td class = \"rowNumber\" style = \"font-weight: bold; text-align: right;\">8</td><td style = \"text-align: right;\">747</td><td style = \"text-align: left;\">France</td><td style = \"text-align: left;\">Male</td><td style = \"text-align: right;\">41</td><td style = \"text-align: right;\">5</td><td style = \"text-align: right;\">0.0</td><td style = \"text-align: right;\">2</td><td style = \"text-align: right;\">1</td><td style = \"text-align: right;\">1</td><td style = \"text-align: right;\">22750.2</td></tr><tr><td class = \"rowNumber\" style = \"font-weight: bold; text-align: right;\">9</td><td style = \"text-align: right;\">633</td><td style = \"text-align: left;\">Spain</td><td style = \"text-align: left;\">Male</td><td style = \"text-align: right;\">27</td><td style = \"text-align: right;\">3</td><td style = \"text-align: right;\">0.0</td><td style = \"text-align: right;\">2</td><td style = \"text-align: right;\">1</td><td style = \"text-align: right;\">0</td><td style = \"text-align: right;\">44008.9</td></tr><tr><td class = \"rowNumber\" style = \"font-weight: bold; text-align: right;\">10</td><td style = \"text-align: right;\">614</td><td style = \"text-align: left;\">Spain</td><td style = \"text-align: left;\">Female</td><td style = \"text-align: right;\">25</td><td style = \"text-align: right;\">10</td><td style = \"text-align: right;\">75212.3</td><td style = \"text-align: right;\">1</td><td style = \"text-align: right;\">1</td><td style = \"text-align: right;\">0</td><td style = \"text-align: right;\">58965.0</td></tr></tbody></table></div>"
      ],
      "text/latex": [
       "\\begin{tabular}{r|ccccccccc}\n",
       "\t& CreditScore & Geography & Gender & Age & Tenure & Balance & NumOfProducts & HasCrCard & \\\\\n",
       "\t\\hline\n",
       "\t& Int64 & String7 & Cat… & Int64 & Int64 & Float64 & Int64 & Int64 & \\\\\n",
       "\t\\hline\n",
       "\t1 & 602 & Germany & Female & 42 & 6 & 1.58415e5 & 1 & 1 & $\\dots$ \\\\\n",
       "\t2 & 792 & France & Female & 42 & 2 & 0.0 & 2 & 1 & $\\dots$ \\\\\n",
       "\t3 & 633 & Spain & Male & 58 & 6 & 98308.5 & 1 & 1 & $\\dots$ \\\\\n",
       "\t4 & 778 & France & Male & 44 & 8 & 1.23864e5 & 1 & 1 & $\\dots$ \\\\\n",
       "\t5 & 619 & France & Female & 49 & 9 & 145360.0 & 1 & 1 & $\\dots$ \\\\\n",
       "\t6 & 840 & Germany & Female & 51 & 1 & 87779.8 & 1 & 0 & $\\dots$ \\\\\n",
       "\t7 & 495 & France & Male & 47 & 10 & 1.37683e5 & 1 & 1 & $\\dots$ \\\\\n",
       "\t8 & 747 & France & Male & 41 & 5 & 0.0 & 2 & 1 & $\\dots$ \\\\\n",
       "\t9 & 633 & Spain & Male & 27 & 3 & 0.0 & 2 & 1 & $\\dots$ \\\\\n",
       "\t10 & 614 & Spain & Female & 25 & 10 & 75212.3 & 1 & 1 & $\\dots$ \\\\\n",
       "\\end{tabular}\n"
      ],
      "text/plain": [
       "\u001B[1m10×10 DataFrame\u001B[0m\n",
       "\u001B[1m Row \u001B[0m│\u001B[1m CreditScore \u001B[0m\u001B[1m Geography \u001B[0m\u001B[1m Gender \u001B[0m\u001B[1m Age   \u001B[0m\u001B[1m Tenure \u001B[0m\u001B[1m Balance        \u001B[0m\u001B[1m NumOfPro\u001B[0m ⋯\n",
       "     │\u001B[90m Int64       \u001B[0m\u001B[90m String7   \u001B[0m\u001B[90m Cat…   \u001B[0m\u001B[90m Int64 \u001B[0m\u001B[90m Int64  \u001B[0m\u001B[90m Float64        \u001B[0m\u001B[90m Int64   \u001B[0m ⋯\n",
       "─────┼──────────────────────────────────────────────────────────────────────────\n",
       "   1 │         602  Germany    Female     42       6       1.58415e5           ⋯\n",
       "   2 │         792  France     Female     42       2       0.0\n",
       "   3 │         633  Spain      Male       58       6   98308.5\n",
       "   4 │         778  France     Male       44       8       1.23864e5\n",
       "   5 │         619  France     Female     49       9  145360.0                 ⋯\n",
       "   6 │         840  Germany    Female     51       1   87779.8\n",
       "   7 │         495  France     Male       47      10       1.37683e5\n",
       "   8 │         747  France     Male       41       5       0.0\n",
       "   9 │         633  Spain      Male       27       3       0.0                 ⋯\n",
       "  10 │         614  Spain      Female     25      10   75212.3\n",
       "\u001B[36m                                                               4 columns omitted\u001B[0m"
      ]
     },
     "execution_count": 10,
     "metadata": {},
     "output_type": "execute_result"
    }
   ],
   "source": [
    "first(X, 10)"
   ]
  },
  {
   "cell_type": "markdown",
   "id": "0dc1f6d3-5e3d-485a-8bc3-a7b260248f6b",
   "metadata": {},
   "source": [
    "#### One Hot Encoding the \"Geography\" column"
   ]
  },
  {
   "cell_type": "code",
   "execution_count": 11,
   "id": "974616b8-5c7f-4827-b7d0-27a2ba3404ff",
   "metadata": {
    "pycharm": {
     "is_executing": true
    }
   },
   "outputs": [
    {
     "name": "stderr",
     "output_type": "stream",
     "text": [
      "\u001B[36m\u001B[1m[ \u001B[22m\u001B[39m\u001B[36m\u001B[1mInfo: \u001B[22m\u001B[39mTraining machine(OneHotEncoder(features = [:Geography, :Gender], …), …).\n",
      "\u001B[36m\u001B[1m[ \u001B[22m\u001B[39m\u001B[36m\u001B[1mInfo: \u001B[22m\u001B[39mSpawning 3 sub-features to one-hot encode feature :Geography.\n",
      "\u001B[36m\u001B[1m[ \u001B[22m\u001B[39m\u001B[36m\u001B[1mInfo: \u001B[22m\u001B[39mSpawning 2 sub-features to one-hot encode feature :Gender.\n"
     ]
    },
    {
     "data": {
      "text/plain": [
       "┌────────────────────┬────────────┬─────────┐\n",
       "│\u001B[22m names              \u001B[0m│\u001B[22m scitypes   \u001B[0m│\u001B[22m types   \u001B[0m│\n",
       "├────────────────────┼────────────┼─────────┤\n",
       "│ CreditScore        │ Count      │ Int64   │\n",
       "│ Geography__France  │ Continuous │ Float64 │\n",
       "│ Geography__Germany │ Continuous │ Float64 │\n",
       "│ Geography__Spain   │ Continuous │ Float64 │\n",
       "│ Gender__Female     │ Continuous │ Float64 │\n",
       "│ Gender__Male       │ Continuous │ Float64 │\n",
       "│ Age                │ Count      │ Int64   │\n",
       "│ Tenure             │ Count      │ Int64   │\n",
       "│ Balance            │ Continuous │ Float64 │\n",
       "│ NumOfProducts      │ Count      │ Int64   │\n",
       "│ HasCrCard          │ Count      │ Int64   │\n",
       "│ IsActiveMember     │ Count      │ Int64   │\n",
       "│ EstimatedSalary    │ Continuous │ Float64 │\n",
       "└────────────────────┴────────────┴─────────┘\n"
      ]
     },
     "execution_count": 11,
     "metadata": {},
     "output_type": "execute_result"
    }
   ],
   "source": [
    "X.Geography = coerce(X.Geography, Multiclass)\n",
    "\n",
    "hot_encoder = OneHotEncoder(features=[:Geography, :Gender])\n",
    "mach = fit!(machine(hot_encoder, X))\n",
    "X = MLJ.transform(mach, X)\n",
    "schema(X)"
   ]
  },
  {
   "cell_type": "code",
   "execution_count": 12,
   "id": "73c6f464-e140-49da-81d6-3503016ca36b",
   "metadata": {
    "pycharm": {
     "is_executing": true
    }
   },
   "outputs": [
    {
     "data": {
      "text/html": [
       "<div><div style = \"float: left;\"><span>10×13 DataFrame</span></div><div style = \"clear: both;\"></div></div><div class = \"data-frame\" style = \"overflow-x: scroll;\"><table class = \"data-frame\" style = \"margin-bottom: 6px;\"><thead><tr class = \"header\"><th class = \"rowNumber\" style = \"font-weight: bold; text-align: right;\">Row</th><th style = \"text-align: left;\">CreditScore</th><th style = \"text-align: left;\">Geography__France</th><th style = \"text-align: left;\">Geography__Germany</th><th style = \"text-align: left;\">Geography__Spain</th><th style = \"text-align: left;\">Gender__Female</th><th style = \"text-align: left;\">Gender__Male</th><th style = \"text-align: left;\">Age</th><th style = \"text-align: left;\">Tenure</th><th style = \"text-align: left;\">Balance</th><th style = \"text-align: left;\">NumOfProducts</th><th style = \"text-align: left;\">HasCrCard</th><th style = \"text-align: left;\">IsActiveMember</th><th style = \"text-align: left;\">EstimatedSalary</th></tr><tr class = \"subheader headerLastRow\"><th class = \"rowNumber\" style = \"font-weight: bold; text-align: right;\"></th><th title = \"Int64\" style = \"text-align: left;\">Int64</th><th title = \"Float64\" style = \"text-align: left;\">Float64</th><th title = \"Float64\" style = \"text-align: left;\">Float64</th><th title = \"Float64\" style = \"text-align: left;\">Float64</th><th title = \"Float64\" style = \"text-align: left;\">Float64</th><th title = \"Float64\" style = \"text-align: left;\">Float64</th><th title = \"Int64\" style = \"text-align: left;\">Int64</th><th title = \"Int64\" style = \"text-align: left;\">Int64</th><th title = \"Float64\" style = \"text-align: left;\">Float64</th><th title = \"Int64\" style = \"text-align: left;\">Int64</th><th title = \"Int64\" style = \"text-align: left;\">Int64</th><th title = \"Int64\" style = \"text-align: left;\">Int64</th><th title = \"Float64\" style = \"text-align: left;\">Float64</th></tr></thead><tbody><tr><td class = \"rowNumber\" style = \"font-weight: bold; text-align: right;\">1</td><td style = \"text-align: right;\">602</td><td style = \"text-align: right;\">0.0</td><td style = \"text-align: right;\">1.0</td><td style = \"text-align: right;\">0.0</td><td style = \"text-align: right;\">1.0</td><td style = \"text-align: right;\">0.0</td><td style = \"text-align: right;\">42</td><td style = \"text-align: right;\">6</td><td style = \"text-align: right;\">1.58415e5</td><td style = \"text-align: right;\">1</td><td style = \"text-align: right;\">1</td><td style = \"text-align: right;\">1</td><td style = \"text-align: right;\">1.31886e5</td></tr><tr><td class = \"rowNumber\" style = \"font-weight: bold; text-align: right;\">2</td><td style = \"text-align: right;\">792</td><td style = \"text-align: right;\">1.0</td><td style = \"text-align: right;\">0.0</td><td style = \"text-align: right;\">0.0</td><td style = \"text-align: right;\">1.0</td><td style = \"text-align: right;\">0.0</td><td style = \"text-align: right;\">42</td><td style = \"text-align: right;\">2</td><td style = \"text-align: right;\">0.0</td><td style = \"text-align: right;\">2</td><td style = \"text-align: right;\">1</td><td style = \"text-align: right;\">0</td><td style = \"text-align: right;\">92664.1</td></tr><tr><td class = \"rowNumber\" style = \"font-weight: bold; text-align: right;\">3</td><td style = \"text-align: right;\">633</td><td style = \"text-align: right;\">0.0</td><td style = \"text-align: right;\">0.0</td><td style = \"text-align: right;\">1.0</td><td style = \"text-align: right;\">0.0</td><td style = \"text-align: right;\">1.0</td><td style = \"text-align: right;\">58</td><td style = \"text-align: right;\">6</td><td style = \"text-align: right;\">98308.5</td><td style = \"text-align: right;\">1</td><td style = \"text-align: right;\">1</td><td style = \"text-align: right;\">1</td><td style = \"text-align: right;\">1.32034e5</td></tr><tr><td class = \"rowNumber\" style = \"font-weight: bold; text-align: right;\">4</td><td style = \"text-align: right;\">778</td><td style = \"text-align: right;\">1.0</td><td style = \"text-align: right;\">0.0</td><td style = \"text-align: right;\">0.0</td><td style = \"text-align: right;\">0.0</td><td style = \"text-align: right;\">1.0</td><td style = \"text-align: right;\">44</td><td style = \"text-align: right;\">8</td><td style = \"text-align: right;\">1.23864e5</td><td style = \"text-align: right;\">1</td><td style = \"text-align: right;\">1</td><td style = \"text-align: right;\">0</td><td style = \"text-align: right;\">1.44495e5</td></tr><tr><td class = \"rowNumber\" style = \"font-weight: bold; text-align: right;\">5</td><td style = \"text-align: right;\">619</td><td style = \"text-align: right;\">1.0</td><td style = \"text-align: right;\">0.0</td><td style = \"text-align: right;\">0.0</td><td style = \"text-align: right;\">1.0</td><td style = \"text-align: right;\">0.0</td><td style = \"text-align: right;\">49</td><td style = \"text-align: right;\">9</td><td style = \"text-align: right;\">145360.0</td><td style = \"text-align: right;\">1</td><td style = \"text-align: right;\">1</td><td style = \"text-align: right;\">0</td><td style = \"text-align: right;\">38186.8</td></tr><tr><td class = \"rowNumber\" style = \"font-weight: bold; text-align: right;\">6</td><td style = \"text-align: right;\">840</td><td style = \"text-align: right;\">0.0</td><td style = \"text-align: right;\">1.0</td><td style = \"text-align: right;\">0.0</td><td style = \"text-align: right;\">1.0</td><td style = \"text-align: right;\">0.0</td><td style = \"text-align: right;\">51</td><td style = \"text-align: right;\">1</td><td style = \"text-align: right;\">87779.8</td><td style = \"text-align: right;\">1</td><td style = \"text-align: right;\">0</td><td style = \"text-align: right;\">1</td><td style = \"text-align: right;\">36687.1</td></tr><tr><td class = \"rowNumber\" style = \"font-weight: bold; text-align: right;\">7</td><td style = \"text-align: right;\">495</td><td style = \"text-align: right;\">1.0</td><td style = \"text-align: right;\">0.0</td><td style = \"text-align: right;\">0.0</td><td style = \"text-align: right;\">0.0</td><td style = \"text-align: right;\">1.0</td><td style = \"text-align: right;\">47</td><td style = \"text-align: right;\">10</td><td style = \"text-align: right;\">1.37683e5</td><td style = \"text-align: right;\">1</td><td style = \"text-align: right;\">1</td><td style = \"text-align: right;\">0</td><td style = \"text-align: right;\">71071.5</td></tr><tr><td class = \"rowNumber\" style = \"font-weight: bold; text-align: right;\">8</td><td style = \"text-align: right;\">747</td><td style = \"text-align: right;\">1.0</td><td style = \"text-align: right;\">0.0</td><td style = \"text-align: right;\">0.0</td><td style = \"text-align: right;\">0.0</td><td style = \"text-align: right;\">1.0</td><td style = \"text-align: right;\">41</td><td style = \"text-align: right;\">5</td><td style = \"text-align: right;\">0.0</td><td style = \"text-align: right;\">2</td><td style = \"text-align: right;\">1</td><td style = \"text-align: right;\">1</td><td style = \"text-align: right;\">22750.2</td></tr><tr><td class = \"rowNumber\" style = \"font-weight: bold; text-align: right;\">9</td><td style = \"text-align: right;\">633</td><td style = \"text-align: right;\">0.0</td><td style = \"text-align: right;\">0.0</td><td style = \"text-align: right;\">1.0</td><td style = \"text-align: right;\">0.0</td><td style = \"text-align: right;\">1.0</td><td style = \"text-align: right;\">27</td><td style = \"text-align: right;\">3</td><td style = \"text-align: right;\">0.0</td><td style = \"text-align: right;\">2</td><td style = \"text-align: right;\">1</td><td style = \"text-align: right;\">0</td><td style = \"text-align: right;\">44008.9</td></tr><tr><td class = \"rowNumber\" style = \"font-weight: bold; text-align: right;\">10</td><td style = \"text-align: right;\">614</td><td style = \"text-align: right;\">0.0</td><td style = \"text-align: right;\">0.0</td><td style = \"text-align: right;\">1.0</td><td style = \"text-align: right;\">1.0</td><td style = \"text-align: right;\">0.0</td><td style = \"text-align: right;\">25</td><td style = \"text-align: right;\">10</td><td style = \"text-align: right;\">75212.3</td><td style = \"text-align: right;\">1</td><td style = \"text-align: right;\">1</td><td style = \"text-align: right;\">0</td><td style = \"text-align: right;\">58965.0</td></tr></tbody></table></div>"
      ],
      "text/latex": [
       "\\begin{tabular}{r|cccccc}\n",
       "\t& CreditScore & Geography\\_\\_France & Geography\\_\\_Germany & Geography\\_\\_Spain & Gender\\_\\_Female & \\\\\n",
       "\t\\hline\n",
       "\t& Int64 & Float64 & Float64 & Float64 & Float64 & \\\\\n",
       "\t\\hline\n",
       "\t1 & 602 & 0.0 & 1.0 & 0.0 & 1.0 & $\\dots$ \\\\\n",
       "\t2 & 792 & 1.0 & 0.0 & 0.0 & 1.0 & $\\dots$ \\\\\n",
       "\t3 & 633 & 0.0 & 0.0 & 1.0 & 0.0 & $\\dots$ \\\\\n",
       "\t4 & 778 & 1.0 & 0.0 & 0.0 & 0.0 & $\\dots$ \\\\\n",
       "\t5 & 619 & 1.0 & 0.0 & 0.0 & 1.0 & $\\dots$ \\\\\n",
       "\t6 & 840 & 0.0 & 1.0 & 0.0 & 1.0 & $\\dots$ \\\\\n",
       "\t7 & 495 & 1.0 & 0.0 & 0.0 & 0.0 & $\\dots$ \\\\\n",
       "\t8 & 747 & 1.0 & 0.0 & 0.0 & 0.0 & $\\dots$ \\\\\n",
       "\t9 & 633 & 0.0 & 0.0 & 1.0 & 0.0 & $\\dots$ \\\\\n",
       "\t10 & 614 & 0.0 & 0.0 & 1.0 & 1.0 & $\\dots$ \\\\\n",
       "\\end{tabular}\n"
      ],
      "text/plain": [
       "\u001B[1m10×13 DataFrame\u001B[0m\n",
       "\u001B[1m Row \u001B[0m│\u001B[1m CreditScore \u001B[0m\u001B[1m Geography__France \u001B[0m\u001B[1m Geography__Germany \u001B[0m\u001B[1m Geography__Spain \u001B[0m\u001B[1m G\u001B[0m ⋯\n",
       "     │\u001B[90m Int64       \u001B[0m\u001B[90m Float64           \u001B[0m\u001B[90m Float64            \u001B[0m\u001B[90m Float64          \u001B[0m\u001B[90m F\u001B[0m ⋯\n",
       "─────┼──────────────────────────────────────────────────────────────────────────\n",
       "   1 │         602                0.0                 1.0               0.0    ⋯\n",
       "   2 │         792                1.0                 0.0               0.0\n",
       "   3 │         633                0.0                 0.0               1.0\n",
       "   4 │         778                1.0                 0.0               0.0\n",
       "   5 │         619                1.0                 0.0               0.0    ⋯\n",
       "   6 │         840                0.0                 1.0               0.0\n",
       "   7 │         495                1.0                 0.0               0.0\n",
       "   8 │         747                1.0                 0.0               0.0\n",
       "   9 │         633                0.0                 0.0               1.0    ⋯\n",
       "  10 │         614                0.0                 0.0               1.0\n",
       "\u001B[36m                                                               9 columns omitted\u001B[0m"
      ]
     },
     "execution_count": 12,
     "metadata": {},
     "output_type": "execute_result"
    }
   ],
   "source": [
    "first(X, 10)"
   ]
  },
  {
   "cell_type": "code",
   "execution_count": 13,
   "id": "54ae31c5-1e1f-48fc-add0-ec3dc97f415d",
   "metadata": {
    "pycharm": {
     "is_executing": true
    }
   },
   "outputs": [
    {
     "name": "stdout",
     "output_type": "stream",
     "text": [
      "┌─────────────┬───────────────────────────────────┬───────────────────────────────────┬───────────────────────────────────┬───────────────────────────────────┬───────────────────────────────────┬───────┬────────┬────────────┬───────────────┬─────────────────────────────────┬─────────────────────────────────┬─────────────────┐\n",
      "│\u001B[1m CreditScore \u001B[0m│\u001B[1m Geography__France                 \u001B[0m│\u001B[1m Geography__Germany                \u001B[0m│\u001B[1m Geography__Spain                  \u001B[0m│\u001B[1m Gender__Female                    \u001B[0m│\u001B[1m Gender__Male                      \u001B[0m│\u001B[1m Age   \u001B[0m│\u001B[1m Tenure \u001B[0m│\u001B[1m Balance    \u001B[0m│\u001B[1m NumOfProducts \u001B[0m│\u001B[1m HasCrCard                       \u001B[0m│\u001B[1m IsActiveMember                  \u001B[0m│\u001B[1m EstimatedSalary \u001B[0m│\n",
      "│\u001B[90m Int64       \u001B[0m│\u001B[90m CategoricalValue{Float64, UInt32} \u001B[0m│\u001B[90m CategoricalValue{Float64, UInt32} \u001B[0m│\u001B[90m CategoricalValue{Float64, UInt32} \u001B[0m│\u001B[90m CategoricalValue{Float64, UInt32} \u001B[0m│\u001B[90m CategoricalValue{Float64, UInt32} \u001B[0m│\u001B[90m Int64 \u001B[0m│\u001B[90m Int64  \u001B[0m│\u001B[90m Float64    \u001B[0m│\u001B[90m Int64         \u001B[0m│\u001B[90m CategoricalValue{Int64, UInt32} \u001B[0m│\u001B[90m CategoricalValue{Int64, UInt32} \u001B[0m│\u001B[90m Float64         \u001B[0m│\n",
      "│\u001B[90m Count       \u001B[0m│\u001B[90m OrderedFactor{2}                  \u001B[0m│\u001B[90m OrderedFactor{2}                  \u001B[0m│\u001B[90m OrderedFactor{2}                  \u001B[0m│\u001B[90m OrderedFactor{2}                  \u001B[0m│\u001B[90m OrderedFactor{2}                  \u001B[0m│\u001B[90m Count \u001B[0m│\u001B[90m Count  \u001B[0m│\u001B[90m Continuous \u001B[0m│\u001B[90m Count         \u001B[0m│\u001B[90m OrderedFactor{2}                \u001B[0m│\u001B[90m OrderedFactor{2}                \u001B[0m│\u001B[90m Continuous      \u001B[0m│\n",
      "├─────────────┼───────────────────────────────────┼───────────────────────────────────┼───────────────────────────────────┼───────────────────────────────────┼───────────────────────────────────┼───────┼────────┼────────────┼───────────────┼─────────────────────────────────┼─────────────────────────────────┼─────────────────┤\n",
      "│ 602.0       │ 0.0                               │ 1.0                               │ 0.0                               │ 1.0                               │ 0.0                               │ 42.0  │ 6.0    │ 1.58415e5  │ 1.0           │ 1.0                             │ 1.0                             │ 1.31886e5       │\n",
      "│ 792.0       │ 1.0                               │ 0.0                               │ 0.0                               │ 1.0                               │ 0.0                               │ 42.0  │ 2.0    │ 0.0        │ 2.0           │ 1.0                             │ 0.0                             │ 92664.1         │\n",
      "│ 633.0       │ 0.0                               │ 0.0                               │ 1.0                               │ 0.0                               │ 1.0                               │ 58.0  │ 6.0    │ 98308.5    │ 1.0           │ 1.0                             │ 1.0                             │ 1.32034e5       │\n",
      "│ 778.0       │ 1.0                               │ 0.0                               │ 0.0                               │ 0.0                               │ 1.0                               │ 44.0  │ 8.0    │ 1.23864e5  │ 1.0           │ 1.0                             │ 0.0                             │ 1.44495e5       │\n",
      "│ 619.0       │ 1.0                               │ 0.0                               │ 0.0                               │ 1.0                               │ 0.0                               │ 49.0  │ 9.0    │ 145360.0   │ 1.0           │ 1.0                             │ 0.0                             │ 38186.8         │\n",
      "│ 840.0       │ 0.0                               │ 1.0                               │ 0.0                               │ 1.0                               │ 0.0                               │ 51.0  │ 1.0    │ 87779.8    │ 1.0           │ 0.0                             │ 1.0                             │ 36687.1         │\n",
      "│ 495.0       │ 1.0                               │ 0.0                               │ 0.0                               │ 0.0                               │ 1.0                               │ 47.0  │ 10.0   │ 1.37683e5  │ 1.0           │ 1.0                             │ 0.0                             │ 71071.5         │\n",
      "│ 747.0       │ 1.0                               │ 0.0                               │ 0.0                               │ 0.0                               │ 1.0                               │ 41.0  │ 5.0    │ 0.0        │ 2.0           │ 1.0                             │ 1.0                             │ 22750.2         │\n",
      "│ 633.0       │ 0.0                               │ 0.0                               │ 1.0                               │ 0.0                               │ 1.0                               │ 27.0  │ 3.0    │ 0.0        │ 2.0           │ 1.0                             │ 0.0                             │ 44008.9         │\n",
      "│ 614.0       │ 0.0                               │ 0.0                               │ 1.0                               │ 1.0                               │ 0.0                               │ 25.0  │ 10.0   │ 75212.3    │ 1.0           │ 1.0                             │ 0.0                             │ 58965.0         │\n",
      "└─────────────┴───────────────────────────────────┴───────────────────────────────────┴───────────────────────────────────┴───────────────────────────────────┴───────────────────────────────────┴───────┴────────┴────────────┴───────────────┴─────────────────────────────────┴─────────────────────────────────┴─────────────────┘\n"
     ]
    }
   ],
   "source": [
    "X = coerce(X,\n",
    "    :Geography__France => OrderedFactor,\n",
    "    :Geography__Germany => OrderedFactor,\n",
    "    :Geography__Spain => OrderedFactor,\n",
    "    :Gender__Female => OrderedFactor,\n",
    "    :Gender__Male => OrderedFactor,\n",
    "    :HasCrCard => OrderedFactor,\n",
    "    :IsActiveMember => OrderedFactor)\n",
    "\n",
    "first(X, 10) |> pretty"
   ]
  },
  {
   "cell_type": "code",
   "execution_count": 14,
   "id": "2e250959-6e21-483b-b47d-33d762dbb7d2",
   "metadata": {
    "pycharm": {
     "is_executing": true
    }
   },
   "outputs": [],
   "source": [
    "#y = coerce(y, OrderedFactor)\n",
    "#y = convert(Vector{Int64}, y)\n"
   ]
  },
  {
   "cell_type": "code",
   "execution_count": 15,
   "id": "6dffeca6-1295-4fa8-8714-006338c4d9b0",
   "metadata": {
    "pycharm": {
     "is_executing": true
    }
   },
   "outputs": [
    {
     "data": {
      "text/plain": [
       "AbstractVector{Count}\u001B[90m (alias for \u001B[39m\u001B[90mAbstractArray{Count, 1}\u001B[39m\u001B[90m)\u001B[39m"
      ]
     },
     "execution_count": 15,
     "metadata": {},
     "output_type": "execute_result"
    }
   ],
   "source": [
    "scitype(y)"
   ]
  },
  {
   "cell_type": "code",
   "execution_count": 16,
   "id": "7b764142-42b0-4206-94a2-7fefe77acd83",
   "metadata": {
    "pycharm": {
     "is_executing": true
    }
   },
   "outputs": [
    {
     "data": {
      "text/plain": [
       "Table{Union{AbstractVector{Continuous}, AbstractVector{Count}, AbstractVector{OrderedFactor{2}}}}"
      ]
     },
     "execution_count": 16,
     "metadata": {},
     "output_type": "execute_result"
    }
   ],
   "source": [
    "scitype(X)"
   ]
  },
  {
   "cell_type": "markdown",
   "id": "63c4078e-1d7b-4e12-bae1-bcde11fb73b3",
   "metadata": {},
   "source": [
    "### Feature Scaling"
   ]
  },
  {
   "cell_type": "code",
   "execution_count": 17,
   "id": "7cfe5c2f-8fd1-4646-835c-b4d823dc7510",
   "metadata": {
    "pycharm": {
     "is_executing": true
    }
   },
   "outputs": [
    {
     "name": "stderr",
     "output_type": "stream",
     "text": [
      "\u001B[36m\u001B[1m[ \u001B[22m\u001B[39m\u001B[36m\u001B[1mInfo: \u001B[22m\u001B[39mTraining machine(Standardizer(features = Symbol[], …), …).\n"
     ]
    },
    {
     "data": {
      "text/html": [
       "<div><div style = \"float: left;\"><span>10000×13 DataFrame</span></div><div style = \"float: right;\"><span style = \"font-style: italic;\">9975 rows omitted</span></div><div style = \"clear: both;\"></div></div><div class = \"data-frame\" style = \"overflow-x: scroll;\"><table class = \"data-frame\" style = \"margin-bottom: 6px;\"><thead><tr class = \"header\"><th class = \"rowNumber\" style = \"font-weight: bold; text-align: right;\">Row</th><th style = \"text-align: left;\">CreditScore</th><th style = \"text-align: left;\">Geography__France</th><th style = \"text-align: left;\">Geography__Germany</th><th style = \"text-align: left;\">Geography__Spain</th><th style = \"text-align: left;\">Gender__Female</th><th style = \"text-align: left;\">Gender__Male</th><th style = \"text-align: left;\">Age</th><th style = \"text-align: left;\">Tenure</th><th style = \"text-align: left;\">Balance</th><th style = \"text-align: left;\">NumOfProducts</th><th style = \"text-align: left;\">HasCrCard</th><th style = \"text-align: left;\">IsActiveMember</th><th style = \"text-align: left;\">EstimatedSalary</th></tr><tr class = \"subheader headerLastRow\"><th class = \"rowNumber\" style = \"font-weight: bold; text-align: right;\"></th><th title = \"Float64\" style = \"text-align: left;\">Float64</th><th title = \"CategoricalArrays.CategoricalValue{Float64, UInt32}\" style = \"text-align: left;\">Cat…</th><th title = \"CategoricalArrays.CategoricalValue{Float64, UInt32}\" style = \"text-align: left;\">Cat…</th><th title = \"CategoricalArrays.CategoricalValue{Float64, UInt32}\" style = \"text-align: left;\">Cat…</th><th title = \"CategoricalArrays.CategoricalValue{Float64, UInt32}\" style = \"text-align: left;\">Cat…</th><th title = \"CategoricalArrays.CategoricalValue{Float64, UInt32}\" style = \"text-align: left;\">Cat…</th><th title = \"Float64\" style = \"text-align: left;\">Float64</th><th title = \"Float64\" style = \"text-align: left;\">Float64</th><th title = \"Float64\" style = \"text-align: left;\">Float64</th><th title = \"Float64\" style = \"text-align: left;\">Float64</th><th title = \"CategoricalArrays.CategoricalValue{Int64, UInt32}\" style = \"text-align: left;\">Cat…</th><th title = \"CategoricalArrays.CategoricalValue{Int64, UInt32}\" style = \"text-align: left;\">Cat…</th><th title = \"Float64\" style = \"text-align: left;\">Float64</th></tr></thead><tbody><tr><td class = \"rowNumber\" style = \"font-weight: bold; text-align: right;\">1</td><td style = \"text-align: right;\">-0.502092</td><td style = \"text-align: left;\">0.0</td><td style = \"text-align: left;\">1.0</td><td style = \"text-align: left;\">0.0</td><td style = \"text-align: left;\">1.0</td><td style = \"text-align: left;\">0.0</td><td style = \"text-align: right;\">0.293503</td><td style = \"text-align: right;\">0.341335</td><td style = \"text-align: right;\">1.31302</td><td style = \"text-align: right;\">-0.911538</td><td style = \"text-align: left;\">1</td><td style = \"text-align: left;\">1</td><td style = \"text-align: right;\">0.552877</td></tr><tr><td class = \"rowNumber\" style = \"font-weight: bold; text-align: right;\">2</td><td style = \"text-align: right;\">1.4637</td><td style = \"text-align: left;\">1.0</td><td style = \"text-align: left;\">0.0</td><td style = \"text-align: left;\">0.0</td><td style = \"text-align: left;\">1.0</td><td style = \"text-align: left;\">0.0</td><td style = \"text-align: right;\">0.293503</td><td style = \"text-align: right;\">-1.04171</td><td style = \"text-align: right;\">-1.22579</td><td style = \"text-align: right;\">0.807696</td><td style = \"text-align: left;\">1</td><td style = \"text-align: left;\">0</td><td style = \"text-align: right;\">-0.129127</td></tr><tr><td class = \"rowNumber\" style = \"font-weight: bold; text-align: right;\">3</td><td style = \"text-align: right;\">-0.181357</td><td style = \"text-align: left;\">0.0</td><td style = \"text-align: left;\">0.0</td><td style = \"text-align: left;\">1.0</td><td style = \"text-align: left;\">0.0</td><td style = \"text-align: left;\">1.0</td><td style = \"text-align: right;\">1.81908</td><td style = \"text-align: right;\">0.341335</td><td style = \"text-align: right;\">0.349736</td><td style = \"text-align: right;\">-0.911538</td><td style = \"text-align: left;\">1</td><td style = \"text-align: left;\">1</td><td style = \"text-align: right;\">0.555445</td></tr><tr><td class = \"rowNumber\" style = \"font-weight: bold; text-align: right;\">4</td><td style = \"text-align: right;\">1.31885</td><td style = \"text-align: left;\">1.0</td><td style = \"text-align: left;\">0.0</td><td style = \"text-align: left;\">0.0</td><td style = \"text-align: left;\">0.0</td><td style = \"text-align: left;\">1.0</td><td style = \"text-align: right;\">0.4842</td><td style = \"text-align: right;\">1.03286</td><td style = \"text-align: right;\">0.75929</td><td style = \"text-align: right;\">-0.911538</td><td style = \"text-align: left;\">1</td><td style = \"text-align: left;\">0</td><td style = \"text-align: right;\">0.772115</td></tr><tr><td class = \"rowNumber\" style = \"font-weight: bold; text-align: right;\">5</td><td style = \"text-align: right;\">-0.326205</td><td style = \"text-align: left;\">1.0</td><td style = \"text-align: left;\">0.0</td><td style = \"text-align: left;\">0.0</td><td style = \"text-align: left;\">1.0</td><td style = \"text-align: left;\">0.0</td><td style = \"text-align: right;\">0.960945</td><td style = \"text-align: right;\">1.37862</td><td style = \"text-align: right;\">1.1038</td><td style = \"text-align: right;\">-0.911538</td><td style = \"text-align: left;\">1</td><td style = \"text-align: left;\">0</td><td style = \"text-align: right;\">-1.07638</td></tr><tr><td class = \"rowNumber\" style = \"font-weight: bold; text-align: right;\">6</td><td style = \"text-align: right;\">1.96032</td><td style = \"text-align: left;\">0.0</td><td style = \"text-align: left;\">1.0</td><td style = \"text-align: left;\">0.0</td><td style = \"text-align: left;\">1.0</td><td style = \"text-align: left;\">0.0</td><td style = \"text-align: right;\">1.15164</td><td style = \"text-align: right;\">-1.38747</td><td style = \"text-align: right;\">0.181</td><td style = \"text-align: right;\">-0.911538</td><td style = \"text-align: left;\">0</td><td style = \"text-align: left;\">1</td><td style = \"text-align: right;\">-1.10246</td></tr><tr><td class = \"rowNumber\" style = \"font-weight: bold; text-align: right;\">7</td><td style = \"text-align: right;\">-1.60914</td><td style = \"text-align: left;\">1.0</td><td style = \"text-align: left;\">0.0</td><td style = \"text-align: left;\">0.0</td><td style = \"text-align: left;\">0.0</td><td style = \"text-align: left;\">1.0</td><td style = \"text-align: right;\">0.770247</td><td style = \"text-align: right;\">1.72438</td><td style = \"text-align: right;\">0.980759</td><td style = \"text-align: right;\">-0.911538</td><td style = \"text-align: left;\">1</td><td style = \"text-align: left;\">0</td><td style = \"text-align: right;\">-0.504582</td></tr><tr><td class = \"rowNumber\" style = \"font-weight: bold; text-align: right;\">8</td><td style = \"text-align: right;\">0.998116</td><td style = \"text-align: left;\">1.0</td><td style = \"text-align: left;\">0.0</td><td style = \"text-align: left;\">0.0</td><td style = \"text-align: left;\">0.0</td><td style = \"text-align: left;\">1.0</td><td style = \"text-align: right;\">0.198154</td><td style = \"text-align: right;\">-0.00442574</td><td style = \"text-align: right;\">-1.22579</td><td style = \"text-align: right;\">0.807696</td><td style = \"text-align: left;\">1</td><td style = \"text-align: left;\">1</td><td style = \"text-align: right;\">-1.3448</td></tr><tr><td class = \"rowNumber\" style = \"font-weight: bold; text-align: right;\">9</td><td style = \"text-align: right;\">-0.181357</td><td style = \"text-align: left;\">0.0</td><td style = \"text-align: left;\">0.0</td><td style = \"text-align: left;\">1.0</td><td style = \"text-align: left;\">0.0</td><td style = \"text-align: left;\">1.0</td><td style = \"text-align: right;\">-1.13673</td><td style = \"text-align: right;\">-0.695947</td><td style = \"text-align: right;\">-1.22579</td><td style = \"text-align: right;\">0.807696</td><td style = \"text-align: left;\">1</td><td style = \"text-align: left;\">0</td><td style = \"text-align: right;\">-0.97515</td></tr><tr><td class = \"rowNumber\" style = \"font-weight: bold; text-align: right;\">10</td><td style = \"text-align: right;\">-0.377936</td><td style = \"text-align: left;\">0.0</td><td style = \"text-align: left;\">0.0</td><td style = \"text-align: left;\">1.0</td><td style = \"text-align: left;\">1.0</td><td style = \"text-align: left;\">0.0</td><td style = \"text-align: right;\">-1.32743</td><td style = \"text-align: right;\">1.72438</td><td style = \"text-align: right;\">-0.0204113</td><td style = \"text-align: right;\">-0.911538</td><td style = \"text-align: left;\">1</td><td style = \"text-align: left;\">0</td><td style = \"text-align: right;\">-0.71509</td></tr><tr><td class = \"rowNumber\" style = \"font-weight: bold; text-align: right;\">11</td><td style = \"text-align: right;\">-1.07114</td><td style = \"text-align: left;\">0.0</td><td style = \"text-align: left;\">0.0</td><td style = \"text-align: left;\">1.0</td><td style = \"text-align: left;\">1.0</td><td style = \"text-align: left;\">0.0</td><td style = \"text-align: right;\">0.4842</td><td style = \"text-align: right;\">-0.00442574</td><td style = \"text-align: right;\">-1.22579</td><td style = \"text-align: right;\">2.52693</td><td style = \"text-align: left;\">0</td><td style = \"text-align: left;\">0</td><td style = \"text-align: right;\">-1.64546</td></tr><tr><td class = \"rowNumber\" style = \"font-weight: bold; text-align: right;\">12</td><td style = \"text-align: right;\">-1.67122</td><td style = \"text-align: left;\">0.0</td><td style = \"text-align: left;\">0.0</td><td style = \"text-align: left;\">1.0</td><td style = \"text-align: left;\">0.0</td><td style = \"text-align: left;\">1.0</td><td style = \"text-align: right;\">0.102805</td><td style = \"text-align: right;\">-0.695947</td><td style = \"text-align: right;\">2.32457</td><td style = \"text-align: right;\">-0.911538</td><td style = \"text-align: left;\">1</td><td style = \"text-align: left;\">0</td><td style = \"text-align: right;\">1.24807</td></tr><tr><td class = \"rowNumber\" style = \"font-weight: bold; text-align: right;\">13</td><td style = \"text-align: right;\">0.584266</td><td style = \"text-align: left;\">1.0</td><td style = \"text-align: left;\">0.0</td><td style = \"text-align: left;\">0.0</td><td style = \"text-align: left;\">1.0</td><td style = \"text-align: left;\">0.0</td><td style = \"text-align: right;\">0.4842</td><td style = \"text-align: right;\">0.341335</td><td style = \"text-align: right;\">-1.22579</td><td style = \"text-align: right;\">0.807696</td><td style = \"text-align: left;\">1</td><td style = \"text-align: left;\">1</td><td style = \"text-align: right;\">1.60757</td></tr><tr><td style = \"text-align: right;\">&vellip;</td><td style = \"text-align: right;\">&vellip;</td><td style = \"text-align: right;\">&vellip;</td><td style = \"text-align: right;\">&vellip;</td><td style = \"text-align: right;\">&vellip;</td><td style = \"text-align: right;\">&vellip;</td><td style = \"text-align: right;\">&vellip;</td><td style = \"text-align: right;\">&vellip;</td><td style = \"text-align: right;\">&vellip;</td><td style = \"text-align: right;\">&vellip;</td><td style = \"text-align: right;\">&vellip;</td><td style = \"text-align: right;\">&vellip;</td><td style = \"text-align: right;\">&vellip;</td><td style = \"text-align: right;\">&vellip;</td></tr><tr><td class = \"rowNumber\" style = \"font-weight: bold; text-align: right;\">9989</td><td style = \"text-align: right;\">0.12903</td><td style = \"text-align: left;\">1.0</td><td style = \"text-align: left;\">0.0</td><td style = \"text-align: left;\">0.0</td><td style = \"text-align: left;\">1.0</td><td style = \"text-align: left;\">0.0</td><td style = \"text-align: right;\">-1.13673</td><td style = \"text-align: right;\">1.37862</td><td style = \"text-align: right;\">-1.22579</td><td style = \"text-align: right;\">0.807696</td><td style = \"text-align: left;\">1</td><td style = \"text-align: left;\">0</td><td style = \"text-align: right;\">0.882622</td></tr><tr><td class = \"rowNumber\" style = \"font-weight: bold; text-align: right;\">9990</td><td style = \"text-align: right;\">-0.502092</td><td style = \"text-align: left;\">0.0</td><td style = \"text-align: left;\">0.0</td><td style = \"text-align: left;\">1.0</td><td style = \"text-align: left;\">0.0</td><td style = \"text-align: left;\">1.0</td><td style = \"text-align: right;\">-0.850683</td><td style = \"text-align: right;\">1.37862</td><td style = \"text-align: right;\">0.595959</td><td style = \"text-align: right;\">0.807696</td><td style = \"text-align: left;\">0</td><td style = \"text-align: left;\">0</td><td style = \"text-align: right;\">0.0355706</td></tr><tr><td class = \"rowNumber\" style = \"font-weight: bold; text-align: right;\">9991</td><td style = \"text-align: right;\">-0.11928</td><td style = \"text-align: left;\">0.0</td><td style = \"text-align: left;\">0.0</td><td style = \"text-align: left;\">1.0</td><td style = \"text-align: left;\">0.0</td><td style = \"text-align: left;\">1.0</td><td style = \"text-align: right;\">-0.0878925</td><td style = \"text-align: right;\">1.37862</td><td style = \"text-align: right;\">0.86137</td><td style = \"text-align: right;\">-0.911538</td><td style = \"text-align: left;\">1</td><td style = \"text-align: left;\">1</td><td style = \"text-align: right;\">-0.316971</td></tr><tr><td class = \"rowNumber\" style = \"font-weight: bold; text-align: right;\">9992</td><td style = \"text-align: right;\">-1.26771</td><td style = \"text-align: left;\">0.0</td><td style = \"text-align: left;\">1.0</td><td style = \"text-align: left;\">0.0</td><td style = \"text-align: left;\">0.0</td><td style = \"text-align: left;\">1.0</td><td style = \"text-align: right;\">-1.61347</td><td style = \"text-align: right;\">-0.00442574</td><td style = \"text-align: right;\">0.27343</td><td style = \"text-align: right;\">0.807696</td><td style = \"text-align: left;\">0</td><td style = \"text-align: left;\">1</td><td style = \"text-align: right;\">-1.72366</td></tr><tr><td class = \"rowNumber\" style = \"font-weight: bold; text-align: right;\">9993</td><td style = \"text-align: right;\">-1.37118</td><td style = \"text-align: left;\">0.0</td><td style = \"text-align: left;\">1.0</td><td style = \"text-align: left;\">0.0</td><td style = \"text-align: left;\">0.0</td><td style = \"text-align: left;\">1.0</td><td style = \"text-align: right;\">0.674898</td><td style = \"text-align: right;\">-0.350186</td><td style = \"text-align: right;\">0.595218</td><td style = \"text-align: right;\">-0.911538</td><td style = \"text-align: left;\">0</td><td style = \"text-align: left;\">0</td><td style = \"text-align: right;\">-0.128026</td></tr><tr><td class = \"rowNumber\" style = \"font-weight: bold; text-align: right;\">9994</td><td style = \"text-align: right;\">-0.584862</td><td style = \"text-align: left;\">1.0</td><td style = \"text-align: left;\">0.0</td><td style = \"text-align: left;\">0.0</td><td style = \"text-align: left;\">0.0</td><td style = \"text-align: left;\">1.0</td><td style = \"text-align: right;\">-1.51812</td><td style = \"text-align: right;\">-0.00442574</td><td style = \"text-align: right;\">1.27861</td><td style = \"text-align: right;\">-0.911538</td><td style = \"text-align: left;\">1</td><td style = \"text-align: left;\">0</td><td style = \"text-align: right;\">1.05856</td></tr><tr><td class = \"rowNumber\" style = \"font-weight: bold; text-align: right;\">9995</td><td style = \"text-align: right;\">-0.274474</td><td style = \"text-align: left;\">0.0</td><td style = \"text-align: left;\">1.0</td><td style = \"text-align: left;\">0.0</td><td style = \"text-align: left;\">1.0</td><td style = \"text-align: left;\">0.0</td><td style = \"text-align: right;\">0.102805</td><td style = \"text-align: right;\">-0.695947</td><td style = \"text-align: right;\">1.17755</td><td style = \"text-align: right;\">0.807696</td><td style = \"text-align: left;\">1</td><td style = \"text-align: left;\">0</td><td style = \"text-align: right;\">0.0786051</td></tr><tr><td class = \"rowNumber\" style = \"font-weight: bold; text-align: right;\">9996</td><td style = \"text-align: right;\">0.0255677</td><td style = \"text-align: left;\">1.0</td><td style = \"text-align: left;\">0.0</td><td style = \"text-align: left;\">0.0</td><td style = \"text-align: left;\">1.0</td><td style = \"text-align: left;\">0.0</td><td style = \"text-align: right;\">0.674898</td><td style = \"text-align: right;\">-0.00442574</td><td style = \"text-align: right;\">-1.22579</td><td style = \"text-align: right;\">0.807696</td><td style = \"text-align: left;\">1</td><td style = \"text-align: left;\">0</td><td style = \"text-align: right;\">-0.876056</td></tr><tr><td class = \"rowNumber\" style = \"font-weight: bold; text-align: right;\">9997</td><td style = \"text-align: right;\">-0.895249</td><td style = \"text-align: left;\">0.0</td><td style = \"text-align: left;\">1.0</td><td style = \"text-align: left;\">0.0</td><td style = \"text-align: left;\">1.0</td><td style = \"text-align: left;\">0.0</td><td style = \"text-align: right;\">-0.850683</td><td style = \"text-align: right;\">-1.73323</td><td style = \"text-align: right;\">0.392148</td><td style = \"text-align: right;\">0.807696</td><td style = \"text-align: left;\">0</td><td style = \"text-align: left;\">0</td><td style = \"text-align: right;\">0.592673</td></tr><tr><td class = \"rowNumber\" style = \"font-weight: bold; text-align: right;\">9998</td><td style = \"text-align: right;\">-0.69867</td><td style = \"text-align: left;\">0.0</td><td style = \"text-align: left;\">1.0</td><td style = \"text-align: left;\">0.0</td><td style = \"text-align: left;\">0.0</td><td style = \"text-align: left;\">1.0</td><td style = \"text-align: right;\">-0.373939</td><td style = \"text-align: right;\">1.03286</td><td style = \"text-align: right;\">1.17809</td><td style = \"text-align: right;\">0.807696</td><td style = \"text-align: left;\">1</td><td style = \"text-align: left;\">0</td><td style = \"text-align: right;\">-1.00758</td></tr><tr><td class = \"rowNumber\" style = \"font-weight: bold; text-align: right;\">9999</td><td style = \"text-align: right;\">-0.108934</td><td style = \"text-align: left;\">1.0</td><td style = \"text-align: left;\">0.0</td><td style = \"text-align: left;\">0.0</td><td style = \"text-align: left;\">0.0</td><td style = \"text-align: left;\">1.0</td><td style = \"text-align: right;\">2.29583</td><td style = \"text-align: right;\">-1.04171</td><td style = \"text-align: right;\">-0.129067</td><td style = \"text-align: right;\">0.807696</td><td style = \"text-align: left;\">1</td><td style = \"text-align: left;\">1</td><td style = \"text-align: right;\">0.215839</td></tr><tr><td class = \"rowNumber\" style = \"font-weight: bold; text-align: right;\">10000</td><td style = \"text-align: right;\">-0.191704</td><td style = \"text-align: left;\">0.0</td><td style = \"text-align: left;\">1.0</td><td style = \"text-align: left;\">0.0</td><td style = \"text-align: left;\">1.0</td><td style = \"text-align: left;\">0.0</td><td style = \"text-align: right;\">0.198154</td><td style = \"text-align: right;\">-0.695947</td><td style = \"text-align: right;\">0.0864057</td><td style = \"text-align: right;\">-0.911538</td><td style = \"text-align: left;\">1</td><td style = \"text-align: left;\">1</td><td style = \"text-align: right;\">-1.15541</td></tr></tbody></table></div>"
      ],
      "text/latex": [
       "\\begin{tabular}{r|cccccc}\n",
       "\t& CreditScore & Geography\\_\\_France & Geography\\_\\_Germany & Geography\\_\\_Spain & Gender\\_\\_Female & \\\\\n",
       "\t\\hline\n",
       "\t& Float64 & Cat… & Cat… & Cat… & Cat… & \\\\\n",
       "\t\\hline\n",
       "\t1 & -0.502092 & 0.0 & 1.0 & 0.0 & 1.0 & $\\dots$ \\\\\n",
       "\t2 & 1.4637 & 1.0 & 0.0 & 0.0 & 1.0 & $\\dots$ \\\\\n",
       "\t3 & -0.181357 & 0.0 & 0.0 & 1.0 & 0.0 & $\\dots$ \\\\\n",
       "\t4 & 1.31885 & 1.0 & 0.0 & 0.0 & 0.0 & $\\dots$ \\\\\n",
       "\t5 & -0.326205 & 1.0 & 0.0 & 0.0 & 1.0 & $\\dots$ \\\\\n",
       "\t6 & 1.96032 & 0.0 & 1.0 & 0.0 & 1.0 & $\\dots$ \\\\\n",
       "\t7 & -1.60914 & 1.0 & 0.0 & 0.0 & 0.0 & $\\dots$ \\\\\n",
       "\t8 & 0.998116 & 1.0 & 0.0 & 0.0 & 0.0 & $\\dots$ \\\\\n",
       "\t9 & -0.181357 & 0.0 & 0.0 & 1.0 & 0.0 & $\\dots$ \\\\\n",
       "\t10 & -0.377936 & 0.0 & 0.0 & 1.0 & 1.0 & $\\dots$ \\\\\n",
       "\t11 & -1.07114 & 0.0 & 0.0 & 1.0 & 1.0 & $\\dots$ \\\\\n",
       "\t12 & -1.67122 & 0.0 & 0.0 & 1.0 & 0.0 & $\\dots$ \\\\\n",
       "\t13 & 0.584266 & 1.0 & 0.0 & 0.0 & 1.0 & $\\dots$ \\\\\n",
       "\t14 & -1.64018 & 0.0 & 1.0 & 0.0 & 0.0 & $\\dots$ \\\\\n",
       "\t15 & -2.32303 & 1.0 & 0.0 & 0.0 & 1.0 & $\\dots$ \\\\\n",
       "\t16 & -1.70226 & 0.0 & 1.0 & 0.0 & 0.0 & $\\dots$ \\\\\n",
       "\t17 & 1.15331 & 0.0 & 1.0 & 0.0 & 0.0 & $\\dots$ \\\\\n",
       "\t18 & 1.36024 & 0.0 & 0.0 & 1.0 & 0.0 & $\\dots$ \\\\\n",
       "\t19 & -0.160665 & 0.0 & 0.0 & 1.0 & 0.0 & $\\dots$ \\\\\n",
       "\t20 & -0.20205 & 0.0 & 1.0 & 0.0 & 0.0 & $\\dots$ \\\\\n",
       "\t21 & 1.0395 & 0.0 & 1.0 & 0.0 & 0.0 & $\\dots$ \\\\\n",
       "\t22 & -0.160665 & 0.0 & 0.0 & 1.0 & 0.0 & $\\dots$ \\\\\n",
       "\t23 & 0.284224 & 0.0 & 1.0 & 0.0 & 1.0 & $\\dots$ \\\\\n",
       "\t24 & -0.191704 & 1.0 & 0.0 & 0.0 & 0.0 & $\\dots$ \\\\\n",
       "\t25 & 1.61889 & 0.0 & 0.0 & 1.0 & 1.0 & $\\dots$ \\\\\n",
       "\t26 & -1.48499 & 1.0 & 0.0 & 0.0 & 0.0 & $\\dots$ \\\\\n",
       "\t27 & -0.253781 & 1.0 & 0.0 & 0.0 & 1.0 & $\\dots$ \\\\\n",
       "\t28 & -1.19529 & 1.0 & 0.0 & 0.0 & 1.0 & $\\dots$ \\\\\n",
       "\t29 & 0.522188 & 0.0 & 0.0 & 1.0 & 1.0 & $\\dots$ \\\\\n",
       "\t30 & 0.842922 & 1.0 & 0.0 & 0.0 & 0.0 & $\\dots$ \\\\\n",
       "\t$\\dots$ & $\\dots$ & $\\dots$ & $\\dots$ & $\\dots$ & $\\dots$ &  \\\\\n",
       "\\end{tabular}\n"
      ],
      "text/plain": [
       "\u001B[1m10000×13 DataFrame\u001B[0m\n",
       "\u001B[1m   Row \u001B[0m│\u001B[1m CreditScore \u001B[0m\u001B[1m Geography__France \u001B[0m\u001B[1m Geography__Germany \u001B[0m\u001B[1m Geography__Spain \u001B[0m ⋯\n",
       "       │\u001B[90m Float64     \u001B[0m\u001B[90m CategoricalValue… \u001B[0m\u001B[90m CategoricalValue…  \u001B[0m\u001B[90m CategoricalValue…\u001B[0m ⋯\n",
       "───────┼────────────────────────────────────────────────────────────────────────\n",
       "     1 │  -0.502092   0.0                1.0                 0.0               ⋯\n",
       "     2 │   1.4637     1.0                0.0                 0.0\n",
       "     3 │  -0.181357   0.0                0.0                 1.0\n",
       "     4 │   1.31885    1.0                0.0                 0.0\n",
       "     5 │  -0.326205   1.0                0.0                 0.0               ⋯\n",
       "     6 │   1.96032    0.0                1.0                 0.0\n",
       "     7 │  -1.60914    1.0                0.0                 0.0\n",
       "     8 │   0.998116   1.0                0.0                 0.0\n",
       "     9 │  -0.181357   0.0                0.0                 1.0               ⋯\n",
       "    10 │  -0.377936   0.0                0.0                 1.0\n",
       "    11 │  -1.07114    0.0                0.0                 1.0\n",
       "   ⋮   │      ⋮               ⋮                  ⋮                   ⋮         ⋱\n",
       "  9991 │  -0.11928    0.0                0.0                 1.0\n",
       "  9992 │  -1.26771    0.0                1.0                 0.0               ⋯\n",
       "  9993 │  -1.37118    0.0                1.0                 0.0\n",
       "  9994 │  -0.584862   1.0                0.0                 0.0\n",
       "  9995 │  -0.274474   0.0                1.0                 0.0\n",
       "  9996 │   0.0255677  1.0                0.0                 0.0               ⋯\n",
       "  9997 │  -0.895249   0.0                1.0                 0.0\n",
       "  9998 │  -0.69867    0.0                1.0                 0.0\n",
       "  9999 │  -0.108934   1.0                0.0                 0.0\n",
       " 10000 │  -0.191704   0.0                1.0                 0.0               ⋯\n",
       "\u001B[36m                                                 9 columns and 9979 rows omitted\u001B[0m"
      ]
     },
     "execution_count": 17,
     "metadata": {},
     "output_type": "execute_result"
    }
   ],
   "source": [
    "standardizer_model = Standardizer(count=true)\n",
    "standardizer_machine = machine(standardizer_model, X)\n",
    "fit!(standardizer_machine)\n",
    "\n",
    "X = MLJ.transform(standardizer_machine, X)"
   ]
  },
  {
   "cell_type": "markdown",
   "id": "b4cc0664-1187-4061-a682-298e94c194da",
   "metadata": {},
   "source": [
    "### Splitting the dataset into the Training Set and the Test set"
   ]
  },
  {
   "cell_type": "code",
   "execution_count": 18,
   "id": "f98aa122-62e2-4940-a063-daa2dca5dcb3",
   "metadata": {
    "pycharm": {
     "is_executing": true
    }
   },
   "outputs": [
    {
     "data": {
      "text/plain": [
       "((\u001B[1m8000×13 DataFrame\u001B[0m\n",
       "\u001B[1m  Row \u001B[0m│\u001B[1m CreditScore \u001B[0m\u001B[1m Geography__France \u001B[0m\u001B[1m Geography__Germany \u001B[0m\u001B[1m Geography__Spain  \u001B[0m\u001B[1m\u001B[0m ⋯\n",
       "      │\u001B[90m Float64     \u001B[0m\u001B[90m CategoricalValue… \u001B[0m\u001B[90m CategoricalValue…  \u001B[0m\u001B[90m CategoricalValue… \u001B[0m\u001B[90m\u001B[0m ⋯\n",
       "──────┼─────────────────────────────────────────────────────────────────────────\n",
       "    1 │  -0.636593   1.0                0.0                 0.0                ⋯\n",
       "    2 │   0.667036   0.0                0.0                 1.0\n",
       "    3 │   0.460111   1.0                0.0                 0.0\n",
       "    4 │  -0.36759    1.0                0.0                 0.0\n",
       "    5 │  -2.22992    0.0                1.0                 0.0                ⋯\n",
       "    6 │  -0.191704   1.0                0.0                 0.0\n",
       "    7 │  -1.68156    1.0                0.0                 0.0\n",
       "    8 │   0.12903    1.0                0.0                 0.0\n",
       "    9 │  -0.843518   0.0                1.0                 0.0                ⋯\n",
       "   10 │   0.884307   0.0                1.0                 0.0\n",
       "   11 │  -1.43325    1.0                0.0                 0.0\n",
       "  ⋮   │      ⋮               ⋮                  ⋮                   ⋮          ⋱\n",
       " 7991 │   0.770498   1.0                0.0                 0.0\n",
       " 7992 │   2.06378    1.0                0.0                 0.0                ⋯\n",
       " 7993 │   2.01205    1.0                0.0                 0.0\n",
       " 7994 │   0.0876452  1.0                0.0                 0.0\n",
       " 7995 │  -0.36759    1.0                0.0                 0.0\n",
       " 7996 │  -1.68156    1.0                0.0                 0.0                ⋯\n",
       " 7997 │  -0.833172   1.0                0.0                 0.0\n",
       " 7998 │   1.13262    1.0                0.0                 0.0\n",
       " 7999 │  -0.843518   0.0                1.0                 0.0\n",
       " 8000 │   2.06378    1.0                0.0                 0.0                ⋯\n",
       "\u001B[36m                                                 9 columns and 7979 rows omitted\u001B[0m, \u001B[1m2000×13 DataFrame\u001B[0m\n",
       "\u001B[1m  Row \u001B[0m│\u001B[1m CreditScore \u001B[0m\u001B[1m Geography__France \u001B[0m\u001B[1m Geography__Germany \u001B[0m\u001B[1m Geography__Spain  \u001B[0m\u001B[1m\u001B[0m ⋯\n",
       "      │\u001B[90m Float64     \u001B[0m\u001B[90m CategoricalValue… \u001B[0m\u001B[90m CategoricalValue…  \u001B[0m\u001B[90m CategoricalValue… \u001B[0m\u001B[90m\u001B[0m ⋯\n",
       "──────┼─────────────────────────────────────────────────────────────────────────\n",
       "    1 │  -0.108934   1.0                0.0                 0.0                ⋯\n",
       "    2 │   0.998116   0.0                1.0                 0.0\n",
       "    3 │  -1.79537    0.0                1.0                 0.0\n",
       "    4 │  -1.32979    1.0                0.0                 0.0\n",
       "    5 │  -0.0054711  0.0                1.0                 0.0                ⋯\n",
       "    6 │   0.0359139  1.0                0.0                 0.0\n",
       "    7 │   0.936038   1.0                0.0                 0.0\n",
       "    8 │  -0.915942   1.0                0.0                 0.0\n",
       "    9 │   0.0979915  0.0                1.0                 0.0                ⋯\n",
       "   10 │   1.54647    0.0                0.0                 1.0\n",
       "   11 │   0.491149   0.0                1.0                 0.0\n",
       "  ⋮   │      ⋮               ⋮                  ⋮                   ⋮          ⋱\n",
       " 1991 │  -0.667632   0.0                1.0                 0.0\n",
       " 1992 │  -2.48857    0.0                1.0                 0.0                ⋯\n",
       " 1993 │  -0.491745   1.0                0.0                 0.0\n",
       " 1994 │   1.48439    1.0                0.0                 0.0\n",
       " 1995 │   1.13262    0.0                1.0                 0.0\n",
       " 1996 │   0.139377   0.0                0.0                 1.0                ⋯\n",
       " 1997 │   0.304917   1.0                0.0                 0.0\n",
       " 1998 │  -1.26771    0.0                1.0                 0.0\n",
       " 1999 │  -0.264128   1.0                0.0                 0.0\n",
       " 2000 │  -0.295166   0.0                0.0                 1.0                ⋯\n",
       "\u001B[36m                                                 9 columns and 1979 rows omitted\u001B[0m), ([0, 0, 0, 0, 0, 0, 0, 0, 1, 0  …  0, 0, 0, 0, 0, 0, 1, 1, 0, 0], [0, 0, 0, 0, 0, 0, 1, 0, 0, 0  …  0, 0, 0, 1, 1, 0, 0, 1, 0, 0]))"
      ]
     },
     "execution_count": 18,
     "metadata": {},
     "output_type": "execute_result"
    }
   ],
   "source": [
    "(X_train, X_test), (y_train, y_test) = partition((X, y), 0.8, rng=43, multi=true)"
   ]
  },
  {
   "cell_type": "markdown",
   "id": "b5fc01db-e793-4cc5-9c26-5b6507eeb253",
   "metadata": {},
   "source": [
    "## Part 2 - Building the ANN"
   ]
  },
  {
   "cell_type": "markdown",
   "id": "96f55809-533f-4f39-8840-ba8a726ed8f4",
   "metadata": {},
   "source": [
    "#### Adding the input layer and the first hidden layer"
   ]
  },
  {
   "cell_type": "code",
   "execution_count": 19,
   "id": "541a7705-43dc-448e-8998-d06e6632315b",
   "metadata": {
    "pycharm": {
     "is_executing": true
    }
   },
   "outputs": [
    {
     "name": "stdout",
     "output_type": "stream",
     "text": [
      "(8000, 13)"
     ]
    },
    {
     "name": "stderr",
     "output_type": "stream",
     "text": [
      "\u001B[33m\u001B[1m┌ \u001B[22m\u001B[39m\u001B[33m\u001B[1mWarning: \u001B[22m\u001B[39mLayer with Float32 parameters got Float64 input.\n",
      "\u001B[33m\u001B[1m│ \u001B[22m\u001B[39m  The input will be converted, but any earlier layers may be very slow.\n",
      "\u001B[33m\u001B[1m│ \u001B[22m\u001B[39m  layer = Dense(13 => 6, relu)  \u001B[90m# 84 parameters\u001B[39m\n",
      "\u001B[33m\u001B[1m│ \u001B[22m\u001B[39m  summary(x) = \"13×8000 transpose(::Matrix{Float64}) with eltype Float64\"\n",
      "\u001B[33m\u001B[1m└ \u001B[22m\u001B[39m\u001B[90m@ Flux C:\\Users\\steve\\.julia\\packages\\Flux\\uCLgc\\src\\layers\\stateless.jl:50\u001B[39m\n"
     ]
    },
    {
     "data": {
      "text/plain": [
       "(6, 8000)"
      ]
     },
     "execution_count": 19,
     "metadata": {},
     "output_type": "execute_result"
    }
   ],
   "source": [
    "layer1 = Dense(13 => 6, relu)\n",
    "\n",
    "input_shape = size(X_train)\n",
    "print(input_shape)\n",
    "layer1(transpose(Matrix(X_train))) |> size"
   ]
  },
  {
   "cell_type": "markdown",
   "id": "dbbcb4b7-c25c-41e6-90ee-f826db043bb6",
   "metadata": {},
   "source": [
    "#### Adding the second hidden layer"
   ]
  },
  {
   "cell_type": "code",
   "execution_count": 20,
   "id": "9548f8de-0d4c-42cb-bc26-e1f0e4afab37",
   "metadata": {
    "pycharm": {
     "is_executing": true
    }
   },
   "outputs": [
    {
     "data": {
      "text/plain": [
       "Dense(6 => 6, relu)  \u001B[90m# 42 parameters\u001B[39m"
      ]
     },
     "execution_count": 20,
     "metadata": {},
     "output_type": "execute_result"
    }
   ],
   "source": [
    "layer2 = Dense(6 => 6, relu)"
   ]
  },
  {
   "cell_type": "markdown",
   "id": "ac704a87-4a28-484c-87fb-0503cd1509c6",
   "metadata": {},
   "source": [
    "#### Adding the output layer"
   ]
  },
  {
   "cell_type": "code",
   "execution_count": 21,
   "id": "dbffbf05-1936-4583-87d5-4cec02493052",
   "metadata": {
    "pycharm": {
     "is_executing": true
    }
   },
   "outputs": [
    {
     "data": {
      "text/plain": [
       "Dense(6 => 1)       \u001B[90m# 7 parameters\u001B[39m"
      ]
     },
     "execution_count": 21,
     "metadata": {},
     "output_type": "execute_result"
    }
   ],
   "source": [
    "output = Dense(6 => 1)"
   ]
  },
  {
   "cell_type": "markdown",
   "id": "021b8f58-8c81-48a2-b025-eb50f0460e4d",
   "metadata": {},
   "source": [
    "#### Put it together\n"
   ]
  },
  {
   "cell_type": "code",
   "execution_count": 22,
   "id": "a2439a10-0d1d-4d43-9903-538c1fe38c85",
   "metadata": {
    "pycharm": {
     "is_executing": true
    }
   },
   "outputs": [
    {
     "data": {
      "text/plain": [
       "Chain(\n",
       "  Dense(13 => 6, relu),                 \u001B[90m# 84 parameters\u001B[39m\n",
       "  Dense(6 => 6, relu),                  \u001B[90m# 42 parameters\u001B[39m\n",
       "  Dense(6 => 1),                        \u001B[90m# 7 parameters\u001B[39m\n",
       ") \u001B[90m                  # Total: 6 arrays, \u001B[39m133 parameters, 916 bytes."
      ]
     },
     "execution_count": 22,
     "metadata": {},
     "output_type": "execute_result"
    }
   ],
   "source": [
    "model = Chain(layer1, layer2, output)"
   ]
  },
  {
   "cell_type": "markdown",
   "id": "bd132ffa-a713-4ce8-907c-b3052b42cadd",
   "metadata": {},
   "source": [
    "#### Test the model before training"
   ]
  },
  {
   "cell_type": "code",
   "execution_count": 23,
   "id": "4e268dfb-4ad9-4a4b-8f35-4b3dab42e7df",
   "metadata": {
    "pycharm": {
     "is_executing": true
    }
   },
   "outputs": [
    {
     "data": {
      "text/plain": [
       "0.79875"
      ]
     },
     "execution_count": 23,
     "metadata": {},
     "output_type": "execute_result"
    }
   ],
   "source": [
    "output1 = model(transpose(Matrix(X_train)))\n",
    "\n",
    "mean((output1[1, :] .> 0.5) .== y_train)"
   ]
  },
  {
   "cell_type": "code",
   "execution_count": 24,
   "id": "bed7d96c-500c-4463-8b28-22839f06767c",
   "metadata": {
    "pycharm": {
     "is_executing": true
    },
    "tags": []
   },
   "outputs": [
    {
     "data": {
      "text/plain": [
       "(1, 8000)"
      ]
     },
     "execution_count": 24,
     "metadata": {},
     "output_type": "execute_result"
    }
   ],
   "source": [
    "size(output1)"
   ]
  },
  {
   "cell_type": "markdown",
   "id": "1fc026e2-4613-4a22-9eaa-bab2f915aad6",
   "metadata": {},
   "source": [
    "## Part 3 - Training the ANN"
   ]
  },
  {
   "cell_type": "markdown",
   "id": "73c9d757-c99b-4cd0-b0e2-71ec8cd93ba2",
   "metadata": {},
   "source": [
    "#### Load the data into a dataloader and set batchsize"
   ]
  },
  {
   "cell_type": "code",
   "execution_count": 25,
   "id": "d3c4f6d5-cd8e-459c-bd75-f07ede9523bd",
   "metadata": {
    "pycharm": {
     "is_executing": true
    }
   },
   "outputs": [
    {
     "data": {
      "text/plain": [
       "250-element DataLoader(::Tuple{LinearAlgebra.Transpose{Float64, Matrix{Float64}}, Vector{Int64}}, shuffle=true, batchsize=32)\n",
       "  with first element:\n",
       "  (13×32 Matrix{Float64}, 32-element Vector{Int64},)"
      ]
     },
     "execution_count": 25,
     "metadata": {},
     "output_type": "execute_result"
    }
   ],
   "source": [
    "loader = Flux.DataLoader((transpose(Matrix(X_train)), y_train), batchsize=32, shuffle=true)"
   ]
  },
  {
   "cell_type": "markdown",
   "id": "0c967528-cc01-429c-aad7-13f7e01be5e6",
   "metadata": {},
   "source": [
    "#### Setup Optimizer"
   ]
  },
  {
   "cell_type": "code",
   "execution_count": 26,
   "id": "7f91b7f3-ba0c-469f-97ef-71e94e572fd2",
   "metadata": {
    "pycharm": {
     "is_executing": true
    }
   },
   "outputs": [
    {
     "data": {
      "text/plain": [
       "(layers = ((weight = \u001B[32mLeaf(Adam{Float64}(0.01, (0.9, 0.999), 1.0e-8), \u001B[39m(Float32[0.0 0.0 … 0.0 0.0; 0.0 0.0 … 0.0 0.0; … ; 0.0 0.0 … 0.0 0.0; 0.0 0.0 … 0.0 0.0], Float32[0.0 0.0 … 0.0 0.0; 0.0 0.0 … 0.0 0.0; … ; 0.0 0.0 … 0.0 0.0; 0.0 0.0 … 0.0 0.0], (0.9, 0.999))\u001B[32m)\u001B[39m, bias = \u001B[32mLeaf(Adam{Float64}(0.01, (0.9, 0.999), 1.0e-8), \u001B[39m(Float32[0.0, 0.0, 0.0, 0.0, 0.0, 0.0], Float32[0.0, 0.0, 0.0, 0.0, 0.0, 0.0], (0.9, 0.999))\u001B[32m)\u001B[39m, σ = ()), (weight = \u001B[32mLeaf(Adam{Float64}(0.01, (0.9, 0.999), 1.0e-8), \u001B[39m(Float32[0.0 0.0 … 0.0 0.0; 0.0 0.0 … 0.0 0.0; … ; 0.0 0.0 … 0.0 0.0; 0.0 0.0 … 0.0 0.0], Float32[0.0 0.0 … 0.0 0.0; 0.0 0.0 … 0.0 0.0; … ; 0.0 0.0 … 0.0 0.0; 0.0 0.0 … 0.0 0.0], (0.9, 0.999))\u001B[32m)\u001B[39m, bias = \u001B[32mLeaf(Adam{Float64}(0.01, (0.9, 0.999), 1.0e-8), \u001B[39m(Float32[0.0, 0.0, 0.0, 0.0, 0.0, 0.0], Float32[0.0, 0.0, 0.0, 0.0, 0.0, 0.0], (0.9, 0.999))\u001B[32m)\u001B[39m, σ = ()), (weight = \u001B[32mLeaf(Adam{Float64}(0.01, (0.9, 0.999), 1.0e-8), \u001B[39m(Float32[0.0 0.0 … 0.0 0.0], Float32[0.0 0.0 … 0.0 0.0], (0.9, 0.999))\u001B[32m)\u001B[39m, bias = \u001B[32mLeaf(Adam{Float64}(0.01, (0.9, 0.999), 1.0e-8), \u001B[39m(Float32[0.0], Float32[0.0], (0.9, 0.999))\u001B[32m)\u001B[39m, σ = ())),)"
      ]
     },
     "execution_count": 26,
     "metadata": {},
     "output_type": "execute_result"
    }
   ],
   "source": [
    "optimizer = Flux.setup(Flux.Adam(0.01), model)"
   ]
  },
  {
   "cell_type": "code",
   "execution_count": 27,
   "id": "78c0129e-002d-4437-a6df-badc14e46099",
   "metadata": {
    "pycharm": {
     "is_executing": true
    }
   },
   "outputs": [
    {
     "data": {
      "text/plain": [
       "loss (generic function with 1 method)"
      ]
     },
     "execution_count": 27,
     "metadata": {},
     "output_type": "execute_result"
    }
   ],
   "source": [
    "loss(m, x, y) = Flux.logitbinarycrossentropy(transpose(m(x)), y)"
   ]
  },
  {
   "cell_type": "markdown",
   "id": "8887ed57-5b92-4233-899d-69496884fb30",
   "metadata": {},
   "source": [
    "#### Training the ANN on the Training set"
   ]
  },
  {
   "cell_type": "code",
   "execution_count": 28,
   "id": "401880a0-14e6-46c2-94bd-0e92e7f40240",
   "metadata": {
    "pycharm": {
     "is_executing": true
    }
   },
   "outputs": [
    {
     "data": {
      "text/plain": [
       "(layers = ((weight = \u001B[32mLeaf(Adam{Float64}(0.01, (0.9, 0.999), 1.0e-8), \u001B[39m(Float32[-0.000253863 -0.00160249 … -0.000284484 -0.00185444; -0.00589272 9.15043f-5 … -0.0030733 -0.00649132; … ; 0.00227992 -0.00180385 … 0.000186809 -0.000585455; -0.00091484 0.00152096 … -0.00290088 -0.00377456], Float32[0.0015654 0.000651124 … 0.000705587 0.00159205; 0.00100588 0.000490875 … 0.00073384 0.000969348; … ; 0.00172569 0.000729717 … 0.000797649 0.00171054; 0.000745192 0.000346567 … 0.000497527 0.000651607], (3.6351e-115, 0.0819004))\u001B[32m)\u001B[39m, bias = \u001B[32mLeaf(Adam{Float64}(0.01, (0.9, 0.999), 1.0e-8), \u001B[39m(Float32[0.000304521, -0.000861429, 0.00220994, 0.00031512, 0.0012779, -0.00159603], Float32[0.00186134, 0.0011086, 0.0018676, 0.000118385, 0.00200784, 0.000780116], (3.6351e-115, 0.0819004))\u001B[32m)\u001B[39m, σ = ()), (weight = \u001B[32mLeaf(Adam{Float64}(0.01, (0.9, 0.999), 1.0e-8), \u001B[39m(Float32[0.000418912 -0.0200032 … -0.000546503 -0.000778983; 0.00258837 -0.000759717 … 0.00274983 -0.000701728; … ; 0.0116277 -0.00439686 … 0.0121247 -0.00406676; 6.0f-45 6.0f-45 … 6.0f-45 6.0f-45], Float32[1.59084f-5 0.002852 … 6.5938f-5 0.0011622; 0.000314787 0.000471921 … 0.000349093 0.000254305; … ; 0.00445666 0.0063862 … 0.00516369 0.00337234; 6.15624f-6 8.51311f-7 … 4.99378f-7 3.24592f-8], (3.6351e-115, 0.0819004))\u001B[32m)\u001B[39m, bias = \u001B[32mLeaf(Adam{Float64}(0.01, (0.9, 0.999), 1.0e-8), \u001B[39m(Float32[-0.00545535, -3.08337f-5, 0.00342697, 0.00597364, -0.000611776, 6.0f-45], Float32[0.000331622, 0.000147618, 0.000498739, 0.00178198, 0.00187075, 2.73039f-6], (3.6351e-115, 0.0819004))\u001B[32m)\u001B[39m, σ = ()), (weight = \u001B[32mLeaf(Adam{Float64}(0.01, (0.9, 0.999), 1.0e-8), \u001B[39m(Float32[0.00838012 -0.00506579 … -0.0232332 6.0f-45], Float32[0.00043213 0.00912177 … 0.0342773 6.40164f-7], (3.6351e-115, 0.0819004))\u001B[32m)\u001B[39m, bias = \u001B[32mLeaf(Adam{Float64}(0.01, (0.9, 0.999), 1.0e-8), \u001B[39m(Float32[-0.000511299], Float32[0.00350066], (3.6351e-115, 0.0819004))\u001B[32m)\u001B[39m, σ = ())),)"
      ]
     },
     "execution_count": 28,
     "metadata": {},
     "output_type": "execute_result"
    }
   ],
   "source": [
    "number_epochs = 10\n",
    "\n",
    "for epoch in 1:number_epochs\n",
    "    Flux.train!(loss, model, loader, optimizer)\n",
    "end\n",
    "\n",
    "optimizer"
   ]
  },
  {
   "cell_type": "code",
   "execution_count": 29,
   "id": "2ef2f6b4-21d0-490b-979e-824bcf3b4786",
   "metadata": {
    "pycharm": {
     "is_executing": true
    }
   },
   "outputs": [
    {
     "data": {
      "text/plain": [
       "0.863875"
      ]
     },
     "execution_count": 29,
     "metadata": {},
     "output_type": "execute_result"
    }
   ],
   "source": [
    "output2 = model(transpose(Matrix(X_train)))\n",
    "\n",
    "mean((output2[1, :] .> 0.5) .== y_train)"
   ]
  },
  {
   "cell_type": "markdown",
   "id": "23c40c94-ebd9-40cb-9cce-0127d98ea953",
   "metadata": {},
   "source": [
    "## Part 4 - Making the predictions and evaluating the model"
   ]
  },
  {
   "cell_type": "markdown",
   "id": "34b6a6e8-b520-4f82-b312-df2e840746e4",
   "metadata": {},
   "source": [
    "#### Homework\n",
    "\n",
    "- Geography: France\n",
    "- Credit Score: 600\n",
    "- Gender: Male\n",
    "- Age: 40\n",
    "- Tenure: 3 years\n",
    "- Balance: $60000\n",
    "- Number of Products: 2\n",
    "\n",
    "- Have a credit card?: Yes\n",
    "\n",
    "- Active Member?: Yes\n",
    "\n",
    "- Estimated Salary: $500000\n"
   ]
  },
  {
   "cell_type": "code",
   "execution_count": 30,
   "id": "84d753d3-8ce8-4b37-bbec-6c7dc4f575e2",
   "metadata": {
    "pycharm": {
     "is_executing": true
    },
    "tags": []
   },
   "outputs": [
    {
     "data": {
      "text/plain": [
       "13-element Vector{String}:\n",
       " \"CreditScore\"\n",
       " \"Geography__France\"\n",
       " \"Geography__Germany\"\n",
       " \"Geography__Spain\"\n",
       " \"Gender__Female\"\n",
       " \"Gender__Male\"\n",
       " \"Age\"\n",
       " \"Tenure\"\n",
       " \"Balance\"\n",
       " \"NumOfProducts\"\n",
       " \"HasCrCard\"\n",
       " \"IsActiveMember\"\n",
       " \"EstimatedSalary\""
      ]
     },
     "execution_count": 30,
     "metadata": {},
     "output_type": "execute_result"
    }
   ],
   "source": [
    "names(X)"
   ]
  },
  {
   "cell_type": "code",
   "execution_count": 31,
   "id": "c2564b44-2d56-42c4-ac16-3b3cf40d89ec",
   "metadata": {
    "pycharm": {
     "is_executing": true
    },
    "tags": []
   },
   "outputs": [
    {
     "data": {
      "text/html": [
       "<div><div style = \"float: left;\"><span>1×13 DataFrame</span></div><div style = \"clear: both;\"></div></div><div class = \"data-frame\" style = \"overflow-x: scroll;\"><table class = \"data-frame\" style = \"margin-bottom: 6px;\"><thead><tr class = \"header\"><th class = \"rowNumber\" style = \"font-weight: bold; text-align: right;\">Row</th><th style = \"text-align: left;\">CreditScore</th><th style = \"text-align: left;\">Geography__France</th><th style = \"text-align: left;\">Geography__Germany</th><th style = \"text-align: left;\">Geography__Spain</th><th style = \"text-align: left;\">Gender__Female</th><th style = \"text-align: left;\">Gender__Male</th><th style = \"text-align: left;\">Age</th><th style = \"text-align: left;\">Tenure</th><th style = \"text-align: left;\">Balance</th><th style = \"text-align: left;\">NumOfProducts</th><th style = \"text-align: left;\">HasCrCard</th><th style = \"text-align: left;\">IsActiveMember</th><th style = \"text-align: left;\">EstimatedSalary</th></tr><tr class = \"subheader headerLastRow\"><th class = \"rowNumber\" style = \"font-weight: bold; text-align: right;\"></th><th title = \"Int64\" style = \"text-align: left;\">Int64</th><th title = \"CategoricalArrays.CategoricalValue{Int64, UInt32}\" style = \"text-align: left;\">Cat…</th><th title = \"CategoricalArrays.CategoricalValue{Int64, UInt32}\" style = \"text-align: left;\">Cat…</th><th title = \"CategoricalArrays.CategoricalValue{Int64, UInt32}\" style = \"text-align: left;\">Cat…</th><th title = \"CategoricalArrays.CategoricalValue{Int64, UInt32}\" style = \"text-align: left;\">Cat…</th><th title = \"CategoricalArrays.CategoricalValue{Int64, UInt32}\" style = \"text-align: left;\">Cat…</th><th title = \"Int64\" style = \"text-align: left;\">Int64</th><th title = \"Int64\" style = \"text-align: left;\">Int64</th><th title = \"Int64\" style = \"text-align: left;\">Int64</th><th title = \"Int64\" style = \"text-align: left;\">Int64</th><th title = \"CategoricalArrays.CategoricalValue{Int64, UInt32}\" style = \"text-align: left;\">Cat…</th><th title = \"CategoricalArrays.CategoricalValue{Int64, UInt32}\" style = \"text-align: left;\">Cat…</th><th title = \"Int64\" style = \"text-align: left;\">Int64</th></tr></thead><tbody><tr><td class = \"rowNumber\" style = \"font-weight: bold; text-align: right;\">1</td><td style = \"text-align: right;\">600</td><td style = \"text-align: left;\">1</td><td style = \"text-align: left;\">0</td><td style = \"text-align: left;\">0</td><td style = \"text-align: left;\">0</td><td style = \"text-align: left;\">1</td><td style = \"text-align: right;\">40</td><td style = \"text-align: right;\">3</td><td style = \"text-align: right;\">60000</td><td style = \"text-align: right;\">2</td><td style = \"text-align: left;\">1</td><td style = \"text-align: left;\">1</td><td style = \"text-align: right;\">50000</td></tr></tbody></table></div>"
      ],
      "text/latex": [
       "\\begin{tabular}{r|cccccc}\n",
       "\t& CreditScore & Geography\\_\\_France & Geography\\_\\_Germany & Geography\\_\\_Spain & Gender\\_\\_Female & \\\\\n",
       "\t\\hline\n",
       "\t& Int64 & Cat… & Cat… & Cat… & Cat… & \\\\\n",
       "\t\\hline\n",
       "\t1 & 600 & 1 & 0 & 0 & 0 & $\\dots$ \\\\\n",
       "\\end{tabular}\n"
      ],
      "text/plain": [
       "\u001B[1m1×13 DataFrame\u001B[0m\n",
       "\u001B[1m Row \u001B[0m│\u001B[1m CreditScore \u001B[0m\u001B[1m Geography__France \u001B[0m\u001B[1m Geography__Germany \u001B[0m\u001B[1m Geography__Spain  \u001B[0m\u001B[1m \u001B[0m ⋯\n",
       "     │\u001B[90m Int64       \u001B[0m\u001B[90m CategoricalValue… \u001B[0m\u001B[90m CategoricalValue…  \u001B[0m\u001B[90m CategoricalValue… \u001B[0m\u001B[90m \u001B[0m ⋯\n",
       "─────┼──────────────────────────────────────────────────────────────────────────\n",
       "   1 │         600  1                  0                   0                   ⋯\n",
       "\u001B[36m                                                               9 columns omitted\u001B[0m"
      ]
     },
     "execution_count": 31,
     "metadata": {},
     "output_type": "execute_result"
    }
   ],
   "source": [
    "single_data = DataFrame(CreditScore = [600],\n",
    "    Geography__France = [1],\n",
    "    Geography__Germany = [0],\n",
    "    Geography__Spain = [0],\n",
    "    Gender__Female = [0],\n",
    "    Gender__Male = [1],\n",
    "    Age = [40], \n",
    "    Tenure = [3], \n",
    "    Balance = [60000],\n",
    "    NumOfProducts = [2],\n",
    "    HasCrCard = [1],\n",
    "    IsActiveMember = [1],\n",
    "    EstimatedSalary = [50000])\n",
    "\n",
    "single_data = coerce(single_data,\n",
    "    :Geography__France => OrderedFactor,\n",
    "    :Geography__Germany => OrderedFactor,\n",
    "    :Geography__Spain => OrderedFactor,\n",
    "    :Gender__Female => OrderedFactor,\n",
    "    :Gender__Male => OrderedFactor,\n",
    "    :HasCrCard => OrderedFactor,\n",
    "    :IsActiveMember => OrderedFactor)"
   ]
  },
  {
   "cell_type": "code",
   "execution_count": 32,
   "id": "c8be2fb5-612c-4388-a1de-66dbbb5164f5",
   "metadata": {
    "pycharm": {
     "is_executing": true
    },
    "tags": []
   },
   "outputs": [
    {
     "data": {
      "text/html": [
       "<div><div style = \"float: left;\"><span>1×13 DataFrame</span></div><div style = \"clear: both;\"></div></div><div class = \"data-frame\" style = \"overflow-x: scroll;\"><table class = \"data-frame\" style = \"margin-bottom: 6px;\"><thead><tr class = \"header\"><th class = \"rowNumber\" style = \"font-weight: bold; text-align: right;\">Row</th><th style = \"text-align: left;\">CreditScore</th><th style = \"text-align: left;\">Geography__France</th><th style = \"text-align: left;\">Geography__Germany</th><th style = \"text-align: left;\">Geography__Spain</th><th style = \"text-align: left;\">Gender__Female</th><th style = \"text-align: left;\">Gender__Male</th><th style = \"text-align: left;\">Age</th><th style = \"text-align: left;\">Tenure</th><th style = \"text-align: left;\">Balance</th><th style = \"text-align: left;\">NumOfProducts</th><th style = \"text-align: left;\">HasCrCard</th><th style = \"text-align: left;\">IsActiveMember</th><th style = \"text-align: left;\">EstimatedSalary</th></tr><tr class = \"subheader headerLastRow\"><th class = \"rowNumber\" style = \"font-weight: bold; text-align: right;\"></th><th title = \"Float64\" style = \"text-align: left;\">Float64</th><th title = \"CategoricalArrays.CategoricalValue{Int64, UInt32}\" style = \"text-align: left;\">Cat…</th><th title = \"CategoricalArrays.CategoricalValue{Int64, UInt32}\" style = \"text-align: left;\">Cat…</th><th title = \"CategoricalArrays.CategoricalValue{Int64, UInt32}\" style = \"text-align: left;\">Cat…</th><th title = \"CategoricalArrays.CategoricalValue{Int64, UInt32}\" style = \"text-align: left;\">Cat…</th><th title = \"CategoricalArrays.CategoricalValue{Int64, UInt32}\" style = \"text-align: left;\">Cat…</th><th title = \"Float64\" style = \"text-align: left;\">Float64</th><th title = \"Float64\" style = \"text-align: left;\">Float64</th><th title = \"Float64\" style = \"text-align: left;\">Float64</th><th title = \"Float64\" style = \"text-align: left;\">Float64</th><th title = \"CategoricalArrays.CategoricalValue{Int64, UInt32}\" style = \"text-align: left;\">Cat…</th><th title = \"CategoricalArrays.CategoricalValue{Int64, UInt32}\" style = \"text-align: left;\">Cat…</th><th title = \"Float64\" style = \"text-align: left;\">Float64</th></tr></thead><tbody><tr><td class = \"rowNumber\" style = \"font-weight: bold; text-align: right;\">1</td><td style = \"text-align: right;\">-0.522784</td><td style = \"text-align: left;\">1</td><td style = \"text-align: left;\">0</td><td style = \"text-align: left;\">0</td><td style = \"text-align: left;\">0</td><td style = \"text-align: left;\">1</td><td style = \"text-align: right;\">0.102805</td><td style = \"text-align: right;\">-0.695947</td><td style = \"text-align: right;\">-0.264208</td><td style = \"text-align: right;\">0.807696</td><td style = \"text-align: left;\">1</td><td style = \"text-align: left;\">1</td><td style = \"text-align: right;\">-0.870976</td></tr></tbody></table></div>"
      ],
      "text/latex": [
       "\\begin{tabular}{r|cccccc}\n",
       "\t& CreditScore & Geography\\_\\_France & Geography\\_\\_Germany & Geography\\_\\_Spain & Gender\\_\\_Female & \\\\\n",
       "\t\\hline\n",
       "\t& Float64 & Cat… & Cat… & Cat… & Cat… & \\\\\n",
       "\t\\hline\n",
       "\t1 & -0.522784 & 1 & 0 & 0 & 0 & $\\dots$ \\\\\n",
       "\\end{tabular}\n"
      ],
      "text/plain": [
       "\u001B[1m1×13 DataFrame\u001B[0m\n",
       "\u001B[1m Row \u001B[0m│\u001B[1m CreditScore \u001B[0m\u001B[1m Geography__France \u001B[0m\u001B[1m Geography__Germany \u001B[0m\u001B[1m Geography__Spain  \u001B[0m\u001B[1m \u001B[0m ⋯\n",
       "     │\u001B[90m Float64     \u001B[0m\u001B[90m CategoricalValue… \u001B[0m\u001B[90m CategoricalValue…  \u001B[0m\u001B[90m CategoricalValue… \u001B[0m\u001B[90m \u001B[0m ⋯\n",
       "─────┼──────────────────────────────────────────────────────────────────────────\n",
       "   1 │   -0.522784  1                  0                   0                   ⋯\n",
       "\u001B[36m                                                               9 columns omitted\u001B[0m"
      ]
     },
     "execution_count": 32,
     "metadata": {},
     "output_type": "execute_result"
    }
   ],
   "source": [
    "standard_data = MLJ.transform(standardizer_machine, single_data)"
   ]
  },
  {
   "cell_type": "code",
   "execution_count": 33,
   "id": "b6088dc1-2132-47ca-bf40-6ba6bc8f7c2e",
   "metadata": {
    "pycharm": {
     "is_executing": true
    },
    "tags": []
   },
   "outputs": [
    {
     "data": {
      "text/plain": [
       "1×1 BitMatrix:\n",
       " 0"
      ]
     },
     "execution_count": 33,
     "metadata": {},
     "output_type": "execute_result"
    }
   ],
   "source": [
    "single_prediction = model(transpose(Matrix(standard_data))) .> 0.5"
   ]
  },
  {
   "cell_type": "markdown",
   "id": "084a876b-6915-409d-ba65-8dcea8aae28b",
   "metadata": {},
   "source": [
    "#### Determine accuracy of the test set. "
   ]
  },
  {
   "cell_type": "code",
   "execution_count": 34,
   "id": "0e542dd7-9c3f-4574-a9f5-f23e36b67c34",
   "metadata": {
    "pycharm": {
     "is_executing": true
    }
   },
   "outputs": [
    {
     "data": {
      "text/plain": [
       "1×2000 Matrix{Float32}:\n",
       " 0.917261  -2.5695  0.143176  -3.15462  …  -1.07569  -1.79366  -4.87876"
      ]
     },
     "execution_count": 34,
     "metadata": {},
     "output_type": "execute_result"
    }
   ],
   "source": [
    "test_output = model(transpose(Matrix(X_test)))"
   ]
  },
  {
   "cell_type": "code",
   "execution_count": 35,
   "id": "878c2e91-54bb-4830-b2fa-5cc178a6fe94",
   "metadata": {
    "pycharm": {
     "is_executing": true
    },
    "tags": []
   },
   "outputs": [
    {
     "data": {
      "text/plain": [
       "              ┌───────────────────────────┐\n",
       "              │       Ground Truth        │\n",
       "┌─────────────┼─────────────┬─────────────┤\n",
       "│  Predicted  │      0      │      1      │\n",
       "├─────────────┼─────────────┼─────────────┤\n",
       "│      0      │    1535     │     253     │\n",
       "├─────────────┼─────────────┼─────────────┤\n",
       "│      1      │     33      │     179     │\n",
       "└─────────────┴─────────────┴─────────────┘\n"
      ]
     },
     "execution_count": 35,
     "metadata": {},
     "output_type": "execute_result"
    }
   ],
   "source": [
    "ConfusionMatrix()(test_output[1, :] .> 0.5, coerce(y_test, OrderedFactor))"
   ]
  },
  {
   "cell_type": "code",
   "execution_count": 36,
   "id": "9e4ad67a-d6e1-489d-a0e2-aaa536009f10",
   "metadata": {
    "pycharm": {
     "is_executing": true
    },
    "tags": []
   },
   "outputs": [
    {
     "data": {
      "text/plain": [
       "0.857"
      ]
     },
     "execution_count": 36,
     "metadata": {},
     "output_type": "execute_result"
    }
   ],
   "source": [
    "mean((test_output[1, :] .> 0.5) .== y_test)"
   ]
  },
  {
   "cell_type": "code",
   "execution_count": 37,
   "id": "e7d9c122-367f-41fc-8d2f-beae4cc69605",
   "metadata": {
    "pycharm": {
     "is_executing": true
    },
    "tags": []
   },
   "outputs": [
    {
     "ename": "LoadError",
     "evalue": "UndefVarError: tst not defined",
     "output_type": "error",
     "traceback": [
      "UndefVarError: tst not defined",
      ""
     ]
    }
   ],
   "source": []
  },
  {
   "cell_type": "code",
   "execution_count": null,
   "id": "42a959b9-adc1-4743-8c52-a3c6cbd02202",
   "metadata": {
    "pycharm": {
     "is_executing": true
    }
   },
   "outputs": [],
   "source": []
  }
 ],
 "metadata": {
  "kernelspec": {
   "display_name": "Julia 1.8.5",
   "language": "julia",
   "name": "julia-1.8"
  },
  "language_info": {
   "file_extension": ".jl",
   "mimetype": "application/julia",
   "name": "julia",
   "version": "1.8.5"
  }
 },
 "nbformat": 4,
 "nbformat_minor": 5
}

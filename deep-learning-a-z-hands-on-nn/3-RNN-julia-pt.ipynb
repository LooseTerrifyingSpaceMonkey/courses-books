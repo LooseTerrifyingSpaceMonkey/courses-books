{
 "cells": [
  {
   "cell_type": "code",
   "execution_count": 1,
   "id": "c46a7dda-30e6-4101-92c5-ef2fcfbad8f3",
   "metadata": {
    "tags": []
   },
   "outputs": [
    {
     "name": "stderr",
     "output_type": "stream",
     "text": [
      "\u001b[32m\u001b[1m    Updating\u001b[22m\u001b[39m registry at `/opt/julia/registries/General.toml`\n",
      "\u001b[32m\u001b[1m   Resolving\u001b[22m\u001b[39m package versions...\n",
      "\u001b[32m\u001b[1m   Installed\u001b[22m\u001b[39m TableTraits ───────────────── v1.0.1\n",
      "\u001b[32m\u001b[1m   Installed\u001b[22m\u001b[39m SentinelArrays ────────────── v1.3.18\n",
      "\u001b[32m\u001b[1m   Installed\u001b[22m\u001b[39m Tables ────────────────────── v1.10.1\n",
      "\u001b[32m\u001b[1m   Installed\u001b[22m\u001b[39m DataAPI ───────────────────── v1.14.0\n",
      "\u001b[32m\u001b[1m   Installed\u001b[22m\u001b[39m PooledArrays ──────────────── v1.4.2\n",
      "\u001b[32m\u001b[1m   Installed\u001b[22m\u001b[39m InlineStrings ─────────────── v1.4.0\n",
      "\u001b[32m\u001b[1m   Installed\u001b[22m\u001b[39m Crayons ───────────────────── v4.1.1\n",
      "\u001b[32m\u001b[1m   Installed\u001b[22m\u001b[39m IteratorInterfaceExtensions ─ v1.0.0\n",
      "\u001b[32m\u001b[1m   Installed\u001b[22m\u001b[39m DataValueInterfaces ───────── v1.0.0\n",
      "\u001b[32m\u001b[1m   Installed\u001b[22m\u001b[39m LaTeXStrings ──────────────── v1.3.0\n",
      "\u001b[32m\u001b[1m   Installed\u001b[22m\u001b[39m InvertedIndices ───────────── v1.3.0\n",
      "\u001b[32m\u001b[1m   Installed\u001b[22m\u001b[39m Reexport ──────────────────── v1.2.2\n",
      "\u001b[32m\u001b[1m   Installed\u001b[22m\u001b[39m OrderedCollections ────────── v1.6.0\n",
      "\u001b[32m\u001b[1m   Installed\u001b[22m\u001b[39m PrettyTables ──────────────── v2.2.3\n",
      "\u001b[32m\u001b[1m   Installed\u001b[22m\u001b[39m DataFrames ────────────────── v1.5.0\n",
      "\u001b[32m\u001b[1m   Installed\u001b[22m\u001b[39m Missings ──────────────────── v1.1.0\n",
      "\u001b[32m\u001b[1m   Installed\u001b[22m\u001b[39m SortingAlgorithms ─────────── v1.1.0\n",
      "\u001b[32m\u001b[1m   Installed\u001b[22m\u001b[39m StringManipulation ────────── v0.3.0\n",
      "\u001b[32m\u001b[1m   Installed\u001b[22m\u001b[39m DataStructures ────────────── v0.18.13\n",
      "\u001b[32m\u001b[1m   Installed\u001b[22m\u001b[39m Formatting ────────────────── v0.4.2\n",
      "\u001b[32m\u001b[1m    Updating\u001b[22m\u001b[39m `/opt/julia/environments/v1.8/Project.toml`\n",
      " \u001b[90m [a93c6f00] \u001b[39m\u001b[92m+ DataFrames v1.5.0\u001b[39m\n",
      "\u001b[32m\u001b[1m    Updating\u001b[22m\u001b[39m `/opt/julia/environments/v1.8/Manifest.toml`\n",
      " \u001b[90m [a8cc5b0e] \u001b[39m\u001b[92m+ Crayons v4.1.1\u001b[39m\n",
      " \u001b[90m [9a962f9c] \u001b[39m\u001b[92m+ DataAPI v1.14.0\u001b[39m\n",
      " \u001b[90m [a93c6f00] \u001b[39m\u001b[92m+ DataFrames v1.5.0\u001b[39m\n",
      " \u001b[90m [864edb3b] \u001b[39m\u001b[92m+ DataStructures v0.18.13\u001b[39m\n",
      " \u001b[90m [e2d170a0] \u001b[39m\u001b[92m+ DataValueInterfaces v1.0.0\u001b[39m\n",
      " \u001b[90m [59287772] \u001b[39m\u001b[92m+ Formatting v0.4.2\u001b[39m\n",
      " \u001b[90m [842dd82b] \u001b[39m\u001b[92m+ InlineStrings v1.4.0\u001b[39m\n",
      " \u001b[90m [41ab1584] \u001b[39m\u001b[92m+ InvertedIndices v1.3.0\u001b[39m\n",
      " \u001b[90m [82899510] \u001b[39m\u001b[92m+ IteratorInterfaceExtensions v1.0.0\u001b[39m\n",
      " \u001b[90m [b964fa9f] \u001b[39m\u001b[92m+ LaTeXStrings v1.3.0\u001b[39m\n",
      " \u001b[90m [e1d29d7a] \u001b[39m\u001b[92m+ Missings v1.1.0\u001b[39m\n",
      " \u001b[90m [bac558e1] \u001b[39m\u001b[92m+ OrderedCollections v1.6.0\u001b[39m\n",
      " \u001b[90m [2dfb63ee] \u001b[39m\u001b[92m+ PooledArrays v1.4.2\u001b[39m\n",
      " \u001b[90m [08abe8d2] \u001b[39m\u001b[92m+ PrettyTables v2.2.3\u001b[39m\n",
      " \u001b[90m [189a3867] \u001b[39m\u001b[92m+ Reexport v1.2.2\u001b[39m\n",
      " \u001b[90m [91c51154] \u001b[39m\u001b[92m+ SentinelArrays v1.3.18\u001b[39m\n",
      " \u001b[90m [a2af1166] \u001b[39m\u001b[92m+ SortingAlgorithms v1.1.0\u001b[39m\n",
      " \u001b[90m [892a3eda] \u001b[39m\u001b[92m+ StringManipulation v0.3.0\u001b[39m\n",
      " \u001b[90m [3783bdb8] \u001b[39m\u001b[92m+ TableTraits v1.0.1\u001b[39m\n",
      " \u001b[90m [bd369af6] \u001b[39m\u001b[92m+ Tables v1.10.1\u001b[39m\n",
      " \u001b[90m [9fa8497b] \u001b[39m\u001b[92m+ Future\u001b[39m\n",
      " \u001b[90m [2f01184e] \u001b[39m\u001b[92m+ SparseArrays\u001b[39m\n",
      " \u001b[90m [10745b16] \u001b[39m\u001b[92m+ Statistics\u001b[39m\n",
      "\u001b[32m\u001b[1mPrecompiling\u001b[22m\u001b[39m project...\n",
      "\u001b[32m  ✓ \u001b[39m\u001b[90mIteratorInterfaceExtensions\u001b[39m\n",
      "\u001b[32m  ✓ \u001b[39m\u001b[90mDataValueInterfaces\u001b[39m\n",
      "\u001b[32m  ✓ \u001b[39m\u001b[90mReexport\u001b[39m\n",
      "\u001b[32m  ✓ \u001b[39m\u001b[90mInvertedIndices\u001b[39m\n",
      "\u001b[32m  ✓ \u001b[39m\u001b[90mDataAPI\u001b[39m\n",
      "\u001b[32m  ✓ \u001b[39m\u001b[90mLaTeXStrings\u001b[39m\n",
      "\u001b[32m  ✓ \u001b[39m\u001b[90mOrderedCollections\u001b[39m\n",
      "\u001b[32m  ✓ \u001b[39m\u001b[90mTableTraits\u001b[39m\n",
      "\u001b[32m  ✓ \u001b[39m\u001b[90mFormatting\u001b[39m\n",
      "\u001b[32m  ✓ \u001b[39m\u001b[90mMissings\u001b[39m\n",
      "\u001b[32m  ✓ \u001b[39m\u001b[90mPooledArrays\u001b[39m\n",
      "\u001b[32m  ✓ \u001b[39m\u001b[90mSentinelArrays\u001b[39m\n",
      "\u001b[32m  ✓ \u001b[39m\u001b[90mCrayons\u001b[39m\n",
      "\u001b[32m  ✓ \u001b[39m\u001b[90mTables\u001b[39m\n",
      "\u001b[32m  ✓ \u001b[39m\u001b[90mStringManipulation\u001b[39m\n",
      "\u001b[32m  ✓ \u001b[39m\u001b[90mInlineStrings\u001b[39m\n",
      "\u001b[32m  ✓ \u001b[39m\u001b[90mDataStructures\u001b[39m\n",
      "\u001b[32m  ✓ \u001b[39m\u001b[90mSortingAlgorithms\u001b[39m\n",
      "\u001b[32m  ✓ \u001b[39m\u001b[90mPrettyTables\u001b[39m\n",
      "\u001b[32m  ✓ \u001b[39mDataFrames\n",
      "  20 dependencies successfully precompiled in 48 seconds. 24 already precompiled.\n",
      "\u001b[32m\u001b[1m   Resolving\u001b[22m\u001b[39m package versions...\n",
      "\u001b[32m\u001b[1m   Installed\u001b[22m\u001b[39m RealDot ──────────────── v0.1.0\n",
      "\u001b[32m\u001b[1m   Installed\u001b[22m\u001b[39m GPUArraysCore ────────── v0.1.4\n",
      "\u001b[32m\u001b[1m   Installed\u001b[22m\u001b[39m Scratch ──────────────── v1.2.0\n",
      "\u001b[32m\u001b[1m   Installed\u001b[22m\u001b[39m DiffRules ────────────── v1.13.0\n",
      "\u001b[32m\u001b[1m   Installed\u001b[22m\u001b[39m IRTools ──────────────── v0.4.9\n",
      "\u001b[32m\u001b[1m   Installed\u001b[22m\u001b[39m Adapt ────────────────── v3.6.1\n",
      "\u001b[32m\u001b[1m   Installed\u001b[22m\u001b[39m ContextVariablesX ────── v0.1.3\n",
      "\u001b[32m\u001b[1m   Installed\u001b[22m\u001b[39m Functors ─────────────── v0.4.4\n",
      "\u001b[32m\u001b[1m   Installed\u001b[22m\u001b[39m ShowCases ────────────── v0.1.0\n",
      "\u001b[32m\u001b[1m   Installed\u001b[22m\u001b[39m Transducers ──────────── v0.4.75\n",
      "\u001b[32m\u001b[1m   Installed\u001b[22m\u001b[39m cuDNN ────────────────── v1.0.2\n",
      "\u001b[32m\u001b[1m   Installed\u001b[22m\u001b[39m ArgCheck ─────────────── v2.3.0\n",
      "\u001b[32m\u001b[1m   Installed\u001b[22m\u001b[39m FLoopsBase ───────────── v0.1.1\n",
      "\u001b[32m\u001b[1m   Installed\u001b[22m\u001b[39m DiffResults ──────────── v1.1.0\n",
      "\u001b[32m\u001b[1m   Installed\u001b[22m\u001b[39m Flux ─────────────────── v0.13.14\n",
      "\u001b[32m\u001b[1m   Installed\u001b[22m\u001b[39m IrrationalConstants ──── v0.2.2\n",
      "\u001b[32m\u001b[1m   Installed\u001b[22m\u001b[39m Accessors ────────────── v0.1.28\n",
      "\u001b[32m\u001b[1m   Installed\u001b[22m\u001b[39m NNlib ────────────────── v0.8.19\n",
      "\u001b[32m\u001b[1m   Installed\u001b[22m\u001b[39m CUDA_Driver_jll ──────── v0.5.0+1\n",
      "\u001b[32m\u001b[1m   Installed\u001b[22m\u001b[39m GPUCompiler ──────────── v0.19.0\n",
      "\u001b[32m\u001b[1m   Installed\u001b[22m\u001b[39m NNlibCUDA ────────────── v0.2.7\n",
      "\u001b[32m\u001b[1m   Installed\u001b[22m\u001b[39m ProgressLogging ──────── v0.1.4\n",
      "\u001b[32m\u001b[1m   Installed\u001b[22m\u001b[39m FoldsThreads ─────────── v0.1.1\n",
      "\u001b[32m\u001b[1m   Installed\u001b[22m\u001b[39m SpecialFunctions ─────── v2.2.0\n",
      "\u001b[32m\u001b[1m   Installed\u001b[22m\u001b[39m Setfield ─────────────── v1.1.1\n",
      "\u001b[32m\u001b[1m   Installed\u001b[22m\u001b[39m TimerOutputs ─────────── v0.5.22\n",
      "\u001b[32m\u001b[1m   Installed\u001b[22m\u001b[39m Zygote ───────────────── v0.6.60\n",
      "\u001b[32m\u001b[1m   Installed\u001b[22m\u001b[39m Baselet ──────────────── v0.1.1\n",
      "\u001b[32m\u001b[1m   Installed\u001b[22m\u001b[39m StaticArraysCore ─────── v1.4.0\n",
      "\u001b[32m\u001b[1m   Installed\u001b[22m\u001b[39m AbstractFFTs ─────────── v1.3.1\n",
      "\u001b[32m\u001b[1m   Installed\u001b[22m\u001b[39m NaNMath ──────────────── v1.0.2\n",
      "\u001b[32m\u001b[1m   Installed\u001b[22m\u001b[39m OneHotArrays ─────────── v0.2.3\n",
      "\u001b[32m\u001b[1m   Installed\u001b[22m\u001b[39m Optimisers ───────────── v0.2.17\n",
      "\u001b[32m\u001b[1m   Installed\u001b[22m\u001b[39m ConstructionBase ─────── v1.5.1\n",
      "\u001b[32m\u001b[1m   Installed\u001b[22m\u001b[39m StaticArrays ─────────── v1.5.19\n",
      "\u001b[32m\u001b[1m   Installed\u001b[22m\u001b[39m CUDA_Runtime_Discovery ─ v0.2.0\n",
      "\u001b[32m\u001b[1m   Installed\u001b[22m\u001b[39m DefineSingletons ─────── v0.1.2\n",
      "\u001b[32m\u001b[1m   Installed\u001b[22m\u001b[39m MicroCollections ─────── v0.1.4\n",
      "\u001b[32m\u001b[1m   Installed\u001b[22m\u001b[39m LLVMExtra_jll ────────── v0.0.21+0\n",
      "\u001b[32m\u001b[1m   Installed\u001b[22m\u001b[39m UnsafeAtomicsLLVM ────── v0.1.2\n",
      "\u001b[32m\u001b[1m   Installed\u001b[22m\u001b[39m NameResolution ───────── v0.1.5\n",
      "\u001b[32m\u001b[1m   Installed\u001b[22m\u001b[39m StructArrays ─────────── v0.6.15\n",
      "\u001b[32m\u001b[1m   Installed\u001b[22m\u001b[39m ChainRulesCore ───────── v1.15.7\n",
      "\u001b[32m\u001b[1m   Installed\u001b[22m\u001b[39m InitialValues ────────── v0.3.1\n",
      "\u001b[32m\u001b[1m   Installed\u001b[22m\u001b[39m FunctionWrappers ─────── v1.1.3\n",
      "\u001b[32m\u001b[1m   Installed\u001b[22m\u001b[39m Random123 ────────────── v1.6.0\n",
      "\u001b[32m\u001b[1m   Installed\u001b[22m\u001b[39m BFloat16s ────────────── v0.4.2\n",
      "\u001b[32m\u001b[1m   Installed\u001b[22m\u001b[39m FillArrays ───────────── v1.0.0\n",
      "\u001b[32m\u001b[1m   Installed\u001b[22m\u001b[39m ForwardDiff ──────────── v0.10.35\n",
      "\u001b[32m\u001b[1m   Installed\u001b[22m\u001b[39m GPUArrays ────────────── v8.6.6\n",
      "\u001b[32m\u001b[1m   Installed\u001b[22m\u001b[39m CUDA_Runtime_jll ─────── v0.5.0+1\n",
      "\u001b[32m\u001b[1m   Installed\u001b[22m\u001b[39m SplittablesBase ──────── v0.1.15\n",
      "\u001b[32m\u001b[1m   Installed\u001b[22m\u001b[39m CEnum ────────────────── v0.4.2\n",
      "\u001b[32m\u001b[1m   Installed\u001b[22m\u001b[39m LogExpFunctions ──────── v0.3.23\n",
      "\u001b[32m\u001b[1m   Installed\u001b[22m\u001b[39m CommonSubexpressions ─── v0.3.0\n",
      "\u001b[32m\u001b[1m   Installed\u001b[22m\u001b[39m KernelAbstractions ───── v0.9.1\n",
      "\u001b[32m\u001b[1m   Installed\u001b[22m\u001b[39m RandomNumbers ────────── v1.5.3\n",
      "\u001b[32m\u001b[1m   Installed\u001b[22m\u001b[39m ChainRules ───────────── v1.48.0\n",
      "\u001b[32m\u001b[1m   Installed\u001b[22m\u001b[39m ZygoteRules ──────────── v0.2.3\n",
      "\u001b[32m\u001b[1m   Installed\u001b[22m\u001b[39m PrettyPrint ──────────── v0.2.0\n",
      "\u001b[32m\u001b[1m   Installed\u001b[22m\u001b[39m ExprTools ────────────── v0.1.9\n",
      "\u001b[32m\u001b[1m   Installed\u001b[22m\u001b[39m StatsAPI ─────────────── v1.6.0\n",
      "\u001b[32m\u001b[1m   Installed\u001b[22m\u001b[39m BangBang ─────────────── v0.3.37\n",
      "\u001b[32m\u001b[1m   Installed\u001b[22m\u001b[39m MLStyle ──────────────── v0.4.17\n",
      "\u001b[32m\u001b[1m   Installed\u001b[22m\u001b[39m CompositionsBase ─────── v0.1.1\n",
      "\u001b[32m\u001b[1m   Installed\u001b[22m\u001b[39m OpenSpecFun_jll ──────── v0.5.5+0\n",
      "\u001b[32m\u001b[1m   Installed\u001b[22m\u001b[39m MLUtils ──────────────── v0.4.1\n",
      "\u001b[32m\u001b[1m   Installed\u001b[22m\u001b[39m UnsafeAtomics ────────── v0.2.1\n",
      "\u001b[32m\u001b[1m   Installed\u001b[22m\u001b[39m JuliaVariables ───────── v0.2.4\n",
      "\u001b[32m\u001b[1m   Installed\u001b[22m\u001b[39m CUDNN_jll ────────────── v8.8.1+0\n",
      "\u001b[32m\u001b[1m   Installed\u001b[22m\u001b[39m InverseFunctions ─────── v0.1.8\n",
      "\u001b[32m\u001b[1m   Installed\u001b[22m\u001b[39m SimpleTraits ─────────── v0.9.4\n",
      "\u001b[32m\u001b[1m   Installed\u001b[22m\u001b[39m FLoops ───────────────── v0.2.1\n",
      "\u001b[32m\u001b[1m   Installed\u001b[22m\u001b[39m ChangesOfVariables ───── v0.1.6\n",
      "\u001b[32m\u001b[1m   Installed\u001b[22m\u001b[39m StatsBase ────────────── v0.33.21\n",
      "\u001b[32m\u001b[1m   Installed\u001b[22m\u001b[39m Atomix ───────────────── v0.1.0\n",
      "\u001b[32m\u001b[1m   Installed\u001b[22m\u001b[39m CUDA ─────────────────── v4.1.3\n",
      "\u001b[32m\u001b[1m   Installed\u001b[22m\u001b[39m LLVM ─────────────────── v5.0.0\n",
      "\u001b[32m\u001b[1m   Installed\u001b[22m\u001b[39m DocStringExtensions ──── v0.9.3\n",
      "\u001b[32m\u001b[1m   Installed\u001b[22m\u001b[39m MacroTools ───────────── v0.5.10\n",
      "\u001b[32m\u001b[1m    Updating\u001b[22m\u001b[39m `/opt/julia/environments/v1.8/Project.toml`\n",
      " \u001b[90m [587475ba] \u001b[39m\u001b[92m+ Flux v0.13.14\u001b[39m\n",
      "\u001b[32m\u001b[1m    Updating\u001b[22m\u001b[39m `/opt/julia/environments/v1.8/Manifest.toml`\n",
      " Downloading artifact: CUDA_Driver\n",
      " Downloading artifact: CUDA_Runtime\n",
      " \u001b[90m [621f4979] \u001b[39m\u001b[92m+ AbstractFFTs v1.3.1\u001b[39m\n",
      " \u001b[90m [7d9f7c33] \u001b[39m\u001b[92m+ Accessors v0.1.28\u001b[39m\n",
      " \u001b[90m [79e6a3ab] \u001b[39m\u001b[92m+ Adapt v3.6.1\u001b[39m\n",
      " \u001b[90m [dce04be8] \u001b[39m\u001b[92m+ ArgCheck v2.3.0\u001b[39m\n",
      " \u001b[90m [a9b6321e] \u001b[39m\u001b[92m+ Atomix v0.1.0\u001b[39m\n",
      " \u001b[90m [ab4f0b2a] \u001b[39m\u001b[92m+ BFloat16s v0.4.2\u001b[39m\n",
      " \u001b[90m [198e06fe] \u001b[39m\u001b[92m+ BangBang v0.3.37\u001b[39m\n",
      " \u001b[90m [9718e550] \u001b[39m\u001b[92m+ Baselet v0.1.1\u001b[39m\n",
      " \u001b[90m [fa961155] \u001b[39m\u001b[92m+ CEnum v0.4.2\u001b[39m\n",
      " \u001b[90m [052768ef] \u001b[39m\u001b[92m+ CUDA v4.1.3\u001b[39m\n",
      " \u001b[90m [1af6417a] \u001b[39m\u001b[92m+ CUDA_Runtime_Discovery v0.2.0\u001b[39m\n",
      " \u001b[90m [082447d4] \u001b[39m\u001b[92m+ ChainRules v1.48.0\u001b[39m\n",
      " \u001b[90m [d360d2e6] \u001b[39m\u001b[92m+ ChainRulesCore v1.15.7\u001b[39m\n",
      " \u001b[90m [9e997f8a] \u001b[39m\u001b[92m+ ChangesOfVariables v0.1.6\u001b[39m\n",
      " \u001b[90m [bbf7d656] \u001b[39m\u001b[92m+ CommonSubexpressions v0.3.0\u001b[39m\n",
      " \u001b[90m [a33af91c] \u001b[39m\u001b[92m+ CompositionsBase v0.1.1\u001b[39m\n",
      " \u001b[90m [187b0558] \u001b[39m\u001b[92m+ ConstructionBase v1.5.1\u001b[39m\n",
      " \u001b[90m [6add18c4] \u001b[39m\u001b[92m+ ContextVariablesX v0.1.3\u001b[39m\n",
      " \u001b[90m [244e2a9f] \u001b[39m\u001b[92m+ DefineSingletons v0.1.2\u001b[39m\n",
      " \u001b[90m [163ba53b] \u001b[39m\u001b[92m+ DiffResults v1.1.0\u001b[39m\n",
      " \u001b[90m [b552c78f] \u001b[39m\u001b[92m+ DiffRules v1.13.0\u001b[39m\n",
      " \u001b[90m [ffbed154] \u001b[39m\u001b[92m+ DocStringExtensions v0.9.3\u001b[39m\n",
      " \u001b[90m [e2ba6199] \u001b[39m\u001b[92m+ ExprTools v0.1.9\u001b[39m\n",
      " \u001b[90m [cc61a311] \u001b[39m\u001b[92m+ FLoops v0.2.1\u001b[39m\n",
      " \u001b[90m [b9860ae5] \u001b[39m\u001b[92m+ FLoopsBase v0.1.1\u001b[39m\n",
      " \u001b[90m [1a297f60] \u001b[39m\u001b[92m+ FillArrays v1.0.0\u001b[39m\n",
      " \u001b[90m [587475ba] \u001b[39m\u001b[92m+ Flux v0.13.14\u001b[39m\n",
      " \u001b[90m [9c68100b] \u001b[39m\u001b[92m+ FoldsThreads v0.1.1\u001b[39m\n",
      " \u001b[90m [f6369f11] \u001b[39m\u001b[92m+ ForwardDiff v0.10.35\u001b[39m\n",
      " \u001b[90m [069b7b12] \u001b[39m\u001b[92m+ FunctionWrappers v1.1.3\u001b[39m\n",
      " \u001b[90m [d9f16b24] \u001b[39m\u001b[92m+ Functors v0.4.4\u001b[39m\n",
      " \u001b[90m [0c68f7d7] \u001b[39m\u001b[92m+ GPUArrays v8.6.6\u001b[39m\n",
      " \u001b[90m [46192b85] \u001b[39m\u001b[92m+ GPUArraysCore v0.1.4\u001b[39m\n",
      " \u001b[90m [61eb1bfa] \u001b[39m\u001b[92m+ GPUCompiler v0.19.0\u001b[39m\n",
      " \u001b[90m [7869d1d1] \u001b[39m\u001b[92m+ IRTools v0.4.9\u001b[39m\n",
      " \u001b[90m [22cec73e] \u001b[39m\u001b[92m+ InitialValues v0.3.1\u001b[39m\n",
      " \u001b[90m [3587e190] \u001b[39m\u001b[92m+ InverseFunctions v0.1.8\u001b[39m\n",
      " \u001b[90m [92d709cd] \u001b[39m\u001b[92m+ IrrationalConstants v0.2.2\u001b[39m\n",
      " \u001b[90m [b14d175d] \u001b[39m\u001b[92m+ JuliaVariables v0.2.4\u001b[39m\n",
      " \u001b[90m [63c18a36] \u001b[39m\u001b[92m+ KernelAbstractions v0.9.1\u001b[39m\n",
      " \u001b[90m [929cbde3] \u001b[39m\u001b[92m+ LLVM v5.0.0\u001b[39m\n",
      " \u001b[90m [2ab3a3ac] \u001b[39m\u001b[92m+ LogExpFunctions v0.3.23\u001b[39m\n",
      " \u001b[90m [d8e11817] \u001b[39m\u001b[92m+ MLStyle v0.4.17\u001b[39m\n",
      " \u001b[90m [f1d291b0] \u001b[39m\u001b[92m+ MLUtils v0.4.1\u001b[39m\n",
      " \u001b[90m [1914dd2f] \u001b[39m\u001b[92m+ MacroTools v0.5.10\u001b[39m\n",
      " \u001b[90m [128add7d] \u001b[39m\u001b[92m+ MicroCollections v0.1.4\u001b[39m\n",
      " \u001b[90m [872c559c] \u001b[39m\u001b[92m+ NNlib v0.8.19\u001b[39m\n",
      " \u001b[90m [a00861dc] \u001b[39m\u001b[92m+ NNlibCUDA v0.2.7\u001b[39m\n",
      " \u001b[90m [77ba4419] \u001b[39m\u001b[92m+ NaNMath v1.0.2\u001b[39m\n",
      " \u001b[90m [71a1bf82] \u001b[39m\u001b[92m+ NameResolution v0.1.5\u001b[39m\n",
      " \u001b[90m [0b1bfda6] \u001b[39m\u001b[92m+ OneHotArrays v0.2.3\u001b[39m\n",
      " \u001b[90m [3bd65402] \u001b[39m\u001b[92m+ Optimisers v0.2.17\u001b[39m\n",
      " \u001b[90m [8162dcfd] \u001b[39m\u001b[92m+ PrettyPrint v0.2.0\u001b[39m\n",
      " \u001b[90m [33c8b6b6] \u001b[39m\u001b[92m+ ProgressLogging v0.1.4\u001b[39m\n",
      " \u001b[90m [74087812] \u001b[39m\u001b[92m+ Random123 v1.6.0\u001b[39m\n",
      " \u001b[90m [e6cf234a] \u001b[39m\u001b[92m+ RandomNumbers v1.5.3\u001b[39m\n",
      " \u001b[90m [c1ae055f] \u001b[39m\u001b[92m+ RealDot v0.1.0\u001b[39m\n",
      " \u001b[90m [6c6a2e73] \u001b[39m\u001b[92m+ Scratch v1.2.0\u001b[39m\n",
      " \u001b[90m [efcf1570] \u001b[39m\u001b[92m+ Setfield v1.1.1\u001b[39m\n",
      " \u001b[90m [605ecd9f] \u001b[39m\u001b[92m+ ShowCases v0.1.0\u001b[39m\n",
      " \u001b[90m [699a6c99] \u001b[39m\u001b[92m+ SimpleTraits v0.9.4\u001b[39m\n",
      " \u001b[90m [276daf66] \u001b[39m\u001b[92m+ SpecialFunctions v2.2.0\u001b[39m\n",
      " \u001b[90m [171d559e] \u001b[39m\u001b[92m+ SplittablesBase v0.1.15\u001b[39m\n",
      " \u001b[90m [90137ffa] \u001b[39m\u001b[92m+ StaticArrays v1.5.19\u001b[39m\n",
      " \u001b[90m [1e83bf80] \u001b[39m\u001b[92m+ StaticArraysCore v1.4.0\u001b[39m\n",
      " \u001b[90m [82ae8749] \u001b[39m\u001b[92m+ StatsAPI v1.6.0\u001b[39m\n",
      " \u001b[90m [2913bbd2] \u001b[39m\u001b[92m+ StatsBase v0.33.21\u001b[39m\n",
      " \u001b[90m [09ab397b] \u001b[39m\u001b[92m+ StructArrays v0.6.15\u001b[39m\n",
      " \u001b[90m [a759f4b9] \u001b[39m\u001b[92m+ TimerOutputs v0.5.22\u001b[39m\n",
      " \u001b[90m [28d57a85] \u001b[39m\u001b[92m+ Transducers v0.4.75\u001b[39m\n",
      " \u001b[90m [013be700] \u001b[39m\u001b[92m+ UnsafeAtomics v0.2.1\u001b[39m\n",
      " \u001b[90m [d80eeb9a] \u001b[39m\u001b[92m+ UnsafeAtomicsLLVM v0.1.2\u001b[39m\n",
      " \u001b[90m [e88e6eb3] \u001b[39m\u001b[92m+ Zygote v0.6.60\u001b[39m\n",
      " \u001b[90m [700de1a5] \u001b[39m\u001b[92m+ ZygoteRules v0.2.3\u001b[39m\n",
      " \u001b[90m [02a925ec] \u001b[39m\u001b[92m+ cuDNN v1.0.2\u001b[39m\n",
      " \u001b[90m [4ee394cb] \u001b[39m\u001b[92m+ CUDA_Driver_jll v0.5.0+1\u001b[39m\n",
      "\u001b[91m→\u001b[39m\u001b[90m [76a88914] \u001b[39m\u001b[92m+ CUDA_Runtime_jll v0.5.0+1\u001b[39m\n",
      "\u001b[91m→\u001b[39m\u001b[90m [62b44479] \u001b[39m\u001b[92m+ CUDNN_jll v8.8.1+0\u001b[39m\n",
      " \u001b[90m [dad2f222] \u001b[39m\u001b[92m+ LLVMExtra_jll v0.0.21+0\u001b[39m\n",
      " \u001b[90m [efe28fd5] \u001b[39m\u001b[92m+ OpenSpecFun_jll v0.5.5+0\u001b[39m\n",
      " \u001b[90m [8bb1440f] \u001b[39m\u001b[92m+ DelimitedFiles\u001b[39m\n",
      " \u001b[90m [8ba89e20] \u001b[39m\u001b[92m+ Distributed\u001b[39m\n",
      " \u001b[90m [4af54fe1] \u001b[39m\u001b[92m+ LazyArtifacts\u001b[39m\n",
      " \u001b[90m [05823500] \u001b[39m\u001b[92m+ OpenLibm_jll v0.8.1+0\u001b[39m\n",
      "\u001b[36m\u001b[1m        Info\u001b[22m\u001b[39m Packages marked with \u001b[91m→\u001b[39m are not downloaded, use `instantiate` to download\n",
      "\u001b[32m\u001b[1mPrecompiling\u001b[22m\u001b[39m project...\n",
      "\u001b[32m  ✓ \u001b[39m\u001b[90mOpenLibm_jll\u001b[39m\n",
      "\u001b[32m  ✓ \u001b[39m\u001b[90mDefineSingletons\u001b[39m\n",
      "\u001b[32m  ✓ \u001b[39m\u001b[90mContextVariablesX\u001b[39m\n",
      "\u001b[32m  ✓ \u001b[39m\u001b[90mInverseFunctions\u001b[39m\n",
      "\u001b[32m  ✓ \u001b[39m\u001b[90mRealDot\u001b[39m\n",
      "\u001b[32m  ✓ \u001b[39m\u001b[90mFunctionWrappers\u001b[39m\n",
      "\u001b[32m  ✓ \u001b[39m\u001b[90mExprTools\u001b[39m\n",
      "\u001b[32m  ✓ \u001b[39m\u001b[90mDocStringExtensions\u001b[39m\n",
      "\u001b[32m  ✓ \u001b[39m\u001b[90mConstructionBase\u001b[39m\n",
      "\u001b[32m  ✓ \u001b[39m\u001b[90mAdapt\u001b[39m\n",
      "\u001b[32m  ✓ \u001b[39m\u001b[90mPrettyPrint\u001b[39m\n",
      "\u001b[32m  ✓ \u001b[39m\u001b[90mIrrationalConstants\u001b[39m\n",
      "\u001b[32m  ✓ \u001b[39m\u001b[90mArgCheck\u001b[39m\n",
      "\u001b[32m  ✓ \u001b[39m\u001b[90mFillArrays\u001b[39m\n",
      "\u001b[32m  ✓ \u001b[39m\u001b[90mShowCases\u001b[39m\n",
      "\u001b[32m  ✓ \u001b[39m\u001b[90mStatsAPI\u001b[39m\n",
      "\u001b[32m  ✓ \u001b[39m\u001b[90mBFloat16s\u001b[39m\n",
      "\u001b[32m  ✓ \u001b[39m\u001b[90mProgressLogging\u001b[39m\n",
      "\u001b[32m  ✓ \u001b[39m\u001b[90mCompositionsBase\u001b[39m\n",
      "\u001b[32m  ✓ \u001b[39m\u001b[90mScratch\u001b[39m\n",
      "\u001b[32m  ✓ \u001b[39m\u001b[90mInitialValues\u001b[39m\n",
      "\u001b[32m  ✓ \u001b[39m\u001b[90mCEnum\u001b[39m\n",
      "\u001b[32m  ✓ \u001b[39m\u001b[90mUnsafeAtomics\u001b[39m\n",
      "\u001b[32m  ✓ \u001b[39m\u001b[90mStaticArraysCore\u001b[39m\n",
      "\u001b[32m  ✓ \u001b[39m\u001b[90mCUDA_Runtime_Discovery\u001b[39m\n",
      "\u001b[32m  ✓ \u001b[39m\u001b[90mFunctors\u001b[39m\n",
      "\u001b[32m  ✓ \u001b[39m\u001b[90mRandomNumbers\u001b[39m\n",
      "\u001b[32m  ✓ \u001b[39m\u001b[90mChainRulesCore\u001b[39m\n",
      "\u001b[32m  ✓ \u001b[39m\u001b[90mFLoopsBase\u001b[39m\n",
      "\u001b[32m  ✓ \u001b[39m\u001b[90mLLVMExtra_jll\u001b[39m\n",
      "\u001b[32m  ✓ \u001b[39m\u001b[90mNaNMath\u001b[39m\n",
      "\u001b[32m  ✓ \u001b[39m\u001b[90mOpenSpecFun_jll\u001b[39m\n",
      "\u001b[32m  ✓ \u001b[39m\u001b[90mMacroTools\u001b[39m\n",
      "\u001b[32m  ✓ \u001b[39m\u001b[90mCUDNN_jll\u001b[39m\n",
      "\u001b[32m  ✓ \u001b[39m\u001b[90mBaselet\u001b[39m\n",
      "\u001b[32m  ✓ \u001b[39m\u001b[90mNameResolution\u001b[39m\n",
      "\u001b[32m  ✓ \u001b[39m\u001b[90mGPUArraysCore\u001b[39m\n",
      "\u001b[32m  ✓ \u001b[39m\u001b[90mAtomix\u001b[39m\n",
      "\u001b[32m  ✓ \u001b[39m\u001b[90mDiffResults\u001b[39m\n",
      "\u001b[32m  ✓ \u001b[39m\u001b[90mChangesOfVariables\u001b[39m\n",
      "\u001b[32m  ✓ \u001b[39m\u001b[90mAbstractFFTs\u001b[39m\n",
      "\u001b[32m  ✓ \u001b[39m\u001b[90mTimerOutputs\u001b[39m\n",
      "\u001b[32m  ✓ \u001b[39m\u001b[90mRandom123\u001b[39m\n",
      "\u001b[32m  ✓ \u001b[39m\u001b[90mCommonSubexpressions\u001b[39m\n",
      "\u001b[32m  ✓ \u001b[39m\u001b[90mOptimisers\u001b[39m\n",
      "\u001b[32m  ✓ \u001b[39m\u001b[90mSetfield\u001b[39m\n",
      "\u001b[32m  ✓ \u001b[39m\u001b[90mSimpleTraits\u001b[39m\n",
      "\u001b[32m  ✓ \u001b[39m\u001b[90mZygoteRules\u001b[39m\n",
      "\u001b[32m  ✓ \u001b[39m\u001b[90mIRTools\u001b[39m\n",
      "\u001b[32m  ✓ \u001b[39m\u001b[90mStructArrays\u001b[39m\n",
      "\u001b[32m  ✓ \u001b[39m\u001b[90mSplittablesBase\u001b[39m\n",
      "\u001b[32m  ✓ \u001b[39m\u001b[90mLogExpFunctions\u001b[39m\n",
      "\u001b[32m  ✓ \u001b[39m\u001b[90mNNlib\u001b[39m\n",
      "\u001b[32m  ✓ \u001b[39m\u001b[90mLLVM\u001b[39m\n",
      "\u001b[32m  ✓ \u001b[39m\u001b[90mBangBang\u001b[39m\n",
      "\u001b[32m  ✓ \u001b[39m\u001b[90mOneHotArrays\u001b[39m\n",
      "\u001b[32m  ✓ \u001b[39m\u001b[90mStatsBase\u001b[39m\n",
      "\u001b[32m  ✓ \u001b[39m\u001b[90mMicroCollections\u001b[39m\n",
      "\u001b[32m  ✓ \u001b[39m\u001b[90mStaticArrays\u001b[39m\n",
      "\u001b[32m  ✓ \u001b[39m\u001b[90mUnsafeAtomicsLLVM\u001b[39m\n",
      "\u001b[32m  ✓ \u001b[39m\u001b[90mGPUArrays\u001b[39m\n",
      "\u001b[32m  ✓ \u001b[39m\u001b[90mAccessors\u001b[39m\n",
      "\u001b[32m  ✓ \u001b[39m\u001b[90mSpecialFunctions\u001b[39m\n",
      "\u001b[32m  ✓ \u001b[39m\u001b[90mDiffRules\u001b[39m\n",
      "\u001b[32m  ✓ \u001b[39m\u001b[90mChainRules\u001b[39m\n",
      "\u001b[32m  ✓ \u001b[39m\u001b[90mTransducers\u001b[39m\n",
      "\u001b[32m  ✓ \u001b[39m\u001b[90mMLStyle\u001b[39m\n",
      "\u001b[32m  ✓ \u001b[39m\u001b[90mKernelAbstractions\u001b[39m\n",
      "\u001b[32m  ✓ \u001b[39m\u001b[90mFoldsThreads\u001b[39m\n",
      "\u001b[32m  ✓ \u001b[39m\u001b[90mGPUCompiler\u001b[39m\n",
      "\u001b[32m  ✓ \u001b[39m\u001b[90mForwardDiff\u001b[39m\n",
      "\u001b[32m  ✓ \u001b[39m\u001b[90mJuliaVariables\u001b[39m\n",
      "\u001b[32m  ✓ \u001b[39m\u001b[90mFLoops\u001b[39m\n",
      "\u001b[32m  ✓ \u001b[39m\u001b[90mMLUtils\u001b[39m\n",
      "\u001b[32m  ✓ \u001b[39m\u001b[90mZygote\u001b[39m\n",
      "\u001b[32m  ✓ \u001b[39m\u001b[90mCUDA\u001b[39m\n",
      "\u001b[32m  ✓ \u001b[39m\u001b[90mcuDNN\u001b[39m\n",
      "\u001b[32m  ✓ \u001b[39m\u001b[90mNNlibCUDA\u001b[39m\n",
      "\u001b[32m  ✓ \u001b[39mFlux\n",
      "  79 dependencies successfully precompiled in 126 seconds. 46 already precompiled.\n",
      "\u001b[32m\u001b[1m   Resolving\u001b[22m\u001b[39m package versions...\n",
      "\u001b[32m\u001b[1m   Installed\u001b[22m\u001b[39m WeakRefStrings ───── v1.4.2\n",
      "\u001b[32m\u001b[1m   Installed\u001b[22m\u001b[39m WorkerUtilities ──── v1.6.1\n",
      "\u001b[32m\u001b[1m   Installed\u001b[22m\u001b[39m CodecZlib ────────── v0.7.1\n",
      "\u001b[32m\u001b[1m   Installed\u001b[22m\u001b[39m FilePathsBase ────── v0.9.20\n",
      "\u001b[32m\u001b[1m   Installed\u001b[22m\u001b[39m TranscodingStreams ─ v0.9.11\n",
      "\u001b[32m\u001b[1m   Installed\u001b[22m\u001b[39m CSV ──────────────── v0.10.9\n",
      "\u001b[32m\u001b[1m    Updating\u001b[22m\u001b[39m `/opt/julia/environments/v1.8/Project.toml`\n",
      " \u001b[90m [336ed68f] \u001b[39m\u001b[92m+ CSV v0.10.9\u001b[39m\n",
      "\u001b[32m\u001b[1m    Updating\u001b[22m\u001b[39m `/opt/julia/environments/v1.8/Manifest.toml`\n",
      " \u001b[90m [336ed68f] \u001b[39m\u001b[92m+ CSV v0.10.9\u001b[39m\n",
      " \u001b[90m [944b1d66] \u001b[39m\u001b[92m+ CodecZlib v0.7.1\u001b[39m\n",
      " \u001b[90m [48062228] \u001b[39m\u001b[92m+ FilePathsBase v0.9.20\u001b[39m\n",
      " \u001b[90m [3bb67fe8] \u001b[39m\u001b[92m+ TranscodingStreams v0.9.11\u001b[39m\n",
      " \u001b[90m [ea10d353] \u001b[39m\u001b[92m+ WeakRefStrings v1.4.2\u001b[39m\n",
      " \u001b[90m [76eceee3] \u001b[39m\u001b[92m+ WorkerUtilities v1.6.1\u001b[39m\n",
      "\u001b[32m\u001b[1mPrecompiling\u001b[22m\u001b[39m project...\n",
      "\u001b[32m  ✓ \u001b[39m\u001b[90mWorkerUtilities\u001b[39m\n",
      "\u001b[32m  ✓ \u001b[39m\u001b[90mTranscodingStreams\u001b[39m\n",
      "\u001b[32m  ✓ \u001b[39m\u001b[90mWeakRefStrings\u001b[39m\n",
      "\u001b[32m  ✓ \u001b[39m\u001b[90mCodecZlib\u001b[39m\n",
      "\u001b[32m  ✓ \u001b[39m\u001b[90mFilePathsBase\u001b[39m\n",
      "\u001b[32m  ✓ \u001b[39mCSV\n",
      "  6 dependencies successfully precompiled in 15 seconds. 125 already precompiled.\n",
      "\u001b[32m\u001b[1m   Resolving\u001b[22m\u001b[39m package versions...\n",
      "\u001b[32m\u001b[1m   Installed\u001b[22m\u001b[39m Calculus ───────────────── v0.5.1\n",
      "\u001b[32m\u001b[1m   Installed\u001b[22m\u001b[39m HypergeometricFunctions ── v0.3.14\n",
      "\u001b[32m\u001b[1m   Installed\u001b[22m\u001b[39m CategoricalDistributions ─ v0.1.10\n",
      "\u001b[32m\u001b[1m   Installed\u001b[22m\u001b[39m StatsFuns ──────────────── v1.3.0\n",
      "\u001b[32m\u001b[1m   Installed\u001b[22m\u001b[39m RelocatableFolders ─────── v1.0.0\n",
      "\u001b[32m\u001b[1m   Installed\u001b[22m\u001b[39m StatisticalTraits ──────── v3.2.0\n",
      "\u001b[32m\u001b[1m   Installed\u001b[22m\u001b[39m LoggingExtras ──────────── v1.0.0\n",
      "\u001b[32m\u001b[1m   Installed\u001b[22m\u001b[39m PDMats ─────────────────── v0.11.17\n",
      "\u001b[32m\u001b[1m   Installed\u001b[22m\u001b[39m Contour ────────────────── v0.6.2\n",
      "\u001b[32m\u001b[1m   Installed\u001b[22m\u001b[39m MarchingCubes ──────────── v0.1.7\n",
      "\u001b[32m\u001b[1m   Installed\u001b[22m\u001b[39m ProgressMeter ──────────── v1.7.2\n",
      "\u001b[32m\u001b[1m   Installed\u001b[22m\u001b[39m OpenSSL ────────────────── v1.3.3\n",
      "\u001b[32m\u001b[1m   Installed\u001b[22m\u001b[39m EarlyStopping ──────────── v0.3.0\n",
      "\u001b[32m\u001b[1m   Installed\u001b[22m\u001b[39m IterationControl ───────── v0.5.3\n",
      "\u001b[32m\u001b[1m   Installed\u001b[22m\u001b[39m HTTP ───────────────────── v1.7.4\n",
      "\u001b[32m\u001b[1m   Installed\u001b[22m\u001b[39m SimpleBufferStream ─────── v1.1.0\n",
      "\u001b[32m\u001b[1m   Installed\u001b[22m\u001b[39m Distances ──────────────── v0.10.8\n",
      "\u001b[32m\u001b[1m   Installed\u001b[22m\u001b[39m MLJModels ──────────────── v0.16.6\n",
      "\u001b[32m\u001b[1m   Installed\u001b[22m\u001b[39m MLJIteration ───────────── v0.5.1\n",
      "\u001b[32m\u001b[1m   Installed\u001b[22m\u001b[39m Rmath_jll ──────────────── v0.4.0+0\n",
      "\u001b[32m\u001b[1m   Installed\u001b[22m\u001b[39m Colors ─────────────────── v0.12.10\n",
      "\u001b[32m\u001b[1m   Installed\u001b[22m\u001b[39m ComputationalResources ─── v0.3.2\n",
      "\u001b[32m\u001b[1m   Installed\u001b[22m\u001b[39m MLJBase ────────────────── v0.21.8\n",
      "\u001b[32m\u001b[1m   Installed\u001b[22m\u001b[39m PrettyPrinting ─────────── v0.4.0\n",
      "\u001b[32m\u001b[1m   Installed\u001b[22m\u001b[39m UnicodePlots ───────────── v3.5.1\n",
      "\u001b[32m\u001b[1m   Installed\u001b[22m\u001b[39m ColorSchemes ───────────── v3.20.0\n",
      "\u001b[32m\u001b[1m   Installed\u001b[22m\u001b[39m ColorTypes ─────────────── v0.11.4\n",
      "\u001b[32m\u001b[1m   Installed\u001b[22m\u001b[39m ARFFFiles ──────────────── v1.4.1\n",
      "\u001b[32m\u001b[1m   Installed\u001b[22m\u001b[39m TensorCore ─────────────── v0.1.1\n",
      "\u001b[32m\u001b[1m   Installed\u001b[22m\u001b[39m ScientificTypes ────────── v3.0.2\n",
      "\u001b[32m\u001b[1m   Installed\u001b[22m\u001b[39m CategoricalArrays ──────── v0.10.7\n",
      "\u001b[32m\u001b[1m   Installed\u001b[22m\u001b[39m MLJ ────────────────────── v0.19.1\n",
      "\u001b[32m\u001b[1m   Installed\u001b[22m\u001b[39m UnPack ─────────────────── v1.0.2\n",
      "\u001b[32m\u001b[1m   Installed\u001b[22m\u001b[39m ColorVectorSpace ───────── v0.9.10\n",
      "\u001b[32m\u001b[1m   Installed\u001b[22m\u001b[39m OpenML ─────────────────── v0.3.1\n",
      "\u001b[32m\u001b[1m   Installed\u001b[22m\u001b[39m MLJEnsembles ───────────── v0.3.2\n",
      "\u001b[32m\u001b[1m   Installed\u001b[22m\u001b[39m Combinatorics ──────────── v1.0.2\n",
      "\u001b[32m\u001b[1m   Installed\u001b[22m\u001b[39m ScientificTypesBase ────── v3.0.0\n",
      "\u001b[32m\u001b[1m   Installed\u001b[22m\u001b[39m MLJTuning ──────────────── v0.7.4\n",
      "\u001b[32m\u001b[1m   Installed\u001b[22m\u001b[39m StableRNGs ─────────────── v1.0.0\n",
      "\u001b[32m\u001b[1m   Installed\u001b[22m\u001b[39m Rmath ──────────────────── v0.7.1\n",
      "\u001b[32m\u001b[1m   Installed\u001b[22m\u001b[39m BitFlags ───────────────── v0.1.7\n",
      "\u001b[32m\u001b[1m   Installed\u001b[22m\u001b[39m DualNumbers ────────────── v0.6.8\n",
      "\u001b[32m\u001b[1m   Installed\u001b[22m\u001b[39m IniFile ────────────────── v0.5.1\n",
      "\u001b[32m\u001b[1m   Installed\u001b[22m\u001b[39m RecipesBase ────────────── v1.3.3\n",
      "\u001b[32m\u001b[1m   Installed\u001b[22m\u001b[39m MLJModelInterface ──────── v1.8.0\n",
      "\u001b[32m\u001b[1m   Installed\u001b[22m\u001b[39m FixedPointNumbers ──────── v0.8.4\n",
      "\u001b[32m\u001b[1m   Installed\u001b[22m\u001b[39m Parameters ─────────────── v0.12.3\n",
      "\u001b[32m\u001b[1m   Installed\u001b[22m\u001b[39m URIs ───────────────────── v1.4.2\n",
      "\u001b[32m\u001b[1m   Installed\u001b[22m\u001b[39m QuadGK ─────────────────── v2.8.2\n",
      "\u001b[32m\u001b[1m   Installed\u001b[22m\u001b[39m DensityInterface ───────── v0.4.0\n",
      "\u001b[32m\u001b[1m   Installed\u001b[22m\u001b[39m LatinHypercubeSampling ─── v1.8.0\n",
      "\u001b[32m\u001b[1m   Installed\u001b[22m\u001b[39m LossFunctions ──────────── v0.8.1\n",
      "\u001b[32m\u001b[1m   Installed\u001b[22m\u001b[39m Distributions ──────────── v0.25.87\n",
      "\u001b[32m\u001b[1m    Updating\u001b[22m\u001b[39m `/opt/julia/environments/v1.8/Project.toml`\n",
      " \u001b[90m [add582a8] \u001b[39m\u001b[92m+ MLJ v0.19.1\u001b[39m\n",
      "\u001b[32m\u001b[1m    Updating\u001b[22m\u001b[39m `/opt/julia/environments/v1.8/Manifest.toml`\n",
      " \u001b[90m [da404889] \u001b[39m\u001b[92m+ ARFFFiles v1.4.1\u001b[39m\n",
      " \u001b[90m [d1d4a3ce] \u001b[39m\u001b[92m+ BitFlags v0.1.7\u001b[39m\n",
      " \u001b[90m [49dc2e85] \u001b[39m\u001b[92m+ Calculus v0.5.1\u001b[39m\n",
      " \u001b[90m [324d7699] \u001b[39m\u001b[92m+ CategoricalArrays v0.10.7\u001b[39m\n",
      " \u001b[90m [af321ab8] \u001b[39m\u001b[92m+ CategoricalDistributions v0.1.10\u001b[39m\n",
      " \u001b[90m [35d6a980] \u001b[39m\u001b[92m+ ColorSchemes v3.20.0\u001b[39m\n",
      " \u001b[90m [3da002f7] \u001b[39m\u001b[92m+ ColorTypes v0.11.4\u001b[39m\n",
      " \u001b[90m [c3611d14] \u001b[39m\u001b[92m+ ColorVectorSpace v0.9.10\u001b[39m\n",
      " \u001b[90m [5ae59095] \u001b[39m\u001b[92m+ Colors v0.12.10\u001b[39m\n",
      " \u001b[90m [861a8166] \u001b[39m\u001b[92m+ Combinatorics v1.0.2\u001b[39m\n",
      " \u001b[90m [ed09eef8] \u001b[39m\u001b[92m+ ComputationalResources v0.3.2\u001b[39m\n",
      " \u001b[90m [d38c429a] \u001b[39m\u001b[92m+ Contour v0.6.2\u001b[39m\n",
      " \u001b[90m [b429d917] \u001b[39m\u001b[92m+ DensityInterface v0.4.0\u001b[39m\n",
      " \u001b[90m [b4f34e82] \u001b[39m\u001b[92m+ Distances v0.10.8\u001b[39m\n",
      " \u001b[90m [31c24e10] \u001b[39m\u001b[92m+ Distributions v0.25.87\u001b[39m\n",
      " \u001b[90m [fa6b7ba4] \u001b[39m\u001b[92m+ DualNumbers v0.6.8\u001b[39m\n",
      " \u001b[90m [792122b4] \u001b[39m\u001b[92m+ EarlyStopping v0.3.0\u001b[39m\n",
      " \u001b[90m [53c48c17] \u001b[39m\u001b[92m+ FixedPointNumbers v0.8.4\u001b[39m\n",
      " \u001b[90m [cd3eb016] \u001b[39m\u001b[92m+ HTTP v1.7.4\u001b[39m\n",
      " \u001b[90m [34004b35] \u001b[39m\u001b[92m+ HypergeometricFunctions v0.3.14\u001b[39m\n",
      " \u001b[90m [83e8ac13] \u001b[39m\u001b[92m+ IniFile v0.5.1\u001b[39m\n",
      " \u001b[90m [b3c1a2ee] \u001b[39m\u001b[92m+ IterationControl v0.5.3\u001b[39m\n",
      " \u001b[90m [a5e1c1ea] \u001b[39m\u001b[92m+ LatinHypercubeSampling v1.8.0\u001b[39m\n",
      " \u001b[90m [e6f89c97] \u001b[39m\u001b[92m+ LoggingExtras v1.0.0\u001b[39m\n",
      " \u001b[90m [30fc2ffe] \u001b[39m\u001b[92m+ LossFunctions v0.8.1\u001b[39m\n",
      " \u001b[90m [add582a8] \u001b[39m\u001b[92m+ MLJ v0.19.1\u001b[39m\n",
      " \u001b[90m [a7f614a8] \u001b[39m\u001b[92m+ MLJBase v0.21.8\u001b[39m\n",
      " \u001b[90m [50ed68f4] \u001b[39m\u001b[92m+ MLJEnsembles v0.3.2\u001b[39m\n",
      " \u001b[90m [614be32b] \u001b[39m\u001b[92m+ MLJIteration v0.5.1\u001b[39m\n",
      " \u001b[90m [e80e1ace] \u001b[39m\u001b[92m+ MLJModelInterface v1.8.0\u001b[39m\n",
      " \u001b[90m [d491faf4] \u001b[39m\u001b[92m+ MLJModels v0.16.6\u001b[39m\n",
      " \u001b[90m [03970b2e] \u001b[39m\u001b[92m+ MLJTuning v0.7.4\u001b[39m\n",
      " \u001b[90m [299715c1] \u001b[39m\u001b[92m+ MarchingCubes v0.1.7\u001b[39m\n",
      " \u001b[90m [8b6db2d4] \u001b[39m\u001b[92m+ OpenML v0.3.1\u001b[39m\n",
      " \u001b[90m [4d8831e6] \u001b[39m\u001b[92m+ OpenSSL v1.3.3\u001b[39m\n",
      " \u001b[90m [90014a1f] \u001b[39m\u001b[92m+ PDMats v0.11.17\u001b[39m\n",
      " \u001b[90m [d96e819e] \u001b[39m\u001b[92m+ Parameters v0.12.3\u001b[39m\n",
      " \u001b[90m [54e16d92] \u001b[39m\u001b[92m+ PrettyPrinting v0.4.0\u001b[39m\n",
      " \u001b[90m [92933f4c] \u001b[39m\u001b[92m+ ProgressMeter v1.7.2\u001b[39m\n",
      " \u001b[90m [1fd47b50] \u001b[39m\u001b[92m+ QuadGK v2.8.2\u001b[39m\n",
      " \u001b[90m [3cdcf5f2] \u001b[39m\u001b[92m+ RecipesBase v1.3.3\u001b[39m\n",
      " \u001b[90m [05181044] \u001b[39m\u001b[92m+ RelocatableFolders v1.0.0\u001b[39m\n",
      " \u001b[90m [79098fc4] \u001b[39m\u001b[92m+ Rmath v0.7.1\u001b[39m\n",
      " \u001b[90m [321657f4] \u001b[39m\u001b[92m+ ScientificTypes v3.0.2\u001b[39m\n",
      " \u001b[90m [30f210dd] \u001b[39m\u001b[92m+ ScientificTypesBase v3.0.0\u001b[39m\n",
      " \u001b[90m [777ac1f9] \u001b[39m\u001b[92m+ SimpleBufferStream v1.1.0\u001b[39m\n",
      " \u001b[90m [860ef19b] \u001b[39m\u001b[92m+ StableRNGs v1.0.0\u001b[39m\n",
      " \u001b[90m [64bff920] \u001b[39m\u001b[92m+ StatisticalTraits v3.2.0\u001b[39m\n",
      " \u001b[90m [4c63d2b9] \u001b[39m\u001b[92m+ StatsFuns v1.3.0\u001b[39m\n",
      " \u001b[90m [62fd8b95] \u001b[39m\u001b[92m+ TensorCore v0.1.1\u001b[39m\n",
      " \u001b[90m [5c2747f8] \u001b[39m\u001b[92m+ URIs v1.4.2\u001b[39m\n",
      " \u001b[90m [3a884ed6] \u001b[39m\u001b[92m+ UnPack v1.0.2\u001b[39m\n",
      " \u001b[90m [b8865327] \u001b[39m\u001b[92m+ UnicodePlots v3.5.1\u001b[39m\n",
      " \u001b[90m [f50d1b31] \u001b[39m\u001b[92m+ Rmath_jll v0.4.0+0\u001b[39m\n",
      " \u001b[90m [4607b0f0] \u001b[39m\u001b[92m+ SuiteSparse\u001b[39m\n",
      "\u001b[32m\u001b[1mPrecompiling\u001b[22m\u001b[39m project...\n",
      "\u001b[32m  ✓ \u001b[39m\u001b[90mScientificTypesBase\u001b[39m\n",
      "\u001b[32m  ✓ \u001b[39m\u001b[90mContour\u001b[39m\n",
      "\u001b[32m  ✓ \u001b[39m\u001b[90mUnPack\u001b[39m\n",
      "\u001b[32m  ✓ \u001b[39m\u001b[90mCalculus\u001b[39m\n",
      "\u001b[32m  ✓ \u001b[39m\u001b[90mTensorCore\u001b[39m\n",
      "\u001b[32m  ✓ \u001b[39m\u001b[90mPDMats\u001b[39m\n",
      "\u001b[32m  ✓ \u001b[39m\u001b[90mCombinatorics\u001b[39m\n",
      "\u001b[32m  ✓ \u001b[39m\u001b[90mStableRNGs\u001b[39m\n",
      "\u001b[32m  ✓ \u001b[39m\u001b[90mEarlyStopping\u001b[39m\n",
      "\u001b[32m  ✓ \u001b[39m\u001b[90mDistances\u001b[39m\n",
      "\u001b[32m  ✓ \u001b[39m\u001b[90mSimpleBufferStream\u001b[39m\n",
      "\u001b[32m  ✓ \u001b[39m\u001b[90mPrettyPrinting\u001b[39m\n",
      "\u001b[32m  ✓ \u001b[39m\u001b[90mIniFile\u001b[39m\n",
      "\u001b[32m  ✓ \u001b[39m\u001b[90mURIs\u001b[39m\n",
      "\u001b[32m  ✓ \u001b[39m\u001b[90mComputationalResources\u001b[39m\n",
      "\u001b[32m  ✓ \u001b[39m\u001b[90mLoggingExtras\u001b[39m\n",
      "\u001b[32m  ✓ \u001b[39m\u001b[90mRelocatableFolders\u001b[39m\n",
      "\u001b[32m  ✓ \u001b[39m\u001b[90mDensityInterface\u001b[39m\n",
      "\u001b[32m  ✓ \u001b[39m\u001b[90mBitFlags\u001b[39m\n",
      "\u001b[32m  ✓ \u001b[39m\u001b[90mRmath_jll\u001b[39m\n",
      "\u001b[32m  ✓ \u001b[39m\u001b[90mFixedPointNumbers\u001b[39m\n",
      "\u001b[32m  ✓ \u001b[39m\u001b[90mStatisticalTraits\u001b[39m\n",
      "\u001b[32m  ✓ \u001b[39m\u001b[90mProgressMeter\u001b[39m\n",
      "\u001b[32m  ✓ \u001b[39m\u001b[90mParameters\u001b[39m\n",
      "\u001b[32m  ✓ \u001b[39m\u001b[90mQuadGK\u001b[39m\n",
      "\u001b[32m  ✓ \u001b[39m\u001b[90mCategoricalArrays\u001b[39m\n",
      "\u001b[32m  ✓ \u001b[39m\u001b[90mRecipesBase\u001b[39m\n",
      "\u001b[32m  ✓ \u001b[39m\u001b[90mRmath\u001b[39m\n",
      "\u001b[32m  ✓ \u001b[39m\u001b[90mIterationControl\u001b[39m\n",
      "\u001b[32m  ✓ \u001b[39m\u001b[90mDualNumbers\u001b[39m\n",
      "\u001b[32m  ✓ \u001b[39m\u001b[90mLatinHypercubeSampling\u001b[39m\n",
      "\u001b[32m  ✓ \u001b[39m\u001b[90mMLJModelInterface\u001b[39m\n",
      "\u001b[32m  ✓ \u001b[39m\u001b[90mOpenSSL\u001b[39m\n",
      "\u001b[32m  ✓ \u001b[39m\u001b[90mARFFFiles\u001b[39m\n",
      "\u001b[32m  ✓ \u001b[39m\u001b[90mHypergeometricFunctions\u001b[39m\n",
      "\u001b[32m  ✓ \u001b[39m\u001b[90mLossFunctions\u001b[39m\n",
      "\u001b[32m  ✓ \u001b[39m\u001b[90mColorTypes\u001b[39m\n",
      "\u001b[32m  ✓ \u001b[39m\u001b[90mMarchingCubes\u001b[39m\n",
      "\u001b[32m  ✓ \u001b[39m\u001b[90mStatsFuns\u001b[39m\n",
      "\u001b[32m  ✓ \u001b[39m\u001b[90mHTTP\u001b[39m\n",
      "\u001b[32m  ✓ \u001b[39m\u001b[90mColorVectorSpace\u001b[39m\n",
      "\u001b[32m  ✓ \u001b[39m\u001b[90mOpenML\u001b[39m\n",
      "\u001b[32m  ✓ \u001b[39m\u001b[90mColors\u001b[39m\n",
      "\u001b[32m  ✓ \u001b[39m\u001b[90mDistributions\u001b[39m\n",
      "\u001b[32m  ✓ \u001b[39m\u001b[90mColorSchemes\u001b[39m\n",
      "\u001b[32m  ✓ \u001b[39m\u001b[90mScientificTypes\u001b[39m\n",
      "\u001b[32m  ✓ \u001b[39m\u001b[90mUnicodePlots\u001b[39m\n",
      "\u001b[32m  ✓ \u001b[39m\u001b[90mCategoricalDistributions\u001b[39m\n",
      "\u001b[32m  ✓ \u001b[39m\u001b[90mMLJModels\u001b[39m\n",
      "\u001b[32m  ✓ \u001b[39m\u001b[90mMLJBase\u001b[39m\n",
      "\u001b[32m  ✓ \u001b[39m\u001b[90mMLJIteration\u001b[39m\n",
      "\u001b[32m  ✓ \u001b[39m\u001b[90mMLJTuning\u001b[39m\n",
      "\u001b[32m  ✓ \u001b[39m\u001b[90mMLJEnsembles\u001b[39m\n",
      "\u001b[32m  ✓ \u001b[39mMLJ\n",
      "  54 dependencies successfully precompiled in 158 seconds. 131 already precompiled.\n",
      "\u001b[32m\u001b[1m   Resolving\u001b[22m\u001b[39m package versions...\n",
      "\u001b[32m\u001b[1m    Updating\u001b[22m\u001b[39m `/opt/julia/environments/v1.8/Project.toml`\n",
      " \u001b[90m [052768ef] \u001b[39m\u001b[92m+ CUDA v4.1.3\u001b[39m\n",
      "\u001b[32m\u001b[1m  No Changes\u001b[22m\u001b[39m to `/opt/julia/environments/v1.8/Manifest.toml`\n",
      "\u001b[32m\u001b[1m   Resolving\u001b[22m\u001b[39m package versions...\n",
      "\u001b[32m\u001b[1m   Installed\u001b[22m\u001b[39m IterTools ─ v1.4.0\n",
      "\u001b[32m\u001b[1m    Updating\u001b[22m\u001b[39m `/opt/julia/environments/v1.8/Project.toml`\n",
      " \u001b[90m [c8e1da08] \u001b[39m\u001b[92m+ IterTools v1.4.0\u001b[39m\n",
      "\u001b[32m\u001b[1m    Updating\u001b[22m\u001b[39m `/opt/julia/environments/v1.8/Manifest.toml`\n",
      " \u001b[90m [c8e1da08] \u001b[39m\u001b[92m+ IterTools v1.4.0\u001b[39m\n",
      "\u001b[32m\u001b[1mPrecompiling\u001b[22m\u001b[39m project...\n",
      "\u001b[32m  ✓ \u001b[39mIterTools\n",
      "  1 dependency successfully precompiled in 1 seconds. 185 already precompiled.\n",
      "\u001b[32m\u001b[1m   Resolving\u001b[22m\u001b[39m package versions...\n",
      "\u001b[32m\u001b[1m    Updating\u001b[22m\u001b[39m `/opt/julia/environments/v1.8/Project.toml`\n",
      " \u001b[90m [92933f4c] \u001b[39m\u001b[92m+ ProgressMeter v1.7.2\u001b[39m\n",
      "\u001b[32m\u001b[1m  No Changes\u001b[22m\u001b[39m to `/opt/julia/environments/v1.8/Manifest.toml`\n",
      "\u001b[32m\u001b[1m   Resolving\u001b[22m\u001b[39m package versions...\n",
      "\u001b[32m\u001b[1m    Updating\u001b[22m\u001b[39m `/opt/julia/environments/v1.8/Project.toml`\n",
      " \u001b[90m [f1d291b0] \u001b[39m\u001b[92m+ MLUtils v0.4.1\u001b[39m\n",
      "\u001b[32m\u001b[1m  No Changes\u001b[22m\u001b[39m to `/opt/julia/environments/v1.8/Manifest.toml`\n",
      "\u001b[32m\u001b[1m   Resolving\u001b[22m\u001b[39m package versions...\n",
      "\u001b[32m\u001b[1m    Updating\u001b[22m\u001b[39m `/opt/julia/environments/v1.8/Project.toml`\n",
      " \u001b[90m [2913bbd2] \u001b[39m\u001b[92m+ StatsBase v0.33.21\u001b[39m\n",
      "\u001b[32m\u001b[1m  No Changes\u001b[22m\u001b[39m to `/opt/julia/environments/v1.8/Manifest.toml`\n"
     ]
    }
   ],
   "source": [
    "import Pkg\n",
    "Pkg.add(\"DataFrames\")\n",
    "Pkg.add(\"Flux\")\n",
    "Pkg.add(\"CSV\")\n",
    "Pkg.add(\"MLJ\")\n",
    "Pkg.add(\"CUDA\")\n",
    "Pkg.add(\"IterTools\")\n",
    "Pkg.add(\"ProgressMeter\")\n",
    "Pkg.add(\"MLUtils\")\n",
    "Pkg.add(\"StatsBase\")"
   ]
  },
  {
   "cell_type": "code",
   "execution_count": 2,
   "id": "4780e746-f84e-4ea9-9a78-512b5c1a1f6a",
   "metadata": {
    "tags": []
   },
   "outputs": [],
   "source": [
    "using DataFrames\n",
    "using CSV\n",
    "using Flux\n",
    "using MLJ\n",
    "using CUDA\n",
    "using IterTools: ncycle\n",
    "using ProgressMeter\n",
    "using MLUtils\n",
    "using StatsBase"
   ]
  },
  {
   "cell_type": "markdown",
   "id": "02166410-6466-4144-b5cb-8af7269c1b66",
   "metadata": {},
   "source": [
    "## Part 1 - Data Preprocessing"
   ]
  },
  {
   "cell_type": "code",
   "execution_count": 3,
   "id": "951bea08-b88a-4947-8b06-a7e257b7f452",
   "metadata": {
    "tags": []
   },
   "outputs": [
    {
     "data": {
      "text/html": [
       "<div><div style = \"float: left;\"><span>10×6 DataFrame</span></div><div style = \"clear: both;\"></div></div><div class = \"data-frame\" style = \"overflow-x: scroll;\"><table class = \"data-frame\" style = \"margin-bottom: 6px;\"><thead><tr class = \"header\"><th class = \"rowNumber\" style = \"font-weight: bold; text-align: right;\">Row</th><th style = \"text-align: left;\">Date</th><th style = \"text-align: left;\">Open</th><th style = \"text-align: left;\">High</th><th style = \"text-align: left;\">Low</th><th style = \"text-align: left;\">Close</th><th style = \"text-align: left;\">Volume</th></tr><tr class = \"subheader headerLastRow\"><th class = \"rowNumber\" style = \"font-weight: bold; text-align: right;\"></th><th title = \"String15\" style = \"text-align: left;\">String15</th><th title = \"Float64\" style = \"text-align: left;\">Float64</th><th title = \"Float64\" style = \"text-align: left;\">Float64</th><th title = \"Float64\" style = \"text-align: left;\">Float64</th><th title = \"String15\" style = \"text-align: left;\">String15</th><th title = \"String15\" style = \"text-align: left;\">String15</th></tr></thead><tbody><tr><td class = \"rowNumber\" style = \"font-weight: bold; text-align: right;\">1</td><td style = \"text-align: left;\">1/3/2012</td><td style = \"text-align: right;\">325.25</td><td style = \"text-align: right;\">332.83</td><td style = \"text-align: right;\">324.97</td><td style = \"text-align: left;\">663.59</td><td style = \"text-align: left;\">7,380,500</td></tr><tr><td class = \"rowNumber\" style = \"font-weight: bold; text-align: right;\">2</td><td style = \"text-align: left;\">1/4/2012</td><td style = \"text-align: right;\">331.27</td><td style = \"text-align: right;\">333.87</td><td style = \"text-align: right;\">329.08</td><td style = \"text-align: left;\">666.45</td><td style = \"text-align: left;\">5,749,400</td></tr><tr><td class = \"rowNumber\" style = \"font-weight: bold; text-align: right;\">3</td><td style = \"text-align: left;\">1/5/2012</td><td style = \"text-align: right;\">329.83</td><td style = \"text-align: right;\">330.75</td><td style = \"text-align: right;\">326.89</td><td style = \"text-align: left;\">657.21</td><td style = \"text-align: left;\">6,590,300</td></tr><tr><td class = \"rowNumber\" style = \"font-weight: bold; text-align: right;\">4</td><td style = \"text-align: left;\">1/6/2012</td><td style = \"text-align: right;\">328.34</td><td style = \"text-align: right;\">328.77</td><td style = \"text-align: right;\">323.68</td><td style = \"text-align: left;\">648.24</td><td style = \"text-align: left;\">5,405,900</td></tr><tr><td class = \"rowNumber\" style = \"font-weight: bold; text-align: right;\">5</td><td style = \"text-align: left;\">1/9/2012</td><td style = \"text-align: right;\">322.04</td><td style = \"text-align: right;\">322.29</td><td style = \"text-align: right;\">309.46</td><td style = \"text-align: left;\">620.76</td><td style = \"text-align: left;\">11,688,800</td></tr><tr><td class = \"rowNumber\" style = \"font-weight: bold; text-align: right;\">6</td><td style = \"text-align: left;\">1/10/2012</td><td style = \"text-align: right;\">313.7</td><td style = \"text-align: right;\">315.72</td><td style = \"text-align: right;\">307.3</td><td style = \"text-align: left;\">621.43</td><td style = \"text-align: left;\">8,824,000</td></tr><tr><td class = \"rowNumber\" style = \"font-weight: bold; text-align: right;\">7</td><td style = \"text-align: left;\">1/11/2012</td><td style = \"text-align: right;\">310.59</td><td style = \"text-align: right;\">313.52</td><td style = \"text-align: right;\">309.4</td><td style = \"text-align: left;\">624.25</td><td style = \"text-align: left;\">4,817,800</td></tr><tr><td class = \"rowNumber\" style = \"font-weight: bold; text-align: right;\">8</td><td style = \"text-align: left;\">1/12/2012</td><td style = \"text-align: right;\">314.43</td><td style = \"text-align: right;\">315.26</td><td style = \"text-align: right;\">312.08</td><td style = \"text-align: left;\">627.92</td><td style = \"text-align: left;\">3,764,400</td></tr><tr><td class = \"rowNumber\" style = \"font-weight: bold; text-align: right;\">9</td><td style = \"text-align: left;\">1/13/2012</td><td style = \"text-align: right;\">311.96</td><td style = \"text-align: right;\">312.3</td><td style = \"text-align: right;\">309.37</td><td style = \"text-align: left;\">623.28</td><td style = \"text-align: left;\">4,631,800</td></tr><tr><td class = \"rowNumber\" style = \"font-weight: bold; text-align: right;\">10</td><td style = \"text-align: left;\">1/17/2012</td><td style = \"text-align: right;\">314.81</td><td style = \"text-align: right;\">314.81</td><td style = \"text-align: right;\">311.67</td><td style = \"text-align: left;\">626.86</td><td style = \"text-align: left;\">3,832,800</td></tr></tbody></table></div>"
      ],
      "text/latex": [
       "\\begin{tabular}{r|cccccc}\n",
       "\t& Date & Open & High & Low & Close & Volume\\\\\n",
       "\t\\hline\n",
       "\t& String15 & Float64 & Float64 & Float64 & String15 & String15\\\\\n",
       "\t\\hline\n",
       "\t1 & 1/3/2012 & 325.25 & 332.83 & 324.97 & 663.59 & 7,380,500 \\\\\n",
       "\t2 & 1/4/2012 & 331.27 & 333.87 & 329.08 & 666.45 & 5,749,400 \\\\\n",
       "\t3 & 1/5/2012 & 329.83 & 330.75 & 326.89 & 657.21 & 6,590,300 \\\\\n",
       "\t4 & 1/6/2012 & 328.34 & 328.77 & 323.68 & 648.24 & 5,405,900 \\\\\n",
       "\t5 & 1/9/2012 & 322.04 & 322.29 & 309.46 & 620.76 & 11,688,800 \\\\\n",
       "\t6 & 1/10/2012 & 313.7 & 315.72 & 307.3 & 621.43 & 8,824,000 \\\\\n",
       "\t7 & 1/11/2012 & 310.59 & 313.52 & 309.4 & 624.25 & 4,817,800 \\\\\n",
       "\t8 & 1/12/2012 & 314.43 & 315.26 & 312.08 & 627.92 & 3,764,400 \\\\\n",
       "\t9 & 1/13/2012 & 311.96 & 312.3 & 309.37 & 623.28 & 4,631,800 \\\\\n",
       "\t10 & 1/17/2012 & 314.81 & 314.81 & 311.67 & 626.86 & 3,832,800 \\\\\n",
       "\\end{tabular}\n"
      ],
      "text/plain": [
       "\u001b[1m10×6 DataFrame\u001b[0m\n",
       "\u001b[1m Row \u001b[0m│\u001b[1m Date      \u001b[0m\u001b[1m Open    \u001b[0m\u001b[1m High    \u001b[0m\u001b[1m Low     \u001b[0m\u001b[1m Close    \u001b[0m\u001b[1m Volume     \u001b[0m\n",
       "     │\u001b[90m String15  \u001b[0m\u001b[90m Float64 \u001b[0m\u001b[90m Float64 \u001b[0m\u001b[90m Float64 \u001b[0m\u001b[90m String15 \u001b[0m\u001b[90m String15   \u001b[0m\n",
       "─────┼────────────────────────────────────────────────────────────\n",
       "   1 │ 1/3/2012    325.25   332.83   324.97  663.59    7,380,500\n",
       "   2 │ 1/4/2012    331.27   333.87   329.08  666.45    5,749,400\n",
       "   3 │ 1/5/2012    329.83   330.75   326.89  657.21    6,590,300\n",
       "   4 │ 1/6/2012    328.34   328.77   323.68  648.24    5,405,900\n",
       "   5 │ 1/9/2012    322.04   322.29   309.46  620.76    11,688,800\n",
       "   6 │ 1/10/2012   313.7    315.72   307.3   621.43    8,824,000\n",
       "   7 │ 1/11/2012   310.59   313.52   309.4   624.25    4,817,800\n",
       "   8 │ 1/12/2012   314.43   315.26   312.08  627.92    3,764,400\n",
       "   9 │ 1/13/2012   311.96   312.3    309.37  623.28    4,631,800\n",
       "  10 │ 1/17/2012   314.81   314.81   311.67  626.86    3,832,800"
      ]
     },
     "execution_count": 3,
     "metadata": {},
     "output_type": "execute_result"
    }
   ],
   "source": [
    "dataset_train = CSV.read(\"../data/Google_Stock_Price_Train.csv\", DataFrame)\n",
    "first(dataset_train, 10)"
   ]
  },
  {
   "cell_type": "code",
   "execution_count": 26,
   "id": "0f90c3fb-135b-4751-ae7b-14b8ab947065",
   "metadata": {
    "tags": []
   },
   "outputs": [
    {
     "name": "stdout",
     "output_type": "stream",
     "text": [
      "training_set isa AbstractVector = true\n"
     ]
    },
    {
     "data": {
      "text/plain": [
       "Summary Stats:\n",
       "Length:         1258\n",
       "Missing Count:  0\n",
       "Mean:           533.709839\n",
       "Minimum:        279.119995\n",
       "1st Quartile:   404.114990\n",
       "Median:         537.469971\n",
       "3rd Quartile:   654.922485\n",
       "Maximum:        816.679993\n"
      ]
     },
     "execution_count": 26,
     "metadata": {},
     "output_type": "execute_result"
    }
   ],
   "source": [
    "#training_set = select(dataset_train, :Open)\n",
    "training_set = Float32.(dataset_train.Open)\n",
    "@show training_set isa AbstractVector\n",
    "summarystats(training_set)"
   ]
  },
  {
   "cell_type": "markdown",
   "id": "e11fd235-ee79-4985-a457-e00525ee8773",
   "metadata": {},
   "source": [
    "### Apply Normalization"
   ]
  },
  {
   "cell_type": "code",
   "execution_count": 5,
   "id": "8c155cd8-da97-4dde-a6ba-9ca031d17c17",
   "metadata": {
    "tags": []
   },
   "outputs": [
    {
     "name": "stdout",
     "output_type": "stream",
     "text": [
      "size(training_set_scaled) = (1258,)\n"
     ]
    },
    {
     "data": {
      "text/plain": [
       "10-element Vector{Float32}:\n",
       " 0.085813686\n",
       " 0.097012416\n",
       " 0.09433364\n",
       " 0.091561876\n",
       " 0.07984228\n",
       " 0.06432773\n",
       " 0.058542304\n",
       " 0.06568569\n",
       " 0.06109085\n",
       " 0.06639259"
      ]
     },
     "execution_count": 5,
     "metadata": {},
     "output_type": "execute_result"
    }
   ],
   "source": [
    "scale_class = StatsBase.fit(UnitRangeTransform, training_set, dims=1)\n",
    "\n",
    "training_set_scaled = StatsBase.transform(scale_class, training_set)\n",
    "\n",
    "#training_set_scaled = [[Float32(x)] for x ∈ training_set_scaled]\n",
    "@show size(training_set_scaled)\n",
    "first(training_set_scaled, 10)"
   ]
  },
  {
   "cell_type": "markdown",
   "id": "f1645a7a-6980-46b9-84f5-df9ba6881819",
   "metadata": {},
   "source": [
    "### Data Structure for Time Steps"
   ]
  },
  {
   "cell_type": "raw",
   "id": "112d987f-16e3-4104-88c2-f82c080ed9a0",
   "metadata": {
    "tags": []
   },
   "source": [
    "X_train = zeros(Float32, 1198, 60)\n",
    "y_train = zeros(Float32, 1198, 1)\n",
    "trailing_days = 60\n",
    "\n",
    "for day in range(start = trailing_days, stop = length(training_set_scaled) - 1, step = 1)\n",
    "    #@show training_set_scaled[day - trailing_days + 1 : day]\n",
    "    X_train[day - trailing_days + 1, :] = reshape(training_set_scaled[day - trailing_days + 1 : day], (1, 60))\n",
    "    y_train[day - trailing_days + 1, :] = training_set_scaled[day + 1 : day + 1]\n",
    "end\n",
    "\n",
    "@show typeof(X_train), size(X_train)\n",
    "@show typeof(y_train), size(y_train)\n"
   ]
  },
  {
   "cell_type": "code",
   "execution_count": 6,
   "id": "89c7da76-fce7-44a9-b702-cd64a49d2aab",
   "metadata": {
    "tags": []
   },
   "outputs": [
    {
     "name": "stdout",
     "output_type": "stream",
     "text": [
      "size(permutedims(training_set_scaled[begin:end - 1])) = (1, 1257)\n",
      "size(permutedims(training_set_scaled[begin + 1:end])) = (1, 1257)\n",
      "(size(X_train), size(X_train[1]), typeof(X_train)) = ((60,), (1, 1198), Vector{Matrix{Float32}})\n",
      "(size(y_train), size(y_train[1]), typeof(y_train)) = ((60,), (1, 1198), Vector{Matrix{Float32}})\n"
     ]
    },
    {
     "data": {
      "text/plain": [
       "((60,), (1, 1198), Vector{Matrix{Float32}})"
      ]
     },
     "execution_count": 6,
     "metadata": {},
     "output_type": "execute_result"
    }
   ],
   "source": [
    "function batch_timeseries(X, s::Int, r::Int)\n",
    "    if isa(X, AbstractVector)       # If X is passed in format T×1, reshape it\n",
    "        X = permutedims(X)\n",
    "    end\n",
    "    T = size(X, 2)\n",
    "    @assert s ≤ T \"s cannot be longer than the total series\"\n",
    "    X = X[:, ((T - s) % r)+1:end]   # Ensure uniform sequence lengths\n",
    "    [X[:, t:r:end-s+t] for t ∈ 1:s] # Output\n",
    "end\n",
    "\n",
    "@show size(permutedims(training_set_scaled[begin:end-1]))\n",
    "@show size(permutedims(training_set_scaled[begin+1:end]))\n",
    "X_train = batch_timeseries(permutedims(training_set_scaled[begin:end-1]), 60, 1)\n",
    "y_train = batch_timeseries(permutedims(training_set_scaled[begin+1:end]), 60, 1)\n",
    "@show size(X_train), size(X_train[1]), typeof(X_train)\n",
    "@show size(y_train), size(y_train[1]), typeof(y_train)"
   ]
  },
  {
   "cell_type": "code",
   "execution_count": 7,
   "id": "2b96f039-4d8b-40ce-93e7-b19ecf68753f",
   "metadata": {
    "tags": []
   },
   "outputs": [
    {
     "data": {
      "text/plain": [
       "60-element Vector{Matrix{Float32}}:\n",
       " [0.085813686 0.097012416 … 0.9243806 0.9304822]\n",
       " [0.097012416 0.09433364 … 0.9304822 0.92990553]\n",
       " [0.09433364 0.091561876 … 0.92990553 0.9311332]\n",
       " [0.091561876 0.07984228 … 0.9311332 0.92750585]\n",
       " [0.07984228 0.06432773 … 0.92750585 0.94415504]\n",
       " [0.06432773 0.058542304 … 0.94415504 0.93876034]\n",
       " [0.058542304 0.06568569 … 0.93876034 0.93403524]\n",
       " [0.06568569 0.06109085 … 0.93403524 0.93483526]\n",
       " [0.06109085 0.06639259 … 0.93483526 0.9313937]\n",
       " [0.06639259 0.061425738 … 0.9313937 0.94636875]\n",
       " [0.061425738 0.07474513 … 0.94636875 0.9656969]\n",
       " [0.07474513 0.027978288 … 0.9656969 0.97510976]\n",
       " [0.027978288 0.023792708 … 0.97510976 0.95966965]\n",
       " ⋮\n",
       " [0.0448694 0.050654832 … 0.9411414 0.9576234]\n",
       " [0.050654832 0.052143015 … 0.9576234 0.9641343]\n",
       " [0.052143015 0.056123994 … 0.9641343 0.9640227]\n",
       " [0.056123994 0.058188852 … 0.9640227 0.96971506]\n",
       " [0.058188852 0.06540666 … 0.96971506 0.95077753]\n",
       " [0.06540666 0.06882953 … 0.95077753 0.96294373]\n",
       " [0.06882953 0.072438434 … 0.96294373 0.9612323]\n",
       " [0.072438434 0.07993527 … 0.9612323 0.9547585]\n",
       " [0.07993527 0.07846565 … 0.9547585 0.95204264]\n",
       " [0.07846565 0.08034453 … 0.95204264 0.95163333]\n",
       " [0.08034453 0.08497655 … 0.95163333 0.9572513]\n",
       " [0.08497655 0.08627875 … 0.9572513 0.93796045]"
      ]
     },
     "execution_count": 7,
     "metadata": {},
     "output_type": "execute_result"
    }
   ],
   "source": [
    "X_train"
   ]
  },
  {
   "cell_type": "code",
   "execution_count": 8,
   "id": "68a4fdf5-6a63-4203-b974-3a59871ce2e5",
   "metadata": {
    "tags": []
   },
   "outputs": [
    {
     "data": {
      "text/plain": [
       "60-element Vector{Matrix{Float32}}:\n",
       " [0.097012416 0.09433364 … 0.9304822 0.92990553]\n",
       " [0.09433364 0.091561876 … 0.92990553 0.9311332]\n",
       " [0.091561876 0.07984228 … 0.9311332 0.92750585]\n",
       " [0.07984228 0.06432773 … 0.92750585 0.94415504]\n",
       " [0.06432773 0.058542304 … 0.94415504 0.93876034]\n",
       " [0.058542304 0.06568569 … 0.93876034 0.93403524]\n",
       " [0.06568569 0.06109085 … 0.93403524 0.93483526]\n",
       " [0.06109085 0.06639259 … 0.93483526 0.9313937]\n",
       " [0.06639259 0.061425738 … 0.9313937 0.94636875]\n",
       " [0.061425738 0.07474513 … 0.94636875 0.9656969]\n",
       " [0.07474513 0.027978288 … 0.9656969 0.97510976]\n",
       " [0.027978288 0.023792708 … 0.97510976 0.95966965]\n",
       " [0.023792708 0.024090357 … 0.95966965 0.97808623]\n",
       " ⋮\n",
       " [0.050654832 0.052143015 … 0.9576234 0.9641343]\n",
       " [0.052143015 0.056123994 … 0.9641343 0.9640227]\n",
       " [0.056123994 0.058188852 … 0.9640227 0.96971506]\n",
       " [0.058188852 0.06540666 … 0.96971506 0.95077753]\n",
       " [0.06540666 0.06882953 … 0.95077753 0.96294373]\n",
       " [0.06882953 0.072438434 … 0.96294373 0.9612323]\n",
       " [0.072438434 0.07993527 … 0.9612323 0.9547585]\n",
       " [0.07993527 0.07846565 … 0.9547585 0.95204264]\n",
       " [0.07846565 0.08034453 … 0.95204264 0.95163333]\n",
       " [0.08034453 0.08497655 … 0.95163333 0.9572513]\n",
       " [0.08497655 0.08627875 … 0.9572513 0.93796045]\n",
       " [0.08627875 0.08471614 … 0.93796045 0.9368815]"
      ]
     },
     "execution_count": 8,
     "metadata": {},
     "output_type": "execute_result"
    }
   ],
   "source": [
    "y_train"
   ]
  },
  {
   "cell_type": "markdown",
   "id": "9553fef6-cd90-4f75-bc14-8a54ade446f7",
   "metadata": {
    "tags": []
   },
   "source": [
    "## Build the Model"
   ]
  },
  {
   "cell_type": "code",
   "execution_count": 9,
   "id": "629a710f-c0e1-4914-96e0-f51f6228caca",
   "metadata": {
    "tags": []
   },
   "outputs": [
    {
     "data": {
      "text/plain": [
       "Recur(\n",
       "  LSTMCell(1 => 50),                    \u001b[90m# 10_500 parameters\u001b[39m\n",
       ") \u001b[90m        # Total: 5 trainable arrays, \u001b[39m10_500 parameters,\n",
       "\u001b[90m          # plus 2 non-trainable, 100 parameters, summarysize \u001b[39m41.336 KiB."
      ]
     },
     "execution_count": 9,
     "metadata": {},
     "output_type": "execute_result"
    }
   ],
   "source": [
    "lstm_layer_1 = Flux.LSTM(1 => 50)"
   ]
  },
  {
   "cell_type": "code",
   "execution_count": 10,
   "id": "d93f2766-56ef-44c3-b81f-4ad323e04575",
   "metadata": {
    "tags": []
   },
   "outputs": [
    {
     "data": {
      "text/plain": [
       "Dropout(0.2)"
      ]
     },
     "execution_count": 10,
     "metadata": {},
     "output_type": "execute_result"
    }
   ],
   "source": [
    "dropout_layer_1 = Flux.Dropout(0.2)"
   ]
  },
  {
   "cell_type": "code",
   "execution_count": 11,
   "id": "e04a6ed7-0703-4dca-8a53-fb96cc809980",
   "metadata": {
    "tags": []
   },
   "outputs": [
    {
     "data": {
      "text/plain": [
       "Dropout(0.2)"
      ]
     },
     "execution_count": 11,
     "metadata": {},
     "output_type": "execute_result"
    }
   ],
   "source": [
    "lstm_layer_2 = Flux.LSTM(50 => 50)\n",
    "dropout_layer_2 = Flux.Dropout(0.2)\n",
    "\n",
    "lstm_layer_3 = Flux.LSTM(50 => 50)\n",
    "dropout_layer_3 = Flux.Dropout(0.2)\n",
    "\n",
    "lstm_layer_4 = Flux.LSTM(50 => 50)\n",
    "dropout_layer_4 = Flux.Dropout(0.2)"
   ]
  },
  {
   "cell_type": "code",
   "execution_count": 12,
   "id": "ceb92636-4d47-4f00-9951-d19741c666ee",
   "metadata": {
    "tags": []
   },
   "outputs": [
    {
     "data": {
      "text/plain": [
       "Dense(50 => 1)      \u001b[90m# 51 parameters\u001b[39m"
      ]
     },
     "execution_count": 12,
     "metadata": {},
     "output_type": "execute_result"
    }
   ],
   "source": [
    "output_layer = Flux.Dense(50 => 1)"
   ]
  },
  {
   "cell_type": "code",
   "execution_count": 13,
   "id": "7305a59c-c368-4337-8a18-c5369586f676",
   "metadata": {
    "tags": []
   },
   "outputs": [
    {
     "data": {
      "text/plain": [
       "Chain(\n",
       "  Recur(\n",
       "    LSTMCell(1 => 50),                  \u001b[90m# 10_500 parameters\u001b[39m\n",
       "  ),\n",
       "  Dropout(0.2),\n",
       "  Recur(\n",
       "    LSTMCell(50 => 50),                 \u001b[90m# 20_300 parameters\u001b[39m\n",
       "  ),\n",
       "  Dropout(0.2),\n",
       "  Recur(\n",
       "    LSTMCell(50 => 50),                 \u001b[90m# 20_300 parameters\u001b[39m\n",
       "  ),\n",
       "  Dropout(0.2),\n",
       "  Recur(\n",
       "    LSTMCell(50 => 50),                 \u001b[90m# 20_300 parameters\u001b[39m\n",
       "  ),\n",
       "  Dropout(0.2),\n",
       "  Dense(50 => 1),                       \u001b[90m# 51 parameters\u001b[39m\n",
       ") \u001b[90m        # Total: 22 trainable arrays, \u001b[39m71_451 parameters,\n",
       "\u001b[90m          # plus 8 non-trainable, 400 parameters, summarysize \u001b[39m280.699 KiB."
      ]
     },
     "execution_count": 13,
     "metadata": {},
     "output_type": "execute_result"
    }
   ],
   "source": [
    "model = Chain(lstm_layer_1, \n",
    "    dropout_layer_1, \n",
    "    lstm_layer_2, \n",
    "    dropout_layer_2,\n",
    "    lstm_layer_3, \n",
    "    dropout_layer_3,\n",
    "    lstm_layer_4,\n",
    "    #x -> x[:, end],\n",
    "    dropout_layer_4,\n",
    "    output_layer)"
   ]
  },
  {
   "cell_type": "markdown",
   "id": "51449ab2-9f19-4fa6-af90-eb6ec643d982",
   "metadata": {},
   "source": [
    "## Train the RNN"
   ]
  },
  {
   "cell_type": "markdown",
   "id": "ce5bdec2-5726-47d0-8e82-fa838a4473c0",
   "metadata": {},
   "source": [
    "#### Load Data into the dataloader"
   ]
  },
  {
   "cell_type": "code",
   "execution_count": 14,
   "id": "761e1ab3-99d5-4af9-b038-e8b236cd0ee3",
   "metadata": {
    "tags": []
   },
   "outputs": [
    {
     "name": "stdout",
     "output_type": "stream",
     "text": [
      "(size(X_train), typeof(X_train)) = ((60,), Vector{Matrix{Float32}})\n",
      "(size(y_train), typeof(y_train)) = ((60,), Vector{Matrix{Float32}})\n"
     ]
    },
    {
     "data": {
      "text/plain": [
       "((60,), Vector{Matrix{Float32}})"
      ]
     },
     "execution_count": 14,
     "metadata": {},
     "output_type": "execute_result"
    }
   ],
   "source": [
    "@show size(X_train), typeof(X_train)\n",
    "@show size(y_train), typeof(y_train)\n",
    "\n",
    "#train_data_loader = Flux.DataLoader(X_train, transpose(y_train); batchsize = 16, partial = false)"
   ]
  },
  {
   "cell_type": "markdown",
   "id": "e09cb93a-a7c4-4334-abfb-52f414d25aba",
   "metadata": {},
   "source": [
    "#### Setup the Optimizer"
   ]
  },
  {
   "cell_type": "code",
   "execution_count": 15,
   "id": "a1a6968f-50f7-4d93-a417-402df86f163c",
   "metadata": {
    "tags": []
   },
   "outputs": [
    {
     "data": {
      "text/plain": [
       "Adam(0.01, (0.9, 0.999), 1.0e-8, IdDict{Any, Any}())"
      ]
     },
     "execution_count": 15,
     "metadata": {},
     "output_type": "execute_result"
    }
   ],
   "source": [
    "#optimizer = Flux.setup(Flux.Adam(0.01), model)\n",
    "optimizer = Flux.Adam(0.01)"
   ]
  },
  {
   "cell_type": "markdown",
   "id": "4f0d48ff-6ef8-4ccb-bad2-9a581fe902a8",
   "metadata": {},
   "source": [
    "#### Setup the Loss Function"
   ]
  },
  {
   "cell_type": "raw",
   "id": "fc0ba991-24d7-489f-9a2a-b66e269c5aa7",
   "metadata": {
    "tags": []
   },
   "source": [
    "function loss(m, x, y)\n",
    "    #@show size(y)\n",
    "    #@show size(m(x))\n",
    "    Flux.reset!(m)\n",
    "    Flux.mse(m(x)[end], y[end])\n",
    "end"
   ]
  },
  {
   "cell_type": "markdown",
   "id": "b75849b2-2117-4647-8901-9a6c1c0a31de",
   "metadata": {},
   "source": [
    "#### Train on the dataset"
   ]
  },
  {
   "cell_type": "code",
   "execution_count": 16,
   "id": "b982bb20-3aec-4833-99a4-ab8a0ede920a",
   "metadata": {
    "tags": []
   },
   "outputs": [
    {
     "name": "stderr",
     "output_type": "stream",
     "text": [
      "\u001b[32mProgress: 100%|█████████████████████████████████████████| Time: 0:04:52\u001b[39m\n"
     ]
    }
   ],
   "source": [
    "number_epochs = 100\n",
    "\n",
    "theta = Flux.params(model)\n",
    "\n",
    "@showprogress  for epoch in 1:number_epochs\n",
    "    Flux.reset!(model)\n",
    "    \n",
    "    delta = gradient(theta) do \n",
    "        #model(X_train[1])\n",
    "        Flux.Losses.mse.([model(x) for x in X_train], y_train) |> mean\n",
    "    end\n",
    "    Flux.update!(optimizer, theta, delta)\n",
    "    #Flux.train!(loss, model, train_data_loader, optimizer)\n",
    "end"
   ]
  },
  {
   "cell_type": "code",
   "execution_count": 17,
   "id": "a889b793-0378-474e-9a3f-7537632c4450",
   "metadata": {
    "tags": []
   },
   "outputs": [
    {
     "data": {
      "text/plain": [
       "60×1198 Matrix{Float32}:\n",
       " 0.183013  0.160393  0.184184  0.143454  …  0.658746  0.650613  0.640387\n",
       " 0.179766  0.166007  0.178721  0.144786     0.655012  0.654235  0.649732\n",
       " 0.17559   0.17117   0.173413  0.147072     0.656182  0.656509  0.652724\n",
       " 0.172645  0.173731  0.169463  0.150133     0.656325  0.657268  0.654614\n",
       " 0.170427  0.174839  0.166442  0.152926     0.656505  0.657515  0.655625\n",
       " 0.168658  0.174919  0.164237  0.15519   …  0.656605  0.657561  0.656214\n",
       " 0.167155  0.174313  0.162713  0.156912     0.656663  0.657532  0.656564\n",
       " 0.165821  0.173258  0.161738  0.158157     0.65669   0.657479  0.656776\n",
       " 0.16461   0.171932  0.161175  0.159023     0.656696  0.657422  0.656905\n",
       " 0.163516  0.170455  0.160912  0.159582     0.656691  0.657369  0.656985\n",
       " 0.162541  0.168926  0.160833  0.159925  …  0.656679  0.657324  0.657035\n",
       " 0.161698  0.167405  0.160876  0.160108     0.656663  0.657285  0.657067\n",
       " 0.160978  0.165966  0.160975  0.160182     0.656647  0.657254  0.657087\n",
       " ⋮                                       ⋱  ⋮                   \n",
       " 0.160171  0.1602    0.160335  0.160163     0.656493  0.657078  0.656888\n",
       " 0.160173  0.160201  0.160328  0.160168     0.656494  0.65708   0.656845\n",
       " 0.160176  0.160203  0.160321  0.160174  …  0.656496  0.657082  0.656806\n",
       " 0.16018   0.160204  0.160316  0.160179     0.656498  0.657084  0.656771\n",
       " 0.160184  0.160207  0.160311  0.160184     0.6565    0.657086  0.656739\n",
       " 0.160188  0.16021   0.160308  0.16019      0.656503  0.657088  0.65671\n",
       " 0.160193  0.160213  0.160305  0.160195     0.656505  0.657089  0.656685\n",
       " 0.160197  0.160216  0.160301  0.160199  …  0.656506  0.65709   0.656663\n",
       " 0.160202  0.160219  0.160298  0.160203     0.656508  0.65709   0.656643\n",
       " 0.160206  0.160222  0.160296  0.160207     0.656509  0.65709   0.656625\n",
       " 0.160209  0.160224  0.160293  0.16021      0.65651   0.657091  0.65661\n",
       " 0.160213  0.160226  0.16029   0.160211     0.656511  0.657091  0.656597"
      ]
     },
     "execution_count": 17,
     "metadata": {},
     "output_type": "execute_result"
    }
   ],
   "source": [
    "vcat([model(x) for x in X_train]...)"
   ]
  },
  {
   "cell_type": "code",
   "execution_count": 18,
   "id": "ebde7d08-7495-4694-a9b3-36b994420244",
   "metadata": {
    "tags": []
   },
   "outputs": [
    {
     "data": {
      "text/plain": [
       "60-element Vector{Matrix{Float32}}:\n",
       " [0.097012416 0.09433364 … 0.9304822 0.92990553]\n",
       " [0.09433364 0.091561876 … 0.92990553 0.9311332]\n",
       " [0.091561876 0.07984228 … 0.9311332 0.92750585]\n",
       " [0.07984228 0.06432773 … 0.92750585 0.94415504]\n",
       " [0.06432773 0.058542304 … 0.94415504 0.93876034]\n",
       " [0.058542304 0.06568569 … 0.93876034 0.93403524]\n",
       " [0.06568569 0.06109085 … 0.93403524 0.93483526]\n",
       " [0.06109085 0.06639259 … 0.93483526 0.9313937]\n",
       " [0.06639259 0.061425738 … 0.9313937 0.94636875]\n",
       " [0.061425738 0.07474513 … 0.94636875 0.9656969]\n",
       " [0.07474513 0.027978288 … 0.9656969 0.97510976]\n",
       " [0.027978288 0.023792708 … 0.97510976 0.95966965]\n",
       " [0.023792708 0.024090357 … 0.95966965 0.97808623]\n",
       " ⋮\n",
       " [0.050654832 0.052143015 … 0.9576234 0.9641343]\n",
       " [0.052143015 0.056123994 … 0.9641343 0.9640227]\n",
       " [0.056123994 0.058188852 … 0.9640227 0.96971506]\n",
       " [0.058188852 0.06540666 … 0.96971506 0.95077753]\n",
       " [0.06540666 0.06882953 … 0.95077753 0.96294373]\n",
       " [0.06882953 0.072438434 … 0.96294373 0.9612323]\n",
       " [0.072438434 0.07993527 … 0.9612323 0.9547585]\n",
       " [0.07993527 0.07846565 … 0.9547585 0.95204264]\n",
       " [0.07846565 0.08034453 … 0.95204264 0.95163333]\n",
       " [0.08034453 0.08497655 … 0.95163333 0.9572513]\n",
       " [0.08497655 0.08627875 … 0.9572513 0.93796045]\n",
       " [0.08627875 0.08471614 … 0.93796045 0.9368815]"
      ]
     },
     "execution_count": 18,
     "metadata": {},
     "output_type": "execute_result"
    }
   ],
   "source": [
    "y_train"
   ]
  },
  {
   "cell_type": "raw",
   "id": "ac20bf29-710a-429b-873e-2e3741b98967",
   "metadata": {
    "tags": []
   },
   "source": [
    "function loss(m, x, y)\n",
    "    Flux.reset!(m)\n",
    "    sum(mse(m(xi), yi) for (xi, yi) in zip(x, y))\n",
    "end\n",
    "\n",
    "optimizer = Flux.setup(Adam(0.01), model)\n",
    "Flux.reset!(model)\n",
    "Flux.train!(loss, model, zip(X_train, y_train), optimizer)"
   ]
  },
  {
   "cell_type": "markdown",
   "id": "6b935bb9-d0c3-43d5-aafb-f66d4dde3613",
   "metadata": {},
   "source": [
    "## Testing the model"
   ]
  },
  {
   "cell_type": "code",
   "execution_count": 19,
   "id": "f9f4ed8f-04ab-439a-8b4a-b32d2719d3a7",
   "metadata": {
    "tags": []
   },
   "outputs": [
    {
     "data": {
      "text/plain": [
       "20-element Vector{Float32}:\n",
       " 778.81\n",
       " 788.36\n",
       " 786.08\n",
       " 795.26\n",
       " 806.4\n",
       " 807.86\n",
       " 805.0\n",
       " 807.14\n",
       " 807.48\n",
       " 807.08\n",
       " 805.81\n",
       " 805.12\n",
       " 806.91\n",
       " 807.25\n",
       " 822.3\n",
       " 829.62\n",
       " 837.81\n",
       " 834.71\n",
       " 814.66\n",
       " 796.86"
      ]
     },
     "execution_count": 19,
     "metadata": {},
     "output_type": "execute_result"
    }
   ],
   "source": [
    "dataset_test = DataFrame(CSV.File(\"../data/Google_Stock_Price_Test.csv\"))\n",
    "real_stock_price = Float32.(dataset_test.Open)"
   ]
  },
  {
   "cell_type": "code",
   "execution_count": 20,
   "id": "2be68ffb-8dc5-41ee-bd36-b08055b814ae",
   "metadata": {
    "tags": []
   },
   "outputs": [
    {
     "name": "stdout",
     "output_type": "stream",
     "text": [
      "first(dataset_train) = DataFrameRow\n",
      " Row │ Date      Open     High     Low      Close     Volume\n",
      "     │ String15  Float64  Float64  Float64  String15  String15\n",
      "─────┼──────────────────────────────────────────────────────────\n",
      "   1 │ 1/3/2012   325.25   332.83   324.97  663.59    7,380,500\n",
      "first(dataset_test) = DataFrameRow\n",
      " Row │ Date      Open     High     Low      Close    Volume\n",
      "     │ String15  Float64  Float64  Float64  Float64  String15\n",
      "─────┼─────────────────────────────────────────────────────────\n",
      "   1 │ 1/3/2017   778.81   789.63    775.8   786.14  1,657,300\n"
     ]
    },
    {
     "data": {
      "text/html": [
       "<div><div style = \"float: left;\"><span>DataFrameRow (6 columns)</span></div><div style = \"clear: both;\"></div></div><div class = \"data-frame\" style = \"overflow-x: scroll;\"><table class = \"data-frame\" style = \"margin-bottom: 6px;\"><thead><tr class = \"header\"><th class = \"rowLabel\" style = \"font-weight: bold; text-align: right;\">Row</th><th style = \"text-align: left;\">Date</th><th style = \"text-align: left;\">Open</th><th style = \"text-align: left;\">High</th><th style = \"text-align: left;\">Low</th><th style = \"text-align: left;\">Close</th><th style = \"text-align: left;\">Volume</th></tr><tr class = \"subheader headerLastRow\"><th class = \"rowLabel\" style = \"font-weight: bold; text-align: right;\"></th><th title = \"String15\" style = \"text-align: left;\">String15</th><th title = \"Float64\" style = \"text-align: left;\">Float64</th><th title = \"Float64\" style = \"text-align: left;\">Float64</th><th title = \"Float64\" style = \"text-align: left;\">Float64</th><th title = \"Float64\" style = \"text-align: left;\">Float64</th><th title = \"String15\" style = \"text-align: left;\">String15</th></tr></thead><tbody><tr><td class = \"rowLabel\" style = \"font-weight: bold; text-align: right;\">1</td><td style = \"text-align: left;\">1/3/2017</td><td style = \"text-align: right;\">778.81</td><td style = \"text-align: right;\">789.63</td><td style = \"text-align: right;\">775.8</td><td style = \"text-align: right;\">786.14</td><td style = \"text-align: left;\">1,657,300</td></tr></tbody></table></div>"
      ],
      "text/latex": [
       "\\begin{tabular}{r|cccccc}\n",
       "\t& Date & Open & High & Low & Close & Volume\\\\\n",
       "\t\\hline\n",
       "\t& String15 & Float64 & Float64 & Float64 & Float64 & String15\\\\\n",
       "\t\\hline\n",
       "\t1 & 1/3/2017 & 778.81 & 789.63 & 775.8 & 786.14 & 1,657,300 \\\\\n",
       "\\end{tabular}\n"
      ],
      "text/plain": [
       "\u001b[1mDataFrameRow\u001b[0m\n",
       "\u001b[1m Row \u001b[0m│\u001b[1m Date     \u001b[0m\u001b[1m Open    \u001b[0m\u001b[1m High    \u001b[0m\u001b[1m Low     \u001b[0m\u001b[1m Close   \u001b[0m\u001b[1m Volume    \u001b[0m\n",
       "     │\u001b[90m String15 \u001b[0m\u001b[90m Float64 \u001b[0m\u001b[90m Float64 \u001b[0m\u001b[90m Float64 \u001b[0m\u001b[90m Float64 \u001b[0m\u001b[90m String15  \u001b[0m\n",
       "─────┼─────────────────────────────────────────────────────────\n",
       "   1 │ 1/3/2017   778.81   789.63    775.8   786.14  1,657,300"
      ]
     },
     "execution_count": 20,
     "metadata": {},
     "output_type": "execute_result"
    }
   ],
   "source": [
    "@show first(dataset_train)\n",
    "@show first(dataset_test)"
   ]
  },
  {
   "cell_type": "code",
   "execution_count": 21,
   "id": "89638abc-77e5-46b8-af4d-64eb9f991224",
   "metadata": {
    "tags": []
   },
   "outputs": [
    {
     "name": "stdout",
     "output_type": "stream",
     "text": [
      "(size(dataset_total), dataset_total[1]) = ((80,), 779.0f0)\n"
     ]
    },
    {
     "data": {
      "text/plain": [
       "((80,), 779.0f0)"
      ]
     },
     "execution_count": 21,
     "metadata": {},
     "output_type": "execute_result"
    }
   ],
   "source": [
    "dataset_total = Float32.(DataFrames.vcat(training_set, real_stock_price))[1258-59:end]\n",
    "@show size(dataset_total), dataset_total[1]"
   ]
  },
  {
   "cell_type": "raw",
   "id": "db654658-8722-4ba1-8a96-75d3647cb966",
   "metadata": {
    "tags": []
   },
   "source": [
    "@show pos = size(dataset_total, 1) - size(dataset_test, 1)\n",
    "\n",
    "inputs = zeros(Float32, 20, 60)\n",
    "\n",
    "for day in range(1, stop = 20, step = 1)\n",
    "    #@show training_set_scaled[day - trailing_days + 1 : day]\n",
    "    #inputs[day - trailing_days + 1, :] = reshape(training_set_scaled[day - trailing_days + 1 : day], (1, 60))\n",
    "    inputs[day, :] = reshape(StatsBase.transform(scale_class, transpose(dataset_total[pos - 60 + day : pos + day - 1 ])), (1, 60))\n",
    "end\n",
    "\n",
    "#inputs_2 = [reshape(StatsBase.transform(scale_class, dataset_total[pos - 60 + x + 1:pos + x ]), (1, 60)) for x in range(0, 19)]\n",
    "#@show first(inputs_2)\n",
    "inputs[2, :]"
   ]
  },
  {
   "cell_type": "code",
   "execution_count": 22,
   "id": "971dd9ac-5352-4238-98dd-53cf49daa84e",
   "metadata": {
    "tags": []
   },
   "outputs": [
    {
     "name": "stdout",
     "output_type": "stream",
     "text": [
      "(size(inputs), typeof(inputs)) = ((60,), Vector{Matrix{Float32}})\n",
      "(size(inputs[1]), typeof(inputs[1])) = ((1, 21), Matrix{Float32})\n",
      "size((inputs[:, 1])[3]) = (1, 21)\n"
     ]
    },
    {
     "data": {
      "text/plain": [
       "(1, 21)"
      ]
     },
     "execution_count": 22,
     "metadata": {},
     "output_type": "execute_result"
    }
   ],
   "source": [
    "test_set_scaled = StatsBase.transform(scale_class, dataset_total)\n",
    "\n",
    "inputs = batch_timeseries(permutedims(test_set_scaled), 60, 1)\n",
    "@show size(inputs), typeof(inputs)\n",
    "@show size(inputs[1]), typeof(inputs[1])\n",
    "@show size(inputs[:, 1][3])\n",
    "\n",
    "#y_train = batch_timeseries(permutedims(dataset_total), 60, 1)"
   ]
  },
  {
   "cell_type": "code",
   "execution_count": 23,
   "id": "80a7fb1a-790f-478d-ba32-01cda0428005",
   "metadata": {
    "tags": []
   },
   "outputs": [
    {
     "data": {
      "text/plain": [
       "1×21 Matrix{Float32}:\n",
       " 0.656513  0.656512  0.656512  0.656512  …  0.656533  0.656534  0.656535"
      ]
     },
     "execution_count": 23,
     "metadata": {},
     "output_type": "execute_result"
    }
   ],
   "source": [
    "Flux.reset!(model)\n",
    "preds = [model(x) for x in inputs]\n",
    "preds[60]"
   ]
  },
  {
   "cell_type": "code",
   "execution_count": 24,
   "id": "f7fe9184-5e4c-4afb-9070-2d94013d507b",
   "metadata": {
    "tags": []
   },
   "outputs": [
    {
     "data": {
      "text/plain": [
       "21-element Vector{Float32}:\n",
       " 632.0349\n",
       " 632.0348\n",
       " 632.0348\n",
       " 632.0348\n",
       " 632.0349\n",
       " 632.0355\n",
       " 632.03625\n",
       " 632.0371\n",
       " 632.03796\n",
       " 632.03876\n",
       " 632.0395\n",
       " 632.04004\n",
       " 632.0406\n",
       " 632.04114\n",
       " 632.0415\n",
       " 632.0422\n",
       " 632.0432\n",
       " 632.0443\n",
       " 632.04565\n",
       " 632.04663\n",
       " 632.0468"
      ]
     },
     "execution_count": 24,
     "metadata": {},
     "output_type": "execute_result"
    }
   ],
   "source": [
    "predicted_stock_prices = StatsBase.reconstruct(scale_class, vec(preds[60]))"
   ]
  },
  {
   "cell_type": "code",
   "execution_count": null,
   "id": "99c442ae-fe82-40eb-a725-c9baa2c08bef",
   "metadata": {
    "tags": []
   },
   "outputs": [],
   "source": []
  }
 ],
 "metadata": {
  "kernelspec": {
   "display_name": "Julia 1.8.5",
   "language": "julia",
   "name": "julia-1.8"
  },
  "language_info": {
   "file_extension": ".jl",
   "mimetype": "application/julia",
   "name": "julia",
   "version": "1.8.5"
  }
 },
 "nbformat": 4,
 "nbformat_minor": 5
}

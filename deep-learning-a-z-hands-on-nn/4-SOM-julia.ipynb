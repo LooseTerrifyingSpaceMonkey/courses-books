{
 "cells": [
  {
   "cell_type": "code",
   "execution_count": 1,
   "id": "2fe25ad8-b190-4352-874c-dfa7dc89b3f3",
   "metadata": {
    "tags": []
   },
   "outputs": [
    {
     "name": "stderr",
     "output_type": "stream",
     "text": [
      "\u001b[32m\u001b[1m    Updating\u001b[22m\u001b[39m registry at `/opt/julia/registries/General.toml`\n",
      "\u001b[32m\u001b[1m   Resolving\u001b[22m\u001b[39m package versions...\n",
      "\u001b[32m\u001b[1m   Installed\u001b[22m\u001b[39m Blosc_jll ─────────────────── v1.21.2+0\n",
      "\u001b[32m\u001b[1m   Installed\u001b[22m\u001b[39m ColorTypes ────────────────── v0.11.4\n",
      "\u001b[32m\u001b[1m   Installed\u001b[22m\u001b[39m StatsFuns ─────────────────── v0.9.8\n",
      "\u001b[32m\u001b[1m   Installed\u001b[22m\u001b[39m Rmath ─────────────────────── v0.7.1\n",
      "\u001b[32m\u001b[1m   Installed\u001b[22m\u001b[39m JSON ──────────────────────── v0.21.1\n",
      "\u001b[32m\u001b[1m   Installed\u001b[22m\u001b[39m Zstd_jll ──────────────────── v1.5.5+0\n",
      "\u001b[32m\u001b[1m   Installed\u001b[22m\u001b[39m SOM ───────────────────────── v0.4.1\n",
      "\u001b[32m\u001b[1m   Installed\u001b[22m\u001b[39m Arpack_jll ────────────────── v3.5.1+1\n",
      "\u001b[32m\u001b[1m   Installed\u001b[22m\u001b[39m Mocking ───────────────────── v0.7.2\n",
      "\u001b[32m\u001b[1m   Installed\u001b[22m\u001b[39m TableTraits ───────────────── v1.0.1\n",
      "\u001b[32m\u001b[1m   Installed\u001b[22m\u001b[39m Parsers ───────────────────── v0.3.12\n",
      "\u001b[32m\u001b[1m   Installed\u001b[22m\u001b[39m SpecialFunctions ──────────── v0.9.0\n",
      "\u001b[32m\u001b[1m   Installed\u001b[22m\u001b[39m CategoricalArrays ─────────── v0.7.7\n",
      "\u001b[32m\u001b[1m   Installed\u001b[22m\u001b[39m Tables ────────────────────── v0.2.11\n",
      "\u001b[32m\u001b[1m   Installed\u001b[22m\u001b[39m PDMats ────────────────────── v0.9.12\n",
      "\u001b[32m\u001b[1m   Installed\u001b[22m\u001b[39m DataAPI ───────────────────── v1.14.0\n",
      "\u001b[32m\u001b[1m   Installed\u001b[22m\u001b[39m PyCall ────────────────────── v1.95.1\n",
      "\u001b[32m\u001b[1m   Installed\u001b[22m\u001b[39m FixedPointNumbers ─────────── v0.8.4\n",
      "\u001b[32m\u001b[1m   Installed\u001b[22m\u001b[39m TimeZones ─────────────────── v1.5.9\n",
      "\u001b[32m\u001b[1m   Installed\u001b[22m\u001b[39m PooledArrays ──────────────── v0.5.3\n",
      "\u001b[32m\u001b[1m   Installed\u001b[22m\u001b[39m RecipesBase ───────────────── v1.3.3\n",
      "\u001b[32m\u001b[1m   Installed\u001b[22m\u001b[39m DataValueInterfaces ───────── v1.0.0\n",
      "\u001b[32m\u001b[1m   Installed\u001b[22m\u001b[39m IteratorInterfaceExtensions ─ v1.0.0\n",
      "\u001b[32m\u001b[1m   Installed\u001b[22m\u001b[39m ProgressMeter ─────────────── v1.7.2\n",
      "\u001b[32m\u001b[1m   Installed\u001b[22m\u001b[39m OrderedCollections ────────── v1.6.0\n",
      "\u001b[32m\u001b[1m   Installed\u001b[22m\u001b[39m PyPlot ────────────────────── v2.11.1\n",
      "\u001b[32m\u001b[1m   Installed\u001b[22m\u001b[39m LaTeXStrings ──────────────── v1.3.0\n",
      "\u001b[32m\u001b[1m   Installed\u001b[22m\u001b[39m Arpack ────────────────────── v0.4.0\n",
      "\u001b[32m\u001b[1m   Installed\u001b[22m\u001b[39m TranscodingStreams ────────── v0.9.12\n",
      "\u001b[32m\u001b[1m   Installed\u001b[22m\u001b[39m HDF5 ──────────────────────── v0.13.7\n",
      "\u001b[32m\u001b[1m   Installed\u001b[22m\u001b[39m InvertedIndices ───────────── v1.3.0\n",
      "\u001b[32m\u001b[1m   Installed\u001b[22m\u001b[39m FilePathsBase ─────────────── v0.7.0\n",
      "\u001b[32m\u001b[1m   Installed\u001b[22m\u001b[39m FileIO ────────────────────── v1.16.0\n",
      "\u001b[32m\u001b[1m   Installed\u001b[22m\u001b[39m FillArrays ────────────────── v0.8.14\n",
      "\u001b[32m\u001b[1m   Installed\u001b[22m\u001b[39m CSV ───────────────────────── v0.5.23\n",
      "\u001b[32m\u001b[1m   Installed\u001b[22m\u001b[39m DataFrames ────────────────── v0.19.4\n",
      "\u001b[32m\u001b[1m   Installed\u001b[22m\u001b[39m QuadGK ────────────────────── v2.8.2\n",
      "\u001b[32m\u001b[1m   Installed\u001b[22m\u001b[39m Rmath_jll ─────────────────── v0.4.0+0\n",
      "\u001b[32m\u001b[1m   Installed\u001b[22m\u001b[39m Reexport ──────────────────── v0.2.0\n",
      "\u001b[32m\u001b[1m   Installed\u001b[22m\u001b[39m Lz4_jll ───────────────────── v1.9.3+0\n",
      "\u001b[32m\u001b[1m   Installed\u001b[22m\u001b[39m WeakRefStrings ────────────── v0.6.2\n",
      "\u001b[32m\u001b[1m   Installed\u001b[22m\u001b[39m BinaryProvider ────────────── v0.5.10\n",
      "\u001b[32m\u001b[1m   Installed\u001b[22m\u001b[39m DataStructures ────────────── v0.17.20\n",
      "\u001b[32m\u001b[1m   Installed\u001b[22m\u001b[39m Colors ────────────────────── v0.12.10\n",
      "\u001b[32m\u001b[1m   Installed\u001b[22m\u001b[39m Compat ────────────────────── v2.2.1\n",
      "\u001b[32m\u001b[1m   Installed\u001b[22m\u001b[39m MacroTools ────────────────── v0.5.10\n",
      "\u001b[32m\u001b[1m   Installed\u001b[22m\u001b[39m OpenSpecFun_jll ───────────── v0.5.5+0\n",
      "\u001b[32m\u001b[1m   Installed\u001b[22m\u001b[39m ExprTools ─────────────────── v0.1.9\n",
      "\u001b[32m\u001b[1m   Installed\u001b[22m\u001b[39m LogExpFunctions ───────────── v0.2.5\n",
      "\u001b[32m\u001b[1m   Installed\u001b[22m\u001b[39m Distributions ─────────────── v0.21.12\n",
      "\u001b[32m\u001b[1m   Installed\u001b[22m\u001b[39m CodecZlib ─────────────────── v0.6.0\n",
      "\u001b[32m\u001b[1m   Installed\u001b[22m\u001b[39m SortingAlgorithms ─────────── v0.3.2\n",
      "\u001b[32m\u001b[1m   Installed\u001b[22m\u001b[39m Distances ─────────────────── v0.8.2\n",
      "\u001b[32m\u001b[1m   Installed\u001b[22m\u001b[39m StatsBase ─────────────────── v0.32.2\n",
      "\u001b[32m\u001b[1m   Installed\u001b[22m\u001b[39m Missings ──────────────────── v0.4.5\n",
      "\u001b[32m\u001b[1m   Installed\u001b[22m\u001b[39m RDatasets ─────────────────── v0.6.10\n",
      "\u001b[32m\u001b[1m   Installed\u001b[22m\u001b[39m HDF5_jll ──────────────────── v1.10.5+7\n",
      "\u001b[32m\u001b[1m   Installed\u001b[22m\u001b[39m Blosc ─────────────────────── v0.7.3\n",
      "\u001b[32m\u001b[1m   Installed\u001b[22m\u001b[39m DocStringExtensions ───────── v0.8.6\n",
      "\u001b[32m\u001b[1m   Installed\u001b[22m\u001b[39m RData ─────────────────────── v0.7.1\n",
      "\u001b[32m\u001b[1m    Updating\u001b[22m\u001b[39m `/opt/julia/environments/v1.8/Project.toml`\n",
      "\u001b[32m⌃\u001b[39m\u001b[90m [f67ccb44] \u001b[39m\u001b[95m↓ HDF5 v0.16.14 ⇒ v0.13.7\u001b[39m\n",
      " \u001b[90m [172a5912] \u001b[39m\u001b[92m+ SOM v0.4.1\u001b[39m\n",
      "\u001b[32m\u001b[1m    Updating\u001b[22m\u001b[39m `/opt/julia/environments/v1.8/Manifest.toml`\n",
      "\u001b[33m⌅\u001b[39m\u001b[90m [7d9fca2a] \u001b[39m\u001b[92m+ Arpack v0.4.0\u001b[39m\n",
      " \u001b[90m [b99e7846] \u001b[39m\u001b[92m+ BinaryProvider v0.5.10\u001b[39m\n",
      " \u001b[90m [a74b3585] \u001b[39m\u001b[92m+ Blosc v0.7.3\u001b[39m\n",
      "\u001b[33m⌅\u001b[39m\u001b[90m [336ed68f] \u001b[39m\u001b[92m+ CSV v0.5.23\u001b[39m\n",
      "\u001b[33m⌅\u001b[39m\u001b[90m [324d7699] \u001b[39m\u001b[92m+ CategoricalArrays v0.7.7\u001b[39m\n",
      "\u001b[33m⌅\u001b[39m\u001b[90m [944b1d66] \u001b[39m\u001b[92m+ CodecZlib v0.6.0\u001b[39m\n",
      " \u001b[90m [3da002f7] \u001b[39m\u001b[92m+ ColorTypes v0.11.4\u001b[39m\n",
      " \u001b[90m [5ae59095] \u001b[39m\u001b[92m+ Colors v0.12.10\u001b[39m\n",
      "\u001b[33m⌅\u001b[39m\u001b[90m [34da2185] \u001b[39m\u001b[95m↓ Compat v4.6.1 ⇒ v2.2.1\u001b[39m\n",
      " \u001b[90m [9a962f9c] \u001b[39m\u001b[92m+ DataAPI v1.14.0\u001b[39m\n",
      "\u001b[33m⌅\u001b[39m\u001b[90m [a93c6f00] \u001b[39m\u001b[92m+ DataFrames v0.19.4\u001b[39m\n",
      "\u001b[33m⌅\u001b[39m\u001b[90m [864edb3b] \u001b[39m\u001b[92m+ DataStructures v0.17.20\u001b[39m\n",
      " \u001b[90m [e2d170a0] \u001b[39m\u001b[92m+ DataValueInterfaces v1.0.0\u001b[39m\n",
      "\u001b[33m⌅\u001b[39m\u001b[90m [b4f34e82] \u001b[39m\u001b[92m+ Distances v0.8.2\u001b[39m\n",
      "\u001b[33m⌅\u001b[39m\u001b[90m [31c24e10] \u001b[39m\u001b[92m+ Distributions v0.21.12\u001b[39m\n",
      "\u001b[33m⌅\u001b[39m\u001b[90m [ffbed154] \u001b[39m\u001b[92m+ DocStringExtensions v0.8.6\u001b[39m\n",
      " \u001b[90m [e2ba6199] \u001b[39m\u001b[92m+ ExprTools v0.1.9\u001b[39m\n",
      " \u001b[90m [5789e2e9] \u001b[39m\u001b[92m+ FileIO v1.16.0\u001b[39m\n",
      "\u001b[33m⌅\u001b[39m\u001b[90m [48062228] \u001b[39m\u001b[92m+ FilePathsBase v0.7.0\u001b[39m\n",
      "\u001b[33m⌅\u001b[39m\u001b[90m [1a297f60] \u001b[39m\u001b[92m+ FillArrays v0.8.14\u001b[39m\n",
      " \u001b[90m [53c48c17] \u001b[39m\u001b[92m+ FixedPointNumbers v0.8.4\u001b[39m\n",
      "\u001b[32m⌃\u001b[39m\u001b[90m [f67ccb44] \u001b[39m\u001b[95m↓ HDF5 v0.16.14 ⇒ v0.13.7\u001b[39m\n",
      " \u001b[90m [41ab1584] \u001b[39m\u001b[92m+ InvertedIndices v1.3.0\u001b[39m\n",
      " \u001b[90m [82899510] \u001b[39m\u001b[92m+ IteratorInterfaceExtensions v1.0.0\u001b[39m\n",
      "\u001b[32m⌃\u001b[39m\u001b[90m [682c06a0] \u001b[39m\u001b[95m↓ JSON v0.21.3 ⇒ v0.21.1\u001b[39m\n",
      " \u001b[90m [b964fa9f] \u001b[39m\u001b[92m+ LaTeXStrings v1.3.0\u001b[39m\n",
      "\u001b[33m⌅\u001b[39m\u001b[90m [2ab3a3ac] \u001b[39m\u001b[92m+ LogExpFunctions v0.2.5\u001b[39m\n",
      " \u001b[90m [1914dd2f] \u001b[39m\u001b[92m+ MacroTools v0.5.10\u001b[39m\n",
      "\u001b[33m⌅\u001b[39m\u001b[90m [e1d29d7a] \u001b[39m\u001b[92m+ Missings v0.4.5\u001b[39m\n",
      "\u001b[32m⌃\u001b[39m\u001b[90m [78c3b35d] \u001b[39m\u001b[92m+ Mocking v0.7.2\u001b[39m\n",
      " \u001b[90m [bac558e1] \u001b[39m\u001b[92m+ OrderedCollections v1.6.0\u001b[39m\n",
      "\u001b[33m⌅\u001b[39m\u001b[90m [90014a1f] \u001b[39m\u001b[92m+ PDMats v0.9.12\u001b[39m\n",
      "\u001b[33m⌅\u001b[39m\u001b[90m [69de0a69] \u001b[39m\u001b[95m↓ Parsers v2.5.8 ⇒ v0.3.12\u001b[39m\n",
      "\u001b[33m⌅\u001b[39m\u001b[90m [2dfb63ee] \u001b[39m\u001b[92m+ PooledArrays v0.5.3\u001b[39m\n",
      " \u001b[90m [92933f4c] \u001b[39m\u001b[92m+ ProgressMeter v1.7.2\u001b[39m\n",
      " \u001b[90m [438e738f] \u001b[39m\u001b[92m+ PyCall v1.95.1\u001b[39m\n",
      " \u001b[90m [d330b81b] \u001b[39m\u001b[92m+ PyPlot v2.11.1\u001b[39m\n",
      " \u001b[90m [1fd47b50] \u001b[39m\u001b[92m+ QuadGK v2.8.2\u001b[39m\n",
      "\u001b[33m⌅\u001b[39m\u001b[90m [df47a6cb] \u001b[39m\u001b[92m+ RData v0.7.1\u001b[39m\n",
      "\u001b[33m⌅\u001b[39m\u001b[90m [ce6b1742] \u001b[39m\u001b[92m+ RDatasets v0.6.10\u001b[39m\n",
      " \u001b[90m [3cdcf5f2] \u001b[39m\u001b[92m+ RecipesBase v1.3.3\u001b[39m\n",
      "\u001b[33m⌅\u001b[39m\u001b[90m [189a3867] \u001b[39m\u001b[92m+ Reexport v0.2.0\u001b[39m\n",
      " \u001b[90m [79098fc4] \u001b[39m\u001b[92m+ Rmath v0.7.1\u001b[39m\n",
      " \u001b[90m [172a5912] \u001b[39m\u001b[92m+ SOM v0.4.1\u001b[39m\n",
      "\u001b[33m⌅\u001b[39m\u001b[90m [a2af1166] \u001b[39m\u001b[92m+ SortingAlgorithms v0.3.2\u001b[39m\n",
      "\u001b[33m⌅\u001b[39m\u001b[90m [276daf66] \u001b[39m\u001b[92m+ SpecialFunctions v0.9.0\u001b[39m\n",
      "\u001b[33m⌅\u001b[39m\u001b[90m [2913bbd2] \u001b[39m\u001b[92m+ StatsBase v0.32.2\u001b[39m\n",
      "\u001b[33m⌅\u001b[39m\u001b[90m [4c63d2b9] \u001b[39m\u001b[92m+ StatsFuns v0.9.8\u001b[39m\n",
      " \u001b[90m [3783bdb8] \u001b[39m\u001b[92m+ TableTraits v1.0.1\u001b[39m\n",
      "\u001b[33m⌅\u001b[39m\u001b[90m [bd369af6] \u001b[39m\u001b[92m+ Tables v0.2.11\u001b[39m\n",
      "\u001b[32m⌃\u001b[39m\u001b[90m [f269a46b] \u001b[39m\u001b[92m+ TimeZones v1.5.9\u001b[39m\n",
      " \u001b[90m [3bb67fe8] \u001b[39m\u001b[92m+ TranscodingStreams v0.9.12\u001b[39m\n",
      "\u001b[33m⌅\u001b[39m\u001b[90m [ea10d353] \u001b[39m\u001b[92m+ WeakRefStrings v0.6.2\u001b[39m\n",
      "\u001b[33m⌅\u001b[39m\u001b[90m [68821587] \u001b[39m\u001b[92m+ Arpack_jll v3.5.1+1\u001b[39m\n",
      " \u001b[90m [0b7ba130] \u001b[39m\u001b[92m+ Blosc_jll v1.21.2+0\u001b[39m\n",
      "\u001b[33m⌅\u001b[39m\u001b[90m [0234f1f7] \u001b[39m\u001b[95m↓ HDF5_jll v1.12.2+2 ⇒ v1.10.5+7\u001b[39m\n",
      " \u001b[90m [5ced341a] \u001b[39m\u001b[92m+ Lz4_jll v1.9.3+0\u001b[39m\n",
      " \u001b[90m [458c3c95] \u001b[39m\u001b[91m- OpenSSL_jll v1.1.20+0\u001b[39m\n",
      " \u001b[90m [efe28fd5] \u001b[39m\u001b[92m+ OpenSpecFun_jll v0.5.5+0\u001b[39m\n",
      " \u001b[90m [f50d1b31] \u001b[39m\u001b[92m+ Rmath_jll v0.4.0+0\u001b[39m\n",
      " \u001b[90m [3161d3a3] \u001b[39m\u001b[92m+ Zstd_jll v1.5.5+0\u001b[39m\n",
      " \u001b[90m [8bb1440f] \u001b[39m\u001b[92m+ DelimitedFiles\u001b[39m\n",
      " \u001b[90m [8ba89e20] \u001b[39m\u001b[92m+ Distributed\u001b[39m\n",
      " \u001b[90m [9fa8497b] \u001b[39m\u001b[92m+ Future\u001b[39m\n",
      " \u001b[90m [4af54fe1] \u001b[39m\u001b[92m+ LazyArtifacts\u001b[39m\n",
      " \u001b[90m [1a1011a3] \u001b[39m\u001b[92m+ SharedArrays\u001b[39m\n",
      " \u001b[90m [2f01184e] \u001b[39m\u001b[92m+ SparseArrays\u001b[39m\n",
      " \u001b[90m [10745b16] \u001b[39m\u001b[92m+ Statistics\u001b[39m\n",
      " \u001b[90m [4607b0f0] \u001b[39m\u001b[92m+ SuiteSparse\u001b[39m\n",
      "\u001b[36m\u001b[1m        Info\u001b[22m\u001b[39m Packages marked with \u001b[32m⌃\u001b[39m and \u001b[33m⌅\u001b[39m have new versions available, but those with \u001b[33m⌅\u001b[39m are restricted by compatibility constraints from upgrading. To see why use `status --outdated -m`\n",
      "\u001b[32m\u001b[1m    Building\u001b[22m\u001b[39m HDF5 ─────→ `/opt/julia/scratchspaces/44cfe95a-1eb2-52ea-b672-e2afdf69b78f/0b812e7872e2199a5a04944f486b4048944f1ed8/build.log`\n",
      "\u001b[32m\u001b[1m    Building\u001b[22m\u001b[39m PyCall ───→ `/opt/julia/scratchspaces/44cfe95a-1eb2-52ea-b672-e2afdf69b78f/62f417f6ad727987c755549e9cd88c46578da562/build.log`\n",
      "\u001b[32m\u001b[1m    Building\u001b[22m\u001b[39m TimeZones → `/opt/julia/scratchspaces/44cfe95a-1eb2-52ea-b672-e2afdf69b78f/a5688ffdbd849a98503c6650effe79fe89a41252/build.log`\n",
      "\u001b[32m\u001b[1m    Building\u001b[22m\u001b[39m CodecZlib → `/opt/julia/scratchspaces/44cfe95a-1eb2-52ea-b672-e2afdf69b78f/05916673a2627dd91b4969ff8ba6941bc85a960e/build.log`\n",
      "\u001b[32m\u001b[1mPrecompiling\u001b[22m\u001b[39m project...\n",
      "\u001b[32m  ✓ \u001b[39m\u001b[90mInvertedIndices\u001b[39m\n",
      "\u001b[32m  ✓ \u001b[39m\u001b[90mLaTeXStrings\u001b[39m\n",
      "\u001b[32m  ✓ \u001b[39m\u001b[90mDataValueInterfaces\u001b[39m\n",
      "\u001b[32m  ✓ \u001b[39m\u001b[90mOrderedCollections\u001b[39m\n",
      "\u001b[32m  ✓ \u001b[39m\u001b[90mCompat\u001b[39m\n",
      "\u001b[32m  ✓ \u001b[39m\u001b[90mDistances\u001b[39m\n",
      "\u001b[32m  ✓ \u001b[39m\u001b[90mReexport\u001b[39m\n",
      "\u001b[32m  ✓ \u001b[39m\u001b[90mIteratorInterfaceExtensions\u001b[39m\n",
      "\u001b[32m  ✓ \u001b[39m\u001b[90mDataAPI\u001b[39m\n",
      "\u001b[32m  ✓ \u001b[39m\u001b[90mDocStringExtensions\u001b[39m\n",
      "\u001b[32m  ✓ \u001b[39m\u001b[90mFillArrays\u001b[39m\n",
      "\u001b[32m  ✓ \u001b[39m\u001b[90mFilePathsBase\u001b[39m\n",
      "\u001b[32m  ✓ \u001b[39m\u001b[90mProgressMeter\u001b[39m\n",
      "\u001b[32m  ✓ \u001b[39m\u001b[90mZstd_jll\u001b[39m\n",
      "\u001b[32m  ✓ \u001b[39m\u001b[90mArpack_jll\u001b[39m\n",
      "\u001b[32m  ✓ \u001b[39m\u001b[90mTranscodingStreams\u001b[39m\n",
      "\u001b[32m  ✓ \u001b[39m\u001b[90mRmath_jll\u001b[39m\n",
      "\u001b[32m  ✓ \u001b[39m\u001b[90mLz4_jll\u001b[39m\n",
      "\u001b[32m  ✓ \u001b[39m\u001b[90mOpenSpecFun_jll\u001b[39m\n",
      "\u001b[32m  ✓ \u001b[39m\u001b[90mTableTraits\u001b[39m\n",
      "\u001b[32m  ✓ \u001b[39m\u001b[90mFixedPointNumbers\u001b[39m\n",
      "\u001b[32m  ✓ \u001b[39m\u001b[90mHDF5_jll\u001b[39m\n",
      "\u001b[32m  ✓ \u001b[39m\u001b[90mWeakRefStrings\u001b[39m\n",
      "\u001b[32m  ✓ \u001b[39m\u001b[90mPooledArrays\u001b[39m\n",
      "\u001b[32m  ✓ \u001b[39m\u001b[90mMissings\u001b[39m\n",
      "\u001b[32m  ✓ \u001b[39m\u001b[90mArpack\u001b[39m\n",
      "\u001b[32m  ✓ \u001b[39m\u001b[90mLogExpFunctions\u001b[39m\n",
      "\u001b[32m  ✓ \u001b[39m\u001b[90mCodecZlib\u001b[39m\n",
      "\u001b[32m  ✓ \u001b[39m\u001b[90mMacroTools\u001b[39m\n",
      "\u001b[32m  ✓ \u001b[39m\u001b[90mBlosc_jll\u001b[39m\n",
      "\u001b[32m  ✓ \u001b[39m\u001b[90mRmath\u001b[39m\n",
      "\u001b[32m  ✓ \u001b[39m\u001b[90mTables\u001b[39m\n",
      "\u001b[32m  ✓ \u001b[39m\u001b[90mDataStructures\u001b[39m\n",
      "\u001b[32m  ✓ \u001b[39m\u001b[90mBlosc\u001b[39m\n",
      "\u001b[32m  ✓ \u001b[39m\u001b[90mFileIO\u001b[39m\n",
      "\u001b[32m  ✓ \u001b[39m\u001b[90mSortingAlgorithms\u001b[39m\n",
      "\u001b[32m  ✓ \u001b[39m\u001b[90mPDMats\u001b[39m\n",
      "\u001b[32m  ✓ \u001b[39m\u001b[90mQuadGK\u001b[39m\n",
      "\u001b[32m  ✓ \u001b[39m\u001b[90mSpecialFunctions\u001b[39m\n",
      "\u001b[32m  ✓ \u001b[39m\u001b[90mColorTypes\u001b[39m\n",
      "\u001b[32m  ✓ \u001b[39m\u001b[90mCategoricalArrays\u001b[39m\n",
      "\u001b[32m  ✓ \u001b[39m\u001b[90mStatsBase\u001b[39m\n",
      "\u001b[32m  ✓ \u001b[39m\u001b[90mStatsFuns\u001b[39m\n",
      "\u001b[32m  ✓ \u001b[39mHDF5\n",
      "\u001b[32m  ✓ \u001b[39m\u001b[90mColors\u001b[39m\n",
      "\u001b[32m  ✓ \u001b[39m\u001b[90mDataFrames\u001b[39m\n",
      "\u001b[32m  ✓ \u001b[39m\u001b[90mDistributions\u001b[39m\n",
      "\u001b[32m  ✓ \u001b[39m\u001b[90mRData\u001b[39m\n",
      "\u001b[91m  ✗ \u001b[39m\u001b[90mCSV\u001b[39m\n",
      "\u001b[32m  ✓ \u001b[39m\u001b[90mPyCall\u001b[39m\n",
      "\u001b[32m  ✓ \u001b[39m\u001b[90mPyPlot\u001b[39m\n",
      "\u001b[91m  ✗ \u001b[39m\u001b[90mRDatasets\u001b[39m\n",
      "\u001b[32m  ✓ \u001b[39mSOM\n",
      "  51 dependencies successfully precompiled in 37 seconds. 25 already precompiled.\n",
      "  \u001b[91m2\u001b[39m dependencies errored. To see a full report either run `import Pkg; Pkg.precompile()` or load the packages\n",
      "\u001b[32m\u001b[1m   Resolving\u001b[22m\u001b[39m package versions...\n",
      "\u001b[32m\u001b[1m    Updating\u001b[22m\u001b[39m `/opt/julia/environments/v1.8/Project.toml`\n",
      "\u001b[33m⌅\u001b[39m\u001b[90m [a93c6f00] \u001b[39m\u001b[92m+ DataFrames v0.19.4\u001b[39m\n",
      "\u001b[32m\u001b[1m  No Changes\u001b[22m\u001b[39m to `/opt/julia/environments/v1.8/Manifest.toml`\n",
      "\u001b[32m\u001b[1m   Resolving\u001b[22m\u001b[39m package versions...\n",
      "\u001b[32m\u001b[1m   Installed\u001b[22m\u001b[39m DiffRules ──────────── v1.3.1\n",
      "\u001b[32m\u001b[1m   Installed\u001b[22m\u001b[39m Adapt ──────────────── v1.1.0\n",
      "\u001b[32m\u001b[1m   Installed\u001b[22m\u001b[39m FixedPointNumbers ──── v0.6.1\n",
      "\u001b[32m\u001b[1m   Installed\u001b[22m\u001b[39m ZipFile ────────────── v0.8.4\n",
      "\u001b[32m\u001b[1m   Installed\u001b[22m\u001b[39m DiffResults ────────── v1.1.0\n",
      "\u001b[32m\u001b[1m   Installed\u001b[22m\u001b[39m ColorTypes ─────────── v0.8.1\n",
      "\u001b[32m\u001b[1m   Installed\u001b[22m\u001b[39m Flux ───────────────── v0.8.3\n",
      "\u001b[32m\u001b[1m   Installed\u001b[22m\u001b[39m StaticArrays ───────── v1.5.19\n",
      "\u001b[32m\u001b[1m   Installed\u001b[22m\u001b[39m NaNMath ────────────── v0.3.7\n",
      "\u001b[32m\u001b[1m   Installed\u001b[22m\u001b[39m StaticArraysCore ───── v1.4.0\n",
      "\u001b[32m\u001b[1m   Installed\u001b[22m\u001b[39m AbstractTrees ──────── v0.2.1\n",
      "\u001b[32m\u001b[1m   Installed\u001b[22m\u001b[39m Media ──────────────── v0.5.0\n",
      "\u001b[32m\u001b[1m   Installed\u001b[22m\u001b[39m ForwardDiff ────────── v0.10.22\n",
      "\u001b[32m\u001b[1m   Installed\u001b[22m\u001b[39m CommonSubexpressions ─ v0.3.0\n",
      "\u001b[32m\u001b[1m   Installed\u001b[22m\u001b[39m Juno ───────────────── v0.7.2\n",
      "\u001b[32m\u001b[1m   Installed\u001b[22m\u001b[39m Tracker ────────────── v0.2.12\n",
      "\u001b[32m\u001b[1m   Installed\u001b[22m\u001b[39m Colors ─────────────── v0.9.6\n",
      "\u001b[32m\u001b[1m   Installed\u001b[22m\u001b[39m NNlib ──────────────── v0.6.6\n",
      "\u001b[32m\u001b[1m    Updating\u001b[22m\u001b[39m `/opt/julia/environments/v1.8/Project.toml`\n",
      "\u001b[32m⌃\u001b[39m\u001b[90m [587475ba] \u001b[39m\u001b[92m+ Flux v0.8.3\u001b[39m\n",
      "\u001b[32m\u001b[1m    Updating\u001b[22m\u001b[39m `/opt/julia/environments/v1.8/Manifest.toml`\n",
      "\u001b[33m⌅\u001b[39m\u001b[90m [1520ce14] \u001b[39m\u001b[92m+ AbstractTrees v0.2.1\u001b[39m\n",
      "\u001b[33m⌅\u001b[39m\u001b[90m [79e6a3ab] \u001b[39m\u001b[92m+ Adapt v1.1.0\u001b[39m\n",
      "\u001b[33m⌅\u001b[39m\u001b[90m [3da002f7] \u001b[39m\u001b[95m↓ ColorTypes v0.11.4 ⇒ v0.8.1\u001b[39m\n",
      "\u001b[33m⌅\u001b[39m\u001b[90m [5ae59095] \u001b[39m\u001b[95m↓ Colors v0.12.10 ⇒ v0.9.6\u001b[39m\n",
      " \u001b[90m [bbf7d656] \u001b[39m\u001b[92m+ CommonSubexpressions v0.3.0\u001b[39m\n",
      " \u001b[90m [163ba53b] \u001b[39m\u001b[92m+ DiffResults v1.1.0\u001b[39m\n",
      "\u001b[32m⌃\u001b[39m\u001b[90m [b552c78f] \u001b[39m\u001b[92m+ DiffRules v1.3.1\u001b[39m\n",
      "\u001b[33m⌅\u001b[39m\u001b[90m [53c48c17] \u001b[39m\u001b[95m↓ FixedPointNumbers v0.8.4 ⇒ v0.6.1\u001b[39m\n",
      "\u001b[32m⌃\u001b[39m\u001b[90m [587475ba] \u001b[39m\u001b[92m+ Flux v0.8.3\u001b[39m\n",
      "\u001b[32m⌃\u001b[39m\u001b[90m [f6369f11] \u001b[39m\u001b[92m+ ForwardDiff v0.10.22\u001b[39m\n",
      "\u001b[33m⌅\u001b[39m\u001b[90m [e5e0dc1b] \u001b[39m\u001b[92m+ Juno v0.7.2\u001b[39m\n",
      " \u001b[90m [e89f7d12] \u001b[39m\u001b[92m+ Media v0.5.0\u001b[39m\n",
      "\u001b[33m⌅\u001b[39m\u001b[90m [872c559c] \u001b[39m\u001b[92m+ NNlib v0.6.6\u001b[39m\n",
      "\u001b[33m⌅\u001b[39m\u001b[90m [77ba4419] \u001b[39m\u001b[92m+ NaNMath v0.3.7\u001b[39m\n",
      " \u001b[90m [90137ffa] \u001b[39m\u001b[92m+ StaticArrays v1.5.19\u001b[39m\n",
      " \u001b[90m [1e83bf80] \u001b[39m\u001b[92m+ StaticArraysCore v1.4.0\u001b[39m\n",
      "\u001b[32m⌃\u001b[39m\u001b[90m [9f7883ad] \u001b[39m\u001b[92m+ Tracker v0.2.12\u001b[39m\n",
      "\u001b[33m⌅\u001b[39m\u001b[90m [a5390f91] \u001b[39m\u001b[92m+ ZipFile v0.8.4\u001b[39m\n",
      " \u001b[90m [9abbd945] \u001b[39m\u001b[92m+ Profile\u001b[39m\n",
      "\u001b[36m\u001b[1m        Info\u001b[22m\u001b[39m Packages marked with \u001b[32m⌃\u001b[39m and \u001b[33m⌅\u001b[39m have new versions available, but those with \u001b[33m⌅\u001b[39m are restricted by compatibility constraints from upgrading. To see why use `status --outdated -m`\n",
      "\u001b[32m\u001b[1m    Building\u001b[22m\u001b[39m NNlib ──→ `/opt/julia/scratchspaces/44cfe95a-1eb2-52ea-b672-e2afdf69b78f/d9f196d911f55aeaff11b11f681b135980783824/build.log`\n",
      "\u001b[32m\u001b[1m    Building\u001b[22m\u001b[39m ZipFile → `/opt/julia/scratchspaces/44cfe95a-1eb2-52ea-b672-e2afdf69b78f/7fbfbc51c186f0ccdbe091f32d3dff8608973f8e/build.log`\n",
      "\u001b[32m\u001b[1mPrecompiling\u001b[22m\u001b[39m project...\n",
      "\u001b[32m  ✓ \u001b[39m\u001b[90mAdapt\u001b[39m\n",
      "\u001b[32m  ✓ \u001b[39m\u001b[90mNaNMath\u001b[39m\n",
      "\u001b[32m  ✓ \u001b[39m\u001b[90mStaticArraysCore\u001b[39m\n",
      "\u001b[32m  ✓ \u001b[39m\u001b[90mCommonSubexpressions\u001b[39m\n",
      "\u001b[32m  ✓ \u001b[39m\u001b[90mZipFile\u001b[39m\n",
      "\u001b[32m  ✓ \u001b[39m\u001b[90mAbstractTrees\u001b[39m\n",
      "\u001b[32m  ✓ \u001b[39m\u001b[90mMedia\u001b[39m\n",
      "\u001b[32m  ✓ \u001b[39m\u001b[90mDiffRules\u001b[39m\n",
      "\u001b[32m  ✓ \u001b[39m\u001b[90mDiffResults\u001b[39m\n",
      "\u001b[32m  ✓ \u001b[39m\u001b[90mJuno\u001b[39m\n",
      "\u001b[32m  ✓ \u001b[39m\u001b[90mFixedPointNumbers\u001b[39m\n",
      "\u001b[32m  ✓ \u001b[39m\u001b[90mNNlib\u001b[39m\n",
      "\u001b[32m  ✓ \u001b[39m\u001b[90mColorTypes\u001b[39m\n",
      "\u001b[32m  ✓ \u001b[39m\u001b[90mStaticArrays\u001b[39m\n",
      "\u001b[32m  ✓ \u001b[39m\u001b[90mColors\u001b[39m\n",
      "\u001b[32m  ✓ \u001b[39m\u001b[90mForwardDiff\u001b[39m\n",
      "\u001b[32m  ✓ \u001b[39m\u001b[90mPyPlot\u001b[39m\n",
      "\u001b[32m  ✓ \u001b[39m\u001b[90mTracker\u001b[39m\n",
      "\u001b[32m  ✓ \u001b[39mSOM\n",
      "\u001b[32m  ✓ \u001b[39mFlux\n",
      "  20 dependencies successfully precompiled in 26 seconds. 71 already precompiled. 2 skipped during auto due to previous errors.\n",
      "\u001b[32m\u001b[1m   Resolving\u001b[22m\u001b[39m package versions...\n",
      "\u001b[32m\u001b[1m    Updating\u001b[22m\u001b[39m `/opt/julia/environments/v1.8/Project.toml`\n",
      "\u001b[33m⌅\u001b[39m\u001b[90m [336ed68f] \u001b[39m\u001b[92m+ CSV v0.5.23\u001b[39m\n",
      "\u001b[32m\u001b[1m  No Changes\u001b[22m\u001b[39m to `/opt/julia/environments/v1.8/Manifest.toml`\n",
      "\u001b[32m\u001b[1m   Resolving\u001b[22m\u001b[39m package versions...\n"
     ]
    },
    {
     "ename": "LoadError",
     "evalue": "Unsatisfiable requirements detected for package \u001b[38;5;2mFlux [587475ba]\u001b[39m:\n \u001b[38;5;2mFlux [587475ba]\u001b[39m log:\n ├─possible versions are: \u001b[38;5;2m0.4.1-0.13.14\u001b[39m or uninstalled\n ├─restricted to versions \u001b[38;5;2m*\u001b[39m by an explicit requirement, leaving only versions \u001b[38;5;2m0.4.1-0.13.14\u001b[39m\n ├─restricted by compatibility requirements with \u001b[38;5;14mCuArrays [3a865a2d]\u001b[39m to versions: \u001b[38;5;2m[0.4.1-0.8.3, 0.11.0-0.13.14]\u001b[39m or uninstalled, leaving only versions: \u001b[38;5;2m[0.4.1-0.8.3, 0.11.0-0.13.14]\u001b[39m\n │ └─\u001b[38;5;14mCuArrays [3a865a2d]\u001b[39m log:\n │   ├─possible versions are: \u001b[38;5;14m0.2.1-2.2.2\u001b[39m or uninstalled\n │   └─restricted by julia compatibility requirements to versions: uninstalled\n ├─restricted by compatibility requirements with \u001b[38;5;11mCUDA [052768ef]\u001b[39m to versions: \u001b[38;5;2m[0.4.1-0.10.4, 0.11.2-0.13.14]\u001b[39m or uninstalled, leaving only versions: \u001b[38;5;2m[0.4.1-0.8.3, 0.11.2-0.13.14]\u001b[39m\n │ └─\u001b[38;5;11mCUDA [052768ef]\u001b[39m log:\n │   ├─possible versions are: \u001b[38;5;11m0.1.0-4.1.3\u001b[39m or uninstalled\n │   ├─restricted to versions \u001b[38;5;11m*\u001b[39m by an explicit requirement, leaving only versions \u001b[38;5;11m0.1.0-4.1.3\u001b[39m\n │   ├─restricted by julia compatibility requirements to versions: \u001b[38;5;11m[2.3.0, 2.5.0-4.1.3]\u001b[39m or uninstalled, leaving only versions: \u001b[38;5;11m[2.3.0, 2.5.0-4.1.3]\u001b[39m\n │   └─restricted by compatibility requirements with \u001b[38;5;3mSpecialFunctions [276daf66]\u001b[39m to versions: \u001b[38;5;11m0.1.0-2.6.3\u001b[39m or uninstalled, leaving only versions: \u001b[38;5;11m[2.3.0, 2.5.0-2.6.3]\u001b[39m\n │     └─\u001b[38;5;3mSpecialFunctions [276daf66]\u001b[39m log:\n │       ├─possible versions are: \u001b[38;5;3m0.7.0-2.2.0\u001b[39m or uninstalled\n │       └─restricted by compatibility requirements with \u001b[38;5;11mDistributions [31c24e10]\u001b[39m to versions: \u001b[38;5;3m0.7.0-0.9.0\u001b[39m\n │         └─\u001b[38;5;11mDistributions [31c24e10]\u001b[39m log:\n │           ├─possible versions are: \u001b[38;5;11m0.16.0-0.25.87\u001b[39m or uninstalled\n │           └─restricted by compatibility requirements with \u001b[38;5;6mSOM [172a5912]\u001b[39m to versions: \u001b[38;5;11m0.16.0-0.21.12\u001b[39m\n │             └─\u001b[38;5;6mSOM [172a5912]\u001b[39m log:\n │               ├─possible versions are: \u001b[38;5;6m0.2.0-0.4.1\u001b[39m or uninstalled\n │               └─restricted to versions \u001b[38;5;6m*\u001b[39m by an explicit requirement, leaving only versions \u001b[38;5;6m0.2.0-0.4.1\u001b[39m\n ├─restricted by compatibility requirements with \u001b[38;5;3mSpecialFunctions [276daf66]\u001b[39m to versions: \u001b[38;5;2m0.4.1-0.12.10\u001b[39m or uninstalled, leaving only versions: \u001b[38;5;2m[0.4.1-0.8.3, 0.11.2-0.12.10]\u001b[39m\n │ └─\u001b[38;5;3mSpecialFunctions [276daf66]\u001b[39m log: see above\n ├─restricted by compatibility requirements with \u001b[38;5;11mAdapt [79e6a3ab]\u001b[39m to versions: \u001b[38;5;2m0.11.0-0.13.14\u001b[39m or uninstalled, leaving only versions: \u001b[38;5;2m0.11.2-0.12.10\u001b[39m\n │ └─\u001b[38;5;11mAdapt [79e6a3ab]\u001b[39m log:\n │   ├─possible versions are: \u001b[38;5;11m0.3.0-3.6.1\u001b[39m or uninstalled\n │   ├─restricted by compatibility requirements with \u001b[38;5;11mCUDA [052768ef]\u001b[39m to versions: \u001b[38;5;11m1.0.0-3.6.1\u001b[39m\n │   │ └─\u001b[38;5;11mCUDA [052768ef]\u001b[39m log: see above\n │   └─restricted by compatibility requirements with \u001b[38;5;11mCUDA [052768ef]\u001b[39m to versions: \u001b[38;5;11m2.2.0-3.6.1\u001b[39m\n │     └─\u001b[38;5;11mCUDA [052768ef]\u001b[39m log: see above\n ├─restricted by compatibility requirements with \u001b[38;5;2mZygote [e88e6eb3]\u001b[39m to versions: \u001b[38;5;2m0.4.1-0.11.3\u001b[39m or uninstalled, leaving only versions: \u001b[38;5;2m0.11.2-0.11.3\u001b[39m\n │ └─\u001b[38;5;2mZygote [e88e6eb3]\u001b[39m log:\n │   ├─possible versions are: \u001b[38;5;2m0.1.0-0.6.60\u001b[39m or uninstalled\n │   └─restricted by compatibility requirements with \u001b[38;5;3mSpecialFunctions [276daf66]\u001b[39m to versions: \u001b[38;5;2m0.1.0-0.5.1\u001b[39m or uninstalled\n │     └─\u001b[38;5;3mSpecialFunctions [276daf66]\u001b[39m log: see above\n └─restricted by compatibility requirements with \u001b[38;5;12mStatsBase [2913bbd2]\u001b[39m to versions: \u001b[38;5;2m0.4.1-0.11.1\u001b[39m or uninstalled — no versions left\n   └─\u001b[38;5;12mStatsBase [2913bbd2]\u001b[39m log:\n     ├─possible versions are: \u001b[38;5;12m0.24.0-0.33.21\u001b[39m or uninstalled\n     └─restricted by compatibility requirements with \u001b[38;5;6mSOM [172a5912]\u001b[39m to versions: \u001b[38;5;12m0.24.0-0.32.2\u001b[39m\n       └─\u001b[38;5;6mSOM [172a5912]\u001b[39m log: see above",
     "output_type": "error",
     "traceback": [
      "Unsatisfiable requirements detected for package \u001b[38;5;2mFlux [587475ba]\u001b[39m:\n \u001b[38;5;2mFlux [587475ba]\u001b[39m log:\n ├─possible versions are: \u001b[38;5;2m0.4.1-0.13.14\u001b[39m or uninstalled\n ├─restricted to versions \u001b[38;5;2m*\u001b[39m by an explicit requirement, leaving only versions \u001b[38;5;2m0.4.1-0.13.14\u001b[39m\n ├─restricted by compatibility requirements with \u001b[38;5;14mCuArrays [3a865a2d]\u001b[39m to versions: \u001b[38;5;2m[0.4.1-0.8.3, 0.11.0-0.13.14]\u001b[39m or uninstalled, leaving only versions: \u001b[38;5;2m[0.4.1-0.8.3, 0.11.0-0.13.14]\u001b[39m\n │ └─\u001b[38;5;14mCuArrays [3a865a2d]\u001b[39m log:\n │   ├─possible versions are: \u001b[38;5;14m0.2.1-2.2.2\u001b[39m or uninstalled\n │   └─restricted by julia compatibility requirements to versions: uninstalled\n ├─restricted by compatibility requirements with \u001b[38;5;11mCUDA [052768ef]\u001b[39m to versions: \u001b[38;5;2m[0.4.1-0.10.4, 0.11.2-0.13.14]\u001b[39m or uninstalled, leaving only versions: \u001b[38;5;2m[0.4.1-0.8.3, 0.11.2-0.13.14]\u001b[39m\n │ └─\u001b[38;5;11mCUDA [052768ef]\u001b[39m log:\n │   ├─possible versions are: \u001b[38;5;11m0.1.0-4.1.3\u001b[39m or uninstalled\n │   ├─restricted to versions \u001b[38;5;11m*\u001b[39m by an explicit requirement, leaving only versions \u001b[38;5;11m0.1.0-4.1.3\u001b[39m\n │   ├─restricted by julia compatibility requirements to versions: \u001b[38;5;11m[2.3.0, 2.5.0-4.1.3]\u001b[39m or uninstalled, leaving only versions: \u001b[38;5;11m[2.3.0, 2.5.0-4.1.3]\u001b[39m\n │   └─restricted by compatibility requirements with \u001b[38;5;3mSpecialFunctions [276daf66]\u001b[39m to versions: \u001b[38;5;11m0.1.0-2.6.3\u001b[39m or uninstalled, leaving only versions: \u001b[38;5;11m[2.3.0, 2.5.0-2.6.3]\u001b[39m\n │     └─\u001b[38;5;3mSpecialFunctions [276daf66]\u001b[39m log:\n │       ├─possible versions are: \u001b[38;5;3m0.7.0-2.2.0\u001b[39m or uninstalled\n │       └─restricted by compatibility requirements with \u001b[38;5;11mDistributions [31c24e10]\u001b[39m to versions: \u001b[38;5;3m0.7.0-0.9.0\u001b[39m\n │         └─\u001b[38;5;11mDistributions [31c24e10]\u001b[39m log:\n │           ├─possible versions are: \u001b[38;5;11m0.16.0-0.25.87\u001b[39m or uninstalled\n │           └─restricted by compatibility requirements with \u001b[38;5;6mSOM [172a5912]\u001b[39m to versions: \u001b[38;5;11m0.16.0-0.21.12\u001b[39m\n │             └─\u001b[38;5;6mSOM [172a5912]\u001b[39m log:\n │               ├─possible versions are: \u001b[38;5;6m0.2.0-0.4.1\u001b[39m or uninstalled\n │               └─restricted to versions \u001b[38;5;6m*\u001b[39m by an explicit requirement, leaving only versions \u001b[38;5;6m0.2.0-0.4.1\u001b[39m\n ├─restricted by compatibility requirements with \u001b[38;5;3mSpecialFunctions [276daf66]\u001b[39m to versions: \u001b[38;5;2m0.4.1-0.12.10\u001b[39m or uninstalled, leaving only versions: \u001b[38;5;2m[0.4.1-0.8.3, 0.11.2-0.12.10]\u001b[39m\n │ └─\u001b[38;5;3mSpecialFunctions [276daf66]\u001b[39m log: see above\n ├─restricted by compatibility requirements with \u001b[38;5;11mAdapt [79e6a3ab]\u001b[39m to versions: \u001b[38;5;2m0.11.0-0.13.14\u001b[39m or uninstalled, leaving only versions: \u001b[38;5;2m0.11.2-0.12.10\u001b[39m\n │ └─\u001b[38;5;11mAdapt [79e6a3ab]\u001b[39m log:\n │   ├─possible versions are: \u001b[38;5;11m0.3.0-3.6.1\u001b[39m or uninstalled\n │   ├─restricted by compatibility requirements with \u001b[38;5;11mCUDA [052768ef]\u001b[39m to versions: \u001b[38;5;11m1.0.0-3.6.1\u001b[39m\n │   │ └─\u001b[38;5;11mCUDA [052768ef]\u001b[39m log: see above\n │   └─restricted by compatibility requirements with \u001b[38;5;11mCUDA [052768ef]\u001b[39m to versions: \u001b[38;5;11m2.2.0-3.6.1\u001b[39m\n │     └─\u001b[38;5;11mCUDA [052768ef]\u001b[39m log: see above\n ├─restricted by compatibility requirements with \u001b[38;5;2mZygote [e88e6eb3]\u001b[39m to versions: \u001b[38;5;2m0.4.1-0.11.3\u001b[39m or uninstalled, leaving only versions: \u001b[38;5;2m0.11.2-0.11.3\u001b[39m\n │ └─\u001b[38;5;2mZygote [e88e6eb3]\u001b[39m log:\n │   ├─possible versions are: \u001b[38;5;2m0.1.0-0.6.60\u001b[39m or uninstalled\n │   └─restricted by compatibility requirements with \u001b[38;5;3mSpecialFunctions [276daf66]\u001b[39m to versions: \u001b[38;5;2m0.1.0-0.5.1\u001b[39m or uninstalled\n │     └─\u001b[38;5;3mSpecialFunctions [276daf66]\u001b[39m log: see above\n └─restricted by compatibility requirements with \u001b[38;5;12mStatsBase [2913bbd2]\u001b[39m to versions: \u001b[38;5;2m0.4.1-0.11.1\u001b[39m or uninstalled — no versions left\n   └─\u001b[38;5;12mStatsBase [2913bbd2]\u001b[39m log:\n     ├─possible versions are: \u001b[38;5;12m0.24.0-0.33.21\u001b[39m or uninstalled\n     └─restricted by compatibility requirements with \u001b[38;5;6mSOM [172a5912]\u001b[39m to versions: \u001b[38;5;12m0.24.0-0.32.2\u001b[39m\n       └─\u001b[38;5;6mSOM [172a5912]\u001b[39m log: see above",
      "",
      "Stacktrace:",
      "  [1] propagate_constraints!(graph::Pkg.Resolve.Graph, sources::Set{Int64}; log_events::Bool)",
      "    @ Pkg.Resolve /opt/julia-1.8.5/share/julia/stdlib/v1.8/Pkg/src/Resolve/graphtype.jl:1072",
      "  [2] propagate_constraints! (repeats 2 times)",
      "    @ /opt/julia-1.8.5/share/julia/stdlib/v1.8/Pkg/src/Resolve/graphtype.jl:1008 [inlined]",
      "  [3] simplify_graph!(graph::Pkg.Resolve.Graph, sources::Set{Int64}; clean_graph::Bool)",
      "    @ Pkg.Resolve /opt/julia-1.8.5/share/julia/stdlib/v1.8/Pkg/src/Resolve/graphtype.jl:1533",
      "  [4] simplify_graph! (repeats 2 times)",
      "    @ /opt/julia-1.8.5/share/julia/stdlib/v1.8/Pkg/src/Resolve/graphtype.jl:1532 [inlined]",
      "  [5] resolve_versions!(env::Pkg.Types.EnvCache, registries::Vector{Pkg.Registry.RegistryInstance}, pkgs::Vector{Pkg.Types.PackageSpec}, julia_version::VersionNumber)",
      "    @ Pkg.Operations /opt/julia-1.8.5/share/julia/stdlib/v1.8/Pkg/src/Operations.jl:352",
      "  [6] targeted_resolve(env::Pkg.Types.EnvCache, registries::Vector{Pkg.Registry.RegistryInstance}, pkgs::Vector{Pkg.Types.PackageSpec}, preserve::Pkg.Types.PreserveLevel, julia_version::VersionNumber)",
      "    @ Pkg.Operations /opt/julia-1.8.5/share/julia/stdlib/v1.8/Pkg/src/Operations.jl:1254",
      "  [7] tiered_resolve(env::Pkg.Types.EnvCache, registries::Vector{Pkg.Registry.RegistryInstance}, pkgs::Vector{Pkg.Types.PackageSpec}, julia_version::VersionNumber)",
      "    @ Pkg.Operations /opt/julia-1.8.5/share/julia/stdlib/v1.8/Pkg/src/Operations.jl:1239",
      "  [8] _resolve(io::IJulia.IJuliaStdio{Base.PipeEndpoint}, env::Pkg.Types.EnvCache, registries::Vector{Pkg.Registry.RegistryInstance}, pkgs::Vector{Pkg.Types.PackageSpec}, preserve::Pkg.Types.PreserveLevel, julia_version::VersionNumber)",
      "    @ Pkg.Operations /opt/julia-1.8.5/share/julia/stdlib/v1.8/Pkg/src/Operations.jl:1260",
      "  [9] add(ctx::Pkg.Types.Context, pkgs::Vector{Pkg.Types.PackageSpec}, new_git::Set{Base.UUID}; preserve::Pkg.Types.PreserveLevel, platform::Base.BinaryPlatforms.Platform)",
      "    @ Pkg.Operations /opt/julia-1.8.5/share/julia/stdlib/v1.8/Pkg/src/Operations.jl:1276",
      " [10] add(ctx::Pkg.Types.Context, pkgs::Vector{Pkg.Types.PackageSpec}; preserve::Pkg.Types.PreserveLevel, platform::Base.BinaryPlatforms.Platform, kwargs::Base.Pairs{Symbol, IJulia.IJuliaStdio{Base.PipeEndpoint}, Tuple{Symbol}, NamedTuple{(:io,), Tuple{IJulia.IJuliaStdio{Base.PipeEndpoint}}}})",
      "    @ Pkg.API /opt/julia-1.8.5/share/julia/stdlib/v1.8/Pkg/src/API.jl:275",
      " [11] add(pkgs::Vector{Pkg.Types.PackageSpec}; io::IJulia.IJuliaStdio{Base.PipeEndpoint}, kwargs::Base.Pairs{Symbol, Union{}, Tuple{}, NamedTuple{(), Tuple{}}})",
      "    @ Pkg.API /opt/julia-1.8.5/share/julia/stdlib/v1.8/Pkg/src/API.jl:156",
      " [12] add(pkgs::Vector{Pkg.Types.PackageSpec})",
      "    @ Pkg.API /opt/julia-1.8.5/share/julia/stdlib/v1.8/Pkg/src/API.jl:145",
      " [13] #add#27",
      "    @ /opt/julia-1.8.5/share/julia/stdlib/v1.8/Pkg/src/API.jl:144 [inlined]",
      " [14] add",
      "    @ /opt/julia-1.8.5/share/julia/stdlib/v1.8/Pkg/src/API.jl:144 [inlined]",
      " [15] #add#26",
      "    @ /opt/julia-1.8.5/share/julia/stdlib/v1.8/Pkg/src/API.jl:143 [inlined]",
      " [16] add(pkg::String)",
      "    @ Pkg.API /opt/julia-1.8.5/share/julia/stdlib/v1.8/Pkg/src/API.jl:143",
      " [17] top-level scope",
      "    @ In[1]:6"
     ]
    }
   ],
   "source": [
    "import Pkg\n",
    "Pkg.add(\"SOM\")\n",
    "Pkg.add(\"DataFrames\")\n",
    "Pkg.add(\"Flux\")\n",
    "Pkg.add(\"CSV\")\n",
    "Pkg.add(\"CUDA\")\n",
    "Pkg.add(\"ProgressMeter\")\n"
   ]
  },
  {
   "cell_type": "code",
   "execution_count": 2,
   "id": "a3a5ba63-181f-4841-bffd-59098221cdd0",
   "metadata": {
    "tags": []
   },
   "outputs": [
    {
     "name": "stderr",
     "output_type": "stream",
     "text": [
      "\u001b[36m\u001b[1m[ \u001b[22m\u001b[39m\u001b[36m\u001b[1mInfo: \u001b[22m\u001b[39mPrecompiling DataFrames [a93c6f00-e57d-5684-b7b6-d8193f3e46c0]\n",
      "WARNING: method definition for catvaluetype at /opt/julia/packages/CategoricalArrays/dmrjI/src/value.jl:48 declares type variable R but does not use it.\n",
      "\u001b[36m\u001b[1m[ \u001b[22m\u001b[39m\u001b[36m\u001b[1mInfo: \u001b[22m\u001b[39mPrecompiling CSV [336ed68f-0bac-5ca0-87d4-7b16caf5d00b]\n",
      "\u001b[91m\u001b[1mERROR: \u001b[22m\u001b[39mLoadError: ccall method definition: argument 1 type doesn't correspond to a C type\n",
      "Stacktrace:\n",
      " [1] top-level scope\n",
      "\u001b[90m   @ \u001b[39m\u001b[90m/opt/julia/packages/CSV/4GOjG/src/\u001b[39m\u001b[90m\u001b[4mutils.jl:379\u001b[24m\u001b[39m\n",
      " [2] \u001b[0m\u001b[1minclude\u001b[22m\u001b[0m\u001b[1m(\u001b[22m\u001b[90mmod\u001b[39m::\u001b[0mModule, \u001b[90m_path\u001b[39m::\u001b[0mString\u001b[0m\u001b[1m)\u001b[22m\n",
      "\u001b[90m   @ \u001b[39m\u001b[90mBase\u001b[39m \u001b[90m./\u001b[39m\u001b[90m\u001b[4mBase.jl:419\u001b[24m\u001b[39m\n",
      " [3] \u001b[0m\u001b[1minclude\u001b[22m\u001b[0m\u001b[1m(\u001b[22m\u001b[90mx\u001b[39m::\u001b[0mString\u001b[0m\u001b[1m)\u001b[22m\n",
      "\u001b[90m   @ \u001b[39m\u001b[35mCSV\u001b[39m \u001b[90m/opt/julia/packages/CSV/4GOjG/src/\u001b[39m\u001b[90m\u001b[4mCSV.jl:1\u001b[24m\u001b[39m\n",
      " [4] top-level scope\n",
      "\u001b[90m   @ \u001b[39m\u001b[90m/opt/julia/packages/CSV/4GOjG/src/\u001b[39m\u001b[90m\u001b[4mCSV.jl:14\u001b[24m\u001b[39m\n",
      " [5] \u001b[0m\u001b[1minclude\u001b[22m\n",
      "\u001b[90m   @ \u001b[39m\u001b[90m./\u001b[39m\u001b[90m\u001b[4mBase.jl:419\u001b[24m\u001b[39m\u001b[90m [inlined]\u001b[39m\n",
      " [6] \u001b[0m\u001b[1minclude_package_for_output\u001b[22m\u001b[0m\u001b[1m(\u001b[22m\u001b[90mpkg\u001b[39m::\u001b[0mBase.PkgId, \u001b[90minput\u001b[39m::\u001b[0mString, \u001b[90mdepot_path\u001b[39m::\u001b[0mVector\u001b[90m{String}\u001b[39m, \u001b[90mdl_load_path\u001b[39m::\u001b[0mVector\u001b[90m{String}\u001b[39m, \u001b[90mload_path\u001b[39m::\u001b[0mVector\u001b[90m{String}\u001b[39m, \u001b[90mconcrete_deps\u001b[39m::\u001b[0mVector\u001b[90m{Pair{Base.PkgId, UInt64}}\u001b[39m, \u001b[90msource\u001b[39m::\u001b[0mNothing\u001b[0m\u001b[1m)\u001b[22m\n",
      "\u001b[90m   @ \u001b[39m\u001b[90mBase\u001b[39m \u001b[90m./\u001b[39m\u001b[90m\u001b[4mloading.jl:1554\u001b[24m\u001b[39m\n",
      " [7] top-level scope\n",
      "\u001b[90m   @ \u001b[39m\u001b[90m\u001b[4mstdin:1\u001b[24m\u001b[39m\n",
      "in expression starting at /opt/julia/packages/CSV/4GOjG/src/utils.jl:379\n",
      "in expression starting at /opt/julia/packages/CSV/4GOjG/src/CSV.jl:1\n",
      "in expression starting at stdin:1\n"
     ]
    },
    {
     "ename": "LoadError",
     "evalue": "Failed to precompile CSV [336ed68f-0bac-5ca0-87d4-7b16caf5d00b] to /opt/julia/compiled/v1.8/CSV/jl_LX9GM6.",
     "output_type": "error",
     "traceback": [
      "Failed to precompile CSV [336ed68f-0bac-5ca0-87d4-7b16caf5d00b] to /opt/julia/compiled/v1.8/CSV/jl_LX9GM6.",
      "",
      "Stacktrace:",
      " [1] error(s::String)",
      "   @ Base ./error.jl:35",
      " [2] compilecache(pkg::Base.PkgId, path::String, internal_stderr::IO, internal_stdout::IO, keep_loaded_modules::Bool)",
      "   @ Base ./loading.jl:1707",
      " [3] compilecache",
      "   @ ./loading.jl:1651 [inlined]",
      " [4] _require(pkg::Base.PkgId)",
      "   @ Base ./loading.jl:1337",
      " [5] _require_prelocked(uuidkey::Base.PkgId)",
      "   @ Base ./loading.jl:1200",
      " [6] macro expansion",
      "   @ ./loading.jl:1180 [inlined]",
      " [7] macro expansion",
      "   @ ./lock.jl:223 [inlined]",
      " [8] require(into::Module, mod::Symbol)",
      "   @ Base ./loading.jl:1144"
     ]
    }
   ],
   "source": [
    "using DataFrames\n",
    "using CSV\n",
    "using Flux\n",
    "using CUDA\n",
    "using ProgressMeter\n",
    "using StatsBase\n",
    "using SOM"
   ]
  },
  {
   "cell_type": "markdown",
   "id": "e5a403c3-5670-4147-b060-8cb2272527a3",
   "metadata": {},
   "source": [
    "## Data Pre-processing"
   ]
  },
  {
   "cell_type": "code",
   "execution_count": 3,
   "id": "fa866060-f251-44ff-a97d-3cd7887b1487",
   "metadata": {
    "tags": []
   },
   "outputs": [
    {
     "ename": "LoadError",
     "evalue": "UndefVarError: CSV not defined",
     "output_type": "error",
     "traceback": [
      "UndefVarError: CSV not defined",
      "",
      "Stacktrace:",
      " [1] top-level scope",
      "   @ In[3]:1"
     ]
    }
   ],
   "source": [
    "dataset_train = CSV.read(\"../data/Credit_Card_Applications.csv\", DataFrame)\n",
    "first(dataset_train, 10)"
   ]
  },
  {
   "cell_type": "code",
   "execution_count": 4,
   "id": "20898bc0-9e6a-414b-a844-c6dd2fe5138f",
   "metadata": {
    "tags": []
   },
   "outputs": [
    {
     "ename": "LoadError",
     "evalue": "UndefVarError: dataset_train not defined",
     "output_type": "error",
     "traceback": [
      "UndefVarError: dataset_train not defined",
      "",
      "Stacktrace:",
      " [1] top-level scope",
      "   @ In[4]:1"
     ]
    }
   ],
   "source": [
    "training_set = Matrix(select(dataset_train, Not(:Class)))"
   ]
  },
  {
   "cell_type": "code",
   "execution_count": 5,
   "id": "b3ed2d6b-20b4-4623-b513-6970ecdfdf27",
   "metadata": {
    "tags": []
   },
   "outputs": [
    {
     "ename": "LoadError",
     "evalue": "UndefVarError: dataset_train not defined",
     "output_type": "error",
     "traceback": [
      "UndefVarError: dataset_train not defined",
      "",
      "Stacktrace:",
      " [1] top-level scope",
      "   @ In[5]:1"
     ]
    }
   ],
   "source": [
    "training_label = Matrix(select(dataset_train, :Class))"
   ]
  },
  {
   "cell_type": "code",
   "execution_count": 6,
   "id": "1520de34-7d33-4816-af8f-0ee75fce5ac3",
   "metadata": {
    "tags": []
   },
   "outputs": [
    {
     "ename": "LoadError",
     "evalue": "UndefVarError: training_set not defined",
     "output_type": "error",
     "traceback": [
      "UndefVarError: training_set not defined",
      "",
      "Stacktrace:",
      " [1] top-level scope",
      "   @ show.jl:1047"
     ]
    }
   ],
   "source": [
    "@show typeof(training_set)\n",
    "scale_class = StatsBase.fit(UnitRangeTransform, training_set; dims = 1)"
   ]
  },
  {
   "cell_type": "code",
   "execution_count": 7,
   "id": "d3479f6d-835c-43da-8e80-4b61b0bd5bd5",
   "metadata": {
    "tags": []
   },
   "outputs": [
    {
     "ename": "LoadError",
     "evalue": "UndefVarError: StatsBase not defined",
     "output_type": "error",
     "traceback": [
      "UndefVarError: StatsBase not defined",
      "",
      "Stacktrace:",
      " [1] top-level scope",
      "   @ In[7]:1"
     ]
    }
   ],
   "source": [
    "training_set_scaled = StatsBase.transform(scale_class, training_set)"
   ]
  },
  {
   "cell_type": "markdown",
   "id": "fac9c6a6-ecf0-45d1-8d2c-9b9549561d98",
   "metadata": {
    "tags": []
   },
   "source": [
    "## Train SOM"
   ]
  },
  {
   "cell_type": "code",
   "execution_count": 8,
   "id": "dbe23221-6b87-4f4b-82f7-19135e4f4b1d",
   "metadata": {
    "tags": []
   },
   "outputs": [
    {
     "ename": "LoadError",
     "evalue": "UndefVarError: initSom not defined",
     "output_type": "error",
     "traceback": [
      "UndefVarError: initSom not defined",
      "",
      "Stacktrace:",
      " [1] top-level scope",
      "   @ In[8]:1"
     ]
    }
   ],
   "source": [
    "som = initSom(training_set, 690, 15)"
   ]
  }
 ],
 "metadata": {
  "kernelspec": {
   "display_name": "Julia 1.8.5",
   "language": "julia",
   "name": "julia-1.8"
  },
  "language_info": {
   "file_extension": ".jl",
   "mimetype": "application/julia",
   "name": "julia",
   "version": "1.8.5"
  }
 },
 "nbformat": 4,
 "nbformat_minor": 5
}

{
 "cells": [
  {
   "cell_type": "markdown",
   "id": "9767175b-032a-4995-a7ad-e40046b8460c",
   "metadata": {},
   "source": [
    "# Convolutional Neural Networks"
   ]
  },
  {
   "cell_type": "markdown",
   "id": "40af88c6-db78-4734-a4e8-25388cc7fd4d",
   "metadata": {},
   "source": [
    "### Importing Libraries"
   ]
  },
  {
   "cell_type": "code",
   "execution_count": null,
   "id": "8e927d71-e0b8-4864-a6d5-3b66113e2aa5",
   "metadata": {
    "tags": []
   },
   "outputs": [
    {
     "name": "stderr",
     "output_type": "stream",
     "text": [
      "\u001b[32m\u001b[1m    Updating\u001b[22m\u001b[39m registry at `/opt/julia/registries/General.toml`\n",
      "\u001b[32m\u001b[1m   Resolving\u001b[22m\u001b[39m package versions...\n",
      "\u001b[32m\u001b[1m   Installed\u001b[22m\u001b[39m Crayons ───────────────────── v4.1.1\n",
      "\u001b[32m\u001b[1m   Installed\u001b[22m\u001b[39m DataAPI ───────────────────── v1.14.0\n",
      "\u001b[32m\u001b[1m   Installed\u001b[22m\u001b[39m InlineStrings ─────────────── v1.4.0\n",
      "\u001b[32m\u001b[1m   Installed\u001b[22m\u001b[39m PooledArrays ──────────────── v1.4.2\n",
      "\u001b[32m\u001b[1m   Installed\u001b[22m\u001b[39m Tables ────────────────────── v1.10.0\n",
      "\u001b[32m\u001b[1m   Installed\u001b[22m\u001b[39m TableTraits ───────────────── v1.0.1\n",
      "\u001b[32m\u001b[1m   Installed\u001b[22m\u001b[39m IteratorInterfaceExtensions ─ v1.0.0\n",
      "\u001b[32m\u001b[1m   Installed\u001b[22m\u001b[39m SentinelArrays ────────────── v1.3.18\n",
      "\u001b[32m\u001b[1m   Installed\u001b[22m\u001b[39m Formatting ────────────────── v0.4.2\n",
      "\u001b[32m\u001b[1m   Installed\u001b[22m\u001b[39m DataValueInterfaces ───────── v1.0.0\n",
      "\u001b[32m\u001b[1m   Installed\u001b[22m\u001b[39m LaTeXStrings ──────────────── v1.3.0\n",
      "\u001b[32m\u001b[1m   Installed\u001b[22m\u001b[39m InvertedIndices ───────────── v1.2.0\n",
      "\u001b[32m\u001b[1m   Installed\u001b[22m\u001b[39m OrderedCollections ────────── v1.4.1\n",
      "\u001b[32m\u001b[1m   Installed\u001b[22m\u001b[39m Reexport ──────────────────── v1.2.2\n",
      "\u001b[32m\u001b[1m   Installed\u001b[22m\u001b[39m PrettyTables ──────────────── v2.2.2\n",
      "\u001b[32m\u001b[1m   Installed\u001b[22m\u001b[39m SortingAlgorithms ─────────── v1.1.0\n",
      "\u001b[32m\u001b[1m   Installed\u001b[22m\u001b[39m Missings ──────────────────── v1.1.0\n",
      "\u001b[32m\u001b[1m   Installed\u001b[22m\u001b[39m StringManipulation ────────── v0.3.0\n",
      "\u001b[32m\u001b[1m   Installed\u001b[22m\u001b[39m DataStructures ────────────── v0.18.13\n",
      "\u001b[32m\u001b[1m   Installed\u001b[22m\u001b[39m DataFrames ────────────────── v1.5.0\n",
      "\u001b[32m\u001b[1m    Updating\u001b[22m\u001b[39m `/opt/julia/environments/v1.8/Project.toml`\n",
      " \u001b[90m [a93c6f00] \u001b[39m\u001b[92m+ DataFrames v1.5.0\u001b[39m\n",
      "\u001b[32m\u001b[1m    Updating\u001b[22m\u001b[39m `/opt/julia/environments/v1.8/Manifest.toml`\n",
      " \u001b[90m [a8cc5b0e] \u001b[39m\u001b[92m+ Crayons v4.1.1\u001b[39m\n",
      " \u001b[90m [9a962f9c] \u001b[39m\u001b[92m+ DataAPI v1.14.0\u001b[39m\n",
      " \u001b[90m [a93c6f00] \u001b[39m\u001b[92m+ DataFrames v1.5.0\u001b[39m\n",
      " \u001b[90m [864edb3b] \u001b[39m\u001b[92m+ DataStructures v0.18.13\u001b[39m\n",
      " \u001b[90m [e2d170a0] \u001b[39m\u001b[92m+ DataValueInterfaces v1.0.0\u001b[39m\n",
      " \u001b[90m [59287772] \u001b[39m\u001b[92m+ Formatting v0.4.2\u001b[39m\n",
      " \u001b[90m [842dd82b] \u001b[39m\u001b[92m+ InlineStrings v1.4.0\u001b[39m\n",
      " \u001b[90m [41ab1584] \u001b[39m\u001b[92m+ InvertedIndices v1.2.0\u001b[39m\n",
      " \u001b[90m [82899510] \u001b[39m\u001b[92m+ IteratorInterfaceExtensions v1.0.0\u001b[39m\n",
      " \u001b[90m [b964fa9f] \u001b[39m\u001b[92m+ LaTeXStrings v1.3.0\u001b[39m\n",
      " \u001b[90m [e1d29d7a] \u001b[39m\u001b[92m+ Missings v1.1.0\u001b[39m\n",
      " \u001b[90m [bac558e1] \u001b[39m\u001b[92m+ OrderedCollections v1.4.1\u001b[39m\n",
      " \u001b[90m [2dfb63ee] \u001b[39m\u001b[92m+ PooledArrays v1.4.2\u001b[39m\n",
      " \u001b[90m [08abe8d2] \u001b[39m\u001b[92m+ PrettyTables v2.2.2\u001b[39m\n",
      " \u001b[90m [189a3867] \u001b[39m\u001b[92m+ Reexport v1.2.2\u001b[39m\n",
      " \u001b[90m [91c51154] \u001b[39m\u001b[92m+ SentinelArrays v1.3.18\u001b[39m\n",
      " \u001b[90m [a2af1166] \u001b[39m\u001b[92m+ SortingAlgorithms v1.1.0\u001b[39m\n",
      " \u001b[90m [892a3eda] \u001b[39m\u001b[92m+ StringManipulation v0.3.0\u001b[39m\n",
      " \u001b[90m [3783bdb8] \u001b[39m\u001b[92m+ TableTraits v1.0.1\u001b[39m\n",
      " \u001b[90m [bd369af6] \u001b[39m\u001b[92m+ Tables v1.10.0\u001b[39m\n",
      " \u001b[90m [9fa8497b] \u001b[39m\u001b[92m+ Future\u001b[39m\n",
      " \u001b[90m [2f01184e] \u001b[39m\u001b[92m+ SparseArrays\u001b[39m\n",
      " \u001b[90m [10745b16] \u001b[39m\u001b[92m+ Statistics\u001b[39m\n",
      "\u001b[32m\u001b[1mPrecompiling\u001b[22m\u001b[39m project...\n",
      "\u001b[32m  ✓ \u001b[39m\u001b[90mDataValueInterfaces\u001b[39m\n",
      "\u001b[32m  ✓ \u001b[39m\u001b[90mLaTeXStrings\u001b[39m\n",
      "\u001b[32m  ✓ \u001b[39m\u001b[90mIteratorInterfaceExtensions\u001b[39m\n",
      "\u001b[32m  ✓ \u001b[39m\u001b[90mInvertedIndices\u001b[39m\n",
      "\u001b[32m  ✓ \u001b[39m\u001b[90mReexport\u001b[39m\n",
      "\u001b[32m  ✓ \u001b[39m\u001b[90mOrderedCollections\u001b[39m\n",
      "\u001b[32m  ✓ \u001b[39m\u001b[90mDataAPI\u001b[39m\n",
      "\u001b[32m  ✓ \u001b[39m\u001b[90mTableTraits\u001b[39m\n",
      "\u001b[32m  ✓ \u001b[39m\u001b[90mFormatting\u001b[39m\n",
      "\u001b[32m  ✓ \u001b[39m\u001b[90mSentinelArrays\u001b[39m\n",
      "\u001b[32m  ✓ \u001b[39m\u001b[90mMissings\u001b[39m\n",
      "\u001b[32m  ✓ \u001b[39m\u001b[90mPooledArrays\u001b[39m\n",
      "\u001b[32m  ✓ \u001b[39m\u001b[90mCrayons\u001b[39m\n",
      "\u001b[32m  ✓ \u001b[39m\u001b[90mTables\u001b[39m\n",
      "\u001b[32m  ✓ \u001b[39m\u001b[90mStringManipulation\u001b[39m\n",
      "\u001b[32m  ✓ \u001b[39m\u001b[90mInlineStrings\u001b[39m\n",
      "\u001b[32m  ✓ \u001b[39m\u001b[90mDataStructures\u001b[39m\n",
      "\u001b[32m  ✓ \u001b[39m\u001b[90mSortingAlgorithms\u001b[39m\n",
      "\u001b[32m  ✓ \u001b[39m\u001b[90mPrettyTables\u001b[39m\n",
      "\u001b[32m  ✓ \u001b[39mDataFrames\n",
      "  20 dependencies successfully precompiled in 57 seconds. 24 already precompiled.\n",
      "\u001b[32m\u001b[1m   Resolving\u001b[22m\u001b[39m package versions...\n",
      "\u001b[32m\u001b[1m   Installed\u001b[22m\u001b[39m GPUArraysCore ────────── v0.1.4\n",
      "\u001b[32m\u001b[1m   Installed\u001b[22m\u001b[39m RealDot ──────────────── v0.1.0\n",
      "\u001b[32m\u001b[1m   Installed\u001b[22m\u001b[39m Adapt ────────────────── v3.6.1\n",
      "\u001b[32m\u001b[1m   Installed\u001b[22m\u001b[39m DiffRules ────────────── v1.13.0\n",
      "\u001b[32m\u001b[1m   Installed\u001b[22m\u001b[39m IRTools ──────────────── v0.4.8\n",
      "\u001b[32m\u001b[1m   Installed\u001b[22m\u001b[39m ShowCases ────────────── v0.1.0\n",
      "\u001b[32m\u001b[1m   Installed\u001b[22m\u001b[39m Functors ─────────────── v0.4.3\n",
      "\u001b[32m\u001b[1m   Installed\u001b[22m\u001b[39m Transducers ──────────── v0.4.75\n",
      "\u001b[32m\u001b[1m   Installed\u001b[22m\u001b[39m ContextVariablesX ────── v0.1.3\n",
      "\u001b[32m\u001b[1m   Installed\u001b[22m\u001b[39m cuDNN ────────────────── v1.0.1\n",
      "\u001b[32m\u001b[1m   Installed\u001b[22m\u001b[39m FLoopsBase ───────────── v0.1.1\n",
      "\u001b[32m\u001b[1m   Installed\u001b[22m\u001b[39m DiffResults ──────────── v1.1.0\n",
      "\u001b[32m\u001b[1m   Installed\u001b[22m\u001b[39m Accessors ────────────── v0.1.28\n",
      "\u001b[32m\u001b[1m   Installed\u001b[22m\u001b[39m CUDA_Driver_jll ──────── v0.2.0+0\n",
      "\u001b[32m\u001b[1m   Installed\u001b[22m\u001b[39m NNlib ────────────────── v0.8.19\n",
      "\u001b[32m\u001b[1m   Installed\u001b[22m\u001b[39m FoldsThreads ─────────── v0.1.1\n",
      "\u001b[32m\u001b[1m   Installed\u001b[22m\u001b[39m ProgressLogging ──────── v0.1.4\n",
      "\u001b[32m\u001b[1m   Installed\u001b[22m\u001b[39m NNlibCUDA ────────────── v0.2.7\n",
      "\u001b[32m\u001b[1m   Installed\u001b[22m\u001b[39m SpecialFunctions ─────── v2.2.0\n",
      "\u001b[32m\u001b[1m   Installed\u001b[22m\u001b[39m IrrationalConstants ──── v0.2.2\n",
      "\u001b[32m\u001b[1m   Installed\u001b[22m\u001b[39m Setfield ─────────────── v1.1.1\n",
      "\u001b[32m\u001b[1m   Installed\u001b[22m\u001b[39m StaticArrays ─────────── v1.5.16\n",
      "\u001b[32m\u001b[1m   Installed\u001b[22m\u001b[39m Zygote ───────────────── v0.6.55\n",
      "\u001b[32m\u001b[1m   Installed\u001b[22m\u001b[39m Baselet ──────────────── v0.1.1\n",
      "\u001b[32m\u001b[1m   Installed\u001b[22m\u001b[39m AbstractFFTs ─────────── v1.3.1\n",
      "\u001b[32m\u001b[1m   Installed\u001b[22m\u001b[39m StaticArraysCore ─────── v1.4.0\n",
      "\u001b[32m\u001b[1m   Installed\u001b[22m\u001b[39m NaNMath ──────────────── v1.0.2\n",
      "\u001b[32m\u001b[1m   Installed\u001b[22m\u001b[39m Optimisers ───────────── v0.2.15\n",
      "\u001b[32m\u001b[1m   Installed\u001b[22m\u001b[39m OneHotArrays ─────────── v0.2.3\n",
      "\u001b[32m\u001b[1m   Installed\u001b[22m\u001b[39m CUDA_Runtime_Discovery ─ v0.1.1\n",
      "\u001b[32m\u001b[1m   Installed\u001b[22m\u001b[39m DefineSingletons ─────── v0.1.2\n",
      "\u001b[32m\u001b[1m   Installed\u001b[22m\u001b[39m MicroCollections ─────── v0.1.3\n",
      "\u001b[32m\u001b[1m   Installed\u001b[22m\u001b[39m ConstructionBase ─────── v1.5.1\n",
      "\u001b[32m\u001b[1m   Installed\u001b[22m\u001b[39m GPUCompiler ──────────── v0.17.3\n",
      "\u001b[32m\u001b[1m   Installed\u001b[22m\u001b[39m TimerOutputs ─────────── v0.5.22\n",
      "\u001b[32m\u001b[1m   Installed\u001b[22m\u001b[39m LLVMExtra_jll ────────── v0.0.16+2\n",
      "\u001b[32m\u001b[1m   Installed\u001b[22m\u001b[39m StructArrays ─────────── v0.6.14\n",
      "\u001b[32m\u001b[1m   Installed\u001b[22m\u001b[39m NameResolution ───────── v0.1.5\n",
      "\u001b[32m\u001b[1m   Installed\u001b[22m\u001b[39m ChainRulesCore ───────── v1.15.7\n",
      "\u001b[32m\u001b[1m   Installed\u001b[22m\u001b[39m InitialValues ────────── v0.3.1\n",
      "\u001b[32m\u001b[1m   Installed\u001b[22m\u001b[39m FunctionWrappers ─────── v1.1.3\n",
      "\u001b[32m\u001b[1m   Installed\u001b[22m\u001b[39m Random123 ────────────── v1.6.0\n",
      "\u001b[32m\u001b[1m   Installed\u001b[22m\u001b[39m BFloat16s ────────────── v0.4.2\n",
      "\u001b[32m\u001b[1m   Installed\u001b[22m\u001b[39m ForwardDiff ──────────── v0.10.35\n",
      "\u001b[32m\u001b[1m   Installed\u001b[22m\u001b[39m GPUArrays ────────────── v8.6.3\n",
      "\u001b[32m\u001b[1m   Installed\u001b[22m\u001b[39m CUDA_Runtime_jll ─────── v0.2.3+2\n",
      "\u001b[32m\u001b[1m   Installed\u001b[22m\u001b[39m FillArrays ───────────── v0.13.7\n",
      "\u001b[32m\u001b[1m   Installed\u001b[22m\u001b[39m SplittablesBase ──────── v0.1.15\n",
      "\u001b[32m\u001b[1m   Installed\u001b[22m\u001b[39m RandomNumbers ────────── v1.5.3\n",
      "\u001b[32m\u001b[1m   Installed\u001b[22m\u001b[39m ChainRules ───────────── v1.48.0\n",
      "\u001b[32m\u001b[1m   Installed\u001b[22m\u001b[39m ZygoteRules ──────────── v0.2.2\n",
      "\u001b[32m\u001b[1m   Installed\u001b[22m\u001b[39m CommonSubexpressions ─── v0.3.0\n",
      "\u001b[32m\u001b[1m   Installed\u001b[22m\u001b[39m LogExpFunctions ──────── v0.3.23\n",
      "\u001b[32m\u001b[1m   Installed\u001b[22m\u001b[39m BangBang ─────────────── v0.3.37\n",
      "\u001b[32m\u001b[1m   Installed\u001b[22m\u001b[39m PrettyPrint ──────────── v0.2.0\n",
      "\u001b[32m\u001b[1m   Installed\u001b[22m\u001b[39m ExprTools ────────────── v0.1.9\n",
      "\u001b[32m\u001b[1m   Installed\u001b[22m\u001b[39m MacroTools ───────────── v0.5.10\n",
      "\u001b[32m\u001b[1m   Installed\u001b[22m\u001b[39m MLStyle ──────────────── v0.4.17\n",
      "\u001b[32m\u001b[1m   Installed\u001b[22m\u001b[39m StatsAPI ─────────────── v1.5.0\n",
      "\u001b[32m\u001b[1m   Installed\u001b[22m\u001b[39m OpenSpecFun_jll ──────── v0.5.5+0\n",
      "\u001b[32m\u001b[1m   Installed\u001b[22m\u001b[39m MLUtils ──────────────── v0.4.1\n",
      "\u001b[32m\u001b[1m   Installed\u001b[22m\u001b[39m CompositionsBase ─────── v0.1.1\n",
      "\u001b[32m\u001b[1m   Installed\u001b[22m\u001b[39m CUDNN_jll ────────────── v8.6.0+3\n",
      "\u001b[32m\u001b[1m   Installed\u001b[22m\u001b[39m InverseFunctions ─────── v0.1.8\n",
      "\u001b[32m\u001b[1m   Installed\u001b[22m\u001b[39m JuliaVariables ───────── v0.2.4\n",
      "\u001b[32m\u001b[1m   Installed\u001b[22m\u001b[39m ArgCheck ─────────────── v2.3.0\n",
      "\u001b[32m\u001b[1m   Installed\u001b[22m\u001b[39m CEnum ────────────────── v0.4.2\n",
      "\u001b[32m\u001b[1m   Installed\u001b[22m\u001b[39m FLoops ───────────────── v0.2.1\n",
      "\u001b[32m\u001b[1m   Installed\u001b[22m\u001b[39m CUDA ─────────────────── v4.0.1\n",
      "\u001b[32m\u001b[1m   Installed\u001b[22m\u001b[39m SimpleTraits ─────────── v0.9.4\n",
      "\u001b[32m\u001b[1m   Installed\u001b[22m\u001b[39m ChangesOfVariables ───── v0.1.6\n",
      "\u001b[32m\u001b[1m   Installed\u001b[22m\u001b[39m DocStringExtensions ──── v0.9.3\n",
      "\u001b[32m\u001b[1m   Installed\u001b[22m\u001b[39m LLVM ─────────────────── v4.16.0\n",
      "\u001b[32m\u001b[1m   Installed\u001b[22m\u001b[39m StatsBase ────────────── v0.33.21\n",
      "\u001b[32m\u001b[1m   Installed\u001b[22m\u001b[39m Flux ─────────────────── v0.13.13\n",
      "\u001b[32m\u001b[1m    Updating\u001b[22m\u001b[39m `/opt/julia/environments/v1.8/Project.toml`\n",
      " \u001b[90m [587475ba] \u001b[39m\u001b[92m+ Flux v0.13.13\u001b[39m\n",
      "\u001b[32m\u001b[1m    Updating\u001b[22m\u001b[39m `/opt/julia/environments/v1.8/Manifest.toml`\n",
      " Downloading artifact: CUDA_Driver\n",
      " Downloading artifact: CUDA_Runtime\n"
     ]
    }
   ],
   "source": [
    "import Pkg\n",
    "Pkg.add(\"DataFrames\")\n",
    "Pkg.add(\"Flux\")\n",
    "Pkg.add(\"CSV\")\n",
    "Pkg.add(\"MLJ\")\n",
    "Pkg.add(\"CUDA\")\n",
    "Pkg.add(\"IterTools\")\n",
    "Pkg.add(\"ProgressMeter\")\n",
    "Pkg.add(\"Images\")\n",
    "Pkg.add(\"Augmentor\")\n",
    "Pkg.add(\"Glob\")\n",
    "Pkg.add(\"MLUtils\")\n",
    "Pkg.add(\"ImageShow\")"
   ]
  },
  {
   "cell_type": "code",
   "execution_count": null,
   "id": "7cc8cedb-c0d9-4c89-8b9f-ba6ab4d58fb3",
   "metadata": {
    "tags": []
   },
   "outputs": [],
   "source": [
    "using DataFrames\n",
    "using CSV\n",
    "using Flux\n",
    "using MLJ\n",
    "using CUDA\n",
    "using IterTools: ncycle\n",
    "using ProgressMeter\n",
    "using Images\n",
    "using Glob\n",
    "using MLUtils\n",
    "using Augmentor\n",
    "using CUDA: CuIterator\n",
    "using ImageShow"
   ]
  },
  {
   "cell_type": "markdown",
   "id": "9aaacbde-3efc-4dc4-ba0e-4fa5a3240145",
   "metadata": {
    "tags": []
   },
   "source": [
    "## Part 1 - Data Preprocessing"
   ]
  },
  {
   "cell_type": "markdown",
   "id": "7b945f82-57c9-499f-a234-3f247e10e47d",
   "metadata": {},
   "source": [
    "#### Check out our data"
   ]
  },
  {
   "cell_type": "code",
   "execution_count": null,
   "id": "77d8f1cc-248f-441c-ad63-923513592e37",
   "metadata": {},
   "outputs": [],
   "source": [
    "dog_img_path = \"data/catsndogs/training_set/dogs/dog.1992.jpg\"\n",
    "\n",
    "dog_img = Images.load(dog_img_path)"
   ]
  },
  {
   "cell_type": "code",
   "execution_count": null,
   "id": "6d4bf830-6733-4ab2-a64b-c2fea06c94d9",
   "metadata": {
    "tags": []
   },
   "outputs": [],
   "source": [
    "size(dog_img)"
   ]
  },
  {
   "cell_type": "code",
   "execution_count": null,
   "id": "6208c5aa-5a5c-441a-bbe0-d57a676cc882",
   "metadata": {},
   "outputs": [],
   "source": [
    "cat_img_path = \"data/catsndogs/training_set/cats/cat.2701.jpg\"\n",
    "\n",
    "cat_img = Images.load(cat_img_path)"
   ]
  },
  {
   "cell_type": "markdown",
   "id": "062e52a8-d312-4452-865d-3de4a22f9d55",
   "metadata": {},
   "source": [
    "#### Look at them side by side"
   ]
  },
  {
   "cell_type": "code",
   "execution_count": null,
   "id": "75f99c96-ec11-4f4f-95d9-51d5f0ac8773",
   "metadata": {},
   "outputs": [],
   "source": [
    "mosaicview(dog_img, cat_img; nrow=1)"
   ]
  },
  {
   "cell_type": "code",
   "execution_count": null,
   "id": "899f0654-4b2a-4fb3-b47e-e8f9bcaecc1f",
   "metadata": {
    "tags": []
   },
   "outputs": [],
   "source": [
    "typeof(dog_img)"
   ]
  },
  {
   "cell_type": "code",
   "execution_count": null,
   "id": "949fe1a9-a315-433c-b2e9-f0ea337c7ace",
   "metadata": {
    "tags": []
   },
   "outputs": [],
   "source": [
    "size(cat_img)"
   ]
  },
  {
   "cell_type": "code",
   "execution_count": null,
   "id": "dc8be241-5ee0-45e0-958b-e123d94f1af3",
   "metadata": {},
   "outputs": [],
   "source": [
    "IMAGE_HEIGHT = 64\n",
    "IMAGE_WIDTH = 64\n",
    "IMAGE_SIZE = (IMAGE_HEIGHT, IMAGE_WIDTH)\n",
    "BATCH_SIZE = 32"
   ]
  },
  {
   "cell_type": "markdown",
   "id": "55e712a1-f0bd-4ae4-8a3f-55074fae34df",
   "metadata": {},
   "source": [
    "#### Importing the Datasets"
   ]
  },
  {
   "cell_type": "markdown",
   "id": "90c68632-eea1-40eb-8372-dc1c4521d586",
   "metadata": {},
   "source": [
    "#### Training Set"
   ]
  },
  {
   "cell_type": "code",
   "execution_count": null,
   "id": "678c2d53-e250-430b-bb7d-66dbdaf3ab92",
   "metadata": {},
   "outputs": [],
   "source": [
    "training_image_filenames = readdir(glob\"*/*.jpg\", \"data/catsndogs/training_set/\")"
   ]
  },
  {
   "cell_type": "code",
   "execution_count": null,
   "id": "b377064d-7590-4c33-8ddc-903939d4731d",
   "metadata": {},
   "outputs": [],
   "source": [
    "#(X_train, X_test), (y_train, y_test) = partition((image_filenames, map(x -> String(rsplit(x, \"/\")[2])== \"dog\" ? 1.0 : 0.0, image_filenames)), 0.8, rng=43, multi=true)"
   ]
  },
  {
   "cell_type": "code",
   "execution_count": null,
   "id": "2ef0d8d2-953c-411d-a709-186593fc8dbe",
   "metadata": {
    "tags": []
   },
   "outputs": [],
   "source": [
    "struct TrainingImageDataset\n",
    "    files::Vector{String}\n",
    "    labels::Vector{Float32}\n",
    "end"
   ]
  },
  {
   "cell_type": "code",
   "execution_count": null,
   "id": "f3b7df17-4575-4f49-b933-78b6891cee15",
   "metadata": {
    "tags": []
   },
   "outputs": [],
   "source": [
    "MLUtils.numobs(dataset::TrainingImageDataset) = length(dataset.files)"
   ]
  },
  {
   "cell_type": "code",
   "execution_count": null,
   "id": "bcba02c0-7242-4d33-8031-fead0bf142b5",
   "metadata": {
    "tags": []
   },
   "outputs": [],
   "source": [
    "train_image_transformation_pipeline = \n",
    "    Augmentor.ElasticDistortion(10,10,0.2,4,3,true) |> \n",
    "    #Augmentor.Zoom(0.8:0.1:1.2) |>\n",
    "    Augmentor.FlipX(0.5) |>\n",
    "    Augmentor.Resize(IMAGE_SIZE...) |>\n",
    "    Augmentor.SplitChannels() |>\n",
    "    Augmentor.PermuteDims((3, 2, 1)) |>\n",
    "    Augmentor.ConvertEltype(Float32)\n",
    "    #Resize(64, 64)\n",
    "\n",
    "function load_training_image(image_path)\n",
    "    image = Images.load(image_path)\n",
    "    #image = Images.imresize(image, (64, 64))\n",
    "    image = augment(image, train_image_transformation_pipeline)\n",
    "    #image = permutedims(convert(Array{Float32, 3}, channelview(image)), (2, 3, 1))\n",
    "    #print(size(image))\n",
    "    return image\n",
    "end\n",
    "\n",
    "MLUtils.getobs(data::TrainingImageDataset, i::Int) = load_training_image(data.files[i])"
   ]
  },
  {
   "cell_type": "code",
   "execution_count": null,
   "id": "e1902957-0691-44e1-b2b1-207048221339",
   "metadata": {
    "tags": []
   },
   "outputs": [],
   "source": [
    "training_image_data = TrainingImageDataset(training_image_filenames, map(x -> String(rsplit(x, \"/\")[2])== \"dog\" ? 1.0 : 0.0, training_image_filenames)) |> gpu"
   ]
  },
  {
   "cell_type": "code",
   "execution_count": null,
   "id": "6f74347c-e06d-4cac-8fc6-5d421f105844",
   "metadata": {
    "tags": []
   },
   "outputs": [],
   "source": [
    "training_loader = CuIterator(Flux.DataLoader((data=training_image_data, label=training_image_data.labels), collate=true, batchsize = 32, shuffle = true))"
   ]
  },
  {
   "cell_type": "markdown",
   "id": "0e61ff53-5e13-4a13-81e7-6d5108f30bf7",
   "metadata": {},
   "source": [
    "#### Test Set"
   ]
  },
  {
   "cell_type": "code",
   "execution_count": null,
   "id": "d904541b-2628-4950-a91d-007e408c4aa4",
   "metadata": {},
   "outputs": [],
   "source": [
    "test_image_filenames = readdir(glob\"*/*.jpg\", \"data/catsndogs/test_set/\")"
   ]
  },
  {
   "cell_type": "code",
   "execution_count": null,
   "id": "75232d14-41a0-4006-8514-9a6801481a97",
   "metadata": {},
   "outputs": [],
   "source": [
    "struct TestImageDataset\n",
    "    files::Vector{String}\n",
    "    labels::Vector{Float32}\n",
    "end"
   ]
  },
  {
   "cell_type": "code",
   "execution_count": null,
   "id": "870afea9-48dc-413b-b340-faeccce0e2eb",
   "metadata": {
    "tags": []
   },
   "outputs": [],
   "source": [
    "MLUtils.numobs(dataset::TestImageDataset) = length(dataset.files)"
   ]
  },
  {
   "cell_type": "code",
   "execution_count": null,
   "id": "2078a7ba-1047-463d-b679-584e2d6cb11a",
   "metadata": {
    "tags": []
   },
   "outputs": [],
   "source": [
    "test_image_transformation_pipeline = \n",
    "    Augmentor.Resize(IMAGE_SIZE...) |>\n",
    "    Augmentor.SplitChannels() |>\n",
    "    Augmentor.PermuteDims((3, 2, 1)) |>\n",
    "    Augmentor.ConvertEltype(Float32)\n",
    "\n",
    "function load_test_image(image_path)\n",
    "    image = Images.load(image_path)\n",
    "    #image = Images.imresize(image, (64, 64))\n",
    "    image = augment(image, test_image_transformation_pipeline)\n",
    "    #image = permutedims(convert(Array{Float32, 3}, channelview(image)), (2, 3, 1))\n",
    "    return image\n",
    "end\n",
    "\n",
    "MLUtils.getobs(data::TestImageDataset, i::Int) = load_test_image(data.files[i])"
   ]
  },
  {
   "cell_type": "code",
   "execution_count": null,
   "id": "8d8c8173-ebf9-44ae-baea-117004949a72",
   "metadata": {
    "tags": []
   },
   "outputs": [],
   "source": [
    "test_image_data = TestImageDataset(test_image_filenames, map(x -> String(rsplit(x, \"/\")[2])== \"dog\" ? 1.0 : 0.0, test_image_filenames)) |> gpu"
   ]
  },
  {
   "cell_type": "code",
   "execution_count": null,
   "id": "bf54031a-3e3a-44f1-a524-cc66b93dc8cf",
   "metadata": {
    "tags": []
   },
   "outputs": [],
   "source": [
    "test_loader = CuIterator(Flux.DataLoader((data=test_image_data, label=test_image_data.labels), collate = false, batchsize = 32, shuffle = true))"
   ]
  },
  {
   "cell_type": "markdown",
   "id": "010c54d6-4f84-4c49-9d7b-c770153fc8b8",
   "metadata": {},
   "source": [
    "## Part 2 - Building the CNN"
   ]
  },
  {
   "cell_type": "markdown",
   "id": "a5a84e1f-e9c1-4904-a7da-d37a50c31875",
   "metadata": {},
   "source": [
    "#### Step 1: Convolution"
   ]
  },
  {
   "cell_type": "code",
   "execution_count": null,
   "id": "649cd3e8-37ae-4f4b-967b-d928ebbd081e",
   "metadata": {
    "tags": []
   },
   "outputs": [],
   "source": [
    "conv_layer1 = Flux.Conv((3, 3), 3 => 32, relu)"
   ]
  },
  {
   "cell_type": "markdown",
   "id": "149ab5db-f6cc-47b9-a7fc-b74826638418",
   "metadata": {
    "tags": []
   },
   "source": [
    "#### Step 2: Pooling"
   ]
  },
  {
   "cell_type": "code",
   "execution_count": null,
   "id": "db6212b8-5196-4843-abf9-f61dd46f3f19",
   "metadata": {
    "tags": []
   },
   "outputs": [],
   "source": [
    "max_pool_layer1 = Flux.MaxPool((2, 2), stride = 2)"
   ]
  },
  {
   "cell_type": "markdown",
   "id": "87d78c21-43fa-4f41-9a47-1a5ed28db817",
   "metadata": {},
   "source": [
    "### Second Layer"
   ]
  },
  {
   "cell_type": "code",
   "execution_count": null,
   "id": "cc12b05c-e371-4bb2-9757-f71596d5ab56",
   "metadata": {
    "tags": []
   },
   "outputs": [],
   "source": [
    "conv_layer2 = Flux.Conv((3, 3), 32 => 32, relu)\n",
    "max_pool_layer2 = Flux.MaxPool((2, 2), stride = 2)"
   ]
  },
  {
   "cell_type": "markdown",
   "id": "e0fc411a-99d4-4a84-abad-a30a0052b679",
   "metadata": {
    "tags": []
   },
   "source": [
    "#### Step 3: Flattening"
   ]
  },
  {
   "cell_type": "code",
   "execution_count": null,
   "id": "f4e23fcd-29a2-41b1-904c-abae27f7064b",
   "metadata": {
    "tags": []
   },
   "outputs": [],
   "source": [
    "flat_layer = Flux.flatten"
   ]
  },
  {
   "cell_type": "markdown",
   "id": "817234b5-e419-4bbc-8070-4fdf87a47ebb",
   "metadata": {},
   "source": [
    "#### Step 4: Full Connection"
   ]
  },
  {
   "cell_type": "code",
   "execution_count": null,
   "id": "272690ac-c0c9-47e7-9085-327bfa403530",
   "metadata": {
    "tags": []
   },
   "outputs": [],
   "source": [
    "dense_layer = Flux.Dense(6272 => 128, relu)"
   ]
  },
  {
   "cell_type": "markdown",
   "id": "074c5ca5-02b5-45d9-986b-92388bd0c113",
   "metadata": {},
   "source": [
    "#### Step 5: Output Layer"
   ]
  },
  {
   "cell_type": "code",
   "execution_count": null,
   "id": "e4e265eb-fb41-4db2-b41c-e5a88fa05f81",
   "metadata": {
    "tags": []
   },
   "outputs": [],
   "source": [
    "output_layer  = Dense(128 => 1, sigmoid)"
   ]
  },
  {
   "cell_type": "markdown",
   "id": "378a4061-6619-4128-9612-c0dcd968adc6",
   "metadata": {},
   "source": [
    "#### Step 6: Put it together"
   ]
  },
  {
   "cell_type": "code",
   "execution_count": null,
   "id": "a43e040f-26da-47fa-81a0-523487105690",
   "metadata": {
    "tags": []
   },
   "outputs": [],
   "source": [
    "model = Chain(\n",
    "    conv_layer1, \n",
    "    max_pool_layer1,\n",
    "    conv_layer2,\n",
    "    max_pool_layer2,\n",
    "    flat_layer, \n",
    "    dense_layer,\n",
    "    output_layer\n",
    ")"
   ]
  },
  {
   "cell_type": "code",
   "execution_count": null,
   "id": "2f8583eb-1efc-4711-849f-f3dd7075d46f",
   "metadata": {
    "tags": []
   },
   "outputs": [],
   "source": [
    "#Place the model onto the gpu\n",
    "model = fmap(cu, model)"
   ]
  },
  {
   "cell_type": "markdown",
   "id": "4315d486-0a19-4a94-9786-9334410968e2",
   "metadata": {},
   "source": [
    "#### Test the model"
   ]
  },
  {
   "cell_type": "code",
   "execution_count": null,
   "id": "6db11b3b-9a32-4308-a51f-0847c1c42bb2",
   "metadata": {
    "tags": []
   },
   "outputs": [],
   "source": [
    "count = 1\n",
    "for batch in training_loader\n",
    "    println(count)\n",
    "    #println(length(batch))\n",
    "    #println(size(batch.data))\n",
    "    #println(typeof(batch))\n",
    "    @show size(batch.data[:, :, :, 1] |> cpu)\n",
    "    @show ImageShow.gif(batch.data[:, :, :, 1] |> cpu)\n",
    "    count += 1\n",
    "    output1 = model(batch.data)\n",
    "    println(output1 .> 0.5, \" \", size(output1))\n",
    "    break\n",
    "end"
   ]
  },
  {
   "cell_type": "code",
   "execution_count": null,
   "id": "57bd1171-9b6b-4e69-9284-397e25ee63da",
   "metadata": {
    "tags": []
   },
   "outputs": [],
   "source": [
    "optimizer = Flux.setup(Flux.Adam(0.01), model) |> gpu\n",
    "loss(m, x) = Flux.logitbinarycrossentropy(m(x.data), transpose(x.label)) |> gpu"
   ]
  },
  {
   "cell_type": "markdown",
   "id": "824bfdce-1262-4321-ab14-53dabca206a9",
   "metadata": {},
   "source": [
    "#### Train the model"
   ]
  },
  {
   "cell_type": "code",
   "execution_count": null,
   "id": "851db5a3-7cce-4ae2-82d9-109f203d663d",
   "metadata": {
    "tags": []
   },
   "outputs": [],
   "source": [
    "number_epochs = 10\n",
    "\n",
    "@showprogress for epoch in 1:number_epochs\n",
    "    Flux.train!(loss, model, training_loader, optimizer) \n",
    "end"
   ]
  },
  {
   "cell_type": "markdown",
   "id": "d536b75e-b4e9-4e6b-8712-606b8a18dd27",
   "metadata": {},
   "source": [
    "## Part 4 - Single Predictions"
   ]
  },
  {
   "cell_type": "code",
   "execution_count": null,
   "id": "f62e6071-5e43-49c6-a162-dc5335b2f67e",
   "metadata": {
    "tags": []
   },
   "outputs": [],
   "source": [
    "test_single_image_1_path = \"data/catsndogs/single_prediction/cat_or_dog_1.jpg\"\n",
    "test_single_image_2_path = \"data/catsndogs/single_prediction/cat_or_dog_2.jpg\"\n",
    "\n",
    "test_single_image_1 = load_test_image(test_single_image_1_path)\n",
    "test_single_image_2 = load_test_image(test_single_image_2_path)\n",
    "@show size(test_single_image_1)\n",
    "\n",
    "img1 = Images.load(test_single_image_1_path)\n",
    "img2 = Images.load(test_single_image_2_path)\n",
    "mosaicview(img1, img2; nrow=1)"
   ]
  },
  {
   "cell_type": "code",
   "execution_count": null,
   "id": "c32961d9-21d0-4d93-b00e-765b233d9193",
   "metadata": {
    "tags": []
   },
   "outputs": [],
   "source": [
    "print(size(reshape(test_single_image_1, (size(test_single_image_1)..., 1))))\n",
    "single_predict_1 = model(reshape(test_single_image_1, (size(test_single_image_1)..., 1)) |> gpu)"
   ]
  },
  {
   "cell_type": "code",
   "execution_count": null,
   "id": "413f36d4-a6a2-4deb-80cc-068cd05ebba1",
   "metadata": {
    "tags": []
   },
   "outputs": [],
   "source": [
    "single_predict_2 = model(reshape(test_single_image_2, (size(test_single_image_2)..., 1)) |> gpu)"
   ]
  },
  {
   "cell_type": "code",
   "execution_count": null,
   "id": "ca64663a-0407-48a9-8b36-e368c8f32d49",
   "metadata": {},
   "outputs": [],
   "source": []
  }
 ],
 "metadata": {
  "kernelspec": {
   "display_name": "Julia 1.8.5",
   "language": "julia",
   "name": "julia-1.8"
  },
  "language_info": {
   "file_extension": ".jl",
   "mimetype": "application/julia",
   "name": "julia",
   "version": "1.8.5"
  }
 },
 "nbformat": 4,
 "nbformat_minor": 5
}

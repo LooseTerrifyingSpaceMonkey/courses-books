{
 "cells": [
  {
   "cell_type": "code",
   "execution_count": 1,
   "metadata": {
    "collapsed": true
   },
   "outputs": [],
   "source": [
    "In [162]: all_data = [[\"John\", \"Emily\", \"Michael\", \"Mary\", \"Steven\"],\n",
    "                      .....:             [\"Maria\", \"Juan\", \"Javier\", \"Natalia\", \"Pilar\"]]\n"
   ]
  },
  {
   "cell_type": "code",
   "execution_count": 12,
   "outputs": [
    {
     "data": {
      "text/plain": "[['John',\n  'Emily',\n  'Michael',\n  'Mary',\n  'Steven',\n  'John',\n  'Emily',\n  'Michael',\n  'Mary',\n  'Steven'],\n ['Maria',\n  'Juan',\n  'Javier',\n  'Natalia',\n  'Pilar',\n  'Maria',\n  'Juan',\n  'Javier',\n  'Natalia',\n  'Pilar']]"
     },
     "execution_count": 12,
     "metadata": {},
     "output_type": "execute_result"
    }
   ],
   "source": [
    "sub_list = [name * 2 for name in all_data]\n",
    "sub_list"
   ],
   "metadata": {
    "collapsed": false
   }
  },
  {
   "cell_type": "code",
   "execution_count": 13,
   "outputs": [
    {
     "data": {
      "text/plain": "['Michael', 'Mary', 'Maria', 'Juan', 'Javier', 'Natalia', 'Pilar']"
     },
     "execution_count": 13,
     "metadata": {},
     "output_type": "execute_result"
    }
   ],
   "source": [
    "rel_names = [name for names in all_data for name in names if name.count('a')]\n",
    "rel_names"
   ],
   "metadata": {
    "collapsed": false
   }
  },
  {
   "cell_type": "code",
   "execution_count": 7,
   "outputs": [
    {
     "data": {
      "text/plain": "['Maria', 'Natalia']"
     },
     "execution_count": 7,
     "metadata": {},
     "output_type": "execute_result"
    }
   ],
   "source": [
    "rel_names = [name for names in all_data for name in names if name.count('a') >= 2]\n",
    "rel_names"
   ],
   "metadata": {
    "collapsed": false
   }
  },
  {
   "cell_type": "code",
   "execution_count": null,
   "outputs": [],
   "source": [],
   "metadata": {
    "collapsed": false
   }
  }
 ],
 "metadata": {
  "kernelspec": {
   "display_name": "Python 3",
   "language": "python",
   "name": "python3"
  },
  "language_info": {
   "codemirror_mode": {
    "name": "ipython",
    "version": 2
   },
   "file_extension": ".py",
   "mimetype": "text/x-python",
   "name": "python",
   "nbconvert_exporter": "python",
   "pygments_lexer": "ipython2",
   "version": "2.7.6"
  }
 },
 "nbformat": 4,
 "nbformat_minor": 0
}

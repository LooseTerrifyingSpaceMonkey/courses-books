{
 "cells": [
  {
   "cell_type": "code",
   "execution_count": 1,
   "metadata": {
    "tags": []
   },
   "outputs": [
    {
     "name": "stdout",
     "output_type": "stream",
     "text": [
      "\u001b[33mWARNING: The directory '/home/jovyan/.cache/pip' or its parent directory is not owned or is not writable by the current user. The cache has been disabled. Check the permissions and owner of that directory. If executing pip with sudo, you should use sudo's -H flag.\u001b[0m\u001b[33m\n",
      "\u001b[0mRequirement already satisfied: numpy in /opt/conda/lib/python3.10/site-packages (1.23.5)\n",
      "Requirement already satisfied: torch in /opt/conda/lib/python3.10/site-packages (2.0.0)\n",
      "Requirement already satisfied: torchvision in /opt/conda/lib/python3.10/site-packages (0.15.1)\n",
      "Requirement already satisfied: matplotlib in /opt/conda/lib/python3.10/site-packages (3.7.1)\n",
      "Requirement already satisfied: gymnasium in /opt/conda/lib/python3.10/site-packages (0.28.1)\n",
      "Requirement already satisfied: filelock in /opt/conda/lib/python3.10/site-packages (from torch) (3.11.0)\n",
      "Requirement already satisfied: typing-extensions in /opt/conda/lib/python3.10/site-packages (from torch) (4.5.0)\n",
      "Requirement already satisfied: sympy in /opt/conda/lib/python3.10/site-packages (from torch) (1.11.1)\n",
      "Requirement already satisfied: networkx in /opt/conda/lib/python3.10/site-packages (from torch) (3.1)\n",
      "Requirement already satisfied: jinja2 in /opt/conda/lib/python3.10/site-packages (from torch) (3.1.2)\n",
      "Requirement already satisfied: nvidia-cuda-nvrtc-cu11==11.7.99 in /opt/conda/lib/python3.10/site-packages (from torch) (11.7.99)\n",
      "Requirement already satisfied: nvidia-cuda-runtime-cu11==11.7.99 in /opt/conda/lib/python3.10/site-packages (from torch) (11.7.99)\n",
      "Requirement already satisfied: nvidia-cuda-cupti-cu11==11.7.101 in /opt/conda/lib/python3.10/site-packages (from torch) (11.7.101)\n",
      "Requirement already satisfied: nvidia-cudnn-cu11==8.5.0.96 in /opt/conda/lib/python3.10/site-packages (from torch) (8.5.0.96)\n",
      "Requirement already satisfied: nvidia-cublas-cu11==11.10.3.66 in /opt/conda/lib/python3.10/site-packages (from torch) (11.10.3.66)\n",
      "Requirement already satisfied: nvidia-cufft-cu11==10.9.0.58 in /opt/conda/lib/python3.10/site-packages (from torch) (10.9.0.58)\n",
      "Requirement already satisfied: nvidia-curand-cu11==10.2.10.91 in /opt/conda/lib/python3.10/site-packages (from torch) (10.2.10.91)\n",
      "Requirement already satisfied: nvidia-cusolver-cu11==11.4.0.1 in /opt/conda/lib/python3.10/site-packages (from torch) (11.4.0.1)\n",
      "Requirement already satisfied: nvidia-cusparse-cu11==11.7.4.91 in /opt/conda/lib/python3.10/site-packages (from torch) (11.7.4.91)\n",
      "Requirement already satisfied: nvidia-nccl-cu11==2.14.3 in /opt/conda/lib/python3.10/site-packages (from torch) (2.14.3)\n",
      "Requirement already satisfied: nvidia-nvtx-cu11==11.7.91 in /opt/conda/lib/python3.10/site-packages (from torch) (11.7.91)\n",
      "Requirement already satisfied: triton==2.0.0 in /opt/conda/lib/python3.10/site-packages (from torch) (2.0.0)\n",
      "Requirement already satisfied: setuptools in /opt/conda/lib/python3.10/site-packages (from nvidia-cublas-cu11==11.10.3.66->torch) (67.6.1)\n",
      "Requirement already satisfied: wheel in /opt/conda/lib/python3.10/site-packages (from nvidia-cublas-cu11==11.10.3.66->torch) (0.40.0)\n",
      "Requirement already satisfied: cmake in /opt/conda/lib/python3.10/site-packages (from triton==2.0.0->torch) (3.26.3)\n",
      "Requirement already satisfied: lit in /opt/conda/lib/python3.10/site-packages (from triton==2.0.0->torch) (16.0.1)\n",
      "Requirement already satisfied: requests in /opt/conda/lib/python3.10/site-packages (from torchvision) (2.28.2)\n",
      "Requirement already satisfied: pillow!=8.3.*,>=5.3.0 in /opt/conda/lib/python3.10/site-packages (from torchvision) (9.4.0)\n",
      "Requirement already satisfied: contourpy>=1.0.1 in /opt/conda/lib/python3.10/site-packages (from matplotlib) (1.0.7)\n",
      "Requirement already satisfied: cycler>=0.10 in /opt/conda/lib/python3.10/site-packages (from matplotlib) (0.11.0)\n",
      "Requirement already satisfied: fonttools>=4.22.0 in /opt/conda/lib/python3.10/site-packages (from matplotlib) (4.39.3)\n",
      "Requirement already satisfied: kiwisolver>=1.0.1 in /opt/conda/lib/python3.10/site-packages (from matplotlib) (1.4.4)\n",
      "Requirement already satisfied: packaging>=20.0 in /opt/conda/lib/python3.10/site-packages (from matplotlib) (23.1)\n",
      "Requirement already satisfied: pyparsing>=2.3.1 in /opt/conda/lib/python3.10/site-packages (from matplotlib) (3.0.9)\n",
      "Requirement already satisfied: python-dateutil>=2.7 in /opt/conda/lib/python3.10/site-packages (from matplotlib) (2.8.2)\n",
      "Requirement already satisfied: jax-jumpy>=1.0.0 in /opt/conda/lib/python3.10/site-packages (from gymnasium) (1.0.0)\n",
      "Requirement already satisfied: cloudpickle>=1.2.0 in /opt/conda/lib/python3.10/site-packages (from gymnasium) (2.2.1)\n",
      "Requirement already satisfied: farama-notifications>=0.0.1 in /opt/conda/lib/python3.10/site-packages (from gymnasium) (0.0.4)\n",
      "Requirement already satisfied: six>=1.5 in /opt/conda/lib/python3.10/site-packages (from python-dateutil>=2.7->matplotlib) (1.16.0)\n",
      "Requirement already satisfied: MarkupSafe>=2.0 in /opt/conda/lib/python3.10/site-packages (from jinja2->torch) (2.1.2)\n",
      "Requirement already satisfied: charset-normalizer<4,>=2 in /opt/conda/lib/python3.10/site-packages (from requests->torchvision) (3.1.0)\n",
      "Requirement already satisfied: idna<4,>=2.5 in /opt/conda/lib/python3.10/site-packages (from requests->torchvision) (3.4)\n",
      "Requirement already satisfied: urllib3<1.27,>=1.21.1 in /opt/conda/lib/python3.10/site-packages (from requests->torchvision) (1.26.15)\n",
      "Requirement already satisfied: certifi>=2017.4.17 in /opt/conda/lib/python3.10/site-packages (from requests->torchvision) (2022.12.7)\n",
      "Requirement already satisfied: mpmath>=0.19 in /opt/conda/lib/python3.10/site-packages (from sympy->torch) (1.3.0)\n",
      "\u001b[33mWARNING: Running pip as the 'root' user can result in broken permissions and conflicting behaviour with the system package manager. It is recommended to use a virtual environment instead: https://pip.pypa.io/warnings/venv\u001b[0m\u001b[33m\n",
      "\u001b[0m"
     ]
    }
   ],
   "source": [
    "!pip install numpy torch torchvision matplotlib gymnasium"
   ]
  },
  {
   "cell_type": "code",
   "execution_count": 2,
   "metadata": {
    "collapsed": false,
    "jupyter": {
     "outputs_hidden": false
    }
   },
   "outputs": [],
   "source": [
    "import gymnasium as gym\n",
    "import matplotlib.pyplot as plt\n",
    "import numpy as np\n",
    "import random\n",
    "\n",
    "import torch.nn as nn\n",
    "import torch.nn.functional as F\n",
    "import torch.optim as optim\n",
    "import torch as T"
   ]
  },
  {
   "cell_type": "code",
   "execution_count": 3,
   "metadata": {
    "tags": []
   },
   "outputs": [],
   "source": [
    "class NaiveCartPoleLinearClassifier(nn.Module):\n",
    "    def __init__(self, learning_rate, num_classes, input_dimensions):\n",
    "        super(NaiveCartPoleLinearClassifier, self).__init__()\n",
    "        \n",
    "        self.fully_connected_1 = nn.Linear(*input_dimensions, 128)\n",
    "        self.fully_connected_2 = nn.Linear(128, num_classes)\n",
    "        \n",
    "        self.optimizer = optim.Adam(self.parameters(), lr = learning_rate)\n",
    "        self.loss = nn.MSELoss()\n",
    "        \n",
    "        self.device = T.device('cuda:0' if T.cuda.is_available() else 'cpu')\n",
    "        self.to(self.device)\n",
    "        \n",
    "    def forward(self, data):\n",
    "        layer1_output = F.relu(self.fully_connected_1(data))\n",
    "        actions = self.fully_connected_2(layer1_output)\n",
    "        \n",
    "        return actions\n",
    "    \n",
    "    def learn(self, data, labels):\n",
    "        self.optimizer.zero_grad()\n",
    "        data = T.tensor(data).to(self.device)\n",
    "        labels = T.tensor(labels).to(self.device)\n",
    "        \n",
    "        predictions = self.forward(data)\n",
    "        \n",
    "        cost = self.loss(prediciton, labels)\n",
    "        \n",
    "        cost.backward()\n",
    "        self.optimizer.step()"
   ]
  },
  {
   "cell_type": "code",
   "execution_count": 4,
   "metadata": {
    "tags": []
   },
   "outputs": [],
   "source": [
    "class QAgent():\n",
    "    def __init__(self, learning_rate = 0.0001, discount_factor = 0.99, explore_exploit_start = 1.0, explore_exploit_min = 0.01, decrement = 1e-5, num_actions = 2, num_states = (4, 1)):\n",
    "        self.q_classifier = NaiveCartPoleLinearClassifier(learning_rate, num_actions, num_states)\n",
    "        \n",
    "        self.learning_rate = learning_rate # alpha\n",
    "        self.discount_factor = discount_factor # gamma\n",
    "        self.explore_exploit = explore_exploit_start # epsilon\n",
    "        print(self.explore_exploit)\n",
    "        self.num_actions = num_actions\n",
    "        self.explore_exploit_min = explore_exploit_min\n",
    "        self.ee_decrement = decrement\n",
    "        \n",
    "        self.action_space = [i for i in range(self.num_actions)]\n",
    "        \n",
    "        \n",
    "    def choose_action(self, current_state):\n",
    "        random_number = np.random.random()\n",
    "        if random_number < self.explore_exploit:\n",
    "            return np.random.choice(self.action_space)\n",
    "        else:\n",
    "            return T.argmax(self.q_classifier.forward(T.tensor(current_state, dtype=T.float).to(self.q_classifier.device))).item()\n",
    "            \n",
    "    def decrement_explore_exploit(self):\n",
    "        prev_value = self.explore_exploit\n",
    "        new_value = (self.explore_exploit - self.ee_decrement) if self.explore_exploit > self.explore_exploit_min else self.explore_exploit_min\n",
    "        self.explore_exploit = new_value\n",
    "        #print(f\"decrement_explore_exploit prev_value: {prev_value} new_value: {new_value} explore_exploit: {self.explore_exploit} \")\n",
    "        \n",
    "    def learn(self, current_state, action, reward, new_state):\n",
    "        #self.q_table[current_state][action] +=  (reward + self.discount_factor * np.max(self.q_classifier(new_state)) - self.q_classifier(current_state)[action])\n",
    "        self.q_classifier.optimizer.zero_grad()\n",
    "        current_states = T.tensor(current_state, dtype = T.float).to(self.q_classifier.device)\n",
    "        actions = T.tensor(action).to(self.q_classifier.device)\n",
    "        rewards = T.tensor(reward).to(self.q_classifier.device)\n",
    "        new_states = T.tensor(new_state, dtype = T.float).to(self.q_classifier.device)\n",
    "        \n",
    "        predictions = self.q_classifier.forward(current_states)[actions]\n",
    "        \n",
    "        next_predictions = self.q_classifier.forward(new_states).max()\n",
    "        \n",
    "        next_target = reward + self.discount_factor * next_predictions \n",
    "        \n",
    "        cost = self.q_classifier.loss(next_target, predictions).to(self.q_classifier.device)\n",
    "        \n",
    "        cost.backward()\n",
    "        \n",
    "        self.q_classifier.optimizer.step()\n",
    "        \n",
    "        self.decrement_explore_exploit()\n",
    "        \n",
    "    \n",
    "                \n",
    "        "
   ]
  },
  {
   "cell_type": "code",
   "execution_count": 5,
   "metadata": {
    "tags": []
   },
   "outputs": [],
   "source": [
    "#agent = QAgent()"
   ]
  },
  {
   "cell_type": "code",
   "execution_count": 6,
   "metadata": {
    "collapsed": false,
    "jupyter": {
     "outputs_hidden": false
    }
   },
   "outputs": [
    {
     "data": {
      "text/plain": [
       "(array([-1.5324063e-02, -4.5995586e-02, -4.3624777e-02,  3.7905374e-05],\n",
       "       dtype=float32),\n",
       " {})"
      ]
     },
     "execution_count": 6,
     "metadata": {},
     "output_type": "execute_result"
    }
   ],
   "source": [
    "env = gym.make('CartPole-v1')\n",
    "env.reset()"
   ]
  },
  {
   "cell_type": "code",
   "execution_count": 14,
   "metadata": {},
   "outputs": [],
   "source": [
    "def plot_learning_curve(x, scores, epsilons, filename):\n",
    "    figure = plt.figure()\n",
    "    ax = figure.add_subplot(111, label = \"1\")\n",
    "    ax2 = figure.add_subplot(111, label = \"2\", frame_on = False)\n",
    "    \n",
    "    ax.plot(x, epsilons, color = \"C0\")\n",
    "    ax.set_xlabel(\"Training Steps\", color = \"C0\")\n",
    "    ax.set_ylabel(\"Epsilon\", color = \"C0\")\n",
    "    ax.tick_params(axis = \"x\", colors = \"C0\")\n",
    "    ax.tick_params(axis = \"y\", colors = \"C0\")\n",
    "    \n",
    "    N = len(scores)\n",
    "    running_average = np.empty(N)\n",
    "    for t in range(N):\n",
    "        running_average[t] = np.mean(scores[max(0, t - 100):(t + 1)])\n",
    "        \n",
    "    ax2.scatter(x, running_average, color = \"C1\")\n",
    "    ax2.axes.get_xaxis().set_visible(False)\n",
    "    ax2.yaxis.tick_right()\n",
    "    ax2.set_ylabel(\"Score\", color = \"C1\")\n",
    "    ax2.yaxis.set_label_position(\"right\")\n",
    "    ax2.tick_params(axis = \"y\", colors = \"C1\")\n",
    "    \n",
    "    plt.savefig(filename)\n",
    "    "
   ]
  },
  {
   "cell_type": "code",
   "execution_count": 8,
   "metadata": {
    "collapsed": false,
    "jupyter": {
     "outputs_hidden": false
    },
    "tags": []
   },
   "outputs": [],
   "source": [
    "action = None\n",
    "# 1000 Games\n",
    "game_results = []\n",
    "win_percentages = []\n",
    "epsilon_history = []\n",
    "number_games = 10000\n",
    "\n",
    "agent = QAgent(num_states = env.observation_space.shape, num_actions = env.action_space.n)\n",
    "\n",
    "for i in range(number_games):\n",
    "    terminated = False\n",
    "    truncated = False\n",
    "    observation, info = env.reset()\n",
    "    score = 0\n",
    "    while not terminated and not truncated:\n",
    "        action = agent.choose_action(observation)\n",
    "        observation_, reward, terminated, truncated, info = env.step(action)\n",
    "        \n",
    "        agent.learn(observation, action, reward, observation_)\n",
    "        score += reward\n",
    "        observation = observation_\n",
    "    \n",
    "    game_results.append(score)\n",
    "    epsilon_history.append(agent.explore_exploit)\n",
    "    \n",
    "    if i % 100 == 0:\n",
    "        win_percentages.append(np.mean(game_results[-100:]))\n",
    "        #if i % 1000 == 0:\n",
    "        print(f'Episode: {i} Win Percent: {win_percentages[-1]:.3f} Epsilon: {agent.explore_exploit:.2f}') \n",
    "     \n",
    "print(f'Number: {len(game_results)} Sum: {sum(game_results)}')\n",
    "plt.plot(win_percentages)\n",
    "plt.show()"
   ]
  },
  {
   "cell_type": "code",
   "execution_count": 15,
   "metadata": {
    "collapsed": false,
    "jupyter": {
     "outputs_hidden": false
    },
    "tags": []
   },
   "outputs": [
    {
     "data": {
      "image/png": "[encoded data removed]",
      "text/plain": [
       "<Figure size 640x480 with 2 Axes>"
      ]
     },
     "metadata": {},
     "output_type": "display_data"
    }
   ],
   "source": [
    "filename = 'cartpole_naive_dqn.png'\n",
    "x = [i + 1 for i in range(number_games)]\n",
    "plot_learning_curve(x, game_results, epsilon_history, filename)"
   ]
  }
 ],
 "metadata": {
  "kernelspec": {
   "display_name": "Python 3 (ipykernel)",
   "language": "python",
   "name": "python3"
  },
  "language_info": {
   "codemirror_mode": {
    "name": "ipython",
    "version": 3
   },
   "file_extension": ".py",
   "mimetype": "text/x-python",
   "name": "python",
   "nbconvert_exporter": "python",
   "pygments_lexer": "ipython3",
   "version": "3.10.10"
  }
 },
 "nbformat": 4,
 "nbformat_minor": 4
}

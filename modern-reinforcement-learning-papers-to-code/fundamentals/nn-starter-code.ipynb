{
 "cells": [
  {
   "cell_type": "code",
   "execution_count": 1,
   "id": "8fda20cd-4fd9-4c68-ba47-e55c1254d519",
   "metadata": {
    "tags": []
   },
   "outputs": [],
   "source": [
    "import torch.nn as nn\n",
    "import torch.nn.functional as F\n",
    "import torch.optim as optim\n",
    "import torch"
   ]
  },
  {
   "cell_type": "code",
   "execution_count": 2,
   "id": "7465823a-a31d-4abb-96c9-fe5268cc5147",
   "metadata": {
    "tags": []
   },
   "outputs": [],
   "source": [
    "class LinearClassifier(nn.Module):\n",
    "    def __init__(self, learning_rate, num_classes, input_dimensions):\n",
    "        super(LinearClassifier, self).__init__()\n",
    "        \n",
    "        self.fully_connected_1 = nn.Linear(*input_dimensions, 128)\n",
    "        self.fully_connected_2 = nn.Linear(*128, 256)\n",
    "        self.fully_connected_3 = nn.Linear(*256, num_classes)\n",
    "        \n",
    "        self.optimizer = optim.Adam(self.parameters(), lr = learning_rate)\n",
    "        self.loss = nn.CrossEntropyLoss()\n",
    "        \n",
    "        self.device = T.device('cuda:0' if T.cuda.is_available() else 'cpu')\n",
    "        self.to(self.device)\n",
    "        \n",
    "    def forward(self, data):\n",
    "        layer1_output = F.sigmoid(self.fully_connected_1(data))\n",
    "        layer2_output = F.sigmoid(self.fully_connected_2(layer1_output))\n",
    "        layer3_output = self.fully_connected_3(layer2_output)\n",
    "        \n",
    "        return layer3_output\n",
    "    \n",
    "    def learn(self, data, labels):\n",
    "        self.optimizer.zero_grad()\n",
    "        data = T.tensor(data).to(self.device)\n",
    "        labels = T.tensor(labels).to(self.device)\n",
    "        \n",
    "        predictions = self.forward(data)\n",
    "        \n",
    "        cost = self.loss(predictions, labels)\n",
    "        \n",
    "        cost.backward()\n",
    "        self.optimizer.step()\n",
    "        "
   ]
  },
  {
   "cell_type": "code",
   "execution_count": 3,
   "id": "42d8f63b-f4c0-4381-9fed-70d45429ff92",
   "metadata": {
    "tags": []
   },
   "outputs": [
    {
     "ename": "TypeError",
     "evalue": "Value after * must be an iterable, not int",
     "output_type": "error",
     "traceback": [
      "\u001b[0;31m---------------------------------------------------------------------------\u001b[0m",
      "\u001b[0;31mTypeError\u001b[0m                                 Traceback (most recent call last)",
      "Cell \u001b[0;32mIn[3], line 1\u001b[0m\n\u001b[0;32m----> 1\u001b[0m lc \u001b[38;5;241m=\u001b[39m \u001b[43mLinearClassifier\u001b[49m\u001b[43m(\u001b[49m\u001b[38;5;241;43m0.001\u001b[39;49m\u001b[43m,\u001b[49m\u001b[43m \u001b[49m\u001b[38;5;241;43m4\u001b[39;49m\u001b[43m,\u001b[49m\u001b[43m \u001b[49m\u001b[38;5;241;43m4\u001b[39;49m\u001b[43m)\u001b[49m\n",
      "Cell \u001b[0;32mIn[2], line 5\u001b[0m, in \u001b[0;36mLinearClassifier.__init__\u001b[0;34m(self, learning_rate, num_classes, input_dimensions)\u001b[0m\n\u001b[1;32m      2\u001b[0m \u001b[38;5;28;01mdef\u001b[39;00m \u001b[38;5;21m__init__\u001b[39m(\u001b[38;5;28mself\u001b[39m, learning_rate, num_classes, input_dimensions):\n\u001b[1;32m      3\u001b[0m     \u001b[38;5;28msuper\u001b[39m(LinearClassifier, \u001b[38;5;28mself\u001b[39m)\u001b[38;5;241m.\u001b[39m\u001b[38;5;21m__init__\u001b[39m()\n\u001b[0;32m----> 5\u001b[0m     \u001b[38;5;28mself\u001b[39m\u001b[38;5;241m.\u001b[39mfully_connected_1 \u001b[38;5;241m=\u001b[39m nn\u001b[38;5;241m.\u001b[39mLinear(\u001b[38;5;241m*\u001b[39minput_dimensions, \u001b[38;5;241m128\u001b[39m)\n\u001b[1;32m      6\u001b[0m     \u001b[38;5;28mself\u001b[39m\u001b[38;5;241m.\u001b[39mfully_connected_2 \u001b[38;5;241m=\u001b[39m nn\u001b[38;5;241m.\u001b[39mLinear(\u001b[38;5;241m*\u001b[39m\u001b[38;5;241m128\u001b[39m, \u001b[38;5;241m256\u001b[39m)\n\u001b[1;32m      7\u001b[0m     \u001b[38;5;28mself\u001b[39m\u001b[38;5;241m.\u001b[39mfully_connected_3 \u001b[38;5;241m=\u001b[39m nn\u001b[38;5;241m.\u001b[39mLinear(\u001b[38;5;241m*\u001b[39m\u001b[38;5;241m256\u001b[39m, num_classes)\n",
      "\u001b[0;31mTypeError\u001b[0m: Value after * must be an iterable, not int"
     ]
    }
   ],
   "source": [
    "lc = LinearClassifier(0.001, 4, 4)"
   ]
  },
  {
   "cell_type": "code",
   "execution_count": null,
   "id": "4b8b76a4-f62c-4600-9eb3-3466bc21b3d6",
   "metadata": {},
   "outputs": [],
   "source": [
    "class QAgent():\n",
    "    def __init__(self, learning_rate = 0.0001, discount_factor = 0.99, explore_exploit_start = 1.0, explore_exploit_min = 0.01, decrement = 1e-5, num_actions = 2, num_states = (4, 1)):\n",
    "        self.q_classifier = NaiveCartPoleLinearClassifier(learning_rate, num_actions, num_states)\n",
    "        \n",
    "        self.learning_rate = learning_rate # alpha\n",
    "        self.discount_factor = discount_factor # gamma\n",
    "        self.explore_exploit = explore_exploit_start # epsilon\n",
    "        print(self.explore_exploit)\n",
    "        self.num_actions = num_actions\n",
    "        self.explore_exploit_min = explore_exploit_min\n",
    "        self.ee_decrement = decrement\n",
    "        \n",
    "        self.action_space = [i for i in range(self.num_actions)]\n",
    "        \n",
    "        \n",
    "    def choose_action(self, current_state):\n",
    "        random_number = np.random.random()\n",
    "        if random_number < self.explore_exploit:\n",
    "            return np.random.choice(self.action_space)\n",
    "        else:\n",
    "            return T.argmax(self.q_classifier.forward(T.tensor(current_state, dtype=T.float).to(self.q_classifier.device))).item()\n",
    "            \n",
    "    def decrement_explore_exploit(self):\n",
    "        prev_value = self.explore_exploit\n",
    "        new_value = (self.explore_exploit - self.ee_decrement) if self.explore_exploit > self.explore_exploit_min else self.explore_exploit_min\n",
    "        self.explore_exploit = new_value\n",
    "        #print(f\"decrement_explore_exploit prev_value: {prev_value} new_value: {new_value} explore_exploit: {self.explore_exploit} \")\n",
    "        \n",
    "    def learn(self, current_state, action, reward, new_state):\n",
    "        #self.q_table[current_state][action] +=  (reward + self.discount_factor * np.max(self.q_classifier(new_state)) - self.q_classifier(current_state)[action])\n",
    "        self.q_classifier.optimizer.zero_grad()\n",
    "        current_states = T.tensor(current_state, dtype = T.float).to(self.q_classifier.device)\n",
    "        actions = T.tensor(action).to(self.q_classifier.device)\n",
    "        rewards = T.tensor(reward).to(self.q_classifier.device)\n",
    "        new_states = T.tensor(new_state, dtype = T.float).to(self.q_classifier.device)\n",
    "        \n",
    "        predictions = self.q_classifier.forward(current_states)[actions]\n",
    "        \n",
    "        next_predictions = self.q_classifier.forward(new_states).max()\n",
    "        \n",
    "        next_target = reward + self.discount_factor * next_predictions \n",
    "        \n",
    "        cost = self.q_classifier.loss(next_target, predictions).to(self.q_classifier.device)\n",
    "        \n",
    "        cost.backward()\n",
    "        \n",
    "        self.q_classifier.optimizer.step()\n",
    "        \n",
    "        self.decrement_explore_exploit()\n",
    "        "
   ]
  }
 ],
 "metadata": {
  "kernelspec": {
   "display_name": "Python 3 (ipykernel)",
   "language": "python",
   "name": "python3"
  },
  "language_info": {
   "codemirror_mode": {
    "name": "ipython",
    "version": 3
   },
   "file_extension": ".py",
   "mimetype": "text/x-python",
   "name": "python",
   "nbconvert_exporter": "python",
   "pygments_lexer": "ipython3",
   "version": "3.10.10"
  }
 },
 "nbformat": 4,
 "nbformat_minor": 5
}

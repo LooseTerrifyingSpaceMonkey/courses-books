{
 "cells": [
  {
   "cell_type": "code",
   "execution_count": 3,
   "metadata": {
    "collapsed": true
   },
   "outputs": [
    {
     "name": "stdout",
     "output_type": "stream",
     "text": [
      "Requirement already satisfied: numpy in c:\\users\\steve\\mambaforge\\envs\\rl-beginner-master\\lib\\site-packages (1.23.5)\n",
      "Requirement already satisfied: torch in c:\\users\\steve\\mambaforge\\envs\\rl-beginner-master\\lib\\site-packages (1.13.1)\n",
      "Collecting torchvision\n",
      "  Using cached torchvision-0.14.1-cp38-cp38-win_amd64.whl (1.1 MB)\n",
      "Requirement already satisfied: matplotlib in c:\\users\\steve\\mambaforge\\envs\\rl-beginner-master\\lib\\site-packages (3.6.2)\n",
      "Collecting gymnasium\n",
      "  Using cached gymnasium-0.27.1-py3-none-any.whl (883 kB)\n",
      "Collecting atari-py\n",
      "  Using cached atari_py-0.2.9-cp38-cp38-win_amd64.whl (1.6 MB)\n",
      "Collecting Box2d\n",
      "  Downloading Box2D-2.3.10-cp38-cp38-win_amd64.whl (1.3 MB)\n",
      "     ---------------------------------------- 1.3/1.3 MB 5.9 MB/s eta 0:00:00\n",
      "Requirement already satisfied: typing-extensions in c:\\users\\steve\\mambaforge\\envs\\rl-beginner-master\\lib\\site-packages (from torch) (4.4.0)\n",
      "Requirement already satisfied: pillow!=8.3.*,>=5.3.0 in c:\\users\\steve\\mambaforge\\envs\\rl-beginner-master\\lib\\site-packages (from torchvision) (9.2.0)\n",
      "Collecting requests\n",
      "  Using cached requests-2.28.2-py3-none-any.whl (62 kB)\n",
      "Requirement already satisfied: fonttools>=4.22.0 in c:\\users\\steve\\mambaforge\\envs\\rl-beginner-master\\lib\\site-packages (from matplotlib) (4.38.0)\n",
      "Requirement already satisfied: kiwisolver>=1.0.1 in c:\\users\\steve\\mambaforge\\envs\\rl-beginner-master\\lib\\site-packages (from matplotlib) (1.4.4)\n",
      "Requirement already satisfied: pyparsing>=2.2.1 in c:\\users\\steve\\mambaforge\\envs\\rl-beginner-master\\lib\\site-packages (from matplotlib) (3.0.9)\n",
      "Requirement already satisfied: python-dateutil>=2.7 in c:\\users\\steve\\mambaforge\\envs\\rl-beginner-master\\lib\\site-packages (from matplotlib) (2.8.2)\n",
      "Requirement already satisfied: cycler>=0.10 in c:\\users\\steve\\mambaforge\\envs\\rl-beginner-master\\lib\\site-packages (from matplotlib) (0.11.0)\n",
      "Requirement already satisfied: contourpy>=1.0.1 in c:\\users\\steve\\mambaforge\\envs\\rl-beginner-master\\lib\\site-packages (from matplotlib) (1.0.6)\n",
      "Requirement already satisfied: packaging>=20.0 in c:\\users\\steve\\mambaforge\\envs\\rl-beginner-master\\lib\\site-packages (from matplotlib) (22.0)\n",
      "Collecting jax-jumpy>=0.2.0\n",
      "  Using cached jax_jumpy-0.2.0-py3-none-any.whl (11 kB)\n",
      "Requirement already satisfied: importlib-metadata>=4.8.0 in c:\\users\\steve\\mambaforge\\envs\\rl-beginner-master\\lib\\site-packages (from gymnasium) (5.1.0)\n",
      "Collecting gymnasium-notices>=0.0.1\n",
      "  Using cached gymnasium_notices-0.0.1-py3-none-any.whl (2.8 kB)\n",
      "Requirement already satisfied: cloudpickle>=1.2.0 in c:\\users\\steve\\mambaforge\\envs\\rl-beginner-master\\lib\\site-packages (from gymnasium) (2.2.0)\n",
      "Requirement already satisfied: six in c:\\users\\steve\\mambaforge\\envs\\rl-beginner-master\\lib\\site-packages (from atari-py) (1.16.0)\n",
      "Requirement already satisfied: zipp>=0.5 in c:\\users\\steve\\mambaforge\\envs\\rl-beginner-master\\lib\\site-packages (from importlib-metadata>=4.8.0->gymnasium) (3.11.0)\n",
      "Collecting charset-normalizer<4,>=2\n",
      "  Downloading charset_normalizer-3.0.1-cp38-cp38-win_amd64.whl (95 kB)\n",
      "     ---------------------------------------- 95.8/95.8 kB ? eta 0:00:00\n",
      "Collecting urllib3<1.27,>=1.21.1\n",
      "  Using cached urllib3-1.26.14-py2.py3-none-any.whl (140 kB)\n",
      "Requirement already satisfied: idna<4,>=2.5 in c:\\users\\steve\\mambaforge\\envs\\rl-beginner-master\\lib\\site-packages (from requests->torchvision) (3.4)\n",
      "Requirement already satisfied: certifi>=2017.4.17 in c:\\users\\steve\\mambaforge\\envs\\rl-beginner-master\\lib\\site-packages (from requests->torchvision) (2022.12.7)\n",
      "Installing collected packages: gymnasium-notices, charset-normalizer, Box2d, urllib3, jax-jumpy, atari-py, requests, gymnasium, torchvision\n",
      "Successfully installed Box2d-2.3.10 atari-py-0.2.9 charset-normalizer-3.0.1 gymnasium-0.27.1 gymnasium-notices-0.0.1 jax-jumpy-0.2.0 requests-2.28.2 torchvision-0.14.1 urllib3-1.26.14\n"
     ]
    }
   ],
   "source": [
    "!pip install numpy torch torchvision matplotlib gymnasium  atari-py Box2d"
   ]
  },
  {
   "cell_type": "code",
   "execution_count": 6,
   "outputs": [],
   "source": [
    "import gymnasium as gym\n",
    "from gymnasium.envs.toy_text.frozen_lake import generate_random_map"
   ],
   "metadata": {
    "collapsed": false
   }
  },
  {
   "cell_type": "code",
   "execution_count": 7,
   "outputs": [
    {
     "data": {
      "text/plain": "<TimeLimit<OrderEnforcing<PassiveEnvChecker<FrozenLakeEnv<FrozenLake-v1>>>>>"
     },
     "execution_count": 7,
     "metadata": {},
     "output_type": "execute_result"
    }
   ],
   "source": [
    "gym.make('FrozenLake-v1', desc=generate_random_map(size=8), map_name= '4x4', is_slippery=True)"
   ],
   "metadata": {
    "collapsed": false
   }
  },
  {
   "cell_type": "code",
   "execution_count": null,
   "outputs": [],
   "source": [],
   "metadata": {
    "collapsed": false
   }
  }
 ],
 "metadata": {
  "kernelspec": {
   "display_name": "Python 3",
   "language": "python",
   "name": "python3"
  },
  "language_info": {
   "codemirror_mode": {
    "name": "ipython",
    "version": 2
   },
   "file_extension": ".py",
   "mimetype": "text/x-python",
   "name": "python",
   "nbconvert_exporter": "python",
   "pygments_lexer": "ipython2",
   "version": "2.7.6"
  }
 },
 "nbformat": 4,
 "nbformat_minor": 0
}

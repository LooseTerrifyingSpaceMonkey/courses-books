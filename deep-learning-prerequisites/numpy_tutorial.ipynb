{
 "nbformat": 4,
 "nbformat_minor": 0,
 "metadata": {
  "colab": {
   "provenance": []
  },
  "kernelspec": {
   "name": "python3",
   "display_name": "Python 3"
  }
 },
 "cells": [
  {
   "cell_type": "markdown",
   "metadata": {
    "id": "v3UUQkVko68G"
   },
   "source": [
    "Section 1 of:\n",
    "\n",
    "https://www.udemy.com/deep-learning-prerequisites-the-numpy-stack-in-python/\n",
    "\n",
    "https://deeplearningcourses.com/c/deep-learning-prerequisites-the-numpy-stack-in-python"
   ]
  },
  {
   "cell_type": "markdown",
   "metadata": {
    "id": "Qppj_nuWLj5x"
   },
   "source": [
    "## Arrays vs Lists"
   ]
  },
  {
   "cell_type": "code",
   "metadata": {
    "id": "2YWtop3oo3jK"
   },
   "source": [
    "import numpy as np"
   ],
   "execution_count": 1,
   "outputs": []
  },
  {
   "cell_type": "code",
   "metadata": {
    "id": "CYf8KIrKpDlp"
   },
   "source": [
    "L = [1,2,3]"
   ],
   "execution_count": 2,
   "outputs": []
  },
  {
   "cell_type": "code",
   "metadata": {
    "id": "AABDVAM-pKqw"
   },
   "source": [
    "A = np.array([1,2,3])"
   ],
   "execution_count": 3,
   "outputs": []
  },
  {
   "cell_type": "code",
   "metadata": {
    "id": "hYwR2_RepN6D",
    "colab": {
     "base_uri": "https://localhost:8080/",
     "height": 69
    },
    "outputId": "4effcd64-4bee-41b2-8aa3-4b4ff31bc4c5"
   },
   "source": [
    "for e in L:\n",
    "  print(e)"
   ],
   "execution_count": 4,
   "outputs": [
    {
     "name": "stdout",
     "output_type": "stream",
     "text": [
      "1\n",
      "2\n",
      "3\n"
     ]
    }
   ]
  },
  {
   "cell_type": "code",
   "metadata": {
    "id": "l3N31fTspP4B",
    "colab": {
     "base_uri": "https://localhost:8080/",
     "height": 69
    },
    "outputId": "cc87c864-904b-4dda-a362-55dd0c92175b"
   },
   "source": [
    "for e in A:\n",
    "  print(e)"
   ],
   "execution_count": 5,
   "outputs": [
    {
     "name": "stdout",
     "output_type": "stream",
     "text": [
      "1\n",
      "2\n",
      "3\n"
     ]
    }
   ]
  },
  {
   "cell_type": "code",
   "metadata": {
    "id": "L_WURu4epSm6"
   },
   "source": [
    "L.append(4)"
   ],
   "execution_count": 6,
   "outputs": []
  },
  {
   "cell_type": "code",
   "metadata": {
    "id": "fDsd-UBXpXNU",
    "colab": {
     "base_uri": "https://localhost:8080/",
     "height": 34
    },
    "outputId": "ed4023d2-04e4-40eb-b07f-b4adee678ef5"
   },
   "source": [
    "L"
   ],
   "execution_count": 7,
   "outputs": [
    {
     "data": {
      "text/plain": "[1, 2, 3, 4]"
     },
     "execution_count": 7,
     "metadata": {},
     "output_type": "execute_result"
    }
   ]
  },
  {
   "cell_type": "code",
   "metadata": {
    "id": "8DP73J3KpYH7",
    "colab": {
     "base_uri": "https://localhost:8080/",
     "height": 165
    },
    "outputId": "94167c1d-271b-427b-db7d-588a1d0870eb"
   },
   "source": [
    "A.append(4) # doesn't work"
   ],
   "execution_count": 8,
   "outputs": [
    {
     "ename": "AttributeError",
     "evalue": "'numpy.ndarray' object has no attribute 'append'",
     "output_type": "error",
     "traceback": [
      "\u001B[1;31m---------------------------------------------------------------------------\u001B[0m",
      "\u001B[1;31mAttributeError\u001B[0m                            Traceback (most recent call last)",
      "Input \u001B[1;32mIn [8]\u001B[0m, in \u001B[0;36m<cell line: 1>\u001B[1;34m()\u001B[0m\n\u001B[1;32m----> 1\u001B[0m \u001B[43mA\u001B[49m\u001B[38;5;241;43m.\u001B[39;49m\u001B[43mappend\u001B[49m(\u001B[38;5;241m4\u001B[39m)\n",
      "\u001B[1;31mAttributeError\u001B[0m: 'numpy.ndarray' object has no attribute 'append'"
     ]
    }
   ]
  },
  {
   "cell_type": "code",
   "metadata": {
    "id": "beoI6SsCpbQW",
    "colab": {
     "base_uri": "https://localhost:8080/",
     "height": 34
    },
    "outputId": "1a3cb76e-d114-40c2-cccc-677bfcd271c7"
   },
   "source": [
    "L + [5]"
   ],
   "execution_count": 9,
   "outputs": [
    {
     "data": {
      "text/plain": "[1, 2, 3, 4, 5]"
     },
     "execution_count": 9,
     "metadata": {},
     "output_type": "execute_result"
    }
   ]
  },
  {
   "cell_type": "code",
   "metadata": {
    "id": "UodzHCvUphsg",
    "colab": {
     "base_uri": "https://localhost:8080/",
     "height": 34
    },
    "outputId": "ffc97294-e578-4461-9a8d-1e4cb3ec8349"
   },
   "source": [
    "A + np.array([4])"
   ],
   "execution_count": 10,
   "outputs": [
    {
     "data": {
      "text/plain": "array([5, 6, 7])"
     },
     "execution_count": 10,
     "metadata": {},
     "output_type": "execute_result"
    }
   ]
  },
  {
   "cell_type": "code",
   "metadata": {
    "id": "NQeDCZ9fpl3M",
    "colab": {
     "base_uri": "https://localhost:8080/",
     "height": 34
    },
    "outputId": "a1d67ed8-c5c6-4415-b36d-74134fefe2e8"
   },
   "source": [
    "A + np.array([4,5,6])"
   ],
   "execution_count": 11,
   "outputs": [
    {
     "data": {
      "text/plain": "array([5, 7, 9])"
     },
     "execution_count": 11,
     "metadata": {},
     "output_type": "execute_result"
    }
   ]
  },
  {
   "cell_type": "code",
   "metadata": {
    "id": "FvYRdkbHppDf",
    "colab": {
     "base_uri": "https://localhost:8080/",
     "height": 165
    },
    "outputId": "66caa26f-476b-4fa0-8c85-9e1c69aa1620"
   },
   "source": [
    "A + np.array([4,5]) # doesn't work"
   ],
   "execution_count": 12,
   "outputs": [
    {
     "ename": "ValueError",
     "evalue": "operands could not be broadcast together with shapes (3,) (2,) ",
     "output_type": "error",
     "traceback": [
      "\u001B[1;31m---------------------------------------------------------------------------\u001B[0m",
      "\u001B[1;31mValueError\u001B[0m                                Traceback (most recent call last)",
      "Input \u001B[1;32mIn [12]\u001B[0m, in \u001B[0;36m<cell line: 1>\u001B[1;34m()\u001B[0m\n\u001B[1;32m----> 1\u001B[0m \u001B[43mA\u001B[49m\u001B[43m \u001B[49m\u001B[38;5;241;43m+\u001B[39;49m\u001B[43m \u001B[49m\u001B[43mnp\u001B[49m\u001B[38;5;241;43m.\u001B[39;49m\u001B[43marray\u001B[49m\u001B[43m(\u001B[49m\u001B[43m[\u001B[49m\u001B[38;5;241;43m4\u001B[39;49m\u001B[43m,\u001B[49m\u001B[38;5;241;43m5\u001B[39;49m\u001B[43m]\u001B[49m\u001B[43m)\u001B[49m\n",
      "\u001B[1;31mValueError\u001B[0m: operands could not be broadcast together with shapes (3,) (2,) "
     ]
    }
   ]
  },
  {
   "cell_type": "code",
   "metadata": {
    "id": "MS2n4LxVpr6b",
    "colab": {
     "base_uri": "https://localhost:8080/",
     "height": 34
    },
    "outputId": "d48b85bd-9d2b-4438-89b2-e9ce2d7c7088"
   },
   "source": [
    "2 * A"
   ],
   "execution_count": 13,
   "outputs": [
    {
     "data": {
      "text/plain": "array([2, 4, 6])"
     },
     "execution_count": 13,
     "metadata": {},
     "output_type": "execute_result"
    }
   ]
  },
  {
   "cell_type": "code",
   "metadata": {
    "id": "zO4USxRzptgs",
    "colab": {
     "base_uri": "https://localhost:8080/",
     "height": 34
    },
    "outputId": "7849d253-508e-4bb2-8a5a-c3f6be1b426a"
   },
   "source": [
    "2 * L"
   ],
   "execution_count": 14,
   "outputs": [
    {
     "data": {
      "text/plain": "[1, 2, 3, 4, 1, 2, 3, 4]"
     },
     "execution_count": 14,
     "metadata": {},
     "output_type": "execute_result"
    }
   ]
  },
  {
   "cell_type": "code",
   "metadata": {
    "id": "LtLSqZgipu-P",
    "colab": {
     "base_uri": "https://localhost:8080/",
     "height": 34
    },
    "outputId": "d8229959-be65-48cb-d1e9-bb6f7633c956"
   },
   "source": [
    "L + L"
   ],
   "execution_count": 15,
   "outputs": [
    {
     "data": {
      "text/plain": "[1, 2, 3, 4, 1, 2, 3, 4]"
     },
     "execution_count": 15,
     "metadata": {},
     "output_type": "execute_result"
    }
   ]
  },
  {
   "cell_type": "code",
   "metadata": {
    "id": "RJ11NZkSp13o"
   },
   "source": [
    "L2 = []\n",
    "for e in L:\n",
    "  L2.append(e + 3)"
   ],
   "execution_count": 16,
   "outputs": []
  },
  {
   "cell_type": "code",
   "metadata": {
    "id": "ZgtqoSvIp4va",
    "colab": {
     "base_uri": "https://localhost:8080/",
     "height": 34
    },
    "outputId": "94b54728-7bbb-490a-8139-b185952eee75"
   },
   "source": [
    "L2"
   ],
   "execution_count": 17,
   "outputs": [
    {
     "data": {
      "text/plain": "[4, 5, 6, 7]"
     },
     "execution_count": 17,
     "metadata": {},
     "output_type": "execute_result"
    }
   ]
  },
  {
   "cell_type": "code",
   "metadata": {
    "id": "GZCQEk-Rp7gx"
   },
   "source": [
    "L2 = [e + 3 for e in L]"
   ],
   "execution_count": 18,
   "outputs": []
  },
  {
   "cell_type": "code",
   "metadata": {
    "id": "McUAtUVep960",
    "colab": {
     "base_uri": "https://localhost:8080/",
     "height": 34
    },
    "outputId": "c37a99a1-c9b8-43f4-eb3b-1302c13ce650"
   },
   "source": [
    "L2"
   ],
   "execution_count": 19,
   "outputs": [
    {
     "data": {
      "text/plain": "[4, 5, 6, 7]"
     },
     "execution_count": 19,
     "metadata": {},
     "output_type": "execute_result"
    }
   ]
  },
  {
   "cell_type": "code",
   "metadata": {
    "id": "vcy3WKcwp-wi"
   },
   "source": [
    "L2 = []\n",
    "for e in L:\n",
    "  L2.append(e**2)"
   ],
   "execution_count": 20,
   "outputs": []
  },
  {
   "cell_type": "code",
   "metadata": {
    "id": "1Emx-hN_qDa2",
    "colab": {
     "base_uri": "https://localhost:8080/",
     "height": 34
    },
    "outputId": "80aa407c-6892-494e-83bc-58ddd81ac8c4"
   },
   "source": [
    "L2"
   ],
   "execution_count": 21,
   "outputs": [
    {
     "data": {
      "text/plain": "[1, 4, 9, 16]"
     },
     "execution_count": 21,
     "metadata": {},
     "output_type": "execute_result"
    }
   ]
  },
  {
   "cell_type": "code",
   "metadata": {
    "id": "blVB8cA9qERt",
    "colab": {
     "base_uri": "https://localhost:8080/",
     "height": 34
    },
    "outputId": "8cd94e43-57f3-44c9-9b16-d39c46905a23"
   },
   "source": [
    "A**2"
   ],
   "execution_count": 22,
   "outputs": [
    {
     "data": {
      "text/plain": "array([1, 4, 9])"
     },
     "execution_count": 22,
     "metadata": {},
     "output_type": "execute_result"
    }
   ]
  },
  {
   "cell_type": "code",
   "metadata": {
    "id": "gDfVRJ5fqGPV",
    "colab": {
     "base_uri": "https://localhost:8080/",
     "height": 34
    },
    "outputId": "ef944468-55e3-4c70-921b-a4c70ae55152"
   },
   "source": [
    "np.sqrt(A)"
   ],
   "execution_count": 23,
   "outputs": [
    {
     "data": {
      "text/plain": "array([1.        , 1.41421356, 1.73205081])"
     },
     "execution_count": 23,
     "metadata": {},
     "output_type": "execute_result"
    }
   ]
  },
  {
   "cell_type": "code",
   "metadata": {
    "id": "yUwFM2OhqHwq",
    "colab": {
     "base_uri": "https://localhost:8080/",
     "height": 34
    },
    "outputId": "ed7a9fbe-35dd-4891-80d7-c81752bcfc36"
   },
   "source": [
    "np.log(A)"
   ],
   "execution_count": 24,
   "outputs": [
    {
     "data": {
      "text/plain": "array([0.        , 0.69314718, 1.09861229])"
     },
     "execution_count": 24,
     "metadata": {},
     "output_type": "execute_result"
    }
   ]
  },
  {
   "cell_type": "code",
   "metadata": {
    "id": "vlF9GWxzqIpd",
    "colab": {
     "base_uri": "https://localhost:8080/",
     "height": 34
    },
    "outputId": "01c11376-8c93-4ae2-a095-b00650ff8cd6"
   },
   "source": [
    "np.exp(A)"
   ],
   "execution_count": 25,
   "outputs": [
    {
     "data": {
      "text/plain": "array([ 2.71828183,  7.3890561 , 20.08553692])"
     },
     "execution_count": 25,
     "metadata": {},
     "output_type": "execute_result"
    }
   ]
  },
  {
   "cell_type": "code",
   "metadata": {
    "id": "pPvbPZB6qJq2",
    "colab": {
     "base_uri": "https://localhost:8080/",
     "height": 34
    },
    "outputId": "83ddddd6-4e30-4e47-d4dd-86b9db6ec483"
   },
   "source": [
    "np.tanh(A)"
   ],
   "execution_count": 26,
   "outputs": [
    {
     "data": {
      "text/plain": "array([0.76159416, 0.96402758, 0.99505475])"
     },
     "execution_count": 26,
     "metadata": {},
     "output_type": "execute_result"
    }
   ]
  },
  {
   "cell_type": "markdown",
   "metadata": {
    "id": "bITmEpM7LszR"
   },
   "source": [
    "## The Dot Product"
   ]
  },
  {
   "cell_type": "markdown",
   "metadata": {
    "id": "OJa5nyifvA-j"
   },
   "source": [
    "$$ a \\cdot b = a^T b = \\sum_{d=1}^D a_d b_d $$"
   ]
  },
  {
   "cell_type": "code",
   "metadata": {
    "id": "JnZ_vWW4qMTE"
   },
   "source": [
    "a = np.array([1,2])\n",
    "b = np.array([3,4])"
   ],
   "execution_count": 27,
   "outputs": []
  },
  {
   "cell_type": "code",
   "metadata": {
    "id": "bdD4Vzm3ryuR",
    "colab": {
     "base_uri": "https://localhost:8080/",
     "height": 34
    },
    "outputId": "978bbe7b-18da-440a-f108-796a9bab3e5e"
   },
   "source": [
    "dot = 0\n",
    "for e, f in zip(a, b):\n",
    "  dot += e*f\n",
    "dot"
   ],
   "execution_count": 28,
   "outputs": [
    {
     "data": {
      "text/plain": "11"
     },
     "execution_count": 28,
     "metadata": {},
     "output_type": "execute_result"
    }
   ]
  },
  {
   "cell_type": "code",
   "metadata": {
    "id": "efUGU3ZNEH9T",
    "colab": {
     "base_uri": "https://localhost:8080/",
     "height": 34
    },
    "outputId": "1a20f7db-f13f-4a74-e934-0fac7d25d93e"
   },
   "source": [
    "# use integer index\n",
    "dot = 0\n",
    "for i in range(len(a)):\n",
    "  dot += a[i] * b[i]\n",
    "dot"
   ],
   "execution_count": 29,
   "outputs": [
    {
     "data": {
      "text/plain": "11"
     },
     "execution_count": 29,
     "metadata": {},
     "output_type": "execute_result"
    }
   ]
  },
  {
   "cell_type": "code",
   "metadata": {
    "id": "O8BdMMpxr6F_",
    "colab": {
     "base_uri": "https://localhost:8080/",
     "height": 34
    },
    "outputId": "ebaf4f01-ab2e-41dc-b483-a608cc8308bd"
   },
   "source": [
    "a * b"
   ],
   "execution_count": 30,
   "outputs": [
    {
     "data": {
      "text/plain": "array([3, 8])"
     },
     "execution_count": 30,
     "metadata": {},
     "output_type": "execute_result"
    }
   ]
  },
  {
   "cell_type": "code",
   "metadata": {
    "id": "E_Msua0sr_Tz",
    "colab": {
     "base_uri": "https://localhost:8080/",
     "height": 34
    },
    "outputId": "dbf7dfe7-f54f-43f6-e0c4-8ce2ff699749"
   },
   "source": [
    "np.sum(a * b)"
   ],
   "execution_count": 31,
   "outputs": [
    {
     "data": {
      "text/plain": "11"
     },
     "execution_count": 31,
     "metadata": {},
     "output_type": "execute_result"
    }
   ]
  },
  {
   "cell_type": "code",
   "metadata": {
    "id": "HHLSRnxDsBEo",
    "colab": {
     "base_uri": "https://localhost:8080/",
     "height": 34
    },
    "outputId": "26468871-f9f7-439f-bf99-695ab810f19b"
   },
   "source": [
    "(a * b).sum()"
   ],
   "execution_count": 32,
   "outputs": [
    {
     "data": {
      "text/plain": "11"
     },
     "execution_count": 32,
     "metadata": {},
     "output_type": "execute_result"
    }
   ]
  },
  {
   "cell_type": "code",
   "metadata": {
    "id": "aRR1cbgksDmr",
    "colab": {
     "base_uri": "https://localhost:8080/",
     "height": 34
    },
    "outputId": "36d65548-3372-4983-cf70-7852eefc09b1"
   },
   "source": [
    "np.dot(a, b)"
   ],
   "execution_count": 33,
   "outputs": [
    {
     "data": {
      "text/plain": "11"
     },
     "execution_count": 33,
     "metadata": {},
     "output_type": "execute_result"
    }
   ]
  },
  {
   "cell_type": "code",
   "metadata": {
    "id": "6WwQ2TzHsFC3",
    "colab": {
     "base_uri": "https://localhost:8080/",
     "height": 34
    },
    "outputId": "872d1321-a426-4cd0-b22d-ca9b9ca51d74"
   },
   "source": [
    "a.dot(b)"
   ],
   "execution_count": 34,
   "outputs": [
    {
     "data": {
      "text/plain": "11"
     },
     "execution_count": 34,
     "metadata": {},
     "output_type": "execute_result"
    }
   ]
  },
  {
   "cell_type": "code",
   "metadata": {
    "id": "l34Llv1MsGGI",
    "colab": {
     "base_uri": "https://localhost:8080/",
     "height": 34
    },
    "outputId": "980cb603-318d-4cd2-c170-192af7b8ce57"
   },
   "source": [
    "b.dot(a)"
   ],
   "execution_count": 35,
   "outputs": [
    {
     "data": {
      "text/plain": "11"
     },
     "execution_count": 35,
     "metadata": {},
     "output_type": "execute_result"
    }
   ]
  },
  {
   "cell_type": "code",
   "metadata": {
    "id": "w7uLRNdesHTM",
    "colab": {
     "base_uri": "https://localhost:8080/",
     "height": 34
    },
    "outputId": "8b09565f-c3c0-4f63-b629-e1947ba538a5"
   },
   "source": [
    "a @ b"
   ],
   "execution_count": 36,
   "outputs": [
    {
     "data": {
      "text/plain": "11"
     },
     "execution_count": 36,
     "metadata": {},
     "output_type": "execute_result"
    }
   ]
  },
  {
   "cell_type": "markdown",
   "metadata": {
    "id": "NeQ_U0EevVxR"
   },
   "source": [
    "$$ a^T b = \\left\\lVert a \\right\\rVert \\left\\lVert b \\right\\rVert \\cos \\theta_{ab}$$\n",
    "\n",
    "$$ \\cos \\theta_{ab} = \\frac{a^T b}{\\left\\lVert a \\right\\rVert \\left\\lVert b \\right\\rVert} $$"
   ]
  },
  {
   "cell_type": "markdown",
   "metadata": {
    "id": "HPnLQJ8zwjsZ"
   },
   "source": [
    "$$ \\left\\lVert a \\right\\rVert = \\sqrt{\\sum_{d=1}^D a_d^2 } $$"
   ]
  },
  {
   "cell_type": "code",
   "metadata": {
    "id": "uTIfhyQQsTW7",
    "colab": {
     "base_uri": "https://localhost:8080/",
     "height": 34
    },
    "outputId": "988b26c3-1f3c-43d2-b394-559439145d90"
   },
   "source": [
    "amag = np.sqrt((a * a).sum())\n",
    "amag"
   ],
   "execution_count": 37,
   "outputs": [
    {
     "data": {
      "text/plain": "2.23606797749979"
     },
     "execution_count": 37,
     "metadata": {},
     "output_type": "execute_result"
    }
   ]
  },
  {
   "cell_type": "code",
   "metadata": {
    "id": "WmeKjge-sYc-",
    "colab": {
     "base_uri": "https://localhost:8080/",
     "height": 34
    },
    "outputId": "3c25d919-2905-4a66-aad9-5f21ac778f2c"
   },
   "source": [
    "amag = np.linalg.norm(amag)\n",
    "amag"
   ],
   "execution_count": 38,
   "outputs": [
    {
     "data": {
      "text/plain": "2.23606797749979"
     },
     "execution_count": 38,
     "metadata": {},
     "output_type": "execute_result"
    }
   ]
  },
  {
   "cell_type": "code",
   "metadata": {
    "id": "ABr65tNMsc7_"
   },
   "source": [
    "cosangle = a.dot(b) / (np.linalg.norm(a) * np.linalg.norm(b))"
   ],
   "execution_count": 39,
   "outputs": []
  },
  {
   "cell_type": "code",
   "metadata": {
    "id": "tFlv4mQcsho3",
    "colab": {
     "base_uri": "https://localhost:8080/",
     "height": 34
    },
    "outputId": "9f3fc36b-ed65-41f0-d8a1-6125a347c6d8"
   },
   "source": [
    "cosangle"
   ],
   "execution_count": 40,
   "outputs": [
    {
     "data": {
      "text/plain": "0.9838699100999074"
     },
     "execution_count": 40,
     "metadata": {},
     "output_type": "execute_result"
    }
   ]
  },
  {
   "cell_type": "code",
   "metadata": {
    "id": "6zwbfBYIsi_P",
    "colab": {
     "base_uri": "https://localhost:8080/",
     "height": 34
    },
    "outputId": "38430260-e3bc-45ae-f06f-8ad302cff451"
   },
   "source": [
    "angle = np.arccos(cosangle)\n",
    "angle"
   ],
   "execution_count": 41,
   "outputs": [
    {
     "data": {
      "text/plain": "0.17985349979247847"
     },
     "execution_count": 41,
     "metadata": {},
     "output_type": "execute_result"
    }
   ]
  },
  {
   "cell_type": "markdown",
   "metadata": {
    "id": "m7rqbLCcLwUU"
   },
   "source": [
    "## Speed Test"
   ]
  },
  {
   "cell_type": "code",
   "metadata": {
    "id": "1A4r4yUA8haB",
    "colab": {
     "base_uri": "https://localhost:8080/",
     "height": 34
    },
    "outputId": "b3140df1-9e38-44db-cd20-1342fa792cdb"
   },
   "source": [
    "## speed comparison ##\n",
    "import numpy as np\n",
    "from datetime import datetime\n",
    "\n",
    "# note: you can also use %timeit\n",
    "\n",
    "a = np.random.randn(100)\n",
    "b = np.random.randn(100)\n",
    "T = 100000\n",
    "\n",
    "def slow_dot_product(a, b):\n",
    "  result = 0\n",
    "  for e, f in zip(a, b):\n",
    "    result += e*f\n",
    "  return result\n",
    "\n",
    "t0 = datetime.now()\n",
    "for t in range(T):\n",
    "  slow_dot_product(a, b)\n",
    "dt1 = datetime.now() - t0\n",
    "\n",
    "t0 = datetime.now()\n",
    "for t in range(T):\n",
    "  a.dot(b)\n",
    "dt2 = datetime.now() - t0\n",
    "\n",
    "print(\"dt1 / dt2:\", dt1.total_seconds() / dt2.total_seconds())"
   ],
   "execution_count": 43,
   "outputs": [
    {
     "name": "stdout",
     "output_type": "stream",
     "text": [
      "dt1 / dt2: 34.41550944485424\n"
     ]
    }
   ]
  },
  {
   "cell_type": "markdown",
   "metadata": {
    "id": "Dp6XgRz-Lx0a"
   },
   "source": [
    "## Matrices"
   ]
  },
  {
   "cell_type": "code",
   "metadata": {
    "id": "yy5O-BRCLzBi",
    "colab": {
     "base_uri": "https://localhost:8080/",
     "height": 34
    },
    "outputId": "f1ca439e-ccb2-43d0-c258-706a0f7907e9"
   },
   "source": [
    "L = [[1,2], [3,4]]\n",
    "L"
   ],
   "execution_count": 44,
   "outputs": [
    {
     "data": {
      "text/plain": "[[1, 2], [3, 4]]"
     },
     "execution_count": 44,
     "metadata": {},
     "output_type": "execute_result"
    }
   ]
  },
  {
   "cell_type": "code",
   "metadata": {
    "id": "8LKJa4A8M93b",
    "colab": {
     "base_uri": "https://localhost:8080/",
     "height": 34
    },
    "outputId": "8b3d9a15-3c01-424c-ce71-5c4e9a3a7466"
   },
   "source": [
    "L[0]"
   ],
   "execution_count": 45,
   "outputs": [
    {
     "data": {
      "text/plain": "[1, 2]"
     },
     "execution_count": 45,
     "metadata": {},
     "output_type": "execute_result"
    }
   ]
  },
  {
   "cell_type": "code",
   "metadata": {
    "id": "urv6P_-OM-na",
    "colab": {
     "base_uri": "https://localhost:8080/",
     "height": 34
    },
    "outputId": "1f9491f3-6181-46c8-f431-824c792981d3"
   },
   "source": [
    "L[0][1]"
   ],
   "execution_count": 46,
   "outputs": [
    {
     "data": {
      "text/plain": "2"
     },
     "execution_count": 46,
     "metadata": {},
     "output_type": "execute_result"
    }
   ]
  },
  {
   "cell_type": "code",
   "metadata": {
    "id": "D83WMGZsNVpd",
    "colab": {
     "base_uri": "https://localhost:8080/",
     "height": 52
    },
    "outputId": "65c8f9e0-4b4b-404e-ba38-584129afaaed"
   },
   "source": [
    "A = np.array([[1,2], [3,4]])\n",
    "A"
   ],
   "execution_count": 47,
   "outputs": [
    {
     "data": {
      "text/plain": "array([[1, 2],\n       [3, 4]])"
     },
     "execution_count": 47,
     "metadata": {},
     "output_type": "execute_result"
    }
   ]
  },
  {
   "cell_type": "code",
   "metadata": {
    "id": "opW1ghAwRu9a",
    "colab": {
     "base_uri": "https://localhost:8080/",
     "height": 34
    },
    "outputId": "32740a20-959c-4a49-a70e-e266b2cb3ded"
   },
   "source": [
    "A[0][1]"
   ],
   "execution_count": 48,
   "outputs": [
    {
     "data": {
      "text/plain": "2"
     },
     "execution_count": 48,
     "metadata": {},
     "output_type": "execute_result"
    }
   ]
  },
  {
   "cell_type": "code",
   "metadata": {
    "id": "OVV5gimRRx8-",
    "colab": {
     "base_uri": "https://localhost:8080/",
     "height": 34
    },
    "outputId": "a19683be-b030-41fa-a76a-722b2eea7b1f"
   },
   "source": [
    "A[0,1]"
   ],
   "execution_count": 49,
   "outputs": [
    {
     "data": {
      "text/plain": "2"
     },
     "execution_count": 49,
     "metadata": {},
     "output_type": "execute_result"
    }
   ]
  },
  {
   "cell_type": "code",
   "metadata": {
    "id": "9X2_e9tGoM7b",
    "colab": {
     "base_uri": "https://localhost:8080/",
     "height": 34
    },
    "outputId": "f1b1656a-4f8f-43c0-ebcc-c38e9d65c8b1"
   },
   "source": [
    "A[:,0]"
   ],
   "execution_count": 50,
   "outputs": [
    {
     "data": {
      "text/plain": "array([1, 3])"
     },
     "execution_count": 50,
     "metadata": {},
     "output_type": "execute_result"
    }
   ]
  },
  {
   "cell_type": "code",
   "metadata": {
    "id": "P131KAabR0jr",
    "colab": {
     "base_uri": "https://localhost:8080/",
     "height": 52
    },
    "outputId": "4e997070-03c2-47c4-a46a-7bf73d11e540"
   },
   "source": [
    "A.T"
   ],
   "execution_count": 51,
   "outputs": [
    {
     "data": {
      "text/plain": "array([[1, 3],\n       [2, 4]])"
     },
     "execution_count": 51,
     "metadata": {},
     "output_type": "execute_result"
    }
   ]
  },
  {
   "cell_type": "code",
   "metadata": {
    "id": "_Z-OdLyfbSIj",
    "colab": {
     "base_uri": "https://localhost:8080/",
     "height": 52
    },
    "outputId": "918497d9-1cff-45e8-eca6-17f79b163607"
   },
   "source": [
    "np.exp(A)"
   ],
   "execution_count": 52,
   "outputs": [
    {
     "data": {
      "text/plain": "array([[ 2.71828183,  7.3890561 ],\n       [20.08553692, 54.59815003]])"
     },
     "execution_count": 52,
     "metadata": {},
     "output_type": "execute_result"
    }
   ]
  },
  {
   "cell_type": "code",
   "metadata": {
    "id": "QU7kqXTZNX4_",
    "colab": {
     "base_uri": "https://localhost:8080/",
     "height": 52
    },
    "outputId": "2de55583-8c89-4651-9a93-3a667cad576c"
   },
   "source": [
    "np.exp(L)"
   ],
   "execution_count": 53,
   "outputs": [
    {
     "data": {
      "text/plain": "array([[ 2.71828183,  7.3890561 ],\n       [20.08553692, 54.59815003]])"
     },
     "execution_count": 53,
     "metadata": {},
     "output_type": "execute_result"
    }
   ]
  },
  {
   "cell_type": "code",
   "metadata": {
    "id": "VXw7euSIbagB",
    "colab": {
     "base_uri": "https://localhost:8080/",
     "height": 52
    },
    "outputId": "22114a08-1fb0-4f1b-cb5d-7b80352bd234"
   },
   "source": [
    "B = np.array([[1,2,3],[4,5,6]])\n",
    "B"
   ],
   "execution_count": 54,
   "outputs": [
    {
     "data": {
      "text/plain": "array([[1, 2, 3],\n       [4, 5, 6]])"
     },
     "execution_count": 54,
     "metadata": {},
     "output_type": "execute_result"
    }
   ]
  },
  {
   "cell_type": "code",
   "metadata": {
    "id": "i8-Exef9hhXs",
    "colab": {
     "base_uri": "https://localhost:8080/",
     "height": 52
    },
    "outputId": "e9106c3b-81f8-49a7-f122-ecfc07f020b1"
   },
   "source": [
    "A.dot(B)"
   ],
   "execution_count": 55,
   "outputs": [
    {
     "data": {
      "text/plain": "array([[ 9, 12, 15],\n       [19, 26, 33]])"
     },
     "execution_count": 55,
     "metadata": {},
     "output_type": "execute_result"
    }
   ]
  },
  {
   "cell_type": "code",
   "metadata": {
    "id": "W_sNxQQ2iQns",
    "colab": {
     "base_uri": "https://localhost:8080/",
     "height": 165
    },
    "outputId": "30a916bc-6138-4aa6-f1db-5a1ff55b3c38"
   },
   "source": [
    "# error! inner dimensions must match\n",
    "A.dot(B.T)"
   ],
   "execution_count": 56,
   "outputs": [
    {
     "ename": "ValueError",
     "evalue": "shapes (2,2) and (3,2) not aligned: 2 (dim 1) != 3 (dim 0)",
     "output_type": "error",
     "traceback": [
      "\u001B[1;31m---------------------------------------------------------------------------\u001B[0m",
      "\u001B[1;31mValueError\u001B[0m                                Traceback (most recent call last)",
      "Input \u001B[1;32mIn [56]\u001B[0m, in \u001B[0;36m<cell line: 2>\u001B[1;34m()\u001B[0m\n\u001B[0;32m      1\u001B[0m \u001B[38;5;66;03m# error! inner dimensions must match\u001B[39;00m\n\u001B[1;32m----> 2\u001B[0m \u001B[43mA\u001B[49m\u001B[38;5;241;43m.\u001B[39;49m\u001B[43mdot\u001B[49m\u001B[43m(\u001B[49m\u001B[43mB\u001B[49m\u001B[38;5;241;43m.\u001B[39;49m\u001B[43mT\u001B[49m\u001B[43m)\u001B[49m\n",
      "\u001B[1;31mValueError\u001B[0m: shapes (2,2) and (3,2) not aligned: 2 (dim 1) != 3 (dim 0)"
     ]
    }
   ]
  },
  {
   "cell_type": "code",
   "metadata": {
    "id": "q39ZD3R9bk93",
    "colab": {
     "base_uri": "https://localhost:8080/",
     "height": 34
    },
    "outputId": "94c84e1a-372d-47d1-ef9b-c6ca56f48873"
   },
   "source": [
    "np.linalg.det(A)"
   ],
   "execution_count": 57,
   "outputs": [
    {
     "data": {
      "text/plain": "-2.0000000000000004"
     },
     "execution_count": 57,
     "metadata": {},
     "output_type": "execute_result"
    }
   ]
  },
  {
   "cell_type": "code",
   "metadata": {
    "id": "o7hrwfcubuEH",
    "colab": {
     "base_uri": "https://localhost:8080/",
     "height": 52
    },
    "outputId": "3a3d27eb-5e9c-45d9-e0fd-8d96d58197d4"
   },
   "source": [
    "np.linalg.inv(A)"
   ],
   "execution_count": 58,
   "outputs": [
    {
     "data": {
      "text/plain": "array([[-2. ,  1. ],\n       [ 1.5, -0.5]])"
     },
     "execution_count": 58,
     "metadata": {},
     "output_type": "execute_result"
    }
   ]
  },
  {
   "cell_type": "code",
   "metadata": {
    "id": "psvVfsBliu3U",
    "colab": {
     "base_uri": "https://localhost:8080/",
     "height": 52
    },
    "outputId": "75589bc9-2619-449b-9adc-d5f5957d31b8"
   },
   "source": [
    "np.linalg.inv(A).dot(A)"
   ],
   "execution_count": 59,
   "outputs": [
    {
     "data": {
      "text/plain": "array([[ 1.00000000e+00,  4.44089210e-16],\n       [-5.55111512e-17,  1.00000000e+00]])"
     },
     "execution_count": 59,
     "metadata": {},
     "output_type": "execute_result"
    }
   ]
  },
  {
   "cell_type": "code",
   "metadata": {
    "id": "kdCoG55jbyIs",
    "colab": {
     "base_uri": "https://localhost:8080/",
     "height": 34
    },
    "outputId": "cee9e5b3-6112-4f52-f879-e50c62e0cf05"
   },
   "source": [
    "np.trace(A)"
   ],
   "execution_count": 60,
   "outputs": [
    {
     "data": {
      "text/plain": "5"
     },
     "execution_count": 60,
     "metadata": {},
     "output_type": "execute_result"
    }
   ]
  },
  {
   "cell_type": "code",
   "metadata": {
    "id": "1-leTZncnOVR",
    "colab": {
     "base_uri": "https://localhost:8080/",
     "height": 34
    },
    "outputId": "21711e5b-ab2f-43dd-ec1e-634dcc38b91c"
   },
   "source": [
    "np.diag(A)"
   ],
   "execution_count": 61,
   "outputs": [
    {
     "data": {
      "text/plain": "array([1, 4])"
     },
     "execution_count": 61,
     "metadata": {},
     "output_type": "execute_result"
    }
   ]
  },
  {
   "cell_type": "code",
   "metadata": {
    "id": "JBQsiS-XnV7v",
    "colab": {
     "base_uri": "https://localhost:8080/",
     "height": 52
    },
    "outputId": "f173e0e0-9023-4fec-fbe8-fb2cae64885d"
   },
   "source": [
    "np.diag([1, 4])"
   ],
   "execution_count": 62,
   "outputs": [
    {
     "data": {
      "text/plain": "array([[1, 0],\n       [0, 4]])"
     },
     "execution_count": 62,
     "metadata": {},
     "output_type": "execute_result"
    }
   ]
  },
  {
   "cell_type": "code",
   "metadata": {
    "id": "pkNyKFBScAVd",
    "colab": {
     "base_uri": "https://localhost:8080/",
     "height": 52
    },
    "outputId": "e6b4c791-9cc3-4442-fbf6-40d327e365a7"
   },
   "source": [
    "np.linalg.eig(A)"
   ],
   "execution_count": 63,
   "outputs": [
    {
     "data": {
      "text/plain": "(array([-0.37228132,  5.37228132]),\n array([[-0.82456484, -0.41597356],\n        [ 0.56576746, -0.90937671]]))"
     },
     "execution_count": 63,
     "metadata": {},
     "output_type": "execute_result"
    }
   ]
  },
  {
   "cell_type": "code",
   "metadata": {
    "id": "K7xvgXLqcHQR"
   },
   "source": [
    "Lam, V = np.linalg.eig(A)"
   ],
   "execution_count": 64,
   "outputs": []
  },
  {
   "cell_type": "code",
   "metadata": {
    "id": "h6dEgMo5wuWl",
    "colab": {
     "base_uri": "https://localhost:8080/",
     "height": 34
    },
    "outputId": "c5609785-df75-456a-ec70-a6ac7ec386df"
   },
   "source": [
    "V[:,0] * Lam[0] == A @ V[:,0]"
   ],
   "execution_count": 65,
   "outputs": [
    {
     "data": {
      "text/plain": "array([ True, False])"
     },
     "execution_count": 65,
     "metadata": {},
     "output_type": "execute_result"
    }
   ]
  },
  {
   "cell_type": "code",
   "metadata": {
    "id": "jHllWY7Hw7hG",
    "colab": {
     "base_uri": "https://localhost:8080/",
     "height": 34
    },
    "outputId": "fa67f139-40f2-4172-ba5b-57192edf0587"
   },
   "source": [
    "V[:,0] * Lam[0], A @ V[:,0]"
   ],
   "execution_count": 66,
   "outputs": [
    {
     "data": {
      "text/plain": "(array([ 0.30697009, -0.21062466]), array([ 0.30697009, -0.21062466]))"
     },
     "execution_count": 66,
     "metadata": {},
     "output_type": "execute_result"
    }
   ]
  },
  {
   "cell_type": "code",
   "metadata": {
    "id": "m4dFN99Hw3fk",
    "colab": {
     "base_uri": "https://localhost:8080/",
     "height": 34
    },
    "outputId": "30f459d4-c5d3-4191-cc59-e552fc737f22"
   },
   "source": [
    "np.allclose(V[:,0] * Lam[0], A @ V[:,0])"
   ],
   "execution_count": 67,
   "outputs": [
    {
     "data": {
      "text/plain": "True"
     },
     "execution_count": 67,
     "metadata": {},
     "output_type": "execute_result"
    }
   ]
  },
  {
   "cell_type": "code",
   "metadata": {
    "id": "8jH2Av91cLxx",
    "colab": {
     "base_uri": "https://localhost:8080/",
     "height": 34
    },
    "outputId": "beba55ec-912d-4105-a9fe-8259bb930914"
   },
   "source": [
    "np.allclose(V @ np.diag(Lam), A @ V)"
   ],
   "execution_count": 68,
   "outputs": [
    {
     "data": {
      "text/plain": "True"
     },
     "execution_count": 68,
     "metadata": {},
     "output_type": "execute_result"
    }
   ]
  },
  {
   "cell_type": "markdown",
   "metadata": {
    "id": "MF9n94OXzEHc"
   },
   "source": [
    "## Solving Linear Systems"
   ]
  },
  {
   "cell_type": "code",
   "metadata": {
    "id": "pHMyzjoHzFi7"
   },
   "source": [
    "A = np.array([[1, 1], [1.5, 4]])\n",
    "b = np.array([2200, 5050])"
   ],
   "execution_count": 69,
   "outputs": []
  },
  {
   "cell_type": "code",
   "metadata": {
    "id": "ljjG7KI685Vd",
    "colab": {
     "base_uri": "https://localhost:8080/",
     "height": 34
    },
    "outputId": "5f51ee4e-78d4-4418-8393-a0e3dcf522ce"
   },
   "source": [
    "np.linalg.solve(A, b)"
   ],
   "execution_count": 70,
   "outputs": [
    {
     "data": {
      "text/plain": "array([1500.,  700.])"
     },
     "execution_count": 70,
     "metadata": {},
     "output_type": "execute_result"
    }
   ]
  },
  {
   "cell_type": "code",
   "metadata": {
    "id": "hJjnYgbX870H",
    "colab": {
     "base_uri": "https://localhost:8080/",
     "height": 34
    },
    "outputId": "ee978b14-c198-4b33-f513-238ebb446c01"
   },
   "source": [
    "# don't do this\n",
    "np.linalg.inv(A).dot(b)"
   ],
   "execution_count": 71,
   "outputs": [
    {
     "data": {
      "text/plain": "array([1500.,  700.])"
     },
     "execution_count": 71,
     "metadata": {},
     "output_type": "execute_result"
    }
   ]
  },
  {
   "cell_type": "markdown",
   "metadata": {
    "id": "EH2huugGChb7"
   },
   "source": [
    "## Generating Data"
   ]
  },
  {
   "cell_type": "code",
   "metadata": {
    "id": "afs43yD5Ciqg",
    "colab": {
     "base_uri": "https://localhost:8080/",
     "height": 52
    },
    "outputId": "eef312bd-f4f2-40c8-867f-f6c8ed15de91"
   },
   "source": [
    "np.zeros((2, 3))"
   ],
   "execution_count": 73,
   "outputs": [
    {
     "data": {
      "text/plain": "array([[0., 0., 0.],\n       [0., 0., 0.]])"
     },
     "execution_count": 73,
     "metadata": {},
     "output_type": "execute_result"
    }
   ]
  },
  {
   "cell_type": "code",
   "metadata": {
    "id": "B5_T7Y0VMO02",
    "colab": {
     "base_uri": "https://localhost:8080/",
     "height": 52
    },
    "outputId": "978a59d2-7ee5-45c8-c00c-5cad3411a5d5"
   },
   "source": [
    "np.ones((2, 3))"
   ],
   "execution_count": 74,
   "outputs": [
    {
     "data": {
      "text/plain": "array([[1., 1., 1.],\n       [1., 1., 1.]])"
     },
     "execution_count": 74,
     "metadata": {},
     "output_type": "execute_result"
    }
   ]
  },
  {
   "cell_type": "code",
   "metadata": {
    "id": "K6x0L6PhMQRl",
    "colab": {
     "base_uri": "https://localhost:8080/",
     "height": 52
    },
    "outputId": "38e7bfa9-b9a2-4a35-fbfd-88148c1468bb"
   },
   "source": [
    "10 * np.ones((2, 3))"
   ],
   "execution_count": 75,
   "outputs": [
    {
     "data": {
      "text/plain": "array([[10., 10., 10.],\n       [10., 10., 10.]])"
     },
     "execution_count": 75,
     "metadata": {},
     "output_type": "execute_result"
    }
   ]
  },
  {
   "cell_type": "code",
   "metadata": {
    "id": "yunyooXkMgph",
    "colab": {
     "base_uri": "https://localhost:8080/",
     "height": 69
    },
    "outputId": "8a793158-220b-4634-dc0d-752408f4dae9"
   },
   "source": [
    "np.eye(3)"
   ],
   "execution_count": 76,
   "outputs": [
    {
     "data": {
      "text/plain": "array([[1., 0., 0.],\n       [0., 1., 0.],\n       [0., 0., 1.]])"
     },
     "execution_count": 76,
     "metadata": {},
     "output_type": "execute_result"
    }
   ]
  },
  {
   "cell_type": "code",
   "metadata": {
    "id": "MEjifZddOOM9",
    "colab": {
     "base_uri": "https://localhost:8080/",
     "height": 34
    },
    "outputId": "0fa7873f-4980-4501-e521-65e990deb9b2"
   },
   "source": [
    "np.random.random()"
   ],
   "execution_count": 77,
   "outputs": [
    {
     "data": {
      "text/plain": "0.6090871485527074"
     },
     "execution_count": 77,
     "metadata": {},
     "output_type": "execute_result"
    }
   ]
  },
  {
   "cell_type": "code",
   "metadata": {
    "id": "OwbTs3khOY0W",
    "colab": {
     "base_uri": "https://localhost:8080/",
     "height": 52
    },
    "outputId": "2697d229-e78a-4970-cf50-4af83ce15978"
   },
   "source": [
    "np.random.random((2, 3))"
   ],
   "execution_count": 78,
   "outputs": [
    {
     "data": {
      "text/plain": "array([[0.62505705, 0.54099487, 0.85230376],\n       [0.14499094, 0.87163074, 0.52876563]])"
     },
     "execution_count": 78,
     "metadata": {},
     "output_type": "execute_result"
    }
   ]
  },
  {
   "cell_type": "code",
   "metadata": {
    "id": "TsZhBWcdPPwK",
    "colab": {
     "base_uri": "https://localhost:8080/",
     "height": 52
    },
    "outputId": "97a51268-8e9d-4e09-9b42-6538ba89293c"
   },
   "source": [
    "np.random.randn(2, 3)"
   ],
   "execution_count": 79,
   "outputs": [
    {
     "data": {
      "text/plain": "array([[-0.92142737,  0.29994161,  1.68456069],\n       [ 0.78509225,  1.79713981,  1.5217468 ]])"
     },
     "execution_count": 79,
     "metadata": {},
     "output_type": "execute_result"
    }
   ]
  },
  {
   "cell_type": "code",
   "metadata": {
    "id": "QRVlFW8mYXdv"
   },
   "source": [
    "R = np.random.randn(10000)"
   ],
   "execution_count": 80,
   "outputs": []
  },
  {
   "cell_type": "code",
   "metadata": {
    "id": "g4am8a3ZYaam",
    "colab": {
     "base_uri": "https://localhost:8080/",
     "height": 34
    },
    "outputId": "10999b03-e66f-4688-e97b-034d40950378"
   },
   "source": [
    "R.mean()"
   ],
   "execution_count": 81,
   "outputs": [
    {
     "data": {
      "text/plain": "-0.011306265922181572"
     },
     "execution_count": 81,
     "metadata": {},
     "output_type": "execute_result"
    }
   ]
  },
  {
   "cell_type": "code",
   "metadata": {
    "id": "hbggL_0n0I8S"
   },
   "source": [
    "np.mean(R)"
   ],
   "execution_count": 82,
   "outputs": [
    {
     "data": {
      "text/plain": "-0.011306265922181572"
     },
     "execution_count": 82,
     "metadata": {},
     "output_type": "execute_result"
    }
   ]
  },
  {
   "cell_type": "code",
   "metadata": {
    "id": "ofYpDmxgYnAL",
    "colab": {
     "base_uri": "https://localhost:8080/",
     "height": 34
    },
    "outputId": "45acfda7-f37c-4d7a-b740-e806c3142f32"
   },
   "source": [
    "R.var()"
   ],
   "execution_count": 83,
   "outputs": [
    {
     "data": {
      "text/plain": "0.9898997541582685"
     },
     "execution_count": 83,
     "metadata": {},
     "output_type": "execute_result"
    }
   ]
  },
  {
   "cell_type": "code",
   "execution_count": 85,
   "outputs": [
    {
     "data": {
      "text/plain": "0.9949370604004398"
     },
     "execution_count": 85,
     "metadata": {},
     "output_type": "execute_result"
    }
   ],
   "source": [
    "R.std()"
   ],
   "metadata": {
    "collapsed": false
   }
  },
  {
   "cell_type": "code",
   "execution_count": 86,
   "outputs": [
    {
     "data": {
      "text/plain": "0.9949370604004398"
     },
     "execution_count": 86,
     "metadata": {},
     "output_type": "execute_result"
    }
   ],
   "source": [
    "np.sqrt(R.var())"
   ],
   "metadata": {
    "collapsed": false
   }
  },
  {
   "cell_type": "code",
   "metadata": {
    "id": "-pwAoqmwYxf1"
   },
   "source": [
    "R = np.random.randn(10000, 3)"
   ],
   "execution_count": 87,
   "outputs": []
  },
  {
   "cell_type": "code",
   "metadata": {
    "id": "1jsCMjuUZGgq",
    "colab": {
     "base_uri": "https://localhost:8080/",
     "height": 34
    },
    "outputId": "4896bd2d-7b1a-4d11-a670-11b3a2b7b807"
   },
   "source": [
    "R.mean(axis=0)"
   ],
   "execution_count": 88,
   "outputs": [
    {
     "data": {
      "text/plain": "array([-0.00070824,  0.01807059, -0.00844948])"
     },
     "execution_count": 88,
     "metadata": {},
     "output_type": "execute_result"
    }
   ]
  },
  {
   "cell_type": "code",
   "metadata": {
    "id": "Ghv9E_tPZXDn",
    "colab": {
     "base_uri": "https://localhost:8080/",
     "height": 34
    },
    "outputId": "6142505e-1607-4d83-fa39-8fef51d16bf7"
   },
   "source": [
    "R.mean(axis=1).shape"
   ],
   "execution_count": 89,
   "outputs": [
    {
     "data": {
      "text/plain": "(10000,)"
     },
     "execution_count": 89,
     "metadata": {},
     "output_type": "execute_result"
    }
   ]
  },
  {
   "cell_type": "code",
   "metadata": {
    "id": "KmdHkq-FiOG2",
    "colab": {
     "base_uri": "https://localhost:8080/",
     "height": 34
    },
    "outputId": "ef0e880f-9c37-4915-8d20-3f1ed80bc141"
   },
   "source": [
    "np.cov(R).shape"
   ],
   "execution_count": 90,
   "outputs": [
    {
     "data": {
      "text/plain": "(10000, 10000)"
     },
     "execution_count": 90,
     "metadata": {},
     "output_type": "execute_result"
    }
   ]
  },
  {
   "cell_type": "code",
   "metadata": {
    "id": "Z73Tog0WiRTy",
    "colab": {
     "base_uri": "https://localhost:8080/",
     "height": 69
    },
    "outputId": "16f72b90-860c-4fb4-9fb5-310639f01465"
   },
   "source": [
    "np.cov(R.T)"
   ],
   "execution_count": 91,
   "outputs": [
    {
     "data": {
      "text/plain": "array([[ 0.98744687,  0.00179858,  0.00349336],\n       [ 0.00179858,  0.99941601, -0.01308482],\n       [ 0.00349336, -0.01308482,  1.01112442]])"
     },
     "execution_count": 91,
     "metadata": {},
     "output_type": "execute_result"
    }
   ]
  },
  {
   "cell_type": "code",
   "metadata": {
    "id": "tBAzvX8TiTlB",
    "colab": {
     "base_uri": "https://localhost:8080/",
     "height": 69
    },
    "outputId": "88008ae5-f4c5-4801-c4f5-b21a60e3b567"
   },
   "source": [
    "np.cov(R, rowvar=False)"
   ],
   "execution_count": 92,
   "outputs": [
    {
     "data": {
      "text/plain": "array([[ 0.98744687,  0.00179858,  0.00349336],\n       [ 0.00179858,  0.99941601, -0.01308482],\n       [ 0.00349336, -0.01308482,  1.01112442]])"
     },
     "execution_count": 92,
     "metadata": {},
     "output_type": "execute_result"
    }
   ]
  },
  {
   "cell_type": "code",
   "metadata": {
    "id": "ZxxOKs_ArYZs",
    "colab": {
     "base_uri": "https://localhost:8080/",
     "height": 69
    },
    "outputId": "d7a40ae2-76b4-4a19-b7d4-5df65ffc246f"
   },
   "source": [
    "np.random.randint(0, 10, size=(3, 3))"
   ],
   "execution_count": 93,
   "outputs": [
    {
     "data": {
      "text/plain": "array([[5, 5, 0],\n       [5, 1, 0],\n       [0, 0, 3]])"
     },
     "execution_count": 93,
     "metadata": {},
     "output_type": "execute_result"
    }
   ]
  },
  {
   "cell_type": "code",
   "metadata": {
    "id": "ER8hjqUVsWv2",
    "colab": {
     "base_uri": "https://localhost:8080/",
     "height": 69
    },
    "outputId": "a7e1e9d7-a8c2-44c7-ec4d-3f6c51ffb83d"
   },
   "source": [
    "np.random.choice(10, size=(3, 3))"
   ],
   "execution_count": 94,
   "outputs": [
    {
     "data": {
      "text/plain": "array([[2, 6, 5],\n       [5, 3, 0],\n       [2, 2, 0]])"
     },
     "execution_count": 94,
     "metadata": {},
     "output_type": "execute_result"
    }
   ]
  },
  {
   "cell_type": "code",
   "execution_count": null,
   "outputs": [],
   "source": [
    "## speed comparison ##\n",
    "import numpy as np\n",
    "from datetime import datetime\n",
    "\n",
    "# note: you can also use %timeit\n",
    "\n",
    "a = np.random.randn(90, 100)\n",
    "b = np.random.randn(100, 90)\n",
    "T = 100\n",
    "\n",
    "def slow_matrix_multiplication(a, b):\n",
    "\n",
    "  a_rows, a_cols = a.shape\n",
    "  b_rows, b_cols = b.shape\n",
    "  result = np.zeros(10000).reshape(100, 100)\n",
    "  for i in range(a_rows):\n",
    "    total = 0\n",
    "    for k in range(b_cols):\n",
    "      for j in range(a_cols):\n",
    "        total += a[i, j] * b[j, k]\n",
    "      result[i, k] = total\n",
    "  # print(result)\n",
    "  return result\n",
    "  #for e, f in zip(a, b):\n",
    "  #  result += e*f\n",
    "  #return result\n",
    "\n",
    "t0 = datetime.now()\n",
    "for t in range(T):\n",
    "  slow_matrix_multiplication(a, b)\n",
    "dt1 = datetime.now() - t0\n",
    "\n",
    "t0 = datetime.now()\n",
    "for t in range(T):\n",
    "  a.dot(b)\n",
    "dt2 = datetime.now() - t0\n",
    "\n",
    "print(\"dt1 / dt2:\", dt1.total_seconds() / dt2.total_seconds())"
   ],
   "metadata": {
    "collapsed": false,
    "pycharm": {
     "is_executing": true
    }
   }
  },
  {
   "cell_type": "code",
   "execution_count": null,
   "outputs": [],
   "source": [],
   "metadata": {
    "collapsed": false
   }
  }
 ]
}
